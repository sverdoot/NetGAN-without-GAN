{
 "metadata": {
  "language_info": {
   "codemirror_mode": {
    "name": "ipython",
    "version": 3
   },
   "file_extension": ".py",
   "mimetype": "text/x-python",
   "name": "python",
   "nbconvert_exporter": "python",
   "pygments_lexer": "ipython3",
   "version": "3.8.5-final"
  },
  "orig_nbformat": 2,
  "kernelspec": {
   "name": "python38564bitfad426787c4d466e858501df55a3f5b8",
   "display_name": "Python 3.8.5 64-bit",
   "language": "python"
  }
 },
 "nbformat": 4,
 "nbformat_minor": 2,
 "cells": [
  {
   "cell_type": "code",
   "execution_count": 2,
   "metadata": {},
   "outputs": [
    {
     "output_type": "stream",
     "name": "stdout",
     "text": [
      "Collecting tabulate\n",
      "  Downloading tabulate-0.8.7-py3-none-any.whl (24 kB)\n",
      "Installing collected packages: tabulate\n",
      "Successfully installed tabulate-0.8.7\n"
     ]
    }
   ],
   "source": [
    "!pip3 install tabulate"
   ]
  },
  {
   "cell_type": "code",
   "execution_count": 13,
   "metadata": {},
   "outputs": [],
   "source": [
    "import pandas as pd\n",
    "import tabulate\n",
    "import numpy as np\n",
    "from functools import partial"
   ]
  },
  {
   "cell_type": "code",
   "execution_count": 46,
   "metadata": {},
   "outputs": [],
   "source": [
    "cora_ml = pd.read_csv('../logs/cora_ml.csv', index_col=0)"
   ]
  },
  {
   "cell_type": "code",
   "execution_count": 47,
   "metadata": {},
   "outputs": [
    {
     "output_type": "execute_result",
     "data": {
      "text/plain": [
       "                                cell            fc           svd       CORA-ML\n",
       "d_max                   1.874000e+02  1.782000e+02  1.810000e+02  2.460000e+02\n",
       "d_min                   1.000000e+00  1.000000e+00  1.000000e+00  1.000000e+00\n",
       "d                       4.827758e+00  4.827758e+00  4.827758e+00  5.680427e+00\n",
       "LCC                     2.798800e+03  2.798400e+03  2.809200e+03  2.810000e+03\n",
       "wedge_count             8.006860e+04  8.472820e+04  7.567740e+04  1.377190e+05\n",
       "claw_count              1.611376e+06  1.674690e+06  1.416011e+06  3.930163e+06\n",
       "triangle_count          1.389400e+03  1.769600e+03  1.014400e+03  5.247000e+03\n",
       "square_count            6.619600e+03  1.031620e+04  4.709600e+03  3.450700e+04\n",
       "power_law_exp           1.821044e+00  1.830673e+00  1.806224e+00  1.767268e+00\n",
       "gini                    4.503557e-01  4.602609e-01  4.374009e-01  4.964733e-01\n",
       "rel_edge_distr_entropy  9.504184e-01  9.474866e-01  9.533629e-01  9.385288e-01\n",
       "assortativity          -7.645184e-02 -7.849056e-02 -8.122639e-02 -4.494411e-02\n",
       "clustering_coefficient  5.203966e-02  6.266758e-02  4.022577e-02  1.142980e-01\n",
       "cpl                     5.242856e+00  5.367795e+00  5.051288e+00  5.271418e+00\n",
       "ROC-AUC                 9.447385e-01  9.618437e-01  9.506501e-01  1.000000e+00\n",
       "AVG-PREC                9.534851e-01  9.651645e-01  9.569548e-01  1.000000e+00\n",
       "EO                      5.598408e-01  5.453929e-01  5.134011e-01  1.000000e+00"
      ],
      "text/html": "<div>\n<style scoped>\n    .dataframe tbody tr th:only-of-type {\n        vertical-align: middle;\n    }\n\n    .dataframe tbody tr th {\n        vertical-align: top;\n    }\n\n    .dataframe thead th {\n        text-align: right;\n    }\n</style>\n<table border=\"1\" class=\"dataframe\">\n  <thead>\n    <tr style=\"text-align: right;\">\n      <th></th>\n      <th>cell</th>\n      <th>fc</th>\n      <th>svd</th>\n      <th>CORA-ML</th>\n    </tr>\n  </thead>\n  <tbody>\n    <tr>\n      <th>d_max</th>\n      <td>1.874000e+02</td>\n      <td>1.782000e+02</td>\n      <td>1.810000e+02</td>\n      <td>2.460000e+02</td>\n    </tr>\n    <tr>\n      <th>d_min</th>\n      <td>1.000000e+00</td>\n      <td>1.000000e+00</td>\n      <td>1.000000e+00</td>\n      <td>1.000000e+00</td>\n    </tr>\n    <tr>\n      <th>d</th>\n      <td>4.827758e+00</td>\n      <td>4.827758e+00</td>\n      <td>4.827758e+00</td>\n      <td>5.680427e+00</td>\n    </tr>\n    <tr>\n      <th>LCC</th>\n      <td>2.798800e+03</td>\n      <td>2.798400e+03</td>\n      <td>2.809200e+03</td>\n      <td>2.810000e+03</td>\n    </tr>\n    <tr>\n      <th>wedge_count</th>\n      <td>8.006860e+04</td>\n      <td>8.472820e+04</td>\n      <td>7.567740e+04</td>\n      <td>1.377190e+05</td>\n    </tr>\n    <tr>\n      <th>claw_count</th>\n      <td>1.611376e+06</td>\n      <td>1.674690e+06</td>\n      <td>1.416011e+06</td>\n      <td>3.930163e+06</td>\n    </tr>\n    <tr>\n      <th>triangle_count</th>\n      <td>1.389400e+03</td>\n      <td>1.769600e+03</td>\n      <td>1.014400e+03</td>\n      <td>5.247000e+03</td>\n    </tr>\n    <tr>\n      <th>square_count</th>\n      <td>6.619600e+03</td>\n      <td>1.031620e+04</td>\n      <td>4.709600e+03</td>\n      <td>3.450700e+04</td>\n    </tr>\n    <tr>\n      <th>power_law_exp</th>\n      <td>1.821044e+00</td>\n      <td>1.830673e+00</td>\n      <td>1.806224e+00</td>\n      <td>1.767268e+00</td>\n    </tr>\n    <tr>\n      <th>gini</th>\n      <td>4.503557e-01</td>\n      <td>4.602609e-01</td>\n      <td>4.374009e-01</td>\n      <td>4.964733e-01</td>\n    </tr>\n    <tr>\n      <th>rel_edge_distr_entropy</th>\n      <td>9.504184e-01</td>\n      <td>9.474866e-01</td>\n      <td>9.533629e-01</td>\n      <td>9.385288e-01</td>\n    </tr>\n    <tr>\n      <th>assortativity</th>\n      <td>-7.645184e-02</td>\n      <td>-7.849056e-02</td>\n      <td>-8.122639e-02</td>\n      <td>-4.494411e-02</td>\n    </tr>\n    <tr>\n      <th>clustering_coefficient</th>\n      <td>5.203966e-02</td>\n      <td>6.266758e-02</td>\n      <td>4.022577e-02</td>\n      <td>1.142980e-01</td>\n    </tr>\n    <tr>\n      <th>cpl</th>\n      <td>5.242856e+00</td>\n      <td>5.367795e+00</td>\n      <td>5.051288e+00</td>\n      <td>5.271418e+00</td>\n    </tr>\n    <tr>\n      <th>ROC-AUC</th>\n      <td>9.447385e-01</td>\n      <td>9.618437e-01</td>\n      <td>9.506501e-01</td>\n      <td>1.000000e+00</td>\n    </tr>\n    <tr>\n      <th>AVG-PREC</th>\n      <td>9.534851e-01</td>\n      <td>9.651645e-01</td>\n      <td>9.569548e-01</td>\n      <td>1.000000e+00</td>\n    </tr>\n    <tr>\n      <th>EO</th>\n      <td>5.598408e-01</td>\n      <td>5.453929e-01</td>\n      <td>5.134011e-01</td>\n      <td>1.000000e+00</td>\n    </tr>\n  </tbody>\n</table>\n</div>"
     },
     "metadata": {},
     "execution_count": 47
    }
   ],
   "source": [
    "cora_ml"
   ]
  },
  {
   "cell_type": "code",
   "execution_count": 49,
   "metadata": {},
   "outputs": [],
   "source": [
    "cora_ml = cora_ml.T.astype('float').apply(partial(np.round, decimals=3))"
   ]
  },
  {
   "cell_type": "code",
   "execution_count": 55,
   "metadata": {},
   "outputs": [
    {
     "output_type": "stream",
     "name": "stdout",
     "text": [
      "|         |   d_max |   d_min |     d |    LCC |   wedge_count |   claw_count |   triangle_count |   square_count |   power_law_exp |   gini |   rel_edge_distr_entropy |   assortativity |   clustering_coefficient |   cpl |   ROC-AUC |   AVG-PREC |    EO |\n|---------|---------|---------|-------|--------|---------------|--------------|------------------|----------------|-----------------|--------|--------------------------|-----------------|--------------------------|-------|-----------|------------|-------|\n| cell    |   187.4 |       1 | 4.828 | 2798.8 |       80068.6 |  1.61138e+06 |           1389.4 |         6619.6 |           1.821 |  0.45  |                    0.95  |          -0.076 |                    0.052 | 5.243 |     0.945 |      0.953 | 0.56  |\n| fc      |   178.2 |       1 | 4.828 | 2798.4 |       84728.2 |  1.67469e+06 |           1769.6 |        10316.2 |           1.831 |  0.46  |                    0.947 |          -0.078 |                    0.063 | 5.368 |     0.962 |      0.965 | 0.545 |\n| svd     |   181   |       1 | 4.828 | 2809.2 |       75677.4 |  1.41601e+06 |           1014.4 |         4709.6 |           1.806 |  0.437 |                    0.953 |          -0.081 |                    0.04  | 5.051 |     0.951 |      0.957 | 0.513 |\n| CORA-ML |   246   |       1 | 5.68  | 2810   |      137719   |  3.93016e+06 |           5247   |        34507   |           1.767 |  0.496 |                    0.939 |          -0.045 |                    0.114 | 5.271 |     1     |      1     | 1     |\n"
     ]
    }
   ],
   "source": [
    "print(tabulate.tabulate(cora_ml, tablefmt='github', headers=cora_ml.columns))"
   ]
  },
  {
   "cell_type": "code",
   "execution_count": null,
   "metadata": {},
   "outputs": [],
   "source": []
  }
 ]
}