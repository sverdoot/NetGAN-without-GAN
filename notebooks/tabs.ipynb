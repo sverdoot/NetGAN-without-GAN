{
 "metadata": {
  "language_info": {
   "codemirror_mode": {
    "name": "ipython",
    "version": 3
   },
   "file_extension": ".py",
   "mimetype": "text/x-python",
   "name": "python",
   "nbconvert_exporter": "python",
   "pygments_lexer": "ipython3",
   "version": "3.8.5-final"
  },
  "orig_nbformat": 2,
  "kernelspec": {
   "name": "python38564bitfad426787c4d466e858501df55a3f5b8",
   "display_name": "Python 3.8.5 64-bit",
   "language": "python"
  }
 },
 "nbformat": 4,
 "nbformat_minor": 2,
 "cells": [
  {
   "cell_type": "code",
   "execution_count": 2,
   "metadata": {},
   "outputs": [
    {
     "output_type": "stream",
     "name": "stdout",
     "text": [
      "Collecting tabulate\n",
      "  Downloading tabulate-0.8.7-py3-none-any.whl (24 kB)\n",
      "Installing collected packages: tabulate\n",
      "Successfully installed tabulate-0.8.7\n"
     ]
    }
   ],
   "source": [
    "!pip3 install tabulate"
   ]
  },
  {
   "cell_type": "code",
   "execution_count": 13,
   "metadata": {},
   "outputs": [],
   "source": [
    "import pandas as pd\n",
    "import tabulate\n",
    "import numpy as np\n",
    "from functools import partial"
   ]
  },
  {
   "cell_type": "code",
   "execution_count": 60,
   "metadata": {},
   "outputs": [
    {
     "output_type": "stream",
     "name": "stdout",
     "text": [
      "\nDataset: CORA_ML\n\nMarkdown table:\n\n|         |   d_max |   d_min |     d |    LCC |   wedge_count |   claw_count |   triangle_count |   square_count |   power_law_exp |   gini |   rel_edge_distr_entropy |   assortativity |   clustering_coefficient |   cpl |   ROC-AUC |   AVG-PREC |    EO |\n|---------|---------|---------|-------|--------|---------------|--------------|------------------|----------------|-----------------|--------|--------------------------|-----------------|--------------------------|-------|-----------|------------|-------|\n| cell    |   187.4 |       1 | 4.828 | 2798.8 |       80068.6 |  1.61138e+06 |           1389.4 |         6619.6 |           1.821 |  0.45  |                    0.95  |          -0.076 |                    0.052 | 5.243 |     0.945 |      0.953 | 0.56  |\n| fc      |   178.2 |       1 | 4.828 | 2798.4 |       84728.2 |  1.67469e+06 |           1769.6 |        10316.2 |           1.831 |  0.46  |                    0.947 |          -0.078 |                    0.063 | 5.368 |     0.962 |      0.965 | 0.545 |\n| svd     |   181   |       1 | 4.828 | 2809.2 |       75677.4 |  1.41601e+06 |           1014.4 |         4709.6 |           1.806 |  0.437 |                    0.953 |          -0.081 |                    0.04  | 5.051 |     0.951 |      0.957 | 0.513 |\n| CORA-ML |   246   |       1 | 5.68  | 2810   |      137719   |  3.93016e+06 |           5247   |        34507   |           1.767 |  0.496 |                    0.939 |          -0.045 |                    0.114 | 5.271 |     1     |      1     | 1     |\n\nLatex table:\n\n\\begin{tabular}{lrrrrrrrrrrrrrrrrr}\n\\hline\n         &   d\\_max &   d\\_min &     d &    LCC &   wedge\\_count &   claw\\_count &   triangle\\_count &   square\\_count &   power\\_law\\_exp &   gini &   rel\\_edge\\_distr\\_entropy &   assortativity &   clustering\\_coefficient &   cpl &   ROC-AUC &   AVG-PREC &    EO \\\\\n\\hline\n cell    &   187.4 &       1 & 4.828 & 2798.8 &       80068.6 &  1.61138e+06 &           1389.4 &         6619.6 &           1.821 &  0.45  &                    0.95  &          -0.076 &                    0.052 & 5.243 &     0.945 &      0.953 & 0.56  \\\\\n fc      &   178.2 &       1 & 4.828 & 2798.4 &       84728.2 &  1.67469e+06 &           1769.6 &        10316.2 &           1.831 &  0.46  &                    0.947 &          -0.078 &                    0.063 & 5.368 &     0.962 &      0.965 & 0.545 \\\\\n svd     &   181   &       1 & 4.828 & 2809.2 &       75677.4 &  1.41601e+06 &           1014.4 &         4709.6 &           1.806 &  0.437 &                    0.953 &          -0.081 &                    0.04  & 5.051 &     0.951 &      0.957 & 0.513 \\\\\n CORA-ML &   246   &       1 & 5.68  & 2810   &      137719   &  3.93016e+06 &           5247   &        34507   &           1.767 &  0.496 &                    0.939 &          -0.045 &                    0.114 & 5.271 &     1     &      1     & 1     \\\\\n\\hline\n\\end{tabular}\n\nDataset: CITESEER\n\nMarkdown table:\n\n|         |   d_max |   d_min |     d |    LCC |   wedge_count |   claw_count |   triangle_count |   square_count |   power_law_exp |   gini |   rel_edge_distr_entropy |   assortativity |   clustering_coefficient |   cpl |   ROC-AUC |   AVG-PREC |    EO |\n|---------|---------|---------|-------|--------|---------------|--------------|------------------|----------------|-----------------|--------|--------------------------|-----------------|--------------------------|-------|-----------|------------|-------|\n| cell    |   187.4 |       1 | 4.828 | 2798.8 |       80068.6 |  1.61138e+06 |           1389.4 |         6619.6 |           1.821 |  0.45  |                    0.95  |          -0.076 |                    0.052 | 5.243 |     0.945 |      0.953 | 0.56  |\n| fc      |   178.2 |       1 | 4.828 | 2798.4 |       84728.2 |  1.67469e+06 |           1769.6 |        10316.2 |           1.831 |  0.46  |                    0.947 |          -0.078 |                    0.063 | 5.368 |     0.962 |      0.965 | 0.545 |\n| svd     |   181   |       1 | 4.828 | 2809.2 |       75677.4 |  1.41601e+06 |           1014.4 |         4709.6 |           1.806 |  0.437 |                    0.953 |          -0.081 |                    0.04  | 5.051 |     0.951 |      0.957 | 0.513 |\n| CORA-ML |   246   |       1 | 5.68  | 2810   |      137719   |  3.93016e+06 |           5247   |        34507   |           1.767 |  0.496 |                    0.939 |          -0.045 |                    0.114 | 5.271 |     1     |      1     | 1     |\n\nLatex table:\n\n\\begin{tabular}{lrrrrrrrrrrrrrrrrr}\n\\hline\n         &   d\\_max &   d\\_min &     d &    LCC &   wedge\\_count &   claw\\_count &   triangle\\_count &   square\\_count &   power\\_law\\_exp &   gini &   rel\\_edge\\_distr\\_entropy &   assortativity &   clustering\\_coefficient &   cpl &   ROC-AUC &   AVG-PREC &    EO \\\\\n\\hline\n cell    &   187.4 &       1 & 4.828 & 2798.8 &       80068.6 &  1.61138e+06 &           1389.4 &         6619.6 &           1.821 &  0.45  &                    0.95  &          -0.076 &                    0.052 & 5.243 &     0.945 &      0.953 & 0.56  \\\\\n fc      &   178.2 &       1 & 4.828 & 2798.4 &       84728.2 &  1.67469e+06 &           1769.6 &        10316.2 &           1.831 &  0.46  &                    0.947 &          -0.078 &                    0.063 & 5.368 &     0.962 &      0.965 & 0.545 \\\\\n svd     &   181   &       1 & 4.828 & 2809.2 &       75677.4 &  1.41601e+06 &           1014.4 &         4709.6 &           1.806 &  0.437 &                    0.953 &          -0.081 &                    0.04  & 5.051 &     0.951 &      0.957 & 0.513 \\\\\n CORA-ML &   246   &       1 & 5.68  & 2810   &      137719   &  3.93016e+06 &           5247   &        34507   &           1.767 &  0.496 &                    0.939 &          -0.045 &                    0.114 & 5.271 &     1     &      1     & 1     \\\\\n\\hline\n\\end{tabular}\n\nDataset: POLBLOGS\n\nMarkdown table:\n\n|         |   d_max |   d_min |     d |    LCC |   wedge_count |   claw_count |   triangle_count |   square_count |   power_law_exp |   gini |   rel_edge_distr_entropy |   assortativity |   clustering_coefficient |   cpl |   ROC-AUC |   AVG-PREC |    EO |\n|---------|---------|---------|-------|--------|---------------|--------------|------------------|----------------|-----------------|--------|--------------------------|-----------------|--------------------------|-------|-----------|------------|-------|\n| cell    |   187.4 |       1 | 4.828 | 2798.8 |       80068.6 |  1.61138e+06 |           1389.4 |         6619.6 |           1.821 |  0.45  |                    0.95  |          -0.076 |                    0.052 | 5.243 |     0.945 |      0.953 | 0.56  |\n| fc      |   178.2 |       1 | 4.828 | 2798.4 |       84728.2 |  1.67469e+06 |           1769.6 |        10316.2 |           1.831 |  0.46  |                    0.947 |          -0.078 |                    0.063 | 5.368 |     0.962 |      0.965 | 0.545 |\n| svd     |   181   |       1 | 4.828 | 2809.2 |       75677.4 |  1.41601e+06 |           1014.4 |         4709.6 |           1.806 |  0.437 |                    0.953 |          -0.081 |                    0.04  | 5.051 |     0.951 |      0.957 | 0.513 |\n| CORA-ML |   246   |       1 | 5.68  | 2810   |      137719   |  3.93016e+06 |           5247   |        34507   |           1.767 |  0.496 |                    0.939 |          -0.045 |                    0.114 | 5.271 |     1     |      1     | 1     |\n\nLatex table:\n\n\\begin{tabular}{lrrrrrrrrrrrrrrrrr}\n\\hline\n         &   d\\_max &   d\\_min &     d &    LCC &   wedge\\_count &   claw\\_count &   triangle\\_count &   square\\_count &   power\\_law\\_exp &   gini &   rel\\_edge\\_distr\\_entropy &   assortativity &   clustering\\_coefficient &   cpl &   ROC-AUC &   AVG-PREC &    EO \\\\\n\\hline\n cell    &   187.4 &       1 & 4.828 & 2798.8 &       80068.6 &  1.61138e+06 &           1389.4 &         6619.6 &           1.821 &  0.45  &                    0.95  &          -0.076 &                    0.052 & 5.243 &     0.945 &      0.953 & 0.56  \\\\\n fc      &   178.2 &       1 & 4.828 & 2798.4 &       84728.2 &  1.67469e+06 &           1769.6 &        10316.2 &           1.831 &  0.46  &                    0.947 &          -0.078 &                    0.063 & 5.368 &     0.962 &      0.965 & 0.545 \\\\\n svd     &   181   &       1 & 4.828 & 2809.2 &       75677.4 &  1.41601e+06 &           1014.4 &         4709.6 &           1.806 &  0.437 &                    0.953 &          -0.081 &                    0.04  & 5.051 &     0.951 &      0.957 & 0.513 \\\\\n CORA-ML &   246   &       1 & 5.68  & 2810   &      137719   &  3.93016e+06 &           5247   &        34507   &           1.767 &  0.496 &                    0.939 &          -0.045 &                    0.114 & 5.271 &     1     &      1     & 1     \\\\\n\\hline\n\\end{tabular}\n\nDataset: RT_GOP\n\nMarkdown table:\n\n|         |   d_max |   d_min |     d |    LCC |   wedge_count |   claw_count |   triangle_count |   square_count |   power_law_exp |   gini |   rel_edge_distr_entropy |   assortativity |   clustering_coefficient |   cpl |   ROC-AUC |   AVG-PREC |    EO |\n|---------|---------|---------|-------|--------|---------------|--------------|------------------|----------------|-----------------|--------|--------------------------|-----------------|--------------------------|-------|-----------|------------|-------|\n| cell    |   187.4 |       1 | 4.828 | 2798.8 |       80068.6 |  1.61138e+06 |           1389.4 |         6619.6 |           1.821 |  0.45  |                    0.95  |          -0.076 |                    0.052 | 5.243 |     0.945 |      0.953 | 0.56  |\n| fc      |   178.2 |       1 | 4.828 | 2798.4 |       84728.2 |  1.67469e+06 |           1769.6 |        10316.2 |           1.831 |  0.46  |                    0.947 |          -0.078 |                    0.063 | 5.368 |     0.962 |      0.965 | 0.545 |\n| svd     |   181   |       1 | 4.828 | 2809.2 |       75677.4 |  1.41601e+06 |           1014.4 |         4709.6 |           1.806 |  0.437 |                    0.953 |          -0.081 |                    0.04  | 5.051 |     0.951 |      0.957 | 0.513 |\n| CORA-ML |   246   |       1 | 5.68  | 2810   |      137719   |  3.93016e+06 |           5247   |        34507   |           1.767 |  0.496 |                    0.939 |          -0.045 |                    0.114 | 5.271 |     1     |      1     | 1     |\n\nLatex table:\n\n\\begin{tabular}{lrrrrrrrrrrrrrrrrr}\n\\hline\n         &   d\\_max &   d\\_min &     d &    LCC &   wedge\\_count &   claw\\_count &   triangle\\_count &   square\\_count &   power\\_law\\_exp &   gini &   rel\\_edge\\_distr\\_entropy &   assortativity &   clustering\\_coefficient &   cpl &   ROC-AUC &   AVG-PREC &    EO \\\\\n\\hline\n cell    &   187.4 &       1 & 4.828 & 2798.8 &       80068.6 &  1.61138e+06 &           1389.4 &         6619.6 &           1.821 &  0.45  &                    0.95  &          -0.076 &                    0.052 & 5.243 &     0.945 &      0.953 & 0.56  \\\\\n fc      &   178.2 &       1 & 4.828 & 2798.4 &       84728.2 &  1.67469e+06 &           1769.6 &        10316.2 &           1.831 &  0.46  &                    0.947 &          -0.078 &                    0.063 & 5.368 &     0.962 &      0.965 & 0.545 \\\\\n svd     &   181   &       1 & 4.828 & 2809.2 &       75677.4 &  1.41601e+06 &           1014.4 &         4709.6 &           1.806 &  0.437 &                    0.953 &          -0.081 &                    0.04  & 5.051 &     0.951 &      0.957 & 0.513 \\\\\n CORA-ML &   246   &       1 & 5.68  & 2810   &      137719   &  3.93016e+06 &           5247   &        34507   &           1.767 &  0.496 &                    0.939 &          -0.045 &                    0.114 & 5.271 &     1     &      1     & 1     \\\\\n\\hline\n\\end{tabular}\n"
     ]
    }
   ],
   "source": [
    "datasets = ['cora_ml', 'citeseer', 'polblogs', 'rt_gop']\n",
    "\n",
    "for dataset in datasets:\n",
    "    df = pd.read_csv('../logs/cora_ml.csv', index_col=0)\n",
    "    df = df.T.astype('float').apply(partial(np.round, decimals=3))\n",
    "    print(f'\\nDataset: {dataset.upper()}')\n",
    "    print('\\nMarkdown table:\\n')\n",
    "    print(tabulate.tabulate(cora_ml, tablefmt='github', headers=cora_ml.columns))\n",
    "    print('\\nLatex table:\\n')\n",
    "    print(tabulate.tabulate(cora_ml, tablefmt='latex', headers=cora_ml.columns))"
   ]
  },
  {
   "cell_type": "code",
   "execution_count": null,
   "metadata": {},
   "outputs": [],
   "source": []
  }
 ]
}