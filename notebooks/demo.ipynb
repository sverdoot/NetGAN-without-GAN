{
 "metadata": {
  "language_info": {
   "codemirror_mode": {
    "name": "ipython",
    "version": 3
   },
   "file_extension": ".py",
   "mimetype": "text/x-python",
   "name": "python",
   "nbconvert_exporter": "python",
   "pygments_lexer": "ipython3",
   "version": "3.8.5-final"
  },
  "orig_nbformat": 2,
  "kernelspec": {
   "name": "python38564bitfad426787c4d466e858501df55a3f5b8",
   "display_name": "Python 3.8.5 64-bit",
   "language": "python"
  }
 },
 "nbformat": 4,
 "nbformat_minor": 2,
 "cells": [
  {
   "cell_type": "code",
   "execution_count": 1,
   "metadata": {},
   "outputs": [],
   "source": [
    "# import warnings\n",
    "# warnings.filterwarnings('ignore')\n",
    "%load_ext autoreload\n",
    "%autoreload 2\n",
    "\n",
    "import pickle\n",
    "import numpy as np\n",
    "import scipy.sparse as sp\n",
    "from scipy.sparse import load_npz\n",
    "import pandas as pd\n",
    "\n",
    "import torch\n",
    "\n",
    "from cell import utils\n",
    "from cell.utils import link_prediction_performance, edge_overlap\n",
    "from cell.cell import Cell, EdgeOverlapCriterion, LinkPredictionCriterion\n",
    "from cell.graph_statistics import compute_graph_statistics"
   ]
  },
  {
   "source": [
    "# CORA ML"
   ],
   "cell_type": "markdown",
   "metadata": {}
  },
  {
   "cell_type": "code",
   "execution_count": 2,
   "metadata": {},
   "outputs": [
    {
     "output_type": "stream",
     "name": "stdout",
     "text": [
      "Selecting 1 largest connected components\n"
     ]
    }
   ],
   "source": [
    "#train_graph \n",
    "_A_obs, _X_obs, _z_obs = utils.load_npz('../data/cora_ml.npz')\n",
    "_A_obs = _A_obs + _A_obs.T\n",
    "_A_obs[_A_obs > 1] = 1\n",
    "lcc = utils.largest_connected_components(_A_obs)\n",
    "_A_obs = _A_obs[lcc,:][:,lcc]\n",
    "_N = _A_obs.shape[0]"
   ]
  },
  {
   "cell_type": "code",
   "execution_count": 3,
   "metadata": {},
   "outputs": [],
   "source": [
    "val_share = 0.05\n",
    "test_share = 0.1\n",
    "seed = 42 #481516234"
   ]
  },
  {
   "cell_type": "code",
   "execution_count": 4,
   "metadata": {},
   "outputs": [],
   "source": [
    "train_ones, val_ones, val_zeros, test_ones, test_zeros = utils.train_val_test_split_adjacency(_A_obs, val_share, test_share, seed, undirected=True, connected=True, asserts=True)"
   ]
  },
  {
   "cell_type": "code",
   "execution_count": 5,
   "metadata": {},
   "outputs": [],
   "source": [
    "train_graph = sp.coo_matrix((np.ones(len(train_ones)),(train_ones[:,0], train_ones[:,1]))).tocsr()\n",
    "assert (train_graph.toarray() == train_graph.toarray().T).all()"
   ]
  },
  {
   "source": [
    "### Edge overlap"
   ],
   "cell_type": "markdown",
   "metadata": {}
  },
  {
   "source": [
    "#### CELL"
   ],
   "cell_type": "markdown",
   "metadata": {}
  },
  {
   "cell_type": "code",
   "execution_count": 6,
   "metadata": {},
   "outputs": [],
   "source": [
    "# initialize model with EO-criterion\n",
    "model = Cell(A=train_graph,\n",
    "             H=9,\n",
    "             g_type='cell',\n",
    "             callbacks=[EdgeOverlapCriterion(invoke_every=10, edge_overlap_limit=.5)])"
   ]
  },
  {
   "cell_type": "code",
   "execution_count": 7,
   "metadata": {},
   "outputs": [
    {
     "output_type": "stream",
     "name": "stdout",
     "text": [
      "Step:  10/200 Loss: 6.02955 Edge-Overlap: 0.037 Total-Time: 4\n",
      "Step:  20/200 Loss: 4.03502 Edge-Overlap: 0.282 Total-Time: 8\n",
      "Step:  30/200 Loss: 3.32699 Edge-Overlap: 0.430 Total-Time: 11\n",
      "Step:  40/200 Loss: 3.02071 Edge-Overlap: 0.491 Total-Time: 15\n",
      "Step:  50/200 Loss: 2.87482 Edge-Overlap: 0.538 Total-Time: 19\n"
     ]
    }
   ],
   "source": [
    "# train model \n",
    "model.train(steps=200,\n",
    "            optimizer_fn=torch.optim.Adam,\n",
    "            optimizer_args={'lr': 0.1,\n",
    "                            'weight_decay': 1e-5})"
   ]
  },
  {
   "cell_type": "code",
   "execution_count": 8,
   "metadata": {},
   "outputs": [
    {
     "output_type": "execute_result",
     "data": {
      "text/plain": [
       "(0.943928659259619, 0.9510697129231935)"
      ]
     },
     "metadata": {},
     "execution_count": 8
    }
   ],
   "source": [
    "# roc-auc, avg-precision\n",
    "\n",
    "link_prediction_performance(scores_matrix=model._scores_matrix, val_ones=test_ones, val_zeros=test_zeros)"
   ]
  },
  {
   "cell_type": "code",
   "execution_count": 9,
   "metadata": {},
   "outputs": [],
   "source": [
    "generated_graphs = [model.sample_graph() for _ in range(5)]\n",
    "stats = [compute_graph_statistics(gg) for gg in generated_graphs]\n",
    "stat_df = pd.DataFrame({k: [s[k] for s in stats] for k in stats[0].keys()})"
   ]
  },
  {
   "cell_type": "code",
   "execution_count": 10,
   "metadata": {},
   "outputs": [],
   "source": [
    "df = pd.DataFrame(stat_df.mean(), columns=['cell'])"
   ]
  },
  {
   "source": [
    "#### our CELL"
   ],
   "cell_type": "markdown",
   "metadata": {}
  },
  {
   "cell_type": "code",
   "execution_count": 19,
   "metadata": {},
   "outputs": [],
   "source": [
    "# initialize model with EO-criterion\n",
    "model = Cell(A=train_graph,\n",
    "             H=9,\n",
    "             g_type='fc',\n",
    "             callbacks=[EdgeOverlapCriterion(invoke_every=10, edge_overlap_limit=.5)])"
   ]
  },
  {
   "cell_type": "code",
   "execution_count": 20,
   "metadata": {},
   "outputs": [
    {
     "output_type": "stream",
     "name": "stdout",
     "text": [
      "Step:  10/200 Loss: 7.37374 Edge-Overlap: 0.020 Total-Time: 4\n",
      "Step:  20/200 Loss: 6.85635 Edge-Overlap: 0.025 Total-Time: 7\n",
      "Step:  30/200 Loss: 6.37722 Edge-Overlap: 0.028 Total-Time: 11\n",
      "Step:  40/200 Loss: 5.81307 Edge-Overlap: 0.069 Total-Time: 15\n",
      "Step:  50/200 Loss: 5.15663 Edge-Overlap: 0.121 Total-Time: 19\n",
      "Step:  60/200 Loss: 4.65556 Edge-Overlap: 0.156 Total-Time: 23\n",
      "Step:  70/200 Loss: 4.39197 Edge-Overlap: 0.208 Total-Time: 27\n",
      "Step:  80/200 Loss: 4.05709 Edge-Overlap: 0.229 Total-Time: 31\n",
      "Step:  90/200 Loss: 3.84849 Edge-Overlap: 0.287 Total-Time: 35\n",
      "Step: 100/200 Loss: 3.79800 Edge-Overlap: 0.193 Total-Time: 39\n",
      "Step: 110/200 Loss: 3.74362 Edge-Overlap: 0.317 Total-Time: 43\n",
      "Step: 120/200 Loss: 3.31573 Edge-Overlap: 0.431 Total-Time: 47\n",
      "Step: 130/200 Loss: 3.22700 Edge-Overlap: 0.431 Total-Time: 51\n",
      "Step: 140/200 Loss: 3.06328 Edge-Overlap: 0.495 Total-Time: 56\n",
      "Step: 150/200 Loss: 3.25868 Edge-Overlap: 0.488 Total-Time: 59\n",
      "Step: 160/200 Loss: 2.89066 Edge-Overlap: 0.546 Total-Time: 63\n"
     ]
    }
   ],
   "source": [
    "# train model \n",
    "model.train(steps=200,\n",
    "            optimizer_fn=torch.optim.Adam,\n",
    "            optimizer_args={'lr': 0.1,\n",
    "                            'weight_decay': 1e-4})"
   ]
  },
  {
   "cell_type": "code",
   "execution_count": 21,
   "metadata": {},
   "outputs": [
    {
     "output_type": "execute_result",
     "data": {
      "text/plain": [
       "(0.9606955502889251, 0.9628740761304896)"
      ]
     },
     "metadata": {},
     "execution_count": 21
    }
   ],
   "source": [
    "# roc-auc, avg-precision\n",
    "\n",
    "link_prediction_performance(scores_matrix=model._scores_matrix, val_ones=test_ones, val_zeros=test_zeros)"
   ]
  },
  {
   "cell_type": "code",
   "execution_count": 22,
   "metadata": {},
   "outputs": [],
   "source": [
    "generated_graphs = [model.sample_graph() for _ in range(5)]\n",
    "stats = [compute_graph_statistics(gg) for gg in generated_graphs]\n",
    "stat_df = pd.DataFrame({k: [s[k] for s in stats] for k in stats[0].keys()})"
   ]
  },
  {
   "cell_type": "code",
   "execution_count": 23,
   "metadata": {},
   "outputs": [],
   "source": [
    "df['cell+fc'] = stat_df.mean().T\n",
    "\n",
    "df['gt'] = compute_graph_statistics(_A_obs).values()"
   ]
  },
  {
   "cell_type": "code",
   "execution_count": 24,
   "metadata": {},
   "outputs": [
    {
     "output_type": "execute_result",
     "data": {
      "text/plain": [
       "                                cell       cell+fc            gt\n",
       "d_max                   1.850000e+02  2.016000e+02  2.460000e+02\n",
       "d_min                   1.000000e+00  1.000000e+00  1.000000e+00\n",
       "d                       4.827758e+00  4.827758e+00  5.680427e+00\n",
       "LCC                     2.803000e+03  2.798200e+03  2.810000e+03\n",
       "wedge_count             7.918040e+04  9.535580e+04  1.377190e+05\n",
       "claw_count              1.584960e+06  2.273562e+06  3.930163e+06\n",
       "triangle_count          1.291000e+03  1.778200e+03  5.247000e+03\n",
       "square_count            6.186200e+03  1.160920e+04  3.450700e+04\n",
       "power_law_exp           1.812574e+00  1.850850e+00  1.767268e+00\n",
       "gini                    4.431508e-01  4.794300e-01  4.964733e-01\n",
       "rel_edge_distr_entropy  9.516530e-01  9.419893e-01  9.385288e-01\n",
       "assortativity          -7.355171e-02 -8.453331e-02 -7.659231e-02\n",
       "clustering_coefficient  4.892002e-02  5.594963e-02  1.142980e-01\n",
       "cpl                     5.192750e+00  5.414247e+00  5.271418e+00"
      ],
      "text/html": "<div>\n<style scoped>\n    .dataframe tbody tr th:only-of-type {\n        vertical-align: middle;\n    }\n\n    .dataframe tbody tr th {\n        vertical-align: top;\n    }\n\n    .dataframe thead th {\n        text-align: right;\n    }\n</style>\n<table border=\"1\" class=\"dataframe\">\n  <thead>\n    <tr style=\"text-align: right;\">\n      <th></th>\n      <th>cell</th>\n      <th>cell+fc</th>\n      <th>gt</th>\n    </tr>\n  </thead>\n  <tbody>\n    <tr>\n      <th>d_max</th>\n      <td>1.850000e+02</td>\n      <td>2.016000e+02</td>\n      <td>2.460000e+02</td>\n    </tr>\n    <tr>\n      <th>d_min</th>\n      <td>1.000000e+00</td>\n      <td>1.000000e+00</td>\n      <td>1.000000e+00</td>\n    </tr>\n    <tr>\n      <th>d</th>\n      <td>4.827758e+00</td>\n      <td>4.827758e+00</td>\n      <td>5.680427e+00</td>\n    </tr>\n    <tr>\n      <th>LCC</th>\n      <td>2.803000e+03</td>\n      <td>2.798200e+03</td>\n      <td>2.810000e+03</td>\n    </tr>\n    <tr>\n      <th>wedge_count</th>\n      <td>7.918040e+04</td>\n      <td>9.535580e+04</td>\n      <td>1.377190e+05</td>\n    </tr>\n    <tr>\n      <th>claw_count</th>\n      <td>1.584960e+06</td>\n      <td>2.273562e+06</td>\n      <td>3.930163e+06</td>\n    </tr>\n    <tr>\n      <th>triangle_count</th>\n      <td>1.291000e+03</td>\n      <td>1.778200e+03</td>\n      <td>5.247000e+03</td>\n    </tr>\n    <tr>\n      <th>square_count</th>\n      <td>6.186200e+03</td>\n      <td>1.160920e+04</td>\n      <td>3.450700e+04</td>\n    </tr>\n    <tr>\n      <th>power_law_exp</th>\n      <td>1.812574e+00</td>\n      <td>1.850850e+00</td>\n      <td>1.767268e+00</td>\n    </tr>\n    <tr>\n      <th>gini</th>\n      <td>4.431508e-01</td>\n      <td>4.794300e-01</td>\n      <td>4.964733e-01</td>\n    </tr>\n    <tr>\n      <th>rel_edge_distr_entropy</th>\n      <td>9.516530e-01</td>\n      <td>9.419893e-01</td>\n      <td>9.385288e-01</td>\n    </tr>\n    <tr>\n      <th>assortativity</th>\n      <td>-7.355171e-02</td>\n      <td>-8.453331e-02</td>\n      <td>-7.659231e-02</td>\n    </tr>\n    <tr>\n      <th>clustering_coefficient</th>\n      <td>4.892002e-02</td>\n      <td>5.594963e-02</td>\n      <td>1.142980e-01</td>\n    </tr>\n    <tr>\n      <th>cpl</th>\n      <td>5.192750e+00</td>\n      <td>5.414247e+00</td>\n      <td>5.271418e+00</td>\n    </tr>\n  </tbody>\n</table>\n</div>"
     },
     "metadata": {},
     "execution_count": 24
    }
   ],
   "source": [
    "df"
   ]
  },
  {
   "source": [
    "### Link Prediction Criterion"
   ],
   "cell_type": "markdown",
   "metadata": {}
  },
  {
   "source": [
    "#### CELL"
   ],
   "cell_type": "markdown",
   "metadata": {}
  },
  {
   "cell_type": "code",
   "execution_count": 39,
   "metadata": {},
   "outputs": [],
   "source": [
    "# initialize model with LP-criterion\n",
    "#\n",
    "model = Cell(A=train_graph,\n",
    "             g_type='cell',\n",
    "             H=9,\n",
    "             callbacks=[LinkPredictionCriterion(invoke_every=2,\n",
    "                                                val_ones=val_ones,\n",
    "                                            val_zeros=val_zeros,\n",
    "                                                max_patience=3)])"
   ]
  },
  {
   "cell_type": "code",
   "execution_count": 40,
   "metadata": {},
   "outputs": [
    {
     "output_type": "stream",
     "name": "stdout",
     "text": [
      "Step:   2/300 Loss: 7.92603 ROC-AUC Score: 0.572 Average Precision: 0.554 Total-Time: 0\n",
      "Step:   4/300 Loss: 7.72035 ROC-AUC Score: 0.636 Average Precision: 0.628 Total-Time: 1\n",
      "Step:   6/300 Loss: 7.29653 ROC-AUC Score: 0.685 Average Precision: 0.687 Total-Time: 1\n",
      "Step:   8/300 Loss: 6.68282 ROC-AUC Score: 0.731 Average Precision: 0.735 Total-Time: 2\n",
      "Step:  10/300 Loss: 6.00020 ROC-AUC Score: 0.781 Average Precision: 0.791 Total-Time: 3\n",
      "Step:  12/300 Loss: 5.38965 ROC-AUC Score: 0.832 Average Precision: 0.850 Total-Time: 3\n",
      "Step:  14/300 Loss: 4.92797 ROC-AUC Score: 0.870 Average Precision: 0.887 Total-Time: 4\n",
      "Step:  16/300 Loss: 4.58454 ROC-AUC Score: 0.888 Average Precision: 0.902 Total-Time: 5\n",
      "Step:  18/300 Loss: 4.29505 ROC-AUC Score: 0.896 Average Precision: 0.908 Total-Time: 5\n",
      "Step:  20/300 Loss: 4.03938 ROC-AUC Score: 0.903 Average Precision: 0.916 Total-Time: 6\n",
      "Step:  22/300 Loss: 3.83683 ROC-AUC Score: 0.911 Average Precision: 0.924 Total-Time: 7\n",
      "Step:  24/300 Loss: 3.67245 ROC-AUC Score: 0.917 Average Precision: 0.930 Total-Time: 7\n",
      "Step:  26/300 Loss: 3.52941 ROC-AUC Score: 0.921 Average Precision: 0.934 Total-Time: 8\n",
      "Step:  28/300 Loss: 3.40853 ROC-AUC Score: 0.924 Average Precision: 0.937 Total-Time: 9\n",
      "Step:  30/300 Loss: 3.30600 ROC-AUC Score: 0.926 Average Precision: 0.939 Total-Time: 10\n",
      "Step:  32/300 Loss: 3.21825 ROC-AUC Score: 0.928 Average Precision: 0.940 Total-Time: 10\n",
      "Step:  34/300 Loss: 3.14389 ROC-AUC Score: 0.929 Average Precision: 0.941 Total-Time: 11\n",
      "Step:  36/300 Loss: 3.07904 ROC-AUC Score: 0.930 Average Precision: 0.942 Total-Time: 12\n",
      "Step:  38/300 Loss: 3.02134 ROC-AUC Score: 0.931 Average Precision: 0.942 Total-Time: 12\n",
      "Step:  40/300 Loss: 2.97094 ROC-AUC Score: 0.931 Average Precision: 0.942 Total-Time: 13\n",
      "Step:  42/300 Loss: 2.92582 ROC-AUC Score: 0.931 Average Precision: 0.942 Total-Time: 14\n",
      "Step:  44/300 Loss: 2.88618 ROC-AUC Score: 0.930 Average Precision: 0.942 Total-Time: 14\n",
      "Step:  46/300 Loss: 2.85070 ROC-AUC Score: 0.930 Average Precision: 0.942 Total-Time: 15\n",
      "Step:  48/300 Loss: 2.81931 ROC-AUC Score: 0.931 Average Precision: 0.943 Total-Time: 16\n",
      "Step:  50/300 Loss: 2.79095 ROC-AUC Score: 0.930 Average Precision: 0.943 Total-Time: 17\n",
      "Step:  52/300 Loss: 2.76558 ROC-AUC Score: 0.930 Average Precision: 0.943 Total-Time: 17\n",
      "Step:  54/300 Loss: 2.74239 ROC-AUC Score: 0.930 Average Precision: 0.943 Total-Time: 18\n",
      "Step:  56/300 Loss: 2.72129 ROC-AUC Score: 0.931 Average Precision: 0.943 Total-Time: 19\n"
     ]
    }
   ],
   "source": [
    "# train model \n",
    "model.train(steps=300,\n",
    "            optimizer_fn=torch.optim.Adam,\n",
    "            optimizer_args={'lr': 0.1,\n",
    "                            'weight_decay': 1e-6})"
   ]
  },
  {
   "cell_type": "code",
   "execution_count": 41,
   "metadata": {},
   "outputs": [
    {
     "output_type": "execute_result",
     "data": {
      "text/plain": [
       "(0.9414584250337953, 0.9457385717379865)"
      ]
     },
     "metadata": {},
     "execution_count": 41
    }
   ],
   "source": [
    "# roc-auc, avg-precision\n",
    "\n",
    "link_prediction_performance(scores_matrix=model._scores_matrix, val_ones=test_ones, val_zeros=test_zeros)"
   ]
  },
  {
   "source": [
    "#### our CELL"
   ],
   "cell_type": "markdown",
   "metadata": {}
  },
  {
   "cell_type": "code",
   "execution_count": 42,
   "metadata": {},
   "outputs": [],
   "source": [
    "# initialize model with LP-criterion\n",
    "#\n",
    "model = Cell(A=train_graph,\n",
    "             g_type='fc',\n",
    "             H=9,\n",
    "             callbacks=[LinkPredictionCriterion(invoke_every=2,\n",
    "                                                val_ones=val_ones,\n",
    "                                            val_zeros=val_zeros,\n",
    "                                                max_patience=3)])"
   ]
  },
  {
   "cell_type": "code",
   "execution_count": 43,
   "metadata": {},
   "outputs": [
    {
     "output_type": "stream",
     "name": "stdout",
     "text": [
      "Step:   2/300 Loss: 7.90985 ROC-AUC Score: 0.815 Average Precision: 0.815 Total-Time: 0\n",
      "Step:   4/300 Loss: 7.54912 ROC-AUC Score: 0.841 Average Precision: 0.854 Total-Time: 1\n",
      "Step:   6/300 Loss: 7.38563 ROC-AUC Score: 0.843 Average Precision: 0.857 Total-Time: 2\n",
      "Step:   8/300 Loss: 7.35279 ROC-AUC Score: 0.835 Average Precision: 0.855 Total-Time: 3\n",
      "Step:  10/300 Loss: 7.30924 ROC-AUC Score: 0.837 Average Precision: 0.859 Total-Time: 3\n",
      "Step:  12/300 Loss: 7.26639 ROC-AUC Score: 0.846 Average Precision: 0.866 Total-Time: 4\n",
      "Step:  14/300 Loss: 7.19245 ROC-AUC Score: 0.855 Average Precision: 0.874 Total-Time: 5\n",
      "Step:  16/300 Loss: 7.11766 ROC-AUC Score: 0.863 Average Precision: 0.882 Total-Time: 6\n",
      "Step:  18/300 Loss: 7.03637 ROC-AUC Score: 0.870 Average Precision: 0.886 Total-Time: 6\n",
      "Step:  20/300 Loss: 6.94362 ROC-AUC Score: 0.868 Average Precision: 0.883 Total-Time: 7\n",
      "Step:  22/300 Loss: 6.97236 ROC-AUC Score: 0.867 Average Precision: 0.879 Total-Time: 8\n",
      "Step:  24/300 Loss: 6.80680 ROC-AUC Score: 0.881 Average Precision: 0.880 Total-Time: 9\n",
      "Step:  26/300 Loss: 6.72555 ROC-AUC Score: 0.878 Average Precision: 0.884 Total-Time: 10\n",
      "Step:  28/300 Loss: 6.59486 ROC-AUC Score: 0.882 Average Precision: 0.892 Total-Time: 11\n",
      "Step:  30/300 Loss: 6.46971 ROC-AUC Score: 0.893 Average Precision: 0.905 Total-Time: 11\n",
      "Step:  32/300 Loss: 6.32224 ROC-AUC Score: 0.891 Average Precision: 0.904 Total-Time: 12\n",
      "Step:  34/300 Loss: 6.16869 ROC-AUC Score: 0.882 Average Precision: 0.890 Total-Time: 13\n",
      "Step:  36/300 Loss: 6.02807 ROC-AUC Score: 0.902 Average Precision: 0.910 Total-Time: 13\n",
      "Step:  38/300 Loss: 5.82148 ROC-AUC Score: 0.911 Average Precision: 0.920 Total-Time: 14\n",
      "Step:  40/300 Loss: 5.61225 ROC-AUC Score: 0.920 Average Precision: 0.927 Total-Time: 15\n",
      "Step:  42/300 Loss: 5.56076 ROC-AUC Score: 0.915 Average Precision: 0.922 Total-Time: 16\n",
      "Step:  44/300 Loss: 5.27687 ROC-AUC Score: 0.919 Average Precision: 0.916 Total-Time: 16\n",
      "Step:  46/300 Loss: 5.09472 ROC-AUC Score: 0.929 Average Precision: 0.939 Total-Time: 17\n",
      "Step:  48/300 Loss: 4.93083 ROC-AUC Score: 0.929 Average Precision: 0.934 Total-Time: 18\n",
      "Step:  50/300 Loss: 4.81729 ROC-AUC Score: 0.932 Average Precision: 0.938 Total-Time: 19\n",
      "Step:  52/300 Loss: 4.69896 ROC-AUC Score: 0.936 Average Precision: 0.944 Total-Time: 19\n",
      "Step:  54/300 Loss: 4.51878 ROC-AUC Score: 0.933 Average Precision: 0.939 Total-Time: 20\n",
      "Step:  56/300 Loss: 4.38214 ROC-AUC Score: 0.941 Average Precision: 0.948 Total-Time: 21\n",
      "Step:  58/300 Loss: 4.27681 ROC-AUC Score: 0.942 Average Precision: 0.945 Total-Time: 22\n",
      "Step:  60/300 Loss: 4.20058 ROC-AUC Score: 0.941 Average Precision: 0.938 Total-Time: 22\n",
      "Step:  62/300 Loss: 4.20988 ROC-AUC Score: 0.935 Average Precision: 0.929 Total-Time: 23\n",
      "Step:  64/300 Loss: 4.15422 ROC-AUC Score: 0.942 Average Precision: 0.948 Total-Time: 24\n",
      "Step:  66/300 Loss: 4.01407 ROC-AUC Score: 0.950 Average Precision: 0.955 Total-Time: 25\n",
      "Step:  68/300 Loss: 3.90017 ROC-AUC Score: 0.949 Average Precision: 0.955 Total-Time: 25\n",
      "Step:  70/300 Loss: 3.80696 ROC-AUC Score: 0.949 Average Precision: 0.954 Total-Time: 26\n",
      "Step:  72/300 Loss: 3.71143 ROC-AUC Score: 0.952 Average Precision: 0.957 Total-Time: 27\n",
      "Step:  74/300 Loss: 3.69548 ROC-AUC Score: 0.950 Average Precision: 0.957 Total-Time: 27\n",
      "Step:  76/300 Loss: 4.01800 ROC-AUC Score: 0.951 Average Precision: 0.957 Total-Time: 28\n",
      "Step:  78/300 Loss: 3.79246 ROC-AUC Score: 0.950 Average Precision: 0.953 Total-Time: 29\n",
      "Step:  80/300 Loss: 3.65709 ROC-AUC Score: 0.955 Average Precision: 0.962 Total-Time: 30\n",
      "Step:  82/300 Loss: 3.56771 ROC-AUC Score: 0.952 Average Precision: 0.958 Total-Time: 30\n",
      "Step:  84/300 Loss: 3.48246 ROC-AUC Score: 0.953 Average Precision: 0.959 Total-Time: 31\n",
      "Step:  86/300 Loss: 3.41107 ROC-AUC Score: 0.954 Average Precision: 0.960 Total-Time: 32\n",
      "Step:  88/300 Loss: 3.33959 ROC-AUC Score: 0.957 Average Precision: 0.962 Total-Time: 33\n",
      "Step:  90/300 Loss: 3.28089 ROC-AUC Score: 0.956 Average Precision: 0.961 Total-Time: 33\n",
      "Step:  92/300 Loss: 3.30552 ROC-AUC Score: 0.951 Average Precision: 0.951 Total-Time: 34\n",
      "Step:  94/300 Loss: 3.81355 ROC-AUC Score: 0.959 Average Precision: 0.963 Total-Time: 35\n",
      "Step:  96/300 Loss: 3.70480 ROC-AUC Score: 0.955 Average Precision: 0.958 Total-Time: 35\n",
      "Step:  98/300 Loss: 3.50363 ROC-AUC Score: 0.961 Average Precision: 0.966 Total-Time: 36\n",
      "Step: 100/300 Loss: 3.40575 ROC-AUC Score: 0.960 Average Precision: 0.965 Total-Time: 37\n",
      "Step: 102/300 Loss: 3.31953 ROC-AUC Score: 0.958 Average Precision: 0.962 Total-Time: 38\n",
      "Step: 104/300 Loss: 3.24974 ROC-AUC Score: 0.960 Average Precision: 0.965 Total-Time: 39\n",
      "Step: 106/300 Loss: 3.18367 ROC-AUC Score: 0.957 Average Precision: 0.961 Total-Time: 39\n"
     ]
    }
   ],
   "source": [
    "# train model \n",
    "model.train(steps=300,\n",
    "            optimizer_fn=torch.optim.Adam,\n",
    "            optimizer_args={'lr': 0.1,\n",
    "                            'weight_decay': 5e-5})"
   ]
  },
  {
   "cell_type": "code",
   "execution_count": 44,
   "metadata": {},
   "outputs": [
    {
     "output_type": "execute_result",
     "data": {
      "text/plain": [
       "(0.9542058988002837, 0.9606755845126247)"
      ]
     },
     "metadata": {},
     "execution_count": 44
    }
   ],
   "source": [
    "# roc-auc, avg-precision\n",
    "\n",
    "link_prediction_performance(scores_matrix=model._scores_matrix, val_ones=test_ones, val_zeros=test_zeros)"
   ]
  },
  {
   "source": [
    "# Citeseer"
   ],
   "cell_type": "markdown",
   "metadata": {}
  },
  {
   "cell_type": "code",
   "execution_count": 71,
   "metadata": {},
   "outputs": [
    {
     "output_type": "stream",
     "name": "stdout",
     "text": [
      "Selecting 1 largest connected components\n"
     ]
    }
   ],
   "source": [
    "_A_obs, _X_obs, _z_obs = utils.load_npz('../data/citeseer.npz')\n",
    "_A_obs = _A_obs + _A_obs.T\n",
    "_A_obs[_A_obs > 1] = 1\n",
    "_A_obs = _A_obs - sp.eye(_A_obs.shape[0], _A_obs.shape[0])\n",
    "_A_obs[_A_obs < 0] = 0\n",
    "lcc = utils.largest_connected_components(_A_obs)\n",
    "_A_obs = _A_obs[lcc,:][:,lcc]\n",
    "_N = _A_obs.shape[0]"
   ]
  },
  {
   "cell_type": "code",
   "execution_count": 72,
   "metadata": {},
   "outputs": [],
   "source": [
    "val_share = 0.05\n",
    "test_share = 0.1\n",
    "seed = 48"
   ]
  },
  {
   "cell_type": "code",
   "execution_count": 73,
   "metadata": {},
   "outputs": [],
   "source": [
    "#there are self loops!\n",
    "\n",
    "train_ones, val_ones, val_zeros, test_ones, test_zeros = utils.train_val_test_split_adjacency(_A_obs, val_share, test_share, seed, undirected=True, connected=True, asserts=False)"
   ]
  },
  {
   "cell_type": "code",
   "execution_count": 74,
   "metadata": {},
   "outputs": [],
   "source": [
    "train_graph = sp.coo_matrix((np.ones(len(train_ones)),(train_ones[:,0], train_ones[:,1]))).tocsr()\n",
    "assert (train_graph.toarray() == train_graph.toarray().T).all()"
   ]
  },
  {
   "cell_type": "code",
   "execution_count": 83,
   "metadata": {},
   "outputs": [],
   "source": [
    "# initialize model with EO-criterion\n",
    "model = Cell(A=train_graph,\n",
    "             H=9,\n",
    "             g_type='cell',\n",
    "             callbacks=[EdgeOverlapCriterion(invoke_every=10, edge_overlap_limit=.5)])"
   ]
  },
  {
   "cell_type": "code",
   "execution_count": 84,
   "metadata": {},
   "outputs": [
    {
     "output_type": "stream",
     "name": "stdout",
     "text": [
      "Step:  10/200 Loss: 5.26347 Edge-Overlap: 0.044 Total-Time: 2\n",
      "Step:  20/200 Loss: 2.96395 Edge-Overlap: 0.370 Total-Time: 4\n",
      "Step:  30/200 Loss: 2.08671 Edge-Overlap: 0.620 Total-Time: 7\n"
     ]
    }
   ],
   "source": [
    "# train model \n",
    "model.train(steps=200,\n",
    "            optimizer_fn=torch.optim.Adam,\n",
    "            optimizer_args={'lr': 0.1,\n",
    "                            'weight_decay': 1e-7})"
   ]
  },
  {
   "cell_type": "code",
   "execution_count": 85,
   "metadata": {},
   "outputs": [
    {
     "output_type": "execute_result",
     "data": {
      "text/plain": [
       "(0.8816088728733459, 0.9059670666723801)"
      ]
     },
     "metadata": {},
     "execution_count": 85
    }
   ],
   "source": [
    "# roc-auc, avg-precision\n",
    "\n",
    "link_prediction_performance(scores_matrix=model._scores_matrix, val_ones=test_ones, val_zeros=test_zeros)"
   ]
  },
  {
   "cell_type": "code",
   "execution_count": 86,
   "metadata": {},
   "outputs": [],
   "source": [
    "generated_graphs = [model.sample_graph() for _ in range(5)]\n",
    "stats = [compute_graph_statistics(gg) for gg in generated_graphs]\n",
    "stat_df = pd.DataFrame({k: [s[k] for s in stats] for k in stats[0].keys()})"
   ]
  },
  {
   "cell_type": "code",
   "execution_count": 87,
   "metadata": {},
   "outputs": [],
   "source": [
    "df = pd.DataFrame(stat_df.mean(), columns=['cell'])"
   ]
  },
  {
   "source": [
    "#### our CELL"
   ],
   "cell_type": "markdown",
   "metadata": {}
  },
  {
   "cell_type": "code",
   "execution_count": 88,
   "metadata": {},
   "outputs": [],
   "source": [
    "# initialize model with EO-criterion\n",
    "model = Cell(A=train_graph,\n",
    "             H=9,\n",
    "             g_type='fc',\n",
    "             callbacks=[EdgeOverlapCriterion(invoke_every=10, edge_overlap_limit=.5)])"
   ]
  },
  {
   "cell_type": "code",
   "execution_count": 89,
   "metadata": {},
   "outputs": [
    {
     "output_type": "stream",
     "name": "stdout",
     "text": [
      "Step:  10/200 Loss: 6.61125 Edge-Overlap: 0.017 Total-Time: 2\n",
      "Step:  20/200 Loss: 4.16881 Edge-Overlap: 0.182 Total-Time: 5\n",
      "Step:  30/200 Loss: 2.70832 Edge-Overlap: 0.475 Total-Time: 8\n",
      "Step:  40/200 Loss: 2.04511 Edge-Overlap: 0.662 Total-Time: 11\n"
     ]
    }
   ],
   "source": [
    "# train model \n",
    "model.train(steps=200,\n",
    "            optimizer_fn=torch.optim.Adam,\n",
    "            optimizer_args={'lr': 0.05,\n",
    "                            'weight_decay': 1e-5})"
   ]
  },
  {
   "cell_type": "code",
   "execution_count": 90,
   "metadata": {},
   "outputs": [
    {
     "output_type": "execute_result",
     "data": {
      "text/plain": [
       "(0.8869993501890359, 0.9129411569997657)"
      ]
     },
     "metadata": {},
     "execution_count": 90
    }
   ],
   "source": [
    "# roc-auc, avg-precision\n",
    "\n",
    "link_prediction_performance(scores_matrix=model._scores_matrix, val_ones=test_ones, val_zeros=test_zeros)"
   ]
  },
  {
   "cell_type": "code",
   "execution_count": 91,
   "metadata": {},
   "outputs": [],
   "source": [
    "generated_graphs = [model.sample_graph() for _ in range(5)]\n",
    "stats = [compute_graph_statistics(gg) for gg in generated_graphs]\n",
    "stat_df = pd.DataFrame({k: [s[k] for s in stats] for k in stats[0].keys()})"
   ]
  },
  {
   "cell_type": "code",
   "execution_count": 92,
   "metadata": {},
   "outputs": [],
   "source": [
    "df['cell+fc'] = stat_df.mean().T\n",
    "\n",
    "df['gt'] = compute_graph_statistics(_A_obs).values()"
   ]
  },
  {
   "cell_type": "code",
   "execution_count": 93,
   "metadata": {},
   "outputs": [
    {
     "output_type": "execute_result",
     "data": {
      "text/plain": [
       "                                cell        cell+fc             gt\n",
       "d_max                      61.600000     103.400000      99.000000\n",
       "d_min                       1.000000       1.000000       1.000000\n",
       "d                           2.954502       2.954502       3.476777\n",
       "LCC                      2071.800000    1972.600000    2110.000000\n",
       "wedge_count             13612.400000   20481.800000   25943.000000\n",
       "claw_count              69661.200000  245217.600000  250348.000000\n",
       "triangle_count            151.200000     392.600000    1083.000000\n",
       "square_count              405.400000    2378.600000    5977.000000\n",
       "power_law_exp               2.183324       2.287204       2.068238\n",
       "gini                        0.374240       0.426780       0.428260\n",
       "rel_edge_distr_entropy      0.966515       0.952299       0.953867\n",
       "assortativity              -0.057109       0.008442       0.060227\n",
       "clustering_coefficient      0.033284       0.057595       0.125236\n",
       "cpl                         7.386035       7.317000       9.310487"
      ],
      "text/html": "<div>\n<style scoped>\n    .dataframe tbody tr th:only-of-type {\n        vertical-align: middle;\n    }\n\n    .dataframe tbody tr th {\n        vertical-align: top;\n    }\n\n    .dataframe thead th {\n        text-align: right;\n    }\n</style>\n<table border=\"1\" class=\"dataframe\">\n  <thead>\n    <tr style=\"text-align: right;\">\n      <th></th>\n      <th>cell</th>\n      <th>cell+fc</th>\n      <th>gt</th>\n    </tr>\n  </thead>\n  <tbody>\n    <tr>\n      <th>d_max</th>\n      <td>61.600000</td>\n      <td>103.400000</td>\n      <td>99.000000</td>\n    </tr>\n    <tr>\n      <th>d_min</th>\n      <td>1.000000</td>\n      <td>1.000000</td>\n      <td>1.000000</td>\n    </tr>\n    <tr>\n      <th>d</th>\n      <td>2.954502</td>\n      <td>2.954502</td>\n      <td>3.476777</td>\n    </tr>\n    <tr>\n      <th>LCC</th>\n      <td>2071.800000</td>\n      <td>1972.600000</td>\n      <td>2110.000000</td>\n    </tr>\n    <tr>\n      <th>wedge_count</th>\n      <td>13612.400000</td>\n      <td>20481.800000</td>\n      <td>25943.000000</td>\n    </tr>\n    <tr>\n      <th>claw_count</th>\n      <td>69661.200000</td>\n      <td>245217.600000</td>\n      <td>250348.000000</td>\n    </tr>\n    <tr>\n      <th>triangle_count</th>\n      <td>151.200000</td>\n      <td>392.600000</td>\n      <td>1083.000000</td>\n    </tr>\n    <tr>\n      <th>square_count</th>\n      <td>405.400000</td>\n      <td>2378.600000</td>\n      <td>5977.000000</td>\n    </tr>\n    <tr>\n      <th>power_law_exp</th>\n      <td>2.183324</td>\n      <td>2.287204</td>\n      <td>2.068238</td>\n    </tr>\n    <tr>\n      <th>gini</th>\n      <td>0.374240</td>\n      <td>0.426780</td>\n      <td>0.428260</td>\n    </tr>\n    <tr>\n      <th>rel_edge_distr_entropy</th>\n      <td>0.966515</td>\n      <td>0.952299</td>\n      <td>0.953867</td>\n    </tr>\n    <tr>\n      <th>assortativity</th>\n      <td>-0.057109</td>\n      <td>0.008442</td>\n      <td>0.060227</td>\n    </tr>\n    <tr>\n      <th>clustering_coefficient</th>\n      <td>0.033284</td>\n      <td>0.057595</td>\n      <td>0.125236</td>\n    </tr>\n    <tr>\n      <th>cpl</th>\n      <td>7.386035</td>\n      <td>7.317000</td>\n      <td>9.310487</td>\n    </tr>\n  </tbody>\n</table>\n</div>"
     },
     "metadata": {},
     "execution_count": 93
    }
   ],
   "source": [
    "df"
   ]
  },
  {
   "source": [],
   "cell_type": "markdown",
   "metadata": {}
  },
  {
   "cell_type": "code",
   "execution_count": null,
   "metadata": {},
   "outputs": [],
   "source": []
  },
  {
   "cell_type": "code",
   "execution_count": 94,
   "metadata": {},
   "outputs": [],
   "source": [
    "# initialize model with LP-criterion\n",
    "#\n",
    "model = Cell(A=train_graph,\n",
    "             H=9,\n",
    "             g_type='cell',\n",
    "             callbacks=[LinkPredictionCriterion(invoke_every=2,\n",
    "                                                val_ones=val_ones,\n",
    "                                            val_zeros=val_zeros,\n",
    "                                                max_patience=3)])"
   ]
  },
  {
   "cell_type": "code",
   "execution_count": 95,
   "metadata": {},
   "outputs": [
    {
     "output_type": "stream",
     "name": "stdout",
     "text": [
      "Step:   2/200 Loss: 7.63163 ROC-AUC Score: 0.541 Average Precision: 0.561 Total-Time: 0\n",
      "Step:   4/200 Loss: 7.37045 ROC-AUC Score: 0.623 Average Precision: 0.639 Total-Time: 0\n",
      "Step:   6/200 Loss: 6.84914 ROC-AUC Score: 0.666 Average Precision: 0.681 Total-Time: 1\n",
      "Step:   8/200 Loss: 6.09813 ROC-AUC Score: 0.697 Average Precision: 0.710 Total-Time: 1\n",
      "Step:  10/200 Loss: 5.28319 ROC-AUC Score: 0.730 Average Precision: 0.741 Total-Time: 2\n",
      "Step:  12/200 Loss: 4.56484 ROC-AUC Score: 0.767 Average Precision: 0.784 Total-Time: 2\n",
      "Step:  14/200 Loss: 4.02190 ROC-AUC Score: 0.797 Average Precision: 0.823 Total-Time: 2\n",
      "Step:  16/200 Loss: 3.60988 ROC-AUC Score: 0.816 Average Precision: 0.841 Total-Time: 3\n",
      "Step:  18/200 Loss: 3.26524 ROC-AUC Score: 0.830 Average Precision: 0.849 Total-Time: 3\n",
      "Step:  20/200 Loss: 2.97353 ROC-AUC Score: 0.842 Average Precision: 0.858 Total-Time: 4\n",
      "Step:  22/200 Loss: 2.72824 ROC-AUC Score: 0.852 Average Precision: 0.868 Total-Time: 4\n",
      "Step:  24/200 Loss: 2.51697 ROC-AUC Score: 0.858 Average Precision: 0.875 Total-Time: 5\n",
      "Step:  26/200 Loss: 2.34269 ROC-AUC Score: 0.861 Average Precision: 0.880 Total-Time: 5\n",
      "Step:  28/200 Loss: 2.19770 ROC-AUC Score: 0.864 Average Precision: 0.885 Total-Time: 6\n",
      "Step:  30/200 Loss: 2.08014 ROC-AUC Score: 0.868 Average Precision: 0.890 Total-Time: 6\n",
      "Step:  32/200 Loss: 1.98430 ROC-AUC Score: 0.868 Average Precision: 0.891 Total-Time: 7\n",
      "Step:  34/200 Loss: 1.90367 ROC-AUC Score: 0.869 Average Precision: 0.891 Total-Time: 7\n",
      "Step:  36/200 Loss: 1.83836 ROC-AUC Score: 0.869 Average Precision: 0.892 Total-Time: 7\n",
      "Step:  38/200 Loss: 1.78373 ROC-AUC Score: 0.868 Average Precision: 0.891 Total-Time: 8\n",
      "Step:  40/200 Loss: 1.73850 ROC-AUC Score: 0.867 Average Precision: 0.889 Total-Time: 8\n",
      "Step:  42/200 Loss: 1.70079 ROC-AUC Score: 0.867 Average Precision: 0.890 Total-Time: 9\n",
      "Step:  44/200 Loss: 1.66940 ROC-AUC Score: 0.867 Average Precision: 0.892 Total-Time: 9\n"
     ]
    }
   ],
   "source": [
    "# train model \n",
    "model.train(steps=200,\n",
    "            optimizer_fn=torch.optim.Adam,\n",
    "            optimizer_args={'lr': 0.1,\n",
    "                            'weight_decay': 1e-6})"
   ]
  },
  {
   "cell_type": "code",
   "execution_count": 96,
   "metadata": {},
   "outputs": [
    {
     "output_type": "execute_result",
     "data": {
      "text/plain": [
       "(0.8893401465028355, 0.9067387228433713)"
      ]
     },
     "metadata": {},
     "execution_count": 96
    }
   ],
   "source": [
    "# roc-auc, avg-precision\n",
    "\n",
    "link_prediction_performance(scores_matrix=model._scores_matrix, val_ones=test_ones, val_zeros=test_zeros)"
   ]
  },
  {
   "cell_type": "code",
   "execution_count": null,
   "metadata": {},
   "outputs": [],
   "source": []
  },
  {
   "cell_type": "code",
   "execution_count": 110,
   "metadata": {},
   "outputs": [],
   "source": [
    "# initialize model with LP-criterion\n",
    "#\n",
    "model = Cell(A=train_graph,\n",
    "             H=9,\n",
    "             g_type='fc',\n",
    "             callbacks=[LinkPredictionCriterion(invoke_every=2,\n",
    "                                                val_ones=val_ones,\n",
    "                                            val_zeros=val_zeros,\n",
    "                                                max_patience=3)])"
   ]
  },
  {
   "cell_type": "code",
   "execution_count": 111,
   "metadata": {},
   "outputs": [
    {
     "output_type": "stream",
     "name": "stdout",
     "text": [
      "Step:   2/200 Loss: 7.85740 ROC-AUC Score: 0.784 Average Precision: 0.781 Total-Time: 0\n",
      "Step:   4/200 Loss: 7.41183 ROC-AUC Score: 0.783 Average Precision: 0.801 Total-Time: 0\n",
      "Step:   6/200 Loss: 7.28172 ROC-AUC Score: 0.760 Average Precision: 0.791 Total-Time: 1\n",
      "Step:   8/200 Loss: 7.16212 ROC-AUC Score: 0.774 Average Precision: 0.814 Total-Time: 1\n",
      "Step:  10/200 Loss: 7.09157 ROC-AUC Score: 0.784 Average Precision: 0.822 Total-Time: 2\n",
      "Step:  12/200 Loss: 6.97190 ROC-AUC Score: 0.802 Average Precision: 0.833 Total-Time: 2\n",
      "Step:  14/200 Loss: 6.83995 ROC-AUC Score: 0.797 Average Precision: 0.824 Total-Time: 2\n",
      "Step:  16/200 Loss: 6.73701 ROC-AUC Score: 0.808 Average Precision: 0.837 Total-Time: 3\n",
      "Step:  18/200 Loss: 6.58835 ROC-AUC Score: 0.800 Average Precision: 0.834 Total-Time: 3\n",
      "Step:  20/200 Loss: 6.40314 ROC-AUC Score: 0.795 Average Precision: 0.831 Total-Time: 4\n",
      "Step:  22/200 Loss: 6.24258 ROC-AUC Score: 0.812 Average Precision: 0.842 Total-Time: 4\n",
      "Step:  24/200 Loss: 6.07048 ROC-AUC Score: 0.835 Average Precision: 0.859 Total-Time: 5\n",
      "Step:  26/200 Loss: 5.92825 ROC-AUC Score: 0.831 Average Precision: 0.854 Total-Time: 5\n",
      "Step:  28/200 Loss: 5.81469 ROC-AUC Score: 0.847 Average Precision: 0.869 Total-Time: 5\n",
      "Step:  30/200 Loss: 5.88071 ROC-AUC Score: 0.869 Average Precision: 0.889 Total-Time: 6\n",
      "Step:  32/200 Loss: 5.61902 ROC-AUC Score: 0.861 Average Precision: 0.873 Total-Time: 6\n",
      "Step:  34/200 Loss: 5.49482 ROC-AUC Score: 0.887 Average Precision: 0.902 Total-Time: 7\n",
      "Step:  36/200 Loss: 5.36342 ROC-AUC Score: 0.906 Average Precision: 0.916 Total-Time: 7\n",
      "Step:  38/200 Loss: 5.22026 ROC-AUC Score: 0.851 Average Precision: 0.842 Total-Time: 7\n",
      "Step:  40/200 Loss: 5.61730 ROC-AUC Score: 0.870 Average Precision: 0.870 Total-Time: 8\n",
      "Step:  42/200 Loss: 5.20262 ROC-AUC Score: 0.901 Average Precision: 0.901 Total-Time: 8\n",
      "Step:  44/200 Loss: 5.06074 ROC-AUC Score: 0.908 Average Precision: 0.913 Total-Time: 9\n"
     ]
    }
   ],
   "source": [
    "# train model \n",
    "model.train(steps=200,\n",
    "            optimizer_fn=torch.optim.Adam,\n",
    "            optimizer_args={'lr': 0.1,\n",
    "                            'weight_decay': 1e-4})"
   ]
  },
  {
   "cell_type": "code",
   "execution_count": 112,
   "metadata": {},
   "outputs": [
    {
     "output_type": "execute_result",
     "data": {
      "text/plain": [
       "(0.881453804347826, 0.8975038026834091)"
      ]
     },
     "metadata": {},
     "execution_count": 112
    }
   ],
   "source": [
    "# roc-auc, avg-precision\n",
    "\n",
    "link_prediction_performance(scores_matrix=model._scores_matrix, val_ones=test_ones, val_zeros=test_zeros)"
   ]
  },
  {
   "source": [
    "# Prolblogs"
   ],
   "cell_type": "markdown",
   "metadata": {}
  },
  {
   "source": [
    "#### CELL"
   ],
   "cell_type": "markdown",
   "metadata": {}
  },
  {
   "cell_type": "code",
   "execution_count": 115,
   "metadata": {},
   "outputs": [
    {
     "output_type": "stream",
     "name": "stdout",
     "text": [
      "Selecting 1 largest connected components\n"
     ]
    }
   ],
   "source": [
    "_A_obs, _X_obs, _z_obs = utils.load_npz('../data/polblogs.npz')\n",
    "_A_obs = _A_obs + _A_obs.T\n",
    "_A_obs[_A_obs > 1] = 1\n",
    "_A_obs = _A_obs - sp.eye(_A_obs.shape[0], _A_obs.shape[0])\n",
    "_A_obs[_A_obs < 0] = 0\n",
    "lcc = utils.largest_connected_components(_A_obs)\n",
    "_A_obs = _A_obs[lcc,:][:,lcc]\n",
    "_N = _A_obs.shape[0]"
   ]
  },
  {
   "cell_type": "code",
   "execution_count": 116,
   "metadata": {},
   "outputs": [],
   "source": [
    "val_share = 0.05\n",
    "test_share = 0.1\n",
    "seed = 48"
   ]
  },
  {
   "cell_type": "code",
   "execution_count": 117,
   "metadata": {},
   "outputs": [],
   "source": [
    "train_ones, val_ones, val_zeros, test_ones, test_zeros = utils.train_val_test_split_adjacency(_A_obs, val_share, test_share, seed, undirected=True, connected=True, asserts=False)"
   ]
  },
  {
   "cell_type": "code",
   "execution_count": 118,
   "metadata": {},
   "outputs": [],
   "source": [
    "train_graph = sp.coo_matrix((np.ones(len(train_ones)),(train_ones[:,0], train_ones[:,1]))).tocsr()\n",
    "assert (train_graph.toarray() == train_graph.toarray().T).all()"
   ]
  },
  {
   "cell_type": "code",
   "execution_count": 119,
   "metadata": {},
   "outputs": [],
   "source": [
    "# initialize model with EO-criterion\n",
    "model = Cell(A=train_graph,\n",
    "             H=9,\n",
    "             g_type='cell',\n",
    "             callbacks=[EdgeOverlapCriterion(invoke_every=10, edge_overlap_limit=.5)])"
   ]
  },
  {
   "cell_type": "code",
   "execution_count": 120,
   "metadata": {},
   "outputs": [
    {
     "output_type": "stream",
     "name": "stdout",
     "text": [
      "Step:  10/200 Loss: 5.83401 Edge-Overlap: 0.288 Total-Time: 1\n",
      "Step:  20/200 Loss: 5.47092 Edge-Overlap: 0.299 Total-Time: 2\n",
      "Step:  30/200 Loss: 5.29989 Edge-Overlap: 0.334 Total-Time: 3\n",
      "Step:  40/200 Loss: 5.20937 Edge-Overlap: 0.356 Total-Time: 4\n",
      "Step:  50/200 Loss: 5.16049 Edge-Overlap: 0.359 Total-Time: 6\n",
      "Step:  60/200 Loss: 5.13118 Edge-Overlap: 0.366 Total-Time: 7\n",
      "Step:  70/200 Loss: 5.11152 Edge-Overlap: 0.373 Total-Time: 8\n",
      "Step:  80/200 Loss: 5.09732 Edge-Overlap: 0.372 Total-Time: 9\n",
      "Step:  90/200 Loss: 5.08634 Edge-Overlap: 0.380 Total-Time: 11\n",
      "Step: 100/200 Loss: 5.07748 Edge-Overlap: 0.380 Total-Time: 12\n",
      "Step: 110/200 Loss: 5.07006 Edge-Overlap: 0.386 Total-Time: 13\n",
      "Step: 120/200 Loss: 5.06377 Edge-Overlap: 0.378 Total-Time: 14\n",
      "Step: 130/200 Loss: 5.05826 Edge-Overlap: 0.386 Total-Time: 16\n",
      "Step: 140/200 Loss: 5.05343 Edge-Overlap: 0.383 Total-Time: 17\n",
      "Step: 150/200 Loss: 5.04905 Edge-Overlap: 0.391 Total-Time: 18\n",
      "Step: 160/200 Loss: 5.04510 Edge-Overlap: 0.392 Total-Time: 19\n",
      "Step: 170/200 Loss: 5.04151 Edge-Overlap: 0.391 Total-Time: 21\n",
      "Step: 180/200 Loss: 5.03814 Edge-Overlap: 0.395 Total-Time: 22\n",
      "Step: 190/200 Loss: 5.03521 Edge-Overlap: 0.386 Total-Time: 23\n",
      "Step: 200/200 Loss: 5.03238 Edge-Overlap: 0.393 Total-Time: 25\n"
     ]
    }
   ],
   "source": [
    "# train model \n",
    "model.train(steps=200,\n",
    "            optimizer_fn=torch.optim.Adam,\n",
    "            optimizer_args={'lr': 0.1,\n",
    "                            'weight_decay': 1e-7})"
   ]
  },
  {
   "cell_type": "code",
   "execution_count": 121,
   "metadata": {},
   "outputs": [
    {
     "output_type": "execute_result",
     "data": {
      "text/plain": [
       "(0.960215496713207, 0.960696351282322)"
      ]
     },
     "metadata": {},
     "execution_count": 121
    }
   ],
   "source": [
    "# roc-auc, avg-precision\n",
    "\n",
    "link_prediction_performance(scores_matrix=model._scores_matrix, val_ones=test_ones, val_zeros=test_zeros)"
   ]
  },
  {
   "cell_type": "code",
   "execution_count": 125,
   "metadata": {},
   "outputs": [],
   "source": [
    "# initialize model with EO-criterion\n",
    "model = Cell(A=train_graph,\n",
    "             H=9,\n",
    "             g_type='fc',\n",
    "             callbacks=[EdgeOverlapCriterion(invoke_every=10, edge_overlap_limit=.5)])"
   ]
  },
  {
   "cell_type": "code",
   "execution_count": 126,
   "metadata": {},
   "outputs": [
    {
     "output_type": "stream",
     "name": "stdout",
     "text": [
      "Step:  10/200 Loss: 6.42485 Edge-Overlap: 0.123 Total-Time: 1\n",
      "Step:  20/200 Loss: 6.34362 Edge-Overlap: 0.132 Total-Time: 2\n",
      "Step:  30/200 Loss: 6.21646 Edge-Overlap: 0.158 Total-Time: 4\n",
      "Step:  40/200 Loss: 5.91915 Edge-Overlap: 0.211 Total-Time: 5\n",
      "Step:  50/200 Loss: 5.79610 Edge-Overlap: 0.211 Total-Time: 7\n",
      "Step:  60/200 Loss: 5.73338 Edge-Overlap: 0.228 Total-Time: 8\n",
      "Step:  70/200 Loss: 5.67114 Edge-Overlap: 0.241 Total-Time: 10\n",
      "Step:  80/200 Loss: 5.62350 Edge-Overlap: 0.250 Total-Time: 11\n",
      "Step:  90/200 Loss: 5.57992 Edge-Overlap: 0.276 Total-Time: 12\n",
      "Step: 100/200 Loss: 5.53117 Edge-Overlap: 0.286 Total-Time: 14\n",
      "Step: 110/200 Loss: 5.49798 Edge-Overlap: 0.280 Total-Time: 15\n",
      "Step: 120/200 Loss: 5.47121 Edge-Overlap: 0.277 Total-Time: 16\n",
      "Step: 130/200 Loss: 5.43454 Edge-Overlap: 0.293 Total-Time: 18\n",
      "Step: 140/200 Loss: 5.42513 Edge-Overlap: 0.276 Total-Time: 19\n",
      "Step: 150/200 Loss: 5.40097 Edge-Overlap: 0.306 Total-Time: 20\n",
      "Step: 160/200 Loss: 5.37051 Edge-Overlap: 0.309 Total-Time: 22\n",
      "Step: 170/200 Loss: 5.36888 Edge-Overlap: 0.299 Total-Time: 23\n",
      "Step: 180/200 Loss: 5.34293 Edge-Overlap: 0.304 Total-Time: 24\n",
      "Step: 190/200 Loss: 5.33025 Edge-Overlap: 0.318 Total-Time: 26\n",
      "Step: 200/200 Loss: 5.31234 Edge-Overlap: 0.310 Total-Time: 27\n"
     ]
    }
   ],
   "source": [
    "# train model \n",
    "model.train(steps=200,\n",
    "            optimizer_fn=torch.optim.Adam,\n",
    "            optimizer_args={'lr': 0.1,\n",
    "                            'weight_decay': 1e-5})"
   ]
  },
  {
   "cell_type": "code",
   "execution_count": 127,
   "metadata": {},
   "outputs": [
    {
     "output_type": "execute_result",
     "data": {
      "text/plain": [
       "(0.9588410424130088, 0.9587745897560999)"
      ]
     },
     "metadata": {},
     "execution_count": 127
    }
   ],
   "source": [
    "# roc-auc, avg-precision\n",
    "\n",
    "link_prediction_performance(scores_matrix=model._scores_matrix, val_ones=test_ones, val_zeros=test_zeros)"
   ]
  },
  {
   "cell_type": "code",
   "execution_count": null,
   "metadata": {},
   "outputs": [],
   "source": []
  }
 ]
}