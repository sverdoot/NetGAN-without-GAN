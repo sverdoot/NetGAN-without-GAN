{
 "metadata": {
  "language_info": {
   "codemirror_mode": {
    "name": "ipython",
    "version": 3
   },
   "file_extension": ".py",
   "mimetype": "text/x-python",
   "name": "python",
   "nbconvert_exporter": "python",
   "pygments_lexer": "ipython3",
   "version": "3.8.5-final"
  },
  "orig_nbformat": 2,
  "kernelspec": {
   "name": "python38564bitfad426787c4d466e858501df55a3f5b8",
   "display_name": "Python 3.8.5 64-bit",
   "language": "python"
  }
 },
 "nbformat": 4,
 "nbformat_minor": 2,
 "cells": [
  {
   "cell_type": "code",
   "execution_count": 1,
   "metadata": {},
   "outputs": [],
   "source": [
    "# import warnings\n",
    "# warnings.filterwarnings('ignore')\n",
    "%load_ext autoreload\n",
    "%autoreload 2\n",
    "\n",
    "import pickle\n",
    "import numpy as np\n",
    "import scipy.sparse as sp\n",
    "from scipy.sparse import load_npz\n",
    "import pandas as pd\n",
    "\n",
    "import torch\n",
    "\n",
    "from cell import utils\n",
    "from cell.utils import link_prediction_performance, edge_overlap\n",
    "from cell.cell import Cell, EdgeOverlapCriterion, LinkPredictionCriterion\n",
    "from cell.graph_statistics import compute_graph_statistics"
   ]
  },
  {
   "source": [
    "# CORA ML"
   ],
   "cell_type": "markdown",
   "metadata": {}
  },
  {
   "cell_type": "code",
   "execution_count": 34,
   "metadata": {},
   "outputs": [
    {
     "output_type": "stream",
     "name": "stdout",
     "text": [
      "Selecting 1 largest connected components\n"
     ]
    }
   ],
   "source": [
    "#train_graph \n",
    "_A_obs, _X_obs, _z_obs = utils.load_npz('../data/cora_ml.npz')\n",
    "_A_obs = _A_obs + _A_obs.T\n",
    "_A_obs[_A_obs > 1] = 1\n",
    "lcc = utils.largest_connected_components(_A_obs)\n",
    "_A_obs = _A_obs[lcc,:][:,lcc]\n",
    "_N = _A_obs.shape[0]"
   ]
  },
  {
   "cell_type": "code",
   "execution_count": 35,
   "metadata": {},
   "outputs": [],
   "source": [
    "val_share = 0.05\n",
    "test_share = 0.1\n",
    "seed = 42 #481516234"
   ]
  },
  {
   "cell_type": "code",
   "execution_count": 36,
   "metadata": {},
   "outputs": [],
   "source": [
    "train_ones, val_ones, val_zeros, test_ones, test_zeros = utils.train_val_test_split_adjacency(_A_obs, val_share, test_share, seed, undirected=True, connected=True, asserts=True)"
   ]
  },
  {
   "cell_type": "code",
   "execution_count": 37,
   "metadata": {},
   "outputs": [],
   "source": [
    "train_graph = sp.coo_matrix((np.ones(len(train_ones)),(train_ones[:,0], train_ones[:,1]))).tocsr()\n",
    "assert (train_graph.toarray() == train_graph.toarray().T).all()"
   ]
  },
  {
   "source": [
    "### Edge overlap"
   ],
   "cell_type": "markdown",
   "metadata": {}
  },
  {
   "source": [
    "#### CELL"
   ],
   "cell_type": "markdown",
   "metadata": {}
  },
  {
   "cell_type": "code",
   "execution_count": 6,
   "metadata": {},
   "outputs": [
    {
     "output_type": "stream",
     "name": "stdout",
     "text": [
      "Step:  10/200 Loss: 6.03156 Edge-Overlap: 0.039 Total-Time: 4\n",
      "Step:  20/200 Loss: 4.08835 Edge-Overlap: 0.280 Total-Time: 7\n",
      "Step:  30/200 Loss: 3.35228 Edge-Overlap: 0.424 Total-Time: 11\n",
      "Step:  40/200 Loss: 3.03328 Edge-Overlap: 0.496 Total-Time: 15\n",
      "Step:  50/200 Loss: 2.87984 Edge-Overlap: 0.538 Total-Time: 19\n"
     ]
    }
   ],
   "source": [
    "# initialize model with EO-criterion\n",
    "model = Cell(A=train_graph,\n",
    "             H=9,\n",
    "             g_type='cell',\n",
    "             callbacks=[EdgeOverlapCriterion(invoke_every=10, edge_overlap_limit=.5)])\n",
    "\n",
    "# train model \n",
    "model.train(steps=200,\n",
    "            optimizer_fn=torch.optim.Adam,\n",
    "            optimizer_args={'lr': 0.1,\n",
    "                            'weight_decay': 1e-5})"
   ]
  },
  {
   "cell_type": "code",
   "execution_count": 7,
   "metadata": {},
   "outputs": [
    {
     "output_type": "execute_result",
     "data": {
      "text/plain": [
       "(0.9402992789798261, 0.9483153411123437)"
      ]
     },
     "metadata": {},
     "execution_count": 7
    }
   ],
   "source": [
    "# roc-auc, avg-precision\n",
    "\n",
    "link_prediction_performance(scores_matrix=model._scores_matrix, val_ones=test_ones, val_zeros=test_zeros)"
   ]
  },
  {
   "cell_type": "code",
   "execution_count": 8,
   "metadata": {},
   "outputs": [],
   "source": [
    "generated_graphs = [model.sample_graph() for _ in range(5)]\n",
    "stats = [compute_graph_statistics(gg) for gg in generated_graphs]\n",
    "stat_df = pd.DataFrame({k: [s[k] for s in stats] for k in stats[0].keys()})\n",
    "\n",
    "df = pd.DataFrame(stat_df.mean(), columns=['cell'])"
   ]
  },
  {
   "source": [
    "#### SVD"
   ],
   "cell_type": "markdown",
   "metadata": {}
  },
  {
   "cell_type": "code",
   "execution_count": 9,
   "metadata": {},
   "outputs": [
    {
     "output_type": "stream",
     "name": "stdout",
     "text": [
      "Step:  10/400 Loss: 7.94054 Edge-Overlap: 0.002 Total-Time: 3\n",
      "Step:  20/400 Loss: 7.70392 Edge-Overlap: 0.005 Total-Time: 7\n",
      "Step:  30/400 Loss: 6.77800 Edge-Overlap: 0.048 Total-Time: 11\n",
      "Step:  40/400 Loss: 5.62069 Edge-Overlap: 0.132 Total-Time: 16\n",
      "Step:  50/400 Loss: 4.81414 Edge-Overlap: 0.184 Total-Time: 20\n",
      "Step:  60/400 Loss: 4.37184 Edge-Overlap: 0.240 Total-Time: 24\n",
      "Step:  70/400 Loss: 4.13638 Edge-Overlap: 0.271 Total-Time: 29\n",
      "Step:  80/400 Loss: 4.01231 Edge-Overlap: 0.287 Total-Time: 33\n",
      "Step:  90/400 Loss: 3.93262 Edge-Overlap: 0.299 Total-Time: 37\n",
      "Step: 100/400 Loss: 3.86665 Edge-Overlap: 0.317 Total-Time: 42\n",
      "Step: 110/400 Loss: 3.83988 Edge-Overlap: 0.326 Total-Time: 46\n",
      "Step: 120/400 Loss: 3.82225 Edge-Overlap: 0.336 Total-Time: 50\n",
      "Step: 130/400 Loss: 3.81283 Edge-Overlap: 0.345 Total-Time: 54\n",
      "Step: 140/400 Loss: 3.82299 Edge-Overlap: 0.350 Total-Time: 58\n",
      "Step: 150/400 Loss: 3.79810 Edge-Overlap: 0.343 Total-Time: 62\n",
      "Step: 160/400 Loss: 3.79159 Edge-Overlap: 0.349 Total-Time: 66\n",
      "Step: 170/400 Loss: 3.78482 Edge-Overlap: 0.357 Total-Time: 70\n",
      "Step: 180/400 Loss: 3.79208 Edge-Overlap: 0.369 Total-Time: 74\n",
      "Step: 190/400 Loss: 3.76689 Edge-Overlap: 0.367 Total-Time: 78\n",
      "Step: 200/400 Loss: 3.76101 Edge-Overlap: 0.370 Total-Time: 82\n",
      "Step: 210/400 Loss: 3.76804 Edge-Overlap: 0.377 Total-Time: 86\n",
      "Step: 220/400 Loss: 3.77814 Edge-Overlap: 0.364 Total-Time: 90\n",
      "Step: 230/400 Loss: 3.77531 Edge-Overlap: 0.372 Total-Time: 94\n",
      "Step: 240/400 Loss: 3.77402 Edge-Overlap: 0.380 Total-Time: 97\n",
      "Step: 250/400 Loss: 3.77561 Edge-Overlap: 0.379 Total-Time: 101\n",
      "Step: 260/400 Loss: 3.70775 Edge-Overlap: 0.391 Total-Time: 105\n",
      "Step: 270/400 Loss: 3.72481 Edge-Overlap: 0.377 Total-Time: 110\n",
      "Step: 280/400 Loss: 3.78813 Edge-Overlap: 0.376 Total-Time: 114\n",
      "Step: 290/400 Loss: 3.76654 Edge-Overlap: 0.380 Total-Time: 118\n",
      "Step: 300/400 Loss: 3.73710 Edge-Overlap: 0.389 Total-Time: 122\n",
      "Step: 310/400 Loss: 3.75592 Edge-Overlap: 0.381 Total-Time: 126\n",
      "Step: 320/400 Loss: 3.79647 Edge-Overlap: 0.390 Total-Time: 130\n",
      "Step: 330/400 Loss: 3.75370 Edge-Overlap: 0.385 Total-Time: 134\n",
      "Step: 340/400 Loss: 3.75251 Edge-Overlap: 0.400 Total-Time: 138\n",
      "Step: 350/400 Loss: 3.75985 Edge-Overlap: 0.384 Total-Time: 142\n",
      "Step: 360/400 Loss: 3.69291 Edge-Overlap: 0.398 Total-Time: 146\n",
      "Step: 370/400 Loss: 3.72472 Edge-Overlap: 0.401 Total-Time: 150\n",
      "Step: 380/400 Loss: 3.70665 Edge-Overlap: 0.390 Total-Time: 154\n",
      "Step: 390/400 Loss: 3.77177 Edge-Overlap: 0.378 Total-Time: 158\n",
      "Step: 400/400 Loss: 3.90761 Edge-Overlap: 0.358 Total-Time: 162\n"
     ]
    }
   ],
   "source": [
    "# initialize model with EO-criterion\n",
    "model = Cell(A=train_graph,\n",
    "             H=9,\n",
    "             g_type='svd',\n",
    "             callbacks=[EdgeOverlapCriterion(invoke_every=10, edge_overlap_limit=.5)])\n",
    "\n",
    "# train model \n",
    "model.train(steps=400,\n",
    "            optimizer_fn=torch.optim.Adam,\n",
    "            optimizer_args={'lr': 0.1,\n",
    "                            'weight_decay': 1e-5})"
   ]
  },
  {
   "cell_type": "code",
   "execution_count": 10,
   "metadata": {},
   "outputs": [
    {
     "output_type": "execute_result",
     "data": {
      "text/plain": [
       "(0.9618265008983382, 0.9604507813567715)"
      ]
     },
     "metadata": {},
     "execution_count": 10
    }
   ],
   "source": [
    "# roc-auc, avg-precision\n",
    "\n",
    "link_prediction_performance(scores_matrix=model._scores_matrix, val_ones=test_ones, val_zeros=test_zeros)"
   ]
  },
  {
   "cell_type": "code",
   "execution_count": 11,
   "metadata": {},
   "outputs": [],
   "source": [
    "generated_graphs = [model.sample_graph() for _ in range(5)]\n",
    "stats = [compute_graph_statistics(gg) for gg in generated_graphs]\n",
    "stat_df = pd.DataFrame({k: [s[k] for s in stats] for k in stats[0].keys()})\n",
    "\n",
    "df['svd'] = stat_df.mean().T"
   ]
  },
  {
   "source": [
    "#### our CELL"
   ],
   "cell_type": "markdown",
   "metadata": {}
  },
  {
   "cell_type": "code",
   "execution_count": 12,
   "metadata": {},
   "outputs": [
    {
     "output_type": "stream",
     "name": "stdout",
     "text": [
      "Step:  10/200 Loss: 7.40114 Edge-Overlap: 0.015 Total-Time: 4\n",
      "Step:  20/200 Loss: 7.07412 Edge-Overlap: 0.021 Total-Time: 8\n",
      "Step:  30/200 Loss: 6.40290 Edge-Overlap: 0.053 Total-Time: 12\n",
      "Step:  40/200 Loss: 6.09345 Edge-Overlap: 0.056 Total-Time: 17\n",
      "Step:  50/200 Loss: 4.98667 Edge-Overlap: 0.125 Total-Time: 21\n",
      "Step:  60/200 Loss: 4.31011 Edge-Overlap: 0.245 Total-Time: 25\n",
      "Step:  70/200 Loss: 3.76784 Edge-Overlap: 0.292 Total-Time: 30\n",
      "Step:  80/200 Loss: 3.45488 Edge-Overlap: 0.398 Total-Time: 34\n",
      "Step:  90/200 Loss: 3.24872 Edge-Overlap: 0.447 Total-Time: 38\n",
      "Step: 100/200 Loss: 3.16611 Edge-Overlap: 0.496 Total-Time: 42\n",
      "Step: 110/200 Loss: 3.05939 Edge-Overlap: 0.500 Total-Time: 47\n"
     ]
    }
   ],
   "source": [
    "# initialize model with EO-criterion\n",
    "model = Cell(A=train_graph,\n",
    "             H=9,\n",
    "             g_type='fc',\n",
    "             callbacks=[EdgeOverlapCriterion(invoke_every=10, edge_overlap_limit=.5)])\n",
    "\n",
    "# train model \n",
    "model.train(steps=200,\n",
    "            optimizer_fn=torch.optim.Adam,\n",
    "            optimizer_args={'lr': 0.1,\n",
    "                            'weight_decay': 1e-4})"
   ]
  },
  {
   "cell_type": "code",
   "execution_count": 13,
   "metadata": {},
   "outputs": [
    {
     "output_type": "execute_result",
     "data": {
      "text/plain": [
       "(0.9585432980211497, 0.960632798006726)"
      ]
     },
     "metadata": {},
     "execution_count": 13
    }
   ],
   "source": [
    "# roc-auc, avg-precision\n",
    "\n",
    "link_prediction_performance(scores_matrix=model._scores_matrix, val_ones=test_ones, val_zeros=test_zeros)"
   ]
  },
  {
   "cell_type": "code",
   "execution_count": 14,
   "metadata": {},
   "outputs": [],
   "source": [
    "generated_graphs = [model.sample_graph() for _ in range(5)]\n",
    "stats = [compute_graph_statistics(gg) for gg in generated_graphs]\n",
    "stat_df = pd.DataFrame({k: [s[k] for s in stats] for k in stats[0].keys()})\n",
    "\n",
    "df['cell+fc'] = stat_df.mean().T"
   ]
  },
  {
   "source": [
    "#### Results"
   ],
   "cell_type": "markdown",
   "metadata": {}
  },
  {
   "cell_type": "code",
   "execution_count": 15,
   "metadata": {},
   "outputs": [],
   "source": [
    "df['gt'] = compute_graph_statistics(_A_obs).values()"
   ]
  },
  {
   "cell_type": "code",
   "execution_count": 16,
   "metadata": {},
   "outputs": [
    {
     "output_type": "execute_result",
     "data": {
      "text/plain": [
       "                                cell           svd       cell+fc            gt\n",
       "d_max                   1.912000e+02  2.204000e+02  1.616000e+02  2.460000e+02\n",
       "d_min                   1.000000e+00  1.000000e+00  1.000000e+00  1.000000e+00\n",
       "d                       4.827758e+00  4.827758e+00  4.827758e+00  5.680427e+00\n",
       "LCC                     2.806800e+03  2.809600e+03  2.798000e+03  2.810000e+03\n",
       "wedge_count             7.952420e+04  9.113720e+04  8.574200e+04  1.377190e+05\n",
       "claw_count              1.644038e+06  2.398984e+06  1.477212e+06  3.930163e+06\n",
       "triangle_count          1.281200e+03  1.357200e+03  2.152600e+03  5.247000e+03\n",
       "square_count            6.210000e+03  6.090000e+03  1.515660e+04  3.450700e+04\n",
       "power_law_exp           1.813757e+00  1.836949e+00  1.860847e+00  1.767268e+00\n",
       "gini                    4.446095e-01  4.649044e-01  4.866000e-01  4.964733e-01\n",
       "rel_edge_distr_entropy  9.514825e-01  9.460488e-01  9.426213e-01  9.385288e-01\n",
       "assortativity          -7.208187e-02 -9.132572e-02 -6.286025e-02 -7.659231e-02\n",
       "clustering_coefficient  4.835166e-02  4.469980e-02  7.528222e-02  1.142980e-01\n",
       "cpl                     5.213514e+00  5.017816e+00  5.638961e+00  5.271418e+00"
      ],
      "text/html": "<div>\n<style scoped>\n    .dataframe tbody tr th:only-of-type {\n        vertical-align: middle;\n    }\n\n    .dataframe tbody tr th {\n        vertical-align: top;\n    }\n\n    .dataframe thead th {\n        text-align: right;\n    }\n</style>\n<table border=\"1\" class=\"dataframe\">\n  <thead>\n    <tr style=\"text-align: right;\">\n      <th></th>\n      <th>cell</th>\n      <th>svd</th>\n      <th>cell+fc</th>\n      <th>gt</th>\n    </tr>\n  </thead>\n  <tbody>\n    <tr>\n      <th>d_max</th>\n      <td>1.912000e+02</td>\n      <td>2.204000e+02</td>\n      <td>1.616000e+02</td>\n      <td>2.460000e+02</td>\n    </tr>\n    <tr>\n      <th>d_min</th>\n      <td>1.000000e+00</td>\n      <td>1.000000e+00</td>\n      <td>1.000000e+00</td>\n      <td>1.000000e+00</td>\n    </tr>\n    <tr>\n      <th>d</th>\n      <td>4.827758e+00</td>\n      <td>4.827758e+00</td>\n      <td>4.827758e+00</td>\n      <td>5.680427e+00</td>\n    </tr>\n    <tr>\n      <th>LCC</th>\n      <td>2.806800e+03</td>\n      <td>2.809600e+03</td>\n      <td>2.798000e+03</td>\n      <td>2.810000e+03</td>\n    </tr>\n    <tr>\n      <th>wedge_count</th>\n      <td>7.952420e+04</td>\n      <td>9.113720e+04</td>\n      <td>8.574200e+04</td>\n      <td>1.377190e+05</td>\n    </tr>\n    <tr>\n      <th>claw_count</th>\n      <td>1.644038e+06</td>\n      <td>2.398984e+06</td>\n      <td>1.477212e+06</td>\n      <td>3.930163e+06</td>\n    </tr>\n    <tr>\n      <th>triangle_count</th>\n      <td>1.281200e+03</td>\n      <td>1.357200e+03</td>\n      <td>2.152600e+03</td>\n      <td>5.247000e+03</td>\n    </tr>\n    <tr>\n      <th>square_count</th>\n      <td>6.210000e+03</td>\n      <td>6.090000e+03</td>\n      <td>1.515660e+04</td>\n      <td>3.450700e+04</td>\n    </tr>\n    <tr>\n      <th>power_law_exp</th>\n      <td>1.813757e+00</td>\n      <td>1.836949e+00</td>\n      <td>1.860847e+00</td>\n      <td>1.767268e+00</td>\n    </tr>\n    <tr>\n      <th>gini</th>\n      <td>4.446095e-01</td>\n      <td>4.649044e-01</td>\n      <td>4.866000e-01</td>\n      <td>4.964733e-01</td>\n    </tr>\n    <tr>\n      <th>rel_edge_distr_entropy</th>\n      <td>9.514825e-01</td>\n      <td>9.460488e-01</td>\n      <td>9.426213e-01</td>\n      <td>9.385288e-01</td>\n    </tr>\n    <tr>\n      <th>assortativity</th>\n      <td>-7.208187e-02</td>\n      <td>-9.132572e-02</td>\n      <td>-6.286025e-02</td>\n      <td>-7.659231e-02</td>\n    </tr>\n    <tr>\n      <th>clustering_coefficient</th>\n      <td>4.835166e-02</td>\n      <td>4.469980e-02</td>\n      <td>7.528222e-02</td>\n      <td>1.142980e-01</td>\n    </tr>\n    <tr>\n      <th>cpl</th>\n      <td>5.213514e+00</td>\n      <td>5.017816e+00</td>\n      <td>5.638961e+00</td>\n      <td>5.271418e+00</td>\n    </tr>\n  </tbody>\n</table>\n</div>"
     },
     "metadata": {},
     "execution_count": 16
    }
   ],
   "source": [
    "df"
   ]
  },
  {
   "source": [
    "### Link Prediction Criterion"
   ],
   "cell_type": "markdown",
   "metadata": {}
  },
  {
   "source": [
    "#### CELL"
   ],
   "cell_type": "markdown",
   "metadata": {}
  },
  {
   "cell_type": "code",
   "execution_count": 17,
   "metadata": {},
   "outputs": [
    {
     "output_type": "stream",
     "name": "stdout",
     "text": [
      "Step:   2/300 Loss: 7.92768 ROC-AUC Score: 0.587 Average Precision: 0.595 Total-Time: 0\n",
      "Step:   4/300 Loss: 7.72621 ROC-AUC Score: 0.674 Average Precision: 0.689 Total-Time: 1\n",
      "Step:   6/300 Loss: 7.31004 ROC-AUC Score: 0.718 Average Precision: 0.742 Total-Time: 1\n",
      "Step:   8/300 Loss: 6.70622 ROC-AUC Score: 0.758 Average Precision: 0.787 Total-Time: 2\n",
      "Step:  10/300 Loss: 6.03905 ROC-AUC Score: 0.798 Average Precision: 0.824 Total-Time: 3\n",
      "Step:  12/300 Loss: 5.45211 ROC-AUC Score: 0.835 Average Precision: 0.857 Total-Time: 4\n",
      "Step:  14/300 Loss: 5.00860 ROC-AUC Score: 0.864 Average Precision: 0.885 Total-Time: 4\n",
      "Step:  16/300 Loss: 4.65858 ROC-AUC Score: 0.881 Average Precision: 0.901 Total-Time: 5\n",
      "Step:  18/300 Loss: 4.36250 ROC-AUC Score: 0.891 Average Precision: 0.908 Total-Time: 6\n",
      "Step:  20/300 Loss: 4.11594 ROC-AUC Score: 0.899 Average Precision: 0.913 Total-Time: 6\n",
      "Step:  22/300 Loss: 3.90864 ROC-AUC Score: 0.907 Average Precision: 0.920 Total-Time: 7\n",
      "Step:  24/300 Loss: 3.73069 ROC-AUC Score: 0.914 Average Precision: 0.926 Total-Time: 7\n",
      "Step:  26/300 Loss: 3.57902 ROC-AUC Score: 0.919 Average Precision: 0.930 Total-Time: 8\n",
      "Step:  28/300 Loss: 3.44712 ROC-AUC Score: 0.924 Average Precision: 0.933 Total-Time: 9\n",
      "Step:  30/300 Loss: 3.33497 ROC-AUC Score: 0.927 Average Precision: 0.936 Total-Time: 9\n",
      "Step:  32/300 Loss: 3.23868 ROC-AUC Score: 0.930 Average Precision: 0.938 Total-Time: 10\n",
      "Step:  34/300 Loss: 3.15654 ROC-AUC Score: 0.932 Average Precision: 0.939 Total-Time: 11\n",
      "Step:  36/300 Loss: 3.08413 ROC-AUC Score: 0.934 Average Precision: 0.941 Total-Time: 11\n",
      "Step:  38/300 Loss: 3.02207 ROC-AUC Score: 0.934 Average Precision: 0.941 Total-Time: 12\n",
      "Step:  40/300 Loss: 2.96725 ROC-AUC Score: 0.934 Average Precision: 0.941 Total-Time: 12\n",
      "Step:  42/300 Loss: 2.91941 ROC-AUC Score: 0.934 Average Precision: 0.940 Total-Time: 13\n",
      "Step:  44/300 Loss: 2.87684 ROC-AUC Score: 0.934 Average Precision: 0.939 Total-Time: 14\n",
      "Step:  46/300 Loss: 2.83945 ROC-AUC Score: 0.934 Average Precision: 0.938 Total-Time: 14\n"
     ]
    }
   ],
   "source": [
    "# initialize model with LP-criterion\n",
    "#\n",
    "model = Cell(A=train_graph,\n",
    "             g_type='cell',\n",
    "             H=9,\n",
    "             callbacks=[LinkPredictionCriterion(invoke_every=2,\n",
    "                                                val_ones=val_ones,\n",
    "                                            val_zeros=val_zeros,\n",
    "                                                max_patience=3)])\n",
    "\n",
    "# train model \n",
    "model.train(steps=300,\n",
    "            optimizer_fn=torch.optim.Adam,\n",
    "            optimizer_args={'lr': 0.1,\n",
    "                            'weight_decay': 1e-6})"
   ]
  },
  {
   "cell_type": "code",
   "execution_count": 18,
   "metadata": {},
   "outputs": [
    {
     "output_type": "execute_result",
     "data": {
      "text/plain": [
       "(0.9428728965023551, 0.9479145240090565)"
      ]
     },
     "metadata": {},
     "execution_count": 18
    }
   ],
   "source": [
    "# roc-auc, avg-precision\n",
    "\n",
    "link_prediction_performance(scores_matrix=model._scores_matrix, val_ones=test_ones, val_zeros=test_zeros)"
   ]
  },
  {
   "source": [
    "#### SVD"
   ],
   "cell_type": "markdown",
   "metadata": {}
  },
  {
   "cell_type": "code",
   "execution_count": 38,
   "metadata": {},
   "outputs": [
    {
     "output_type": "stream",
     "name": "stdout",
     "text": [
      "Step:   2/300 Loss: 7.94378 ROC-AUC Score: 0.476 Average Precision: 0.487 Total-Time: 0\n",
      "Step:   4/300 Loss: 7.94337 ROC-AUC Score: 0.487 Average Precision: 0.486 Total-Time: 1\n",
      "Step:   6/300 Loss: 7.94088 ROC-AUC Score: 0.550 Average Precision: 0.646 Total-Time: 1\n",
      "Step:   8/300 Loss: 7.93964 ROC-AUC Score: 0.693 Average Precision: 0.764 Total-Time: 2\n",
      "Step:  10/300 Loss: 7.92941 ROC-AUC Score: 0.808 Average Precision: 0.850 Total-Time: 3\n",
      "Step:  12/300 Loss: 7.89748 ROC-AUC Score: 0.854 Average Precision: 0.887 Total-Time: 3\n",
      "Step:  14/300 Loss: 7.82813 ROC-AUC Score: 0.865 Average Precision: 0.893 Total-Time: 4\n",
      "Step:  16/300 Loss: 7.69850 ROC-AUC Score: 0.872 Average Precision: 0.897 Total-Time: 4\n",
      "Step:  18/300 Loss: 7.52787 ROC-AUC Score: 0.879 Average Precision: 0.901 Total-Time: 5\n",
      "Step:  20/300 Loss: 7.36237 ROC-AUC Score: 0.895 Average Precision: 0.914 Total-Time: 6\n",
      "Step:  22/300 Loss: 7.13812 ROC-AUC Score: 0.914 Average Precision: 0.928 Total-Time: 6\n",
      "Step:  24/300 Loss: 6.86460 ROC-AUC Score: 0.924 Average Precision: 0.936 Total-Time: 7\n",
      "Step:  26/300 Loss: 6.59521 ROC-AUC Score: 0.932 Average Precision: 0.942 Total-Time: 8\n",
      "Step:  28/300 Loss: 6.34286 ROC-AUC Score: 0.939 Average Precision: 0.947 Total-Time: 8\n",
      "Step:  30/300 Loss: 6.09966 ROC-AUC Score: 0.945 Average Precision: 0.951 Total-Time: 9\n",
      "Step:  32/300 Loss: 5.86719 ROC-AUC Score: 0.949 Average Precision: 0.955 Total-Time: 10\n",
      "Step:  34/300 Loss: 5.64651 ROC-AUC Score: 0.953 Average Precision: 0.959 Total-Time: 10\n",
      "Step:  36/300 Loss: 5.44084 ROC-AUC Score: 0.955 Average Precision: 0.960 Total-Time: 11\n",
      "Step:  38/300 Loss: 5.24722 ROC-AUC Score: 0.956 Average Precision: 0.960 Total-Time: 11\n",
      "Step:  40/300 Loss: 5.06823 ROC-AUC Score: 0.954 Average Precision: 0.961 Total-Time: 12\n",
      "Step:  42/300 Loss: 4.89919 ROC-AUC Score: 0.957 Average Precision: 0.964 Total-Time: 13\n",
      "Step:  44/300 Loss: 4.74180 ROC-AUC Score: 0.961 Average Precision: 0.968 Total-Time: 13\n",
      "Step:  46/300 Loss: 4.59247 ROC-AUC Score: 0.957 Average Precision: 0.964 Total-Time: 14\n",
      "Step:  48/300 Loss: 4.45254 ROC-AUC Score: 0.958 Average Precision: 0.965 Total-Time: 15\n",
      "Step:  50/300 Loss: 4.32699 ROC-AUC Score: 0.956 Average Precision: 0.963 Total-Time: 15\n",
      "Step:  52/300 Loss: 4.21185 ROC-AUC Score: 0.954 Average Precision: 0.962 Total-Time: 16\n"
     ]
    }
   ],
   "source": [
    "# initialize model with LP-criterion\n",
    "#\n",
    "model = Cell(A=train_graph,\n",
    "             g_type='svd',\n",
    "             H=9,\n",
    "             callbacks=[LinkPredictionCriterion(invoke_every=2,\n",
    "                                                val_ones=val_ones,\n",
    "                                            val_zeros=val_zeros,\n",
    "                                                max_patience=3)])\n",
    "\n",
    "# train model \n",
    "model.train(steps=300,\n",
    "            optimizer_fn=torch.optim.Adam,\n",
    "            optimizer_args={'lr': 0.1,\n",
    "                            'weight_decay': 1e-6})"
   ]
  },
  {
   "cell_type": "code",
   "execution_count": 39,
   "metadata": {},
   "outputs": [
    {
     "output_type": "execute_result",
     "data": {
      "text/plain": [
       "(0.9509790868122073, 0.9587202585165912)"
      ]
     },
     "metadata": {},
     "execution_count": 39
    }
   ],
   "source": [
    "# roc-auc, avg-precision\n",
    "\n",
    "link_prediction_performance(scores_matrix=model._scores_matrix, val_ones=test_ones, val_zeros=test_zeros)"
   ]
  },
  {
   "source": [
    "#### our CELL"
   ],
   "cell_type": "markdown",
   "metadata": {}
  },
  {
   "cell_type": "code",
   "execution_count": 40,
   "metadata": {},
   "outputs": [
    {
     "output_type": "stream",
     "name": "stdout",
     "text": [
      "Step:   2/300 Loss: 7.79555 ROC-AUC Score: 0.789 Average Precision: 0.818 Total-Time: 0\n",
      "Step:   4/300 Loss: 7.50968 ROC-AUC Score: 0.777 Average Precision: 0.777 Total-Time: 1\n",
      "Step:   6/300 Loss: 7.67894 ROC-AUC Score: 0.777 Average Precision: 0.782 Total-Time: 2\n",
      "Step:   8/300 Loss: 7.41607 ROC-AUC Score: 0.816 Average Precision: 0.821 Total-Time: 2\n",
      "Step:  10/300 Loss: 7.31942 ROC-AUC Score: 0.841 Average Precision: 0.858 Total-Time: 3\n",
      "Step:  12/300 Loss: 7.21433 ROC-AUC Score: 0.846 Average Precision: 0.864 Total-Time: 4\n",
      "Step:  14/300 Loss: 7.11461 ROC-AUC Score: 0.849 Average Precision: 0.866 Total-Time: 4\n",
      "Step:  16/300 Loss: 7.00587 ROC-AUC Score: 0.858 Average Precision: 0.874 Total-Time: 5\n",
      "Step:  18/300 Loss: 6.84312 ROC-AUC Score: 0.858 Average Precision: 0.869 Total-Time: 6\n",
      "Step:  20/300 Loss: 6.71668 ROC-AUC Score: 0.876 Average Precision: 0.889 Total-Time: 6\n",
      "Step:  22/300 Loss: 6.49325 ROC-AUC Score: 0.890 Average Precision: 0.904 Total-Time: 7\n",
      "Step:  24/300 Loss: 6.30148 ROC-AUC Score: 0.895 Average Precision: 0.906 Total-Time: 8\n",
      "Step:  26/300 Loss: 6.14845 ROC-AUC Score: 0.903 Average Precision: 0.913 Total-Time: 9\n",
      "Step:  28/300 Loss: 5.93585 ROC-AUC Score: 0.913 Average Precision: 0.922 Total-Time: 10\n",
      "Step:  30/300 Loss: 5.74914 ROC-AUC Score: 0.914 Average Precision: 0.924 Total-Time: 11\n",
      "Step:  32/300 Loss: 5.59647 ROC-AUC Score: 0.912 Average Precision: 0.916 Total-Time: 11\n",
      "Step:  34/300 Loss: 5.70794 ROC-AUC Score: 0.919 Average Precision: 0.926 Total-Time: 12\n",
      "Step:  36/300 Loss: 5.37610 ROC-AUC Score: 0.920 Average Precision: 0.923 Total-Time: 13\n",
      "Step:  38/300 Loss: 5.12196 ROC-AUC Score: 0.931 Average Precision: 0.934 Total-Time: 14\n",
      "Step:  40/300 Loss: 4.96141 ROC-AUC Score: 0.929 Average Precision: 0.930 Total-Time: 14\n",
      "Step:  42/300 Loss: 4.78812 ROC-AUC Score: 0.934 Average Precision: 0.934 Total-Time: 15\n",
      "Step:  44/300 Loss: 4.54219 ROC-AUC Score: 0.943 Average Precision: 0.947 Total-Time: 16\n",
      "Step:  46/300 Loss: 4.34300 ROC-AUC Score: 0.949 Average Precision: 0.953 Total-Time: 16\n",
      "Step:  48/300 Loss: 4.18978 ROC-AUC Score: 0.946 Average Precision: 0.948 Total-Time: 17\n",
      "Step:  50/300 Loss: 4.58337 ROC-AUC Score: 0.949 Average Precision: 0.948 Total-Time: 18\n",
      "Step:  52/300 Loss: 4.17132 ROC-AUC Score: 0.951 Average Precision: 0.956 Total-Time: 19\n",
      "Step:  54/300 Loss: 4.02590 ROC-AUC Score: 0.957 Average Precision: 0.959 Total-Time: 19\n",
      "Step:  56/300 Loss: 3.90769 ROC-AUC Score: 0.960 Average Precision: 0.966 Total-Time: 20\n",
      "Step:  58/300 Loss: 3.78922 ROC-AUC Score: 0.960 Average Precision: 0.964 Total-Time: 21\n",
      "Step:  60/300 Loss: 3.68258 ROC-AUC Score: 0.960 Average Precision: 0.964 Total-Time: 22\n",
      "Step:  62/300 Loss: 3.58289 ROC-AUC Score: 0.957 Average Precision: 0.961 Total-Time: 23\n",
      "Step:  64/300 Loss: 3.58119 ROC-AUC Score: 0.957 Average Precision: 0.958 Total-Time: 24\n"
     ]
    }
   ],
   "source": [
    "# initialize model with LP-criterion\n",
    "#\n",
    "model = Cell(A=train_graph,\n",
    "             g_type='fc',\n",
    "             H=9,\n",
    "             callbacks=[LinkPredictionCriterion(invoke_every=2,\n",
    "                                                val_ones=val_ones,\n",
    "                                            val_zeros=val_zeros,\n",
    "                                                max_patience=3)])\n",
    "# train model \n",
    "model.train(steps=300,\n",
    "            optimizer_fn=torch.optim.Adam,\n",
    "            optimizer_args={'lr': 0.1,\n",
    "                            'weight_decay': 5e-5})"
   ]
  },
  {
   "cell_type": "code",
   "execution_count": 41,
   "metadata": {},
   "outputs": [
    {
     "output_type": "execute_result",
     "data": {
      "text/plain": [
       "(0.9519925564026371, 0.9527348849922528)"
      ]
     },
     "metadata": {},
     "execution_count": 41
    }
   ],
   "source": [
    "# roc-auc, avg-precision\n",
    "\n",
    "link_prediction_performance(scores_matrix=model._scores_matrix, val_ones=test_ones, val_zeros=test_zeros)"
   ]
  },
  {
   "source": [
    "# Citeseer"
   ],
   "cell_type": "markdown",
   "metadata": {}
  },
  {
   "cell_type": "code",
   "execution_count": 88,
   "metadata": {},
   "outputs": [
    {
     "output_type": "stream",
     "name": "stdout",
     "text": [
      "Selecting 1 largest connected components\n"
     ]
    }
   ],
   "source": [
    "_A_obs, _X_obs, _z_obs = utils.load_npz('../data/citeseer.npz')\n",
    "_A_obs = _A_obs + _A_obs.T\n",
    "_A_obs[_A_obs > 1] = 1\n",
    "_A_obs = _A_obs - sp.eye(_A_obs.shape[0], _A_obs.shape[0])\n",
    "_A_obs[_A_obs < 0] = 0\n",
    "lcc = utils.largest_connected_components(_A_obs)\n",
    "_A_obs = _A_obs[lcc,:][:,lcc]\n",
    "_N = _A_obs.shape[0]"
   ]
  },
  {
   "cell_type": "code",
   "execution_count": 89,
   "metadata": {},
   "outputs": [],
   "source": [
    "val_share = 0.05\n",
    "test_share = 0.1\n",
    "seed = 48"
   ]
  },
  {
   "cell_type": "code",
   "execution_count": 90,
   "metadata": {},
   "outputs": [],
   "source": [
    "#there are self loops!\n",
    "\n",
    "train_ones, val_ones, val_zeros, test_ones, test_zeros = utils.train_val_test_split_adjacency(_A_obs, val_share, test_share, seed, undirected=True, connected=True, asserts=False)"
   ]
  },
  {
   "cell_type": "code",
   "execution_count": 91,
   "metadata": {},
   "outputs": [],
   "source": [
    "train_graph = sp.coo_matrix((np.ones(len(train_ones)),(train_ones[:,0], train_ones[:,1]))).tocsr()\n",
    "assert (train_graph.toarray() == train_graph.toarray().T).all()"
   ]
  },
  {
   "source": [
    "#### CELL"
   ],
   "cell_type": "markdown",
   "metadata": {}
  },
  {
   "cell_type": "code",
   "execution_count": 61,
   "metadata": {},
   "outputs": [
    {
     "output_type": "stream",
     "name": "stdout",
     "text": [
      "Step:  10/200 Loss: 5.30129 Edge-Overlap: 0.043 Total-Time: 2\n",
      "Step:  20/200 Loss: 2.98896 Edge-Overlap: 0.348 Total-Time: 5\n",
      "Step:  30/200 Loss: 2.07016 Edge-Overlap: 0.615 Total-Time: 7\n"
     ]
    }
   ],
   "source": [
    "# initialize model with EO-criterion\n",
    "model = Cell(A=train_graph,\n",
    "             H=9,\n",
    "             g_type='cell',\n",
    "             callbacks=[EdgeOverlapCriterion(invoke_every=10, edge_overlap_limit=.5)])\n",
    "\n",
    "# train model \n",
    "model.train(steps=200,\n",
    "            optimizer_fn=torch.optim.Adam,\n",
    "            optimizer_args={'lr': 0.1,\n",
    "                            'weight_decay': 1e-7})"
   ]
  },
  {
   "cell_type": "code",
   "execution_count": 62,
   "metadata": {},
   "outputs": [
    {
     "output_type": "execute_result",
     "data": {
      "text/plain": [
       "(0.8708131498109641, 0.8990004026174934)"
      ]
     },
     "metadata": {},
     "execution_count": 62
    }
   ],
   "source": [
    "# roc-auc, avg-precision\n",
    "\n",
    "link_prediction_performance(scores_matrix=model._scores_matrix, val_ones=test_ones, val_zeros=test_zeros)"
   ]
  },
  {
   "cell_type": "code",
   "execution_count": 63,
   "metadata": {},
   "outputs": [],
   "source": [
    "generated_graphs = [model.sample_graph() for _ in range(5)]\n",
    "stats = [compute_graph_statistics(gg) for gg in generated_graphs]\n",
    "stat_df = pd.DataFrame({k: [s[k] for s in stats] for k in stats[0].keys()})\n",
    "\n",
    "df = pd.DataFrame(stat_df.mean(), columns=['cell'])"
   ]
  },
  {
   "source": [
    "#### SVD"
   ],
   "cell_type": "markdown",
   "metadata": {}
  },
  {
   "cell_type": "code",
   "execution_count": 64,
   "metadata": {},
   "outputs": [
    {
     "output_type": "stream",
     "name": "stdout",
     "text": [
      "Step:  10/400 Loss: 7.64390 Edge-Overlap: 0.003 Total-Time: 2\n",
      "Step:  20/400 Loss: 7.04854 Edge-Overlap: 0.031 Total-Time: 5\n",
      "Step:  30/400 Loss: 5.32554 Edge-Overlap: 0.126 Total-Time: 8\n",
      "Step:  40/400 Loss: 3.61633 Edge-Overlap: 0.314 Total-Time: 11\n",
      "Step:  50/400 Loss: 2.70742 Edge-Overlap: 0.526 Total-Time: 14\n"
     ]
    }
   ],
   "source": [
    "# initialize model with EO-criterion\n",
    "model = Cell(A=train_graph,\n",
    "             H=9,\n",
    "             g_type='svd',\n",
    "             callbacks=[EdgeOverlapCriterion(invoke_every=10, edge_overlap_limit=.5)])\n",
    "\n",
    "# train model \n",
    "model.train(steps=400,\n",
    "            optimizer_fn=torch.optim.Adam,\n",
    "            optimizer_args={'lr': 0.1,\n",
    "                            'weight_decay': 1e-7})"
   ]
  },
  {
   "cell_type": "code",
   "execution_count": 65,
   "metadata": {},
   "outputs": [
    {
     "output_type": "execute_result",
     "data": {
      "text/plain": [
       "(0.9079631379962193, 0.9267156559447554)"
      ]
     },
     "metadata": {},
     "execution_count": 65
    }
   ],
   "source": [
    "# roc-auc, avg-precision\n",
    "\n",
    "link_prediction_performance(scores_matrix=model._scores_matrix, val_ones=test_ones, val_zeros=test_zeros)"
   ]
  },
  {
   "cell_type": "code",
   "execution_count": 66,
   "metadata": {},
   "outputs": [],
   "source": [
    "generated_graphs = [model.sample_graph() for _ in range(5)]\n",
    "stats = [compute_graph_statistics(gg) for gg in generated_graphs]\n",
    "stat_df = pd.DataFrame({k: [s[k] for s in stats] for k in stats[0].keys()})\n",
    "\n",
    "df['svd'] = stat_df.mean().T"
   ]
  },
  {
   "source": [
    "#### our CELL"
   ],
   "cell_type": "markdown",
   "metadata": {}
  },
  {
   "cell_type": "code",
   "execution_count": 67,
   "metadata": {},
   "outputs": [
    {
     "output_type": "stream",
     "name": "stdout",
     "text": [
      "Step:  10/200 Loss: 5.95888 Edge-Overlap: 0.036 Total-Time: 2\n",
      "Step:  20/200 Loss: 3.62476 Edge-Overlap: 0.271 Total-Time: 5\n",
      "Step:  30/200 Loss: 2.38713 Edge-Overlap: 0.583 Total-Time: 8\n"
     ]
    }
   ],
   "source": [
    "# initialize model with EO-criterion\n",
    "model = Cell(A=train_graph,\n",
    "             H=9,\n",
    "             g_type='fc',\n",
    "             callbacks=[EdgeOverlapCriterion(invoke_every=10, edge_overlap_limit=.5)])\n",
    "\n",
    "# train model \n",
    "model.train(steps=200,\n",
    "            optimizer_fn=torch.optim.Adam,\n",
    "            optimizer_args={'lr': 0.05,\n",
    "                            'weight_decay': 1e-5})"
   ]
  },
  {
   "cell_type": "code",
   "execution_count": 68,
   "metadata": {},
   "outputs": [
    {
     "output_type": "execute_result",
     "data": {
      "text/plain": [
       "(0.8821109995274101, 0.9077585519655101)"
      ]
     },
     "metadata": {},
     "execution_count": 68
    }
   ],
   "source": [
    "# roc-auc, avg-precision\n",
    "\n",
    "link_prediction_performance(scores_matrix=model._scores_matrix, val_ones=test_ones, val_zeros=test_zeros)"
   ]
  },
  {
   "cell_type": "code",
   "execution_count": 69,
   "metadata": {},
   "outputs": [],
   "source": [
    "generated_graphs = [model.sample_graph() for _ in range(5)]\n",
    "stats = [compute_graph_statistics(gg) for gg in generated_graphs]\n",
    "stat_df = pd.DataFrame({k: [s[k] for s in stats] for k in stats[0].keys()})\n",
    "\n",
    "df['cell+fc'] = stat_df.mean().T"
   ]
  },
  {
   "source": [
    "#### Results"
   ],
   "cell_type": "markdown",
   "metadata": {}
  },
  {
   "cell_type": "code",
   "execution_count": 70,
   "metadata": {},
   "outputs": [],
   "source": [
    "df['gt'] = compute_graph_statistics(_A_obs).values()"
   ]
  },
  {
   "cell_type": "code",
   "execution_count": 71,
   "metadata": {},
   "outputs": [
    {
     "output_type": "execute_result",
     "data": {
      "text/plain": [
       "                                cell           svd        cell+fc  \\\n",
       "d_max                      54.200000     41.400000      83.600000   \n",
       "d_min                       1.000000      1.000000       1.000000   \n",
       "d                           2.954502      2.954502       2.954502   \n",
       "LCC                      2070.400000   2098.600000    2023.800000   \n",
       "wedge_count             13311.800000  12611.200000   18030.000000   \n",
       "claw_count              57036.200000  40100.200000  153219.400000   \n",
       "triangle_count            146.600000    127.000000     221.000000   \n",
       "square_count              373.600000    345.000000    1087.600000   \n",
       "power_law_exp               2.186195      2.180404       2.263491   \n",
       "gini                        0.375974      0.373173       0.416334   \n",
       "rel_edge_distr_entropy      0.966456      0.967472       0.955800   \n",
       "assortativity              -0.076638     -0.074272      -0.022310   \n",
       "clustering_coefficient      0.033012      0.030217       0.036799   \n",
       "cpl                         7.306585      7.461125       7.279040   \n",
       "\n",
       "                                   gt  \n",
       "d_max                       99.000000  \n",
       "d_min                        1.000000  \n",
       "d                            3.476777  \n",
       "LCC                       2110.000000  \n",
       "wedge_count              25943.000000  \n",
       "claw_count              250348.000000  \n",
       "triangle_count            1083.000000  \n",
       "square_count              5977.000000  \n",
       "power_law_exp                2.068238  \n",
       "gini                         0.428260  \n",
       "rel_edge_distr_entropy       0.953867  \n",
       "assortativity                0.060227  \n",
       "clustering_coefficient       0.125236  \n",
       "cpl                          9.310487  "
      ],
      "text/html": "<div>\n<style scoped>\n    .dataframe tbody tr th:only-of-type {\n        vertical-align: middle;\n    }\n\n    .dataframe tbody tr th {\n        vertical-align: top;\n    }\n\n    .dataframe thead th {\n        text-align: right;\n    }\n</style>\n<table border=\"1\" class=\"dataframe\">\n  <thead>\n    <tr style=\"text-align: right;\">\n      <th></th>\n      <th>cell</th>\n      <th>svd</th>\n      <th>cell+fc</th>\n      <th>gt</th>\n    </tr>\n  </thead>\n  <tbody>\n    <tr>\n      <th>d_max</th>\n      <td>54.200000</td>\n      <td>41.400000</td>\n      <td>83.600000</td>\n      <td>99.000000</td>\n    </tr>\n    <tr>\n      <th>d_min</th>\n      <td>1.000000</td>\n      <td>1.000000</td>\n      <td>1.000000</td>\n      <td>1.000000</td>\n    </tr>\n    <tr>\n      <th>d</th>\n      <td>2.954502</td>\n      <td>2.954502</td>\n      <td>2.954502</td>\n      <td>3.476777</td>\n    </tr>\n    <tr>\n      <th>LCC</th>\n      <td>2070.400000</td>\n      <td>2098.600000</td>\n      <td>2023.800000</td>\n      <td>2110.000000</td>\n    </tr>\n    <tr>\n      <th>wedge_count</th>\n      <td>13311.800000</td>\n      <td>12611.200000</td>\n      <td>18030.000000</td>\n      <td>25943.000000</td>\n    </tr>\n    <tr>\n      <th>claw_count</th>\n      <td>57036.200000</td>\n      <td>40100.200000</td>\n      <td>153219.400000</td>\n      <td>250348.000000</td>\n    </tr>\n    <tr>\n      <th>triangle_count</th>\n      <td>146.600000</td>\n      <td>127.000000</td>\n      <td>221.000000</td>\n      <td>1083.000000</td>\n    </tr>\n    <tr>\n      <th>square_count</th>\n      <td>373.600000</td>\n      <td>345.000000</td>\n      <td>1087.600000</td>\n      <td>5977.000000</td>\n    </tr>\n    <tr>\n      <th>power_law_exp</th>\n      <td>2.186195</td>\n      <td>2.180404</td>\n      <td>2.263491</td>\n      <td>2.068238</td>\n    </tr>\n    <tr>\n      <th>gini</th>\n      <td>0.375974</td>\n      <td>0.373173</td>\n      <td>0.416334</td>\n      <td>0.428260</td>\n    </tr>\n    <tr>\n      <th>rel_edge_distr_entropy</th>\n      <td>0.966456</td>\n      <td>0.967472</td>\n      <td>0.955800</td>\n      <td>0.953867</td>\n    </tr>\n    <tr>\n      <th>assortativity</th>\n      <td>-0.076638</td>\n      <td>-0.074272</td>\n      <td>-0.022310</td>\n      <td>0.060227</td>\n    </tr>\n    <tr>\n      <th>clustering_coefficient</th>\n      <td>0.033012</td>\n      <td>0.030217</td>\n      <td>0.036799</td>\n      <td>0.125236</td>\n    </tr>\n    <tr>\n      <th>cpl</th>\n      <td>7.306585</td>\n      <td>7.461125</td>\n      <td>7.279040</td>\n      <td>9.310487</td>\n    </tr>\n  </tbody>\n</table>\n</div>"
     },
     "metadata": {},
     "execution_count": 71
    }
   ],
   "source": [
    "df"
   ]
  },
  {
   "source": [],
   "cell_type": "markdown",
   "metadata": {}
  },
  {
   "cell_type": "code",
   "execution_count": null,
   "metadata": {},
   "outputs": [],
   "source": []
  },
  {
   "cell_type": "code",
   "execution_count": 72,
   "metadata": {},
   "outputs": [
    {
     "output_type": "stream",
     "name": "stdout",
     "text": [
      "Step:   2/200 Loss: 7.63092 ROC-AUC Score: 0.633 Average Precision: 0.629 Total-Time: 0\n",
      "Step:   4/200 Loss: 7.36735 ROC-AUC Score: 0.700 Average Precision: 0.711 Total-Time: 1\n",
      "Step:   6/200 Loss: 6.84293 ROC-AUC Score: 0.724 Average Precision: 0.742 Total-Time: 1\n",
      "Step:   8/200 Loss: 6.09010 ROC-AUC Score: 0.731 Average Precision: 0.750 Total-Time: 1\n",
      "Step:  10/200 Loss: 5.26915 ROC-AUC Score: 0.753 Average Precision: 0.774 Total-Time: 2\n",
      "Step:  12/200 Loss: 4.53589 ROC-AUC Score: 0.788 Average Precision: 0.807 Total-Time: 3\n",
      "Step:  14/200 Loss: 3.98187 ROC-AUC Score: 0.815 Average Precision: 0.834 Total-Time: 3\n",
      "Step:  16/200 Loss: 3.57328 ROC-AUC Score: 0.832 Average Precision: 0.850 Total-Time: 4\n",
      "Step:  18/200 Loss: 3.22611 ROC-AUC Score: 0.840 Average Precision: 0.856 Total-Time: 4\n",
      "Step:  20/200 Loss: 2.93088 ROC-AUC Score: 0.850 Average Precision: 0.864 Total-Time: 4\n",
      "Step:  22/200 Loss: 2.68452 ROC-AUC Score: 0.861 Average Precision: 0.875 Total-Time: 5\n",
      "Step:  24/200 Loss: 2.47382 ROC-AUC Score: 0.869 Average Precision: 0.883 Total-Time: 6\n",
      "Step:  26/200 Loss: 2.29691 ROC-AUC Score: 0.875 Average Precision: 0.889 Total-Time: 6\n",
      "Step:  28/200 Loss: 2.15477 ROC-AUC Score: 0.878 Average Precision: 0.892 Total-Time: 6\n",
      "Step:  30/200 Loss: 2.03743 ROC-AUC Score: 0.881 Average Precision: 0.895 Total-Time: 7\n",
      "Step:  32/200 Loss: 1.94330 ROC-AUC Score: 0.882 Average Precision: 0.896 Total-Time: 7\n",
      "Step:  34/200 Loss: 1.86593 ROC-AUC Score: 0.883 Average Precision: 0.897 Total-Time: 8\n",
      "Step:  36/200 Loss: 1.80241 ROC-AUC Score: 0.884 Average Precision: 0.899 Total-Time: 8\n",
      "Step:  38/200 Loss: 1.74931 ROC-AUC Score: 0.884 Average Precision: 0.900 Total-Time: 8\n",
      "Step:  40/200 Loss: 1.70635 ROC-AUC Score: 0.883 Average Precision: 0.898 Total-Time: 9\n",
      "Step:  42/200 Loss: 1.67082 ROC-AUC Score: 0.882 Average Precision: 0.898 Total-Time: 9\n",
      "Step:  44/200 Loss: 1.64083 ROC-AUC Score: 0.881 Average Precision: 0.899 Total-Time: 10\n",
      "Step:  46/200 Loss: 1.61593 ROC-AUC Score: 0.881 Average Precision: 0.899 Total-Time: 10\n",
      "Step:  48/200 Loss: 1.59465 ROC-AUC Score: 0.881 Average Precision: 0.900 Total-Time: 11\n",
      "Step:  50/200 Loss: 1.57640 ROC-AUC Score: 0.881 Average Precision: 0.900 Total-Time: 11\n"
     ]
    }
   ],
   "source": [
    "# initialize model with LP-criterion\n",
    "#\n",
    "model = Cell(A=train_graph,\n",
    "             H=9,\n",
    "             g_type='cell',\n",
    "             callbacks=[LinkPredictionCriterion(invoke_every=2,\n",
    "                                                val_ones=val_ones,\n",
    "                                            val_zeros=val_zeros,\n",
    "                                                max_patience=5)])\n",
    "\n",
    "# train model \n",
    "model.train(steps=200,\n",
    "            optimizer_fn=torch.optim.Adam,\n",
    "            optimizer_args={'lr': 0.1,\n",
    "                            'weight_decay': 1e-6})"
   ]
  },
  {
   "cell_type": "code",
   "execution_count": 73,
   "metadata": {},
   "outputs": [
    {
     "output_type": "execute_result",
     "data": {
      "text/plain": [
       "(0.8834106214555764, 0.9093101891993639)"
      ]
     },
     "metadata": {},
     "execution_count": 73
    }
   ],
   "source": [
    "# roc-auc, avg-precision\n",
    "\n",
    "link_prediction_performance(scores_matrix=model._scores_matrix, val_ones=test_ones, val_zeros=test_zeros)"
   ]
  },
  {
   "cell_type": "code",
   "execution_count": null,
   "metadata": {},
   "outputs": [],
   "source": []
  },
  {
   "cell_type": "code",
   "execution_count": 74,
   "metadata": {},
   "outputs": [
    {
     "output_type": "stream",
     "name": "stdout",
     "text": [
      "Step:   2/200 Loss: 7.65593 ROC-AUC Score: 0.561 Average Precision: 0.549 Total-Time: 0\n",
      "Step:   4/200 Loss: 7.65572 ROC-AUC Score: 0.525 Average Precision: 0.525 Total-Time: 0\n",
      "Step:   6/200 Loss: 7.65409 ROC-AUC Score: 0.580 Average Precision: 0.652 Total-Time: 1\n",
      "Step:   8/200 Loss: 7.65061 ROC-AUC Score: 0.678 Average Precision: 0.742 Total-Time: 1\n",
      "Step:  10/200 Loss: 7.63631 ROC-AUC Score: 0.774 Average Precision: 0.817 Total-Time: 2\n",
      "Step:  12/200 Loss: 7.59732 ROC-AUC Score: 0.814 Average Precision: 0.846 Total-Time: 2\n",
      "Step:  14/200 Loss: 7.51184 ROC-AUC Score: 0.846 Average Precision: 0.865 Total-Time: 2\n",
      "Step:  16/200 Loss: 7.35162 ROC-AUC Score: 0.858 Average Precision: 0.875 Total-Time: 3\n",
      "Step:  18/200 Loss: 7.13328 ROC-AUC Score: 0.880 Average Precision: 0.893 Total-Time: 3\n",
      "Step:  20/200 Loss: 6.92330 ROC-AUC Score: 0.892 Average Precision: 0.905 Total-Time: 4\n",
      "Step:  22/200 Loss: 6.66717 ROC-AUC Score: 0.900 Average Precision: 0.912 Total-Time: 4\n",
      "Step:  24/200 Loss: 6.34331 ROC-AUC Score: 0.914 Average Precision: 0.923 Total-Time: 4\n",
      "Step:  26/200 Loss: 6.00668 ROC-AUC Score: 0.920 Average Precision: 0.931 Total-Time: 5\n",
      "Step:  28/200 Loss: 5.66211 ROC-AUC Score: 0.924 Average Precision: 0.935 Total-Time: 5\n",
      "Step:  30/200 Loss: 5.31055 ROC-AUC Score: 0.924 Average Precision: 0.936 Total-Time: 6\n",
      "Step:  32/200 Loss: 4.94695 ROC-AUC Score: 0.920 Average Precision: 0.931 Total-Time: 6\n",
      "Step:  34/200 Loss: 4.59170 ROC-AUC Score: 0.919 Average Precision: 0.922 Total-Time: 6\n",
      "Step:  36/200 Loss: 4.25373 ROC-AUC Score: 0.914 Average Precision: 0.919 Total-Time: 7\n",
      "Step:  38/200 Loss: 3.94621 ROC-AUC Score: 0.913 Average Precision: 0.916 Total-Time: 7\n",
      "Step:  40/200 Loss: 3.66225 ROC-AUC Score: 0.918 Average Precision: 0.935 Total-Time: 8\n",
      "Step:  42/200 Loss: 3.41413 ROC-AUC Score: 0.915 Average Precision: 0.932 Total-Time: 8\n"
     ]
    }
   ],
   "source": [
    "# initialize model with LP-criterion\n",
    "#\n",
    "model = Cell(A=train_graph,\n",
    "             H=9,\n",
    "             g_type='svd',\n",
    "             callbacks=[LinkPredictionCriterion(invoke_every=2,\n",
    "                                                val_ones=val_ones,\n",
    "                                            val_zeros=val_zeros,\n",
    "                                                max_patience=5)])\n",
    "\n",
    "# train model \n",
    "model.train(steps=200,\n",
    "            optimizer_fn=torch.optim.Adam,\n",
    "            optimizer_args={'lr': 0.1,\n",
    "                            'weight_decay': 1e-6})"
   ]
  },
  {
   "cell_type": "code",
   "execution_count": 75,
   "metadata": {},
   "outputs": [
    {
     "output_type": "execute_result",
     "data": {
      "text/plain": [
       "(0.9213064154064272, 0.9388324968020753)"
      ]
     },
     "metadata": {},
     "execution_count": 75
    }
   ],
   "source": [
    "# roc-auc, avg-precision\n",
    "\n",
    "link_prediction_performance(scores_matrix=model._scores_matrix, val_ones=test_ones, val_zeros=test_zeros)"
   ]
  },
  {
   "cell_type": "code",
   "execution_count": null,
   "metadata": {},
   "outputs": [],
   "source": []
  },
  {
   "cell_type": "code",
   "execution_count": 92,
   "metadata": {},
   "outputs": [
    {
     "output_type": "stream",
     "name": "stdout",
     "text": [
      "Step:   2/200 Loss: 7.65439 ROC-AUC Score: 0.780 Average Precision: 0.795 Total-Time: 0\n",
      "Step:   4/200 Loss: 7.36029 ROC-AUC Score: 0.815 Average Precision: 0.836 Total-Time: 0\n",
      "Step:   6/200 Loss: 7.10053 ROC-AUC Score: 0.815 Average Precision: 0.841 Total-Time: 1\n",
      "Step:   8/200 Loss: 6.99184 ROC-AUC Score: 0.807 Average Precision: 0.838 Total-Time: 1\n",
      "Step:  10/200 Loss: 7.10693 ROC-AUC Score: 0.816 Average Precision: 0.844 Total-Time: 2\n",
      "Step:  12/200 Loss: 6.86898 ROC-AUC Score: 0.814 Average Precision: 0.841 Total-Time: 2\n",
      "Step:  14/200 Loss: 6.61680 ROC-AUC Score: 0.805 Average Precision: 0.837 Total-Time: 3\n",
      "Step:  16/200 Loss: 6.33157 ROC-AUC Score: 0.814 Average Precision: 0.846 Total-Time: 3\n",
      "Step:  18/200 Loss: 5.93422 ROC-AUC Score: 0.810 Average Precision: 0.846 Total-Time: 4\n",
      "Step:  20/200 Loss: 5.55091 ROC-AUC Score: 0.789 Average Precision: 0.815 Total-Time: 4\n",
      "Step:  22/200 Loss: 5.68030 ROC-AUC Score: 0.835 Average Precision: 0.853 Total-Time: 5\n",
      "Step:  24/200 Loss: 5.16519 ROC-AUC Score: 0.855 Average Precision: 0.878 Total-Time: 5\n",
      "Step:  26/200 Loss: 4.84450 ROC-AUC Score: 0.856 Average Precision: 0.878 Total-Time: 5\n",
      "Step:  28/200 Loss: 4.57901 ROC-AUC Score: 0.866 Average Precision: 0.888 Total-Time: 6\n",
      "Step:  30/200 Loss: 4.34739 ROC-AUC Score: 0.878 Average Precision: 0.894 Total-Time: 6\n",
      "Step:  32/200 Loss: 4.16343 ROC-AUC Score: 0.883 Average Precision: 0.898 Total-Time: 7\n",
      "Step:  34/200 Loss: 3.97408 ROC-AUC Score: 0.893 Average Precision: 0.907 Total-Time: 7\n",
      "Step:  36/200 Loss: 3.77043 ROC-AUC Score: 0.905 Average Precision: 0.921 Total-Time: 8\n",
      "Step:  38/200 Loss: 3.62142 ROC-AUC Score: 0.911 Average Precision: 0.924 Total-Time: 8\n",
      "Step:  40/200 Loss: 3.40860 ROC-AUC Score: 0.909 Average Precision: 0.923 Total-Time: 9\n",
      "Step:  42/200 Loss: 3.23487 ROC-AUC Score: 0.903 Average Precision: 0.897 Total-Time: 9\n",
      "Step:  44/200 Loss: 3.31666 ROC-AUC Score: 0.919 Average Precision: 0.929 Total-Time: 9\n",
      "Step:  46/200 Loss: 3.05047 ROC-AUC Score: 0.913 Average Precision: 0.923 Total-Time: 10\n",
      "Step:  48/200 Loss: 2.83477 ROC-AUC Score: 0.911 Average Precision: 0.923 Total-Time: 11\n",
      "Step:  50/200 Loss: 2.67983 ROC-AUC Score: 0.912 Average Precision: 0.925 Total-Time: 11\n",
      "Step:  52/200 Loss: 2.53857 ROC-AUC Score: 0.918 Average Precision: 0.931 Total-Time: 12\n",
      "Step:  54/200 Loss: 2.51815 ROC-AUC Score: 0.904 Average Precision: 0.914 Total-Time: 12\n",
      "Step:  56/200 Loss: 2.42225 ROC-AUC Score: 0.908 Average Precision: 0.917 Total-Time: 13\n",
      "Step:  58/200 Loss: 2.35000 ROC-AUC Score: 0.908 Average Precision: 0.920 Total-Time: 13\n",
      "Step:  60/200 Loss: 2.25581 ROC-AUC Score: 0.903 Average Precision: 0.909 Total-Time: 14\n",
      "Step:  62/200 Loss: 2.25715 ROC-AUC Score: 0.895 Average Precision: 0.887 Total-Time: 15\n",
      "Step:  64/200 Loss: 2.12594 ROC-AUC Score: 0.908 Average Precision: 0.920 Total-Time: 15\n"
     ]
    }
   ],
   "source": [
    "# initialize model with LP-criterion\n",
    "#\n",
    "model = Cell(A=train_graph,\n",
    "             H=9,\n",
    "             g_type='fc',\n",
    "             callbacks=[LinkPredictionCriterion(invoke_every=2,\n",
    "                                                val_ones=val_ones,\n",
    "                                            val_zeros=val_zeros,\n",
    "                                                max_patience=5)])\n",
    "\n",
    "# train model \n",
    "model.train(steps=200,\n",
    "            optimizer_fn=torch.optim.Adam,\n",
    "            optimizer_args={'lr': 0.1,\n",
    "                            'weight_decay': 1e-4})"
   ]
  },
  {
   "cell_type": "code",
   "execution_count": 93,
   "metadata": {},
   "outputs": [
    {
     "output_type": "execute_result",
     "data": {
      "text/plain": [
       "(0.9035178402646502, 0.9137068964808797)"
      ]
     },
     "metadata": {},
     "execution_count": 93
    }
   ],
   "source": [
    "# roc-auc, avg-precision\n",
    "\n",
    "link_prediction_performance(scores_matrix=model._scores_matrix, val_ones=test_ones, val_zeros=test_zeros)"
   ]
  },
  {
   "source": [
    "# Prolblogs"
   ],
   "cell_type": "markdown",
   "metadata": {}
  },
  {
   "cell_type": "code",
   "execution_count": 78,
   "metadata": {},
   "outputs": [
    {
     "output_type": "stream",
     "name": "stdout",
     "text": [
      "Selecting 1 largest connected components\n"
     ]
    }
   ],
   "source": [
    "_A_obs, _X_obs, _z_obs = utils.load_npz('../data/polblogs.npz')\n",
    "_A_obs = _A_obs + _A_obs.T\n",
    "_A_obs[_A_obs > 1] = 1\n",
    "_A_obs = _A_obs - sp.eye(_A_obs.shape[0], _A_obs.shape[0])\n",
    "_A_obs[_A_obs < 0] = 0\n",
    "lcc = utils.largest_connected_components(_A_obs)\n",
    "_A_obs = _A_obs[lcc,:][:,lcc]\n",
    "_N = _A_obs.shape[0]"
   ]
  },
  {
   "cell_type": "code",
   "execution_count": 79,
   "metadata": {},
   "outputs": [],
   "source": [
    "val_share = 0.05\n",
    "test_share = 0.1\n",
    "seed = 48"
   ]
  },
  {
   "cell_type": "code",
   "execution_count": 80,
   "metadata": {},
   "outputs": [],
   "source": [
    "train_ones, val_ones, val_zeros, test_ones, test_zeros = utils.train_val_test_split_adjacency(_A_obs, val_share, test_share, seed, undirected=True, connected=True, asserts=False)"
   ]
  },
  {
   "cell_type": "code",
   "execution_count": 81,
   "metadata": {},
   "outputs": [],
   "source": [
    "train_graph = sp.coo_matrix((np.ones(len(train_ones)),(train_ones[:,0], train_ones[:,1]))).tocsr()\n",
    "assert (train_graph.toarray() == train_graph.toarray().T).all()"
   ]
  },
  {
   "source": [
    "#### CELL"
   ],
   "cell_type": "markdown",
   "metadata": {}
  },
  {
   "cell_type": "code",
   "execution_count": 82,
   "metadata": {},
   "outputs": [
    {
     "output_type": "stream",
     "name": "stdout",
     "text": [
      "Step:  10/200 Loss: 5.89207 Edge-Overlap: 0.277 Total-Time: 1\n",
      "Step:  20/200 Loss: 5.49372 Edge-Overlap: 0.292 Total-Time: 2\n",
      "Step:  30/200 Loss: 5.31090 Edge-Overlap: 0.332 Total-Time: 3\n",
      "Step:  40/200 Loss: 5.21406 Edge-Overlap: 0.349 Total-Time: 5\n",
      "Step:  50/200 Loss: 5.16100 Edge-Overlap: 0.365 Total-Time: 6\n",
      "Step:  60/200 Loss: 5.12919 Edge-Overlap: 0.370 Total-Time: 8\n",
      "Step:  70/200 Loss: 5.10804 Edge-Overlap: 0.378 Total-Time: 9\n",
      "Step:  80/200 Loss: 5.09290 Edge-Overlap: 0.379 Total-Time: 10\n",
      "Step:  90/200 Loss: 5.08140 Edge-Overlap: 0.380 Total-Time: 12\n",
      "Step: 100/200 Loss: 5.07229 Edge-Overlap: 0.380 Total-Time: 13\n",
      "Step: 110/200 Loss: 5.06476 Edge-Overlap: 0.383 Total-Time: 15\n",
      "Step: 120/200 Loss: 5.05836 Edge-Overlap: 0.380 Total-Time: 16\n",
      "Step: 130/200 Loss: 5.05281 Edge-Overlap: 0.379 Total-Time: 18\n",
      "Step: 140/200 Loss: 5.04800 Edge-Overlap: 0.383 Total-Time: 19\n",
      "Step: 150/200 Loss: 5.04366 Edge-Overlap: 0.396 Total-Time: 21\n",
      "Step: 160/200 Loss: 5.03982 Edge-Overlap: 0.392 Total-Time: 22\n",
      "Step: 170/200 Loss: 5.03628 Edge-Overlap: 0.390 Total-Time: 24\n",
      "Step: 180/200 Loss: 5.03305 Edge-Overlap: 0.397 Total-Time: 25\n",
      "Step: 190/200 Loss: 5.03028 Edge-Overlap: 0.389 Total-Time: 27\n",
      "Step: 200/200 Loss: 5.02745 Edge-Overlap: 0.396 Total-Time: 28\n"
     ]
    }
   ],
   "source": [
    "# initialize model with EO-criterion\n",
    "model = Cell(A=train_graph,\n",
    "             H=9,\n",
    "             g_type='cell',\n",
    "             callbacks=[EdgeOverlapCriterion(invoke_every=10, edge_overlap_limit=.5)])\n",
    "\n",
    "# train model \n",
    "model.train(steps=200,\n",
    "            optimizer_fn=torch.optim.Adam,\n",
    "            optimizer_args={'lr': 0.1,\n",
    "                            'weight_decay': 1e-7})"
   ]
  },
  {
   "cell_type": "code",
   "execution_count": 83,
   "metadata": {},
   "outputs": [
    {
     "output_type": "execute_result",
     "data": {
      "text/plain": [
       "(0.9589632320076715, 0.959173802173185)"
      ]
     },
     "metadata": {},
     "execution_count": 83
    }
   ],
   "source": [
    "# roc-auc, avg-precision\n",
    "\n",
    "link_prediction_performance(scores_matrix=model._scores_matrix, val_ones=test_ones, val_zeros=test_zeros)"
   ]
  },
  {
   "source": [
    "#### SVD"
   ],
   "cell_type": "markdown",
   "metadata": {}
  },
  {
   "cell_type": "code",
   "execution_count": 84,
   "metadata": {},
   "outputs": [
    {
     "output_type": "stream",
     "name": "stdout",
     "text": [
      "Step:  10/400 Loss: 7.05591 Edge-Overlap: 0.023 Total-Time: 1\n",
      "Step:  20/400 Loss: 6.23551 Edge-Overlap: 0.177 Total-Time: 3\n",
      "Step:  30/400 Loss: 5.66191 Edge-Overlap: 0.286 Total-Time: 4\n",
      "Step:  40/400 Loss: 5.43132 Edge-Overlap: 0.317 Total-Time: 5\n",
      "Step:  50/400 Loss: 5.32924 Edge-Overlap: 0.339 Total-Time: 7\n",
      "Step:  60/400 Loss: 5.29189 Edge-Overlap: 0.333 Total-Time: 8\n",
      "Step:  70/400 Loss: 5.25464 Edge-Overlap: 0.349 Total-Time: 10\n",
      "Step:  80/400 Loss: 5.25657 Edge-Overlap: 0.343 Total-Time: 11\n",
      "Step:  90/400 Loss: 5.23931 Edge-Overlap: 0.359 Total-Time: 13\n",
      "Step: 100/400 Loss: 5.21296 Edge-Overlap: 0.356 Total-Time: 14\n",
      "Step: 110/400 Loss: 5.22599 Edge-Overlap: 0.364 Total-Time: 16\n",
      "Step: 120/400 Loss: 5.20059 Edge-Overlap: 0.367 Total-Time: 17\n",
      "Step: 130/400 Loss: 5.19669 Edge-Overlap: 0.346 Total-Time: 19\n",
      "Step: 140/400 Loss: 5.21904 Edge-Overlap: 0.359 Total-Time: 20\n",
      "Step: 150/400 Loss: 5.18779 Edge-Overlap: 0.361 Total-Time: 22\n",
      "Step: 160/400 Loss: 5.19212 Edge-Overlap: 0.362 Total-Time: 23\n",
      "Step: 170/400 Loss: 5.18556 Edge-Overlap: 0.364 Total-Time: 25\n",
      "Step: 180/400 Loss: 5.17062 Edge-Overlap: 0.366 Total-Time: 26\n",
      "Step: 190/400 Loss: 5.18765 Edge-Overlap: 0.361 Total-Time: 28\n",
      "Step: 200/400 Loss: 5.17954 Edge-Overlap: 0.361 Total-Time: 29\n",
      "Step: 210/400 Loss: 5.17544 Edge-Overlap: 0.374 Total-Time: 30\n",
      "Step: 220/400 Loss: 5.21886 Edge-Overlap: 0.353 Total-Time: 31\n",
      "Step: 230/400 Loss: 5.17059 Edge-Overlap: 0.369 Total-Time: 33\n",
      "Step: 240/400 Loss: 5.15968 Edge-Overlap: 0.377 Total-Time: 34\n",
      "Step: 250/400 Loss: 5.19247 Edge-Overlap: 0.367 Total-Time: 35\n",
      "Step: 260/400 Loss: 5.16246 Edge-Overlap: 0.375 Total-Time: 37\n",
      "Step: 270/400 Loss: 5.16376 Edge-Overlap: 0.353 Total-Time: 38\n",
      "Step: 280/400 Loss: 5.20394 Edge-Overlap: 0.357 Total-Time: 40\n",
      "Step: 290/400 Loss: 5.16186 Edge-Overlap: 0.365 Total-Time: 41\n",
      "Step: 300/400 Loss: 5.14232 Edge-Overlap: 0.367 Total-Time: 43\n",
      "Step: 310/400 Loss: 5.23277 Edge-Overlap: 0.358 Total-Time: 44\n",
      "Step: 320/400 Loss: 5.18546 Edge-Overlap: 0.367 Total-Time: 45\n",
      "Step: 330/400 Loss: 5.14846 Edge-Overlap: 0.372 Total-Time: 47\n",
      "Step: 340/400 Loss: 5.14696 Edge-Overlap: 0.373 Total-Time: 48\n",
      "Step: 350/400 Loss: 5.22687 Edge-Overlap: 0.356 Total-Time: 50\n",
      "Step: 360/400 Loss: 5.17462 Edge-Overlap: 0.372 Total-Time: 51\n",
      "Step: 370/400 Loss: 5.14332 Edge-Overlap: 0.379 Total-Time: 53\n",
      "Step: 380/400 Loss: 5.18385 Edge-Overlap: 0.360 Total-Time: 54\n",
      "Step: 390/400 Loss: 5.19077 Edge-Overlap: 0.368 Total-Time: 56\n",
      "Step: 400/400 Loss: 5.15509 Edge-Overlap: 0.374 Total-Time: 57\n"
     ]
    }
   ],
   "source": [
    "# initialize model with EO-criterion\n",
    "model = Cell(A=train_graph,\n",
    "             H=9,\n",
    "             g_type='svd',\n",
    "             callbacks=[EdgeOverlapCriterion(invoke_every=10, edge_overlap_limit=.5)])\n",
    "\n",
    "# train model \n",
    "model.train(steps=400,\n",
    "            optimizer_fn=torch.optim.Adam,\n",
    "            optimizer_args={'lr': 0.1,\n",
    "                            'weight_decay': 1e-7})"
   ]
  },
  {
   "cell_type": "code",
   "execution_count": 85,
   "metadata": {},
   "outputs": [
    {
     "output_type": "execute_result",
     "data": {
      "text/plain": [
       "(0.9588842732345122, 0.9576373593341284)"
      ]
     },
     "metadata": {},
     "execution_count": 85
    }
   ],
   "source": [
    "# roc-auc, avg-precision\n",
    "\n",
    "link_prediction_performance(scores_matrix=model._scores_matrix, val_ones=test_ones, val_zeros=test_zeros)"
   ]
  },
  {
   "source": [
    "#### our CELL"
   ],
   "cell_type": "markdown",
   "metadata": {}
  },
  {
   "cell_type": "code",
   "execution_count": 86,
   "metadata": {},
   "outputs": [
    {
     "output_type": "stream",
     "name": "stdout",
     "text": [
      "Step:  10/200 Loss: 6.31043 Edge-Overlap: 0.134 Total-Time: 1\n",
      "Step:  20/200 Loss: 5.83437 Edge-Overlap: 0.223 Total-Time: 3\n",
      "Step:  30/200 Loss: 5.67837 Edge-Overlap: 0.241 Total-Time: 4\n",
      "Step:  40/200 Loss: 5.62469 Edge-Overlap: 0.267 Total-Time: 6\n",
      "Step:  50/200 Loss: 5.50926 Edge-Overlap: 0.282 Total-Time: 7\n",
      "Step:  60/200 Loss: 5.41652 Edge-Overlap: 0.287 Total-Time: 9\n",
      "Step:  70/200 Loss: 5.35707 Edge-Overlap: 0.324 Total-Time: 10\n",
      "Step:  80/200 Loss: 5.28203 Edge-Overlap: 0.325 Total-Time: 12\n",
      "Step:  90/200 Loss: 5.25425 Edge-Overlap: 0.346 Total-Time: 13\n",
      "Step: 100/200 Loss: 5.20928 Edge-Overlap: 0.334 Total-Time: 15\n",
      "Step: 110/200 Loss: 5.17866 Edge-Overlap: 0.358 Total-Time: 16\n",
      "Step: 120/200 Loss: 5.16331 Edge-Overlap: 0.365 Total-Time: 18\n",
      "Step: 130/200 Loss: 5.15793 Edge-Overlap: 0.352 Total-Time: 19\n",
      "Step: 140/200 Loss: 5.13703 Edge-Overlap: 0.358 Total-Time: 21\n",
      "Step: 150/200 Loss: 5.15559 Edge-Overlap: 0.361 Total-Time: 22\n",
      "Step: 160/200 Loss: 5.11515 Edge-Overlap: 0.370 Total-Time: 24\n",
      "Step: 170/200 Loss: 5.11606 Edge-Overlap: 0.373 Total-Time: 25\n",
      "Step: 180/200 Loss: 5.10246 Edge-Overlap: 0.375 Total-Time: 26\n",
      "Step: 190/200 Loss: 5.09605 Edge-Overlap: 0.376 Total-Time: 28\n",
      "Step: 200/200 Loss: 5.08918 Edge-Overlap: 0.375 Total-Time: 29\n"
     ]
    }
   ],
   "source": [
    "# initialize model with EO-criterion\n",
    "model = Cell(A=train_graph,\n",
    "             H=9,\n",
    "             g_type='fc',\n",
    "             callbacks=[EdgeOverlapCriterion(invoke_every=10, edge_overlap_limit=.5)])\n",
    "\n",
    "# train model \n",
    "model.train(steps=200,\n",
    "            optimizer_fn=torch.optim.Adam,\n",
    "            optimizer_args={'lr': 0.1,\n",
    "                            'weight_decay': 1e-5})"
   ]
  },
  {
   "cell_type": "code",
   "execution_count": 87,
   "metadata": {},
   "outputs": [
    {
     "output_type": "execute_result",
     "data": {
      "text/plain": [
       "(0.9593751752902626, 0.9585088132467695)"
      ]
     },
     "metadata": {},
     "execution_count": 87
    }
   ],
   "source": [
    "# roc-auc, avg-precision\n",
    "\n",
    "link_prediction_performance(scores_matrix=model._scores_matrix, val_ones=test_ones, val_zeros=test_zeros)"
   ]
  },
  {
   "cell_type": "code",
   "execution_count": null,
   "metadata": {},
   "outputs": [],
   "source": []
  }
 ]
}