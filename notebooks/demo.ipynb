{
 "metadata": {
  "language_info": {
   "codemirror_mode": {
    "name": "ipython",
    "version": 3
   },
   "file_extension": ".py",
   "mimetype": "text/x-python",
   "name": "python",
   "nbconvert_exporter": "python",
   "pygments_lexer": "ipython3",
   "version": "3.8.5-final"
  },
  "orig_nbformat": 2,
  "kernelspec": {
   "name": "python38564bitfad426787c4d466e858501df55a3f5b8",
   "display_name": "Python 3.8.5 64-bit",
   "language": "python"
  }
 },
 "nbformat": 4,
 "nbformat_minor": 2,
 "cells": [
  {
   "cell_type": "code",
   "execution_count": 1,
   "metadata": {},
   "outputs": [],
   "source": [
    "# import warnings\n",
    "# warnings.filterwarnings('ignore')\n",
    "%load_ext autoreload\n",
    "%autoreload 2\n",
    "\n",
    "import pickle\n",
    "import numpy as np\n",
    "import scipy.sparse as sp\n",
    "from scipy.sparse import load_npz\n",
    "import pandas as pd\n",
    "\n",
    "import torch\n",
    "\n",
    "from cell import utils\n",
    "from cell.utils import link_prediction_performance, edge_overlap\n",
    "from cell.cell import Cell, EdgeOverlapCriterion, LinkPredictionCriterion\n",
    "from cell.graph_statistics import compute_graph_statistics"
   ]
  },
  {
   "source": [
    "# CORA ML"
   ],
   "cell_type": "markdown",
   "metadata": {}
  },
  {
   "cell_type": "code",
   "execution_count": 2,
   "metadata": {},
   "outputs": [
    {
     "output_type": "stream",
     "name": "stdout",
     "text": [
      "Selecting 1 largest connected components\n"
     ]
    }
   ],
   "source": [
    "#train_graph \n",
    "_A_obs, _X_obs, _z_obs = utils.load_npz('../data/cora_ml.npz')\n",
    "_A_obs = _A_obs + _A_obs.T\n",
    "_A_obs[_A_obs > 1] = 1\n",
    "lcc = utils.largest_connected_components(_A_obs)\n",
    "_A_obs = _A_obs[lcc,:][:,lcc]\n",
    "_N = _A_obs.shape[0]"
   ]
  },
  {
   "cell_type": "code",
   "execution_count": 3,
   "metadata": {},
   "outputs": [],
   "source": [
    "val_share = 0.05\n",
    "test_share = 0.1\n",
    "seed = 42 #481516234"
   ]
  },
  {
   "cell_type": "code",
   "execution_count": 4,
   "metadata": {},
   "outputs": [],
   "source": [
    "train_ones, val_ones, val_zeros, test_ones, test_zeros = utils.train_val_test_split_adjacency(_A_obs, val_share, test_share, seed, undirected=True, connected=True, asserts=True)"
   ]
  },
  {
   "cell_type": "code",
   "execution_count": 5,
   "metadata": {},
   "outputs": [],
   "source": [
    "train_graph = sp.coo_matrix((np.ones(len(train_ones)),(train_ones[:,0], train_ones[:,1]))).tocsr()\n",
    "assert (train_graph.toarray() == train_graph.toarray().T).all()"
   ]
  },
  {
   "source": [
    "### Edge overlap"
   ],
   "cell_type": "markdown",
   "metadata": {}
  },
  {
   "source": [
    "#### CELL"
   ],
   "cell_type": "markdown",
   "metadata": {}
  },
  {
   "cell_type": "code",
   "execution_count": 6,
   "metadata": {},
   "outputs": [],
   "source": [
    "# initialize model with EO-criterion\n",
    "model = Cell(A=train_graph,\n",
    "             H=9,\n",
    "             g_type='cell',\n",
    "             callbacks=[EdgeOverlapCriterion(invoke_every=10, edge_overlap_limit=.5)])"
   ]
  },
  {
   "cell_type": "code",
   "execution_count": 7,
   "metadata": {},
   "outputs": [
    {
     "output_type": "stream",
     "name": "stdout",
     "text": [
      "Step:  10/200 Loss: 6.02955 Edge-Overlap: 0.037 Total-Time: 4\n",
      "Step:  20/200 Loss: 4.03502 Edge-Overlap: 0.282 Total-Time: 8\n",
      "Step:  30/200 Loss: 3.32699 Edge-Overlap: 0.430 Total-Time: 11\n",
      "Step:  40/200 Loss: 3.02071 Edge-Overlap: 0.491 Total-Time: 15\n",
      "Step:  50/200 Loss: 2.87482 Edge-Overlap: 0.538 Total-Time: 19\n"
     ]
    }
   ],
   "source": [
    "# train model \n",
    "model.train(steps=200,\n",
    "            optimizer_fn=torch.optim.Adam,\n",
    "            optimizer_args={'lr': 0.1,\n",
    "                            'weight_decay': 1e-5})"
   ]
  },
  {
   "cell_type": "code",
   "execution_count": 8,
   "metadata": {},
   "outputs": [
    {
     "output_type": "execute_result",
     "data": {
      "text/plain": [
       "(0.943928659259619, 0.9510697129231935)"
      ]
     },
     "metadata": {},
     "execution_count": 8
    }
   ],
   "source": [
    "# roc-auc, avg-precision\n",
    "\n",
    "link_prediction_performance(scores_matrix=model._scores_matrix, val_ones=test_ones, val_zeros=test_zeros)"
   ]
  },
  {
   "cell_type": "code",
   "execution_count": 9,
   "metadata": {},
   "outputs": [],
   "source": [
    "generated_graphs = [model.sample_graph() for _ in range(5)]\n",
    "stats = [compute_graph_statistics(gg) for gg in generated_graphs]\n",
    "stat_df = pd.DataFrame({k: [s[k] for s in stats] for k in stats[0].keys()})"
   ]
  },
  {
   "cell_type": "code",
   "execution_count": 10,
   "metadata": {},
   "outputs": [],
   "source": [
    "df = pd.DataFrame(stat_df.mean(), columns=['cell'])"
   ]
  },
  {
   "source": [
    "#### our CELL"
   ],
   "cell_type": "markdown",
   "metadata": {}
  },
  {
   "cell_type": "code",
   "execution_count": 19,
   "metadata": {},
   "outputs": [],
   "source": [
    "# initialize model with EO-criterion\n",
    "model = Cell(A=train_graph,\n",
    "             H=9,\n",
    "             g_type='fc',\n",
    "             callbacks=[EdgeOverlapCriterion(invoke_every=10, edge_overlap_limit=.5)])"
   ]
  },
  {
   "cell_type": "code",
   "execution_count": 20,
   "metadata": {},
   "outputs": [
    {
     "output_type": "stream",
     "name": "stdout",
     "text": [
      "Step:  10/200 Loss: 7.37374 Edge-Overlap: 0.020 Total-Time: 4\n",
      "Step:  20/200 Loss: 6.85635 Edge-Overlap: 0.025 Total-Time: 7\n",
      "Step:  30/200 Loss: 6.37722 Edge-Overlap: 0.028 Total-Time: 11\n",
      "Step:  40/200 Loss: 5.81307 Edge-Overlap: 0.069 Total-Time: 15\n",
      "Step:  50/200 Loss: 5.15663 Edge-Overlap: 0.121 Total-Time: 19\n",
      "Step:  60/200 Loss: 4.65556 Edge-Overlap: 0.156 Total-Time: 23\n",
      "Step:  70/200 Loss: 4.39197 Edge-Overlap: 0.208 Total-Time: 27\n",
      "Step:  80/200 Loss: 4.05709 Edge-Overlap: 0.229 Total-Time: 31\n",
      "Step:  90/200 Loss: 3.84849 Edge-Overlap: 0.287 Total-Time: 35\n",
      "Step: 100/200 Loss: 3.79800 Edge-Overlap: 0.193 Total-Time: 39\n",
      "Step: 110/200 Loss: 3.74362 Edge-Overlap: 0.317 Total-Time: 43\n",
      "Step: 120/200 Loss: 3.31573 Edge-Overlap: 0.431 Total-Time: 47\n",
      "Step: 130/200 Loss: 3.22700 Edge-Overlap: 0.431 Total-Time: 51\n",
      "Step: 140/200 Loss: 3.06328 Edge-Overlap: 0.495 Total-Time: 56\n",
      "Step: 150/200 Loss: 3.25868 Edge-Overlap: 0.488 Total-Time: 59\n",
      "Step: 160/200 Loss: 2.89066 Edge-Overlap: 0.546 Total-Time: 63\n"
     ]
    }
   ],
   "source": [
    "# train model \n",
    "model.train(steps=200,\n",
    "            optimizer_fn=torch.optim.Adam,\n",
    "            optimizer_args={'lr': 0.1,\n",
    "                            'weight_decay': 1e-4})"
   ]
  },
  {
   "cell_type": "code",
   "execution_count": 21,
   "metadata": {},
   "outputs": [
    {
     "output_type": "execute_result",
     "data": {
      "text/plain": [
       "(0.9606955502889251, 0.9628740761304896)"
      ]
     },
     "metadata": {},
     "execution_count": 21
    }
   ],
   "source": [
    "# roc-auc, avg-precision\n",
    "\n",
    "link_prediction_performance(scores_matrix=model._scores_matrix, val_ones=test_ones, val_zeros=test_zeros)"
   ]
  },
  {
   "cell_type": "code",
   "execution_count": 22,
   "metadata": {},
   "outputs": [],
   "source": [
    "generated_graphs = [model.sample_graph() for _ in range(5)]\n",
    "stats = [compute_graph_statistics(gg) for gg in generated_graphs]\n",
    "stat_df = pd.DataFrame({k: [s[k] for s in stats] for k in stats[0].keys()})"
   ]
  },
  {
   "cell_type": "code",
   "execution_count": 23,
   "metadata": {},
   "outputs": [],
   "source": [
    "df['cell+fc'] = stat_df.mean().T\n",
    "\n",
    "df['gt'] = compute_graph_statistics(_A_obs).values()"
   ]
  },
  {
   "cell_type": "code",
   "execution_count": 24,
   "metadata": {},
   "outputs": [
    {
     "output_type": "execute_result",
     "data": {
      "text/plain": [
       "                                cell       cell+fc            gt\n",
       "d_max                   1.850000e+02  2.016000e+02  2.460000e+02\n",
       "d_min                   1.000000e+00  1.000000e+00  1.000000e+00\n",
       "d                       4.827758e+00  4.827758e+00  5.680427e+00\n",
       "LCC                     2.803000e+03  2.798200e+03  2.810000e+03\n",
       "wedge_count             7.918040e+04  9.535580e+04  1.377190e+05\n",
       "claw_count              1.584960e+06  2.273562e+06  3.930163e+06\n",
       "triangle_count          1.291000e+03  1.778200e+03  5.247000e+03\n",
       "square_count            6.186200e+03  1.160920e+04  3.450700e+04\n",
       "power_law_exp           1.812574e+00  1.850850e+00  1.767268e+00\n",
       "gini                    4.431508e-01  4.794300e-01  4.964733e-01\n",
       "rel_edge_distr_entropy  9.516530e-01  9.419893e-01  9.385288e-01\n",
       "assortativity          -7.355171e-02 -8.453331e-02 -7.659231e-02\n",
       "clustering_coefficient  4.892002e-02  5.594963e-02  1.142980e-01\n",
       "cpl                     5.192750e+00  5.414247e+00  5.271418e+00"
      ],
      "text/html": "<div>\n<style scoped>\n    .dataframe tbody tr th:only-of-type {\n        vertical-align: middle;\n    }\n\n    .dataframe tbody tr th {\n        vertical-align: top;\n    }\n\n    .dataframe thead th {\n        text-align: right;\n    }\n</style>\n<table border=\"1\" class=\"dataframe\">\n  <thead>\n    <tr style=\"text-align: right;\">\n      <th></th>\n      <th>cell</th>\n      <th>cell+fc</th>\n      <th>gt</th>\n    </tr>\n  </thead>\n  <tbody>\n    <tr>\n      <th>d_max</th>\n      <td>1.850000e+02</td>\n      <td>2.016000e+02</td>\n      <td>2.460000e+02</td>\n    </tr>\n    <tr>\n      <th>d_min</th>\n      <td>1.000000e+00</td>\n      <td>1.000000e+00</td>\n      <td>1.000000e+00</td>\n    </tr>\n    <tr>\n      <th>d</th>\n      <td>4.827758e+00</td>\n      <td>4.827758e+00</td>\n      <td>5.680427e+00</td>\n    </tr>\n    <tr>\n      <th>LCC</th>\n      <td>2.803000e+03</td>\n      <td>2.798200e+03</td>\n      <td>2.810000e+03</td>\n    </tr>\n    <tr>\n      <th>wedge_count</th>\n      <td>7.918040e+04</td>\n      <td>9.535580e+04</td>\n      <td>1.377190e+05</td>\n    </tr>\n    <tr>\n      <th>claw_count</th>\n      <td>1.584960e+06</td>\n      <td>2.273562e+06</td>\n      <td>3.930163e+06</td>\n    </tr>\n    <tr>\n      <th>triangle_count</th>\n      <td>1.291000e+03</td>\n      <td>1.778200e+03</td>\n      <td>5.247000e+03</td>\n    </tr>\n    <tr>\n      <th>square_count</th>\n      <td>6.186200e+03</td>\n      <td>1.160920e+04</td>\n      <td>3.450700e+04</td>\n    </tr>\n    <tr>\n      <th>power_law_exp</th>\n      <td>1.812574e+00</td>\n      <td>1.850850e+00</td>\n      <td>1.767268e+00</td>\n    </tr>\n    <tr>\n      <th>gini</th>\n      <td>4.431508e-01</td>\n      <td>4.794300e-01</td>\n      <td>4.964733e-01</td>\n    </tr>\n    <tr>\n      <th>rel_edge_distr_entropy</th>\n      <td>9.516530e-01</td>\n      <td>9.419893e-01</td>\n      <td>9.385288e-01</td>\n    </tr>\n    <tr>\n      <th>assortativity</th>\n      <td>-7.355171e-02</td>\n      <td>-8.453331e-02</td>\n      <td>-7.659231e-02</td>\n    </tr>\n    <tr>\n      <th>clustering_coefficient</th>\n      <td>4.892002e-02</td>\n      <td>5.594963e-02</td>\n      <td>1.142980e-01</td>\n    </tr>\n    <tr>\n      <th>cpl</th>\n      <td>5.192750e+00</td>\n      <td>5.414247e+00</td>\n      <td>5.271418e+00</td>\n    </tr>\n  </tbody>\n</table>\n</div>"
     },
     "metadata": {},
     "execution_count": 24
    }
   ],
   "source": [
    "df"
   ]
  },
  {
   "source": [
    "### Link Prediction Criterion"
   ],
   "cell_type": "markdown",
   "metadata": {}
  },
  {
   "source": [
    "#### CELL"
   ],
   "cell_type": "markdown",
   "metadata": {}
  },
  {
   "cell_type": "code",
   "execution_count": 39,
   "metadata": {},
   "outputs": [],
   "source": [
    "# initialize model with LP-criterion\n",
    "#\n",
    "model = Cell(A=train_graph,\n",
    "             g_type='cell',\n",
    "             H=9,\n",
    "             callbacks=[LinkPredictionCriterion(invoke_every=2,\n",
    "                                                val_ones=val_ones,\n",
    "                                            val_zeros=val_zeros,\n",
    "                                                max_patience=3)])"
   ]
  },
  {
   "cell_type": "code",
   "execution_count": 40,
   "metadata": {},
   "outputs": [
    {
     "output_type": "stream",
     "name": "stdout",
     "text": [
      "Step:   2/300 Loss: 7.92603 ROC-AUC Score: 0.572 Average Precision: 0.554 Total-Time: 0\n",
      "Step:   4/300 Loss: 7.72035 ROC-AUC Score: 0.636 Average Precision: 0.628 Total-Time: 1\n",
      "Step:   6/300 Loss: 7.29653 ROC-AUC Score: 0.685 Average Precision: 0.687 Total-Time: 1\n",
      "Step:   8/300 Loss: 6.68282 ROC-AUC Score: 0.731 Average Precision: 0.735 Total-Time: 2\n",
      "Step:  10/300 Loss: 6.00020 ROC-AUC Score: 0.781 Average Precision: 0.791 Total-Time: 3\n",
      "Step:  12/300 Loss: 5.38965 ROC-AUC Score: 0.832 Average Precision: 0.850 Total-Time: 3\n",
      "Step:  14/300 Loss: 4.92797 ROC-AUC Score: 0.870 Average Precision: 0.887 Total-Time: 4\n",
      "Step:  16/300 Loss: 4.58454 ROC-AUC Score: 0.888 Average Precision: 0.902 Total-Time: 5\n",
      "Step:  18/300 Loss: 4.29505 ROC-AUC Score: 0.896 Average Precision: 0.908 Total-Time: 5\n",
      "Step:  20/300 Loss: 4.03938 ROC-AUC Score: 0.903 Average Precision: 0.916 Total-Time: 6\n",
      "Step:  22/300 Loss: 3.83683 ROC-AUC Score: 0.911 Average Precision: 0.924 Total-Time: 7\n",
      "Step:  24/300 Loss: 3.67245 ROC-AUC Score: 0.917 Average Precision: 0.930 Total-Time: 7\n",
      "Step:  26/300 Loss: 3.52941 ROC-AUC Score: 0.921 Average Precision: 0.934 Total-Time: 8\n",
      "Step:  28/300 Loss: 3.40853 ROC-AUC Score: 0.924 Average Precision: 0.937 Total-Time: 9\n",
      "Step:  30/300 Loss: 3.30600 ROC-AUC Score: 0.926 Average Precision: 0.939 Total-Time: 10\n",
      "Step:  32/300 Loss: 3.21825 ROC-AUC Score: 0.928 Average Precision: 0.940 Total-Time: 10\n",
      "Step:  34/300 Loss: 3.14389 ROC-AUC Score: 0.929 Average Precision: 0.941 Total-Time: 11\n",
      "Step:  36/300 Loss: 3.07904 ROC-AUC Score: 0.930 Average Precision: 0.942 Total-Time: 12\n",
      "Step:  38/300 Loss: 3.02134 ROC-AUC Score: 0.931 Average Precision: 0.942 Total-Time: 12\n",
      "Step:  40/300 Loss: 2.97094 ROC-AUC Score: 0.931 Average Precision: 0.942 Total-Time: 13\n",
      "Step:  42/300 Loss: 2.92582 ROC-AUC Score: 0.931 Average Precision: 0.942 Total-Time: 14\n",
      "Step:  44/300 Loss: 2.88618 ROC-AUC Score: 0.930 Average Precision: 0.942 Total-Time: 14\n",
      "Step:  46/300 Loss: 2.85070 ROC-AUC Score: 0.930 Average Precision: 0.942 Total-Time: 15\n",
      "Step:  48/300 Loss: 2.81931 ROC-AUC Score: 0.931 Average Precision: 0.943 Total-Time: 16\n",
      "Step:  50/300 Loss: 2.79095 ROC-AUC Score: 0.930 Average Precision: 0.943 Total-Time: 17\n",
      "Step:  52/300 Loss: 2.76558 ROC-AUC Score: 0.930 Average Precision: 0.943 Total-Time: 17\n",
      "Step:  54/300 Loss: 2.74239 ROC-AUC Score: 0.930 Average Precision: 0.943 Total-Time: 18\n",
      "Step:  56/300 Loss: 2.72129 ROC-AUC Score: 0.931 Average Precision: 0.943 Total-Time: 19\n"
     ]
    }
   ],
   "source": [
    "# train model \n",
    "model.train(steps=300,\n",
    "            optimizer_fn=torch.optim.Adam,\n",
    "            optimizer_args={'lr': 0.1,\n",
    "                            'weight_decay': 1e-6})"
   ]
  },
  {
   "cell_type": "code",
   "execution_count": 41,
   "metadata": {},
   "outputs": [
    {
     "output_type": "execute_result",
     "data": {
      "text/plain": [
       "(0.9414584250337953, 0.9457385717379865)"
      ]
     },
     "metadata": {},
     "execution_count": 41
    }
   ],
   "source": [
    "# roc-auc, avg-precision\n",
    "\n",
    "link_prediction_performance(scores_matrix=model._scores_matrix, val_ones=test_ones, val_zeros=test_zeros)"
   ]
  },
  {
   "source": [
    "#### our CELL"
   ],
   "cell_type": "markdown",
   "metadata": {}
  },
  {
   "cell_type": "code",
   "execution_count": 42,
   "metadata": {},
   "outputs": [],
   "source": [
    "# initialize model with LP-criterion\n",
    "#\n",
    "model = Cell(A=train_graph,\n",
    "             g_type='fc',\n",
    "             H=9,\n",
    "             callbacks=[LinkPredictionCriterion(invoke_every=2,\n",
    "                                                val_ones=val_ones,\n",
    "                                            val_zeros=val_zeros,\n",
    "                                                max_patience=3)])"
   ]
  },
  {
   "cell_type": "code",
   "execution_count": 43,
   "metadata": {},
   "outputs": [
    {
     "output_type": "stream",
     "name": "stdout",
     "text": [
      "Step:   2/300 Loss: 7.90985 ROC-AUC Score: 0.815 Average Precision: 0.815 Total-Time: 0\n",
      "Step:   4/300 Loss: 7.54912 ROC-AUC Score: 0.841 Average Precision: 0.854 Total-Time: 1\n",
      "Step:   6/300 Loss: 7.38563 ROC-AUC Score: 0.843 Average Precision: 0.857 Total-Time: 2\n",
      "Step:   8/300 Loss: 7.35279 ROC-AUC Score: 0.835 Average Precision: 0.855 Total-Time: 3\n",
      "Step:  10/300 Loss: 7.30924 ROC-AUC Score: 0.837 Average Precision: 0.859 Total-Time: 3\n",
      "Step:  12/300 Loss: 7.26639 ROC-AUC Score: 0.846 Average Precision: 0.866 Total-Time: 4\n",
      "Step:  14/300 Loss: 7.19245 ROC-AUC Score: 0.855 Average Precision: 0.874 Total-Time: 5\n",
      "Step:  16/300 Loss: 7.11766 ROC-AUC Score: 0.863 Average Precision: 0.882 Total-Time: 6\n",
      "Step:  18/300 Loss: 7.03637 ROC-AUC Score: 0.870 Average Precision: 0.886 Total-Time: 6\n",
      "Step:  20/300 Loss: 6.94362 ROC-AUC Score: 0.868 Average Precision: 0.883 Total-Time: 7\n",
      "Step:  22/300 Loss: 6.97236 ROC-AUC Score: 0.867 Average Precision: 0.879 Total-Time: 8\n",
      "Step:  24/300 Loss: 6.80680 ROC-AUC Score: 0.881 Average Precision: 0.880 Total-Time: 9\n",
      "Step:  26/300 Loss: 6.72555 ROC-AUC Score: 0.878 Average Precision: 0.884 Total-Time: 10\n",
      "Step:  28/300 Loss: 6.59486 ROC-AUC Score: 0.882 Average Precision: 0.892 Total-Time: 11\n",
      "Step:  30/300 Loss: 6.46971 ROC-AUC Score: 0.893 Average Precision: 0.905 Total-Time: 11\n",
      "Step:  32/300 Loss: 6.32224 ROC-AUC Score: 0.891 Average Precision: 0.904 Total-Time: 12\n",
      "Step:  34/300 Loss: 6.16869 ROC-AUC Score: 0.882 Average Precision: 0.890 Total-Time: 13\n",
      "Step:  36/300 Loss: 6.02807 ROC-AUC Score: 0.902 Average Precision: 0.910 Total-Time: 13\n",
      "Step:  38/300 Loss: 5.82148 ROC-AUC Score: 0.911 Average Precision: 0.920 Total-Time: 14\n",
      "Step:  40/300 Loss: 5.61225 ROC-AUC Score: 0.920 Average Precision: 0.927 Total-Time: 15\n",
      "Step:  42/300 Loss: 5.56076 ROC-AUC Score: 0.915 Average Precision: 0.922 Total-Time: 16\n",
      "Step:  44/300 Loss: 5.27687 ROC-AUC Score: 0.919 Average Precision: 0.916 Total-Time: 16\n",
      "Step:  46/300 Loss: 5.09472 ROC-AUC Score: 0.929 Average Precision: 0.939 Total-Time: 17\n",
      "Step:  48/300 Loss: 4.93083 ROC-AUC Score: 0.929 Average Precision: 0.934 Total-Time: 18\n",
      "Step:  50/300 Loss: 4.81729 ROC-AUC Score: 0.932 Average Precision: 0.938 Total-Time: 19\n",
      "Step:  52/300 Loss: 4.69896 ROC-AUC Score: 0.936 Average Precision: 0.944 Total-Time: 19\n",
      "Step:  54/300 Loss: 4.51878 ROC-AUC Score: 0.933 Average Precision: 0.939 Total-Time: 20\n",
      "Step:  56/300 Loss: 4.38214 ROC-AUC Score: 0.941 Average Precision: 0.948 Total-Time: 21\n",
      "Step:  58/300 Loss: 4.27681 ROC-AUC Score: 0.942 Average Precision: 0.945 Total-Time: 22\n",
      "Step:  60/300 Loss: 4.20058 ROC-AUC Score: 0.941 Average Precision: 0.938 Total-Time: 22\n",
      "Step:  62/300 Loss: 4.20988 ROC-AUC Score: 0.935 Average Precision: 0.929 Total-Time: 23\n",
      "Step:  64/300 Loss: 4.15422 ROC-AUC Score: 0.942 Average Precision: 0.948 Total-Time: 24\n",
      "Step:  66/300 Loss: 4.01407 ROC-AUC Score: 0.950 Average Precision: 0.955 Total-Time: 25\n",
      "Step:  68/300 Loss: 3.90017 ROC-AUC Score: 0.949 Average Precision: 0.955 Total-Time: 25\n",
      "Step:  70/300 Loss: 3.80696 ROC-AUC Score: 0.949 Average Precision: 0.954 Total-Time: 26\n",
      "Step:  72/300 Loss: 3.71143 ROC-AUC Score: 0.952 Average Precision: 0.957 Total-Time: 27\n",
      "Step:  74/300 Loss: 3.69548 ROC-AUC Score: 0.950 Average Precision: 0.957 Total-Time: 27\n",
      "Step:  76/300 Loss: 4.01800 ROC-AUC Score: 0.951 Average Precision: 0.957 Total-Time: 28\n",
      "Step:  78/300 Loss: 3.79246 ROC-AUC Score: 0.950 Average Precision: 0.953 Total-Time: 29\n",
      "Step:  80/300 Loss: 3.65709 ROC-AUC Score: 0.955 Average Precision: 0.962 Total-Time: 30\n",
      "Step:  82/300 Loss: 3.56771 ROC-AUC Score: 0.952 Average Precision: 0.958 Total-Time: 30\n",
      "Step:  84/300 Loss: 3.48246 ROC-AUC Score: 0.953 Average Precision: 0.959 Total-Time: 31\n",
      "Step:  86/300 Loss: 3.41107 ROC-AUC Score: 0.954 Average Precision: 0.960 Total-Time: 32\n",
      "Step:  88/300 Loss: 3.33959 ROC-AUC Score: 0.957 Average Precision: 0.962 Total-Time: 33\n",
      "Step:  90/300 Loss: 3.28089 ROC-AUC Score: 0.956 Average Precision: 0.961 Total-Time: 33\n",
      "Step:  92/300 Loss: 3.30552 ROC-AUC Score: 0.951 Average Precision: 0.951 Total-Time: 34\n",
      "Step:  94/300 Loss: 3.81355 ROC-AUC Score: 0.959 Average Precision: 0.963 Total-Time: 35\n",
      "Step:  96/300 Loss: 3.70480 ROC-AUC Score: 0.955 Average Precision: 0.958 Total-Time: 35\n",
      "Step:  98/300 Loss: 3.50363 ROC-AUC Score: 0.961 Average Precision: 0.966 Total-Time: 36\n",
      "Step: 100/300 Loss: 3.40575 ROC-AUC Score: 0.960 Average Precision: 0.965 Total-Time: 37\n",
      "Step: 102/300 Loss: 3.31953 ROC-AUC Score: 0.958 Average Precision: 0.962 Total-Time: 38\n",
      "Step: 104/300 Loss: 3.24974 ROC-AUC Score: 0.960 Average Precision: 0.965 Total-Time: 39\n",
      "Step: 106/300 Loss: 3.18367 ROC-AUC Score: 0.957 Average Precision: 0.961 Total-Time: 39\n"
     ]
    }
   ],
   "source": [
    "# train model \n",
    "model.train(steps=300,\n",
    "            optimizer_fn=torch.optim.Adam,\n",
    "            optimizer_args={'lr': 0.1,\n",
    "                            'weight_decay': 5e-5})"
   ]
  },
  {
   "cell_type": "code",
   "execution_count": 44,
   "metadata": {},
   "outputs": [
    {
     "output_type": "execute_result",
     "data": {
      "text/plain": [
       "(0.9542058988002837, 0.9606755845126247)"
      ]
     },
     "metadata": {},
     "execution_count": 44
    }
   ],
   "source": [
    "# roc-auc, avg-precision\n",
    "\n",
    "link_prediction_performance(scores_matrix=model._scores_matrix, val_ones=test_ones, val_zeros=test_zeros)"
   ]
  },
  {
   "source": [
    "# Citeseer"
   ],
   "cell_type": "markdown",
   "metadata": {}
  },
  {
   "cell_type": "code",
   "execution_count": 45,
   "metadata": {},
   "outputs": [
    {
     "output_type": "stream",
     "name": "stdout",
     "text": [
      "Selecting 1 largest connected components\n"
     ]
    }
   ],
   "source": [
    "_A_obs, _X_obs, _z_obs = utils.load_npz('../data/citeseer.npz')\n",
    "_A_obs = _A_obs + _A_obs.T\n",
    "_A_obs[_A_obs > 1] = 1\n",
    "lcc = utils.largest_connected_components(_A_obs)\n",
    "_A_obs = _A_obs[lcc,:][:,lcc]\n",
    "_N = _A_obs.shape[0]"
   ]
  },
  {
   "cell_type": "code",
   "execution_count": 46,
   "metadata": {},
   "outputs": [],
   "source": [
    "val_share = 0.05\n",
    "test_share = 0.1\n",
    "seed = 48"
   ]
  },
  {
   "cell_type": "code",
   "execution_count": 47,
   "metadata": {},
   "outputs": [],
   "source": [
    "#there are self loops!\n",
    "\n",
    "train_ones, val_ones, val_zeros, test_ones, test_zeros = utils.train_val_test_split_adjacency(_A_obs, val_share, test_share, seed, undirected=True, connected=True, asserts=False)"
   ]
  },
  {
   "cell_type": "code",
   "execution_count": 48,
   "metadata": {},
   "outputs": [],
   "source": [
    "train_graph = sp.coo_matrix((np.ones(len(train_ones)),(train_ones[:,0], train_ones[:,1]))).tocsr()\n",
    "assert (train_graph.toarray() == train_graph.toarray().T).all()"
   ]
  },
  {
   "cell_type": "code",
   "execution_count": 49,
   "metadata": {},
   "outputs": [],
   "source": [
    "# initialize model with EO-criterion\n",
    "model = Cell(A=_A_obs,\n",
    "             H=9,\n",
    "             g_type='cell',\n",
    "             callbacks=[EdgeOverlapCriterion(invoke_every=10, edge_overlap_limit=.5)])"
   ]
  },
  {
   "cell_type": "code",
   "execution_count": 50,
   "metadata": {},
   "outputs": [
    {
     "output_type": "stream",
     "name": "stdout",
     "text": [
      "Step:  10/200 Loss: 5.33630 Edge-Overlap: 0.044 Total-Time: 2\n",
      "Step:  20/200 Loss: 3.15112 Edge-Overlap: 0.360 Total-Time: 4\n",
      "Step:  30/200 Loss: 2.32722 Edge-Overlap: 0.593 Total-Time: 7\n"
     ]
    }
   ],
   "source": [
    "# train model \n",
    "model.train(steps=200,\n",
    "            optimizer_fn=torch.optim.Adam,\n",
    "            optimizer_args={'lr': 0.1,\n",
    "                            'weight_decay': 1e-7})"
   ]
  },
  {
   "cell_type": "code",
   "execution_count": 51,
   "metadata": {},
   "outputs": [
    {
     "output_type": "execute_result",
     "data": {
      "text/plain": [
       "(0.972684703433923, 0.9861373933995713)"
      ]
     },
     "metadata": {},
     "execution_count": 51
    }
   ],
   "source": [
    "# roc-auc, avg-precision\n",
    "\n",
    "link_prediction_performance(scores_matrix=model._scores_matrix, val_ones=test_ones, val_zeros=test_zeros)"
   ]
  },
  {
   "cell_type": "code",
   "execution_count": 52,
   "metadata": {},
   "outputs": [],
   "source": [
    "generated_graphs = [model.sample_graph() for _ in range(5)]\n",
    "stats = [compute_graph_statistics(gg) for gg in generated_graphs]\n",
    "stat_df = pd.DataFrame({k: [s[k] for s in stats] for k in stats[0].keys()})"
   ]
  },
  {
   "cell_type": "code",
   "execution_count": 53,
   "metadata": {},
   "outputs": [],
   "source": [
    "df = pd.DataFrame(stat_df.mean(), columns=['cell'])"
   ]
  },
  {
   "source": [
    "#### our CELL"
   ],
   "cell_type": "markdown",
   "metadata": {}
  },
  {
   "cell_type": "code",
   "execution_count": 54,
   "metadata": {},
   "outputs": [],
   "source": [
    "# initialize model with EO-criterion\n",
    "model = Cell(A=train_graph,\n",
    "             H=9,\n",
    "             g_type='fc',\n",
    "             callbacks=[EdgeOverlapCriterion(invoke_every=10, edge_overlap_limit=.5)])"
   ]
  },
  {
   "cell_type": "code",
   "execution_count": 55,
   "metadata": {},
   "outputs": [
    {
     "output_type": "stream",
     "name": "stdout",
     "text": [
      "Step:  10/200 Loss: 6.52337 Edge-Overlap: 0.015 Total-Time: 2\n",
      "Step:  20/200 Loss: 4.37955 Edge-Overlap: 0.142 Total-Time: 4\n",
      "Step:  30/200 Loss: 2.81670 Edge-Overlap: 0.442 Total-Time: 7\n",
      "Step:  40/200 Loss: 2.17366 Edge-Overlap: 0.635 Total-Time: 9\n"
     ]
    }
   ],
   "source": [
    "# train model \n",
    "model.train(steps=200,\n",
    "            optimizer_fn=torch.optim.Adam,\n",
    "            optimizer_args={'lr': 0.05,\n",
    "                            'weight_decay': 1e-5})"
   ]
  },
  {
   "cell_type": "code",
   "execution_count": 56,
   "metadata": {},
   "outputs": [
    {
     "output_type": "execute_result",
     "data": {
      "text/plain": [
       "(0.869638108451844, 0.9003855901926014)"
      ]
     },
     "metadata": {},
     "execution_count": 56
    }
   ],
   "source": [
    "# roc-auc, avg-precision\n",
    "\n",
    "link_prediction_performance(scores_matrix=model._scores_matrix, val_ones=test_ones, val_zeros=test_zeros)"
   ]
  },
  {
   "cell_type": "code",
   "execution_count": 57,
   "metadata": {},
   "outputs": [],
   "source": [
    "generated_graphs = [model.sample_graph() for _ in range(5)]\n",
    "stats = [compute_graph_statistics(gg) for gg in generated_graphs]\n",
    "stat_df = pd.DataFrame({k: [s[k] for s in stats] for k in stats[0].keys()})"
   ]
  },
  {
   "cell_type": "code",
   "execution_count": 58,
   "metadata": {},
   "outputs": [],
   "source": [
    "df['cell+fc'] = stat_df.mean().T\n",
    "\n",
    "df['gt'] = compute_graph_statistics(_A_obs).values()"
   ]
  },
  {
   "cell_type": "code",
   "execution_count": 59,
   "metadata": {},
   "outputs": [
    {
     "output_type": "execute_result",
     "data": {
      "text/plain": [
       "                                 cell        cell+fc             gt\n",
       "d_max                       68.600000      87.800000      99.000000\n",
       "d_min                        1.000000       1.000000       1.000000\n",
       "d                            3.501422       2.997156       3.501422\n",
       "LCC                       2096.200000    2004.800000    2110.000000\n",
       "wedge_count              20062.800000   18441.400000   26160.000000\n",
       "claw_count              108169.200000  163957.600000  251101.000000\n",
       "triangle_count             401.800000     312.000000    1083.000000\n",
       "square_count              1519.000000    1395.000000    6130.000000\n",
       "power_law_exp                2.006540       2.246560       2.058416\n",
       "gini                         0.388110       0.418740       0.426981\n",
       "rel_edge_distr_entropy       0.964438       0.955812       0.954178\n",
       "assortativity               -0.012538      -0.005795       0.007273\n",
       "clustering_coefficient       0.060075       0.050766       0.124197\n",
       "cpl                          6.650945       7.144446       9.310487"
      ],
      "text/html": "<div>\n<style scoped>\n    .dataframe tbody tr th:only-of-type {\n        vertical-align: middle;\n    }\n\n    .dataframe tbody tr th {\n        vertical-align: top;\n    }\n\n    .dataframe thead th {\n        text-align: right;\n    }\n</style>\n<table border=\"1\" class=\"dataframe\">\n  <thead>\n    <tr style=\"text-align: right;\">\n      <th></th>\n      <th>cell</th>\n      <th>cell+fc</th>\n      <th>gt</th>\n    </tr>\n  </thead>\n  <tbody>\n    <tr>\n      <th>d_max</th>\n      <td>68.600000</td>\n      <td>87.800000</td>\n      <td>99.000000</td>\n    </tr>\n    <tr>\n      <th>d_min</th>\n      <td>1.000000</td>\n      <td>1.000000</td>\n      <td>1.000000</td>\n    </tr>\n    <tr>\n      <th>d</th>\n      <td>3.501422</td>\n      <td>2.997156</td>\n      <td>3.501422</td>\n    </tr>\n    <tr>\n      <th>LCC</th>\n      <td>2096.200000</td>\n      <td>2004.800000</td>\n      <td>2110.000000</td>\n    </tr>\n    <tr>\n      <th>wedge_count</th>\n      <td>20062.800000</td>\n      <td>18441.400000</td>\n      <td>26160.000000</td>\n    </tr>\n    <tr>\n      <th>claw_count</th>\n      <td>108169.200000</td>\n      <td>163957.600000</td>\n      <td>251101.000000</td>\n    </tr>\n    <tr>\n      <th>triangle_count</th>\n      <td>401.800000</td>\n      <td>312.000000</td>\n      <td>1083.000000</td>\n    </tr>\n    <tr>\n      <th>square_count</th>\n      <td>1519.000000</td>\n      <td>1395.000000</td>\n      <td>6130.000000</td>\n    </tr>\n    <tr>\n      <th>power_law_exp</th>\n      <td>2.006540</td>\n      <td>2.246560</td>\n      <td>2.058416</td>\n    </tr>\n    <tr>\n      <th>gini</th>\n      <td>0.388110</td>\n      <td>0.418740</td>\n      <td>0.426981</td>\n    </tr>\n    <tr>\n      <th>rel_edge_distr_entropy</th>\n      <td>0.964438</td>\n      <td>0.955812</td>\n      <td>0.954178</td>\n    </tr>\n    <tr>\n      <th>assortativity</th>\n      <td>-0.012538</td>\n      <td>-0.005795</td>\n      <td>0.007273</td>\n    </tr>\n    <tr>\n      <th>clustering_coefficient</th>\n      <td>0.060075</td>\n      <td>0.050766</td>\n      <td>0.124197</td>\n    </tr>\n    <tr>\n      <th>cpl</th>\n      <td>6.650945</td>\n      <td>7.144446</td>\n      <td>9.310487</td>\n    </tr>\n  </tbody>\n</table>\n</div>"
     },
     "metadata": {},
     "execution_count": 59
    }
   ],
   "source": [
    "df"
   ]
  },
  {
   "source": [],
   "cell_type": "markdown",
   "metadata": {}
  },
  {
   "cell_type": "code",
   "execution_count": null,
   "metadata": {},
   "outputs": [],
   "source": []
  },
  {
   "cell_type": "code",
   "execution_count": 60,
   "metadata": {},
   "outputs": [],
   "source": [
    "# initialize model with LP-criterion\n",
    "#\n",
    "model = Cell(A=_A_obs,\n",
    "             H=9,\n",
    "             g_type='cell',\n",
    "             callbacks=[LinkPredictionCriterion(invoke_every=2,\n",
    "                                                val_ones=val_ones,\n",
    "                                            val_zeros=val_zeros,\n",
    "                                                max_patience=3)])"
   ]
  },
  {
   "cell_type": "code",
   "execution_count": 61,
   "metadata": {},
   "outputs": [
    {
     "output_type": "stream",
     "name": "stdout",
     "text": [
      "Step:   2/200 Loss: 7.63371 ROC-AUC Score: 0.911 Average Precision: 0.922 Total-Time: 0\n",
      "Step:   4/200 Loss: 7.38415 ROC-AUC Score: 0.955 Average Precision: 0.960 Total-Time: 0\n",
      "Step:   6/200 Loss: 6.87651 ROC-AUC Score: 0.964 Average Precision: 0.969 Total-Time: 1\n",
      "Step:   8/200 Loss: 6.14298 ROC-AUC Score: 0.969 Average Precision: 0.972 Total-Time: 1\n",
      "Step:  10/200 Loss: 5.33960 ROC-AUC Score: 0.976 Average Precision: 0.979 Total-Time: 2\n",
      "Step:  12/200 Loss: 4.63752 ROC-AUC Score: 0.986 Average Precision: 0.988 Total-Time: 2\n",
      "Step:  14/200 Loss: 4.13953 ROC-AUC Score: 0.993 Average Precision: 0.993 Total-Time: 3\n",
      "Step:  16/200 Loss: 3.77724 ROC-AUC Score: 0.996 Average Precision: 0.996 Total-Time: 3\n",
      "Step:  18/200 Loss: 3.45594 ROC-AUC Score: 0.998 Average Precision: 0.998 Total-Time: 3\n",
      "Step:  20/200 Loss: 3.18722 ROC-AUC Score: 0.999 Average Precision: 0.999 Total-Time: 4\n",
      "Step:  22/200 Loss: 2.96647 ROC-AUC Score: 1.000 Average Precision: 1.000 Total-Time: 4\n",
      "Step:  24/200 Loss: 2.77052 ROC-AUC Score: 1.000 Average Precision: 1.000 Total-Time: 5\n",
      "Step:  26/200 Loss: 2.60443 ROC-AUC Score: 1.000 Average Precision: 1.000 Total-Time: 5\n",
      "Step:  28/200 Loss: 2.46620 ROC-AUC Score: 1.000 Average Precision: 1.000 Total-Time: 5\n",
      "Step:  30/200 Loss: 2.35038 ROC-AUC Score: 1.000 Average Precision: 1.000 Total-Time: 6\n",
      "Step:  32/200 Loss: 2.25427 ROC-AUC Score: 1.000 Average Precision: 1.000 Total-Time: 6\n",
      "Step:  34/200 Loss: 2.17381 ROC-AUC Score: 1.000 Average Precision: 1.000 Total-Time: 7\n",
      "Step:  36/200 Loss: 2.10594 ROC-AUC Score: 1.000 Average Precision: 1.000 Total-Time: 7\n",
      "Step:  38/200 Loss: 2.04881 ROC-AUC Score: 1.000 Average Precision: 1.000 Total-Time: 7\n",
      "Step:  40/200 Loss: 2.00203 ROC-AUC Score: 1.000 Average Precision: 1.000 Total-Time: 8\n"
     ]
    }
   ],
   "source": [
    "# train model \n",
    "model.train(steps=200,\n",
    "            optimizer_fn=torch.optim.Adam,\n",
    "            optimizer_args={'lr': 0.1,\n",
    "                            'weight_decay': 1e-6})"
   ]
  },
  {
   "cell_type": "code",
   "execution_count": 62,
   "metadata": {},
   "outputs": [
    {
     "output_type": "execute_result",
     "data": {
      "text/plain": [
       "(0.9997904382009482, 0.9997938009327869)"
      ]
     },
     "metadata": {},
     "execution_count": 62
    }
   ],
   "source": [
    "# roc-auc, avg-precision\n",
    "\n",
    "link_prediction_performance(scores_matrix=model._scores_matrix, val_ones=test_ones, val_zeros=test_zeros)"
   ]
  },
  {
   "cell_type": "code",
   "execution_count": null,
   "metadata": {},
   "outputs": [],
   "source": []
  },
  {
   "cell_type": "code",
   "execution_count": 67,
   "metadata": {},
   "outputs": [],
   "source": [
    "# initialize model with LP-criterion\n",
    "#\n",
    "model = Cell(A=_A_obs,\n",
    "             H=9,\n",
    "             g_type='fc',\n",
    "             callbacks=[LinkPredictionCriterion(invoke_every=2,\n",
    "                                                val_ones=val_ones,\n",
    "                                            val_zeros=val_zeros,\n",
    "                                                max_patience=3)])"
   ]
  },
  {
   "cell_type": "code",
   "execution_count": 68,
   "metadata": {},
   "outputs": [
    {
     "output_type": "stream",
     "name": "stdout",
     "text": [
      "Step:   2/200 Loss: 8.19954 ROC-AUC Score: 0.802 Average Precision: 0.805 Total-Time: 0\n",
      "Step:   4/200 Loss: 7.56162 ROC-AUC Score: 0.820 Average Precision: 0.835 Total-Time: 0\n",
      "Step:   6/200 Loss: 7.40063 ROC-AUC Score: 0.870 Average Precision: 0.878 Total-Time: 1\n",
      "Step:   8/200 Loss: 7.23446 ROC-AUC Score: 0.871 Average Precision: 0.880 Total-Time: 1\n",
      "Step:  10/200 Loss: 7.11778 ROC-AUC Score: 0.889 Average Precision: 0.894 Total-Time: 1\n",
      "Step:  12/200 Loss: 7.07394 ROC-AUC Score: 0.905 Average Precision: 0.902 Total-Time: 2\n",
      "Step:  14/200 Loss: 6.97687 ROC-AUC Score: 0.918 Average Precision: 0.913 Total-Time: 2\n",
      "Step:  16/200 Loss: 6.90188 ROC-AUC Score: 0.928 Average Precision: 0.924 Total-Time: 3\n",
      "Step:  18/200 Loss: 6.83477 ROC-AUC Score: 0.923 Average Precision: 0.918 Total-Time: 3\n",
      "Step:  20/200 Loss: 6.78433 ROC-AUC Score: 0.931 Average Precision: 0.929 Total-Time: 3\n",
      "Step:  22/200 Loss: 6.73645 ROC-AUC Score: 0.932 Average Precision: 0.932 Total-Time: 4\n",
      "Step:  24/200 Loss: 6.79900 ROC-AUC Score: 0.933 Average Precision: 0.935 Total-Time: 4\n",
      "Step:  26/200 Loss: 6.70900 ROC-AUC Score: 0.930 Average Precision: 0.934 Total-Time: 5\n",
      "Step:  28/200 Loss: 6.64383 ROC-AUC Score: 0.928 Average Precision: 0.929 Total-Time: 5\n",
      "Step:  30/200 Loss: 6.58824 ROC-AUC Score: 0.930 Average Precision: 0.931 Total-Time: 5\n",
      "Step:  32/200 Loss: 6.51797 ROC-AUC Score: 0.937 Average Precision: 0.932 Total-Time: 6\n",
      "Step:  34/200 Loss: 6.44028 ROC-AUC Score: 0.946 Average Precision: 0.942 Total-Time: 7\n",
      "Step:  36/200 Loss: 6.33674 ROC-AUC Score: 0.948 Average Precision: 0.944 Total-Time: 7\n",
      "Step:  38/200 Loss: 6.25985 ROC-AUC Score: 0.950 Average Precision: 0.948 Total-Time: 8\n",
      "Step:  40/200 Loss: 6.12199 ROC-AUC Score: 0.953 Average Precision: 0.950 Total-Time: 8\n",
      "Step:  42/200 Loss: 6.00226 ROC-AUC Score: 0.965 Average Precision: 0.966 Total-Time: 8\n",
      "Step:  44/200 Loss: 5.87336 ROC-AUC Score: 0.968 Average Precision: 0.968 Total-Time: 9\n",
      "Step:  46/200 Loss: 5.74455 ROC-AUC Score: 0.975 Average Precision: 0.972 Total-Time: 9\n",
      "Step:  48/200 Loss: 5.59542 ROC-AUC Score: 0.976 Average Precision: 0.976 Total-Time: 10\n",
      "Step:  50/200 Loss: 5.56950 ROC-AUC Score: 0.980 Average Precision: 0.980 Total-Time: 10\n",
      "Step:  52/200 Loss: 5.37594 ROC-AUC Score: 0.981 Average Precision: 0.979 Total-Time: 10\n",
      "Step:  54/200 Loss: 5.19065 ROC-AUC Score: 0.978 Average Precision: 0.977 Total-Time: 11\n",
      "Step:  56/200 Loss: 5.03353 ROC-AUC Score: 0.988 Average Precision: 0.988 Total-Time: 11\n",
      "Step:  58/200 Loss: 4.85762 ROC-AUC Score: 0.987 Average Precision: 0.986 Total-Time: 12\n",
      "Step:  60/200 Loss: 4.65263 ROC-AUC Score: 0.989 Average Precision: 0.988 Total-Time: 12\n",
      "Step:  62/200 Loss: 4.47719 ROC-AUC Score: 0.986 Average Precision: 0.985 Total-Time: 12\n",
      "Step:  64/200 Loss: 4.50404 ROC-AUC Score: 0.981 Average Precision: 0.978 Total-Time: 13\n",
      "Step:  66/200 Loss: 4.22477 ROC-AUC Score: 0.987 Average Precision: 0.979 Total-Time: 13\n",
      "Step:  68/200 Loss: 4.07590 ROC-AUC Score: 0.990 Average Precision: 0.989 Total-Time: 13\n",
      "Step:  70/200 Loss: 3.95380 ROC-AUC Score: 0.990 Average Precision: 0.988 Total-Time: 14\n",
      "Step:  72/200 Loss: 3.79884 ROC-AUC Score: 0.995 Average Precision: 0.995 Total-Time: 14\n",
      "Step:  74/200 Loss: 3.67372 ROC-AUC Score: 0.998 Average Precision: 0.998 Total-Time: 15\n",
      "Step:  76/200 Loss: 3.54214 ROC-AUC Score: 0.998 Average Precision: 0.998 Total-Time: 15\n",
      "Step:  78/200 Loss: 3.45144 ROC-AUC Score: 0.996 Average Precision: 0.996 Total-Time: 15\n",
      "Step:  80/200 Loss: 3.33197 ROC-AUC Score: 0.998 Average Precision: 0.998 Total-Time: 16\n",
      "Step:  82/200 Loss: 3.22606 ROC-AUC Score: 0.999 Average Precision: 0.999 Total-Time: 16\n",
      "Step:  84/200 Loss: 3.15812 ROC-AUC Score: 0.993 Average Precision: 0.992 Total-Time: 17\n",
      "Step:  86/200 Loss: 3.08900 ROC-AUC Score: 0.998 Average Precision: 0.997 Total-Time: 17\n",
      "Step:  88/200 Loss: 3.05593 ROC-AUC Score: 0.995 Average Precision: 0.995 Total-Time: 17\n",
      "Step:  90/200 Loss: 3.06140 ROC-AUC Score: 0.999 Average Precision: 0.999 Total-Time: 18\n",
      "Step:  92/200 Loss: 2.94876 ROC-AUC Score: 1.000 Average Precision: 1.000 Total-Time: 18\n",
      "Step:  94/200 Loss: 2.86567 ROC-AUC Score: 1.000 Average Precision: 1.000 Total-Time: 19\n",
      "Step:  96/200 Loss: 2.79397 ROC-AUC Score: 1.000 Average Precision: 1.000 Total-Time: 19\n",
      "Step:  98/200 Loss: 2.70475 ROC-AUC Score: 1.000 Average Precision: 1.000 Total-Time: 19\n",
      "Step: 100/200 Loss: 2.63606 ROC-AUC Score: 1.000 Average Precision: 1.000 Total-Time: 20\n",
      "Step: 102/200 Loss: 2.57623 ROC-AUC Score: 0.999 Average Precision: 0.999 Total-Time: 20\n",
      "Step: 104/200 Loss: 2.59357 ROC-AUC Score: 0.995 Average Precision: 0.995 Total-Time: 21\n",
      "Step: 106/200 Loss: 2.67835 ROC-AUC Score: 0.995 Average Precision: 0.995 Total-Time: 21\n",
      "Step: 108/200 Loss: 2.55466 ROC-AUC Score: 0.997 Average Precision: 0.997 Total-Time: 22\n"
     ]
    }
   ],
   "source": [
    "# train model \n",
    "model.train(steps=200,\n",
    "            optimizer_fn=torch.optim.Adam,\n",
    "            optimizer_args={'lr': 0.1,\n",
    "                            'weight_decay': 5e-5})"
   ]
  },
  {
   "cell_type": "code",
   "execution_count": 69,
   "metadata": {},
   "outputs": [
    {
     "output_type": "execute_result",
     "data": {
      "text/plain": [
       "(0.9988365707018153, 0.998733427881796)"
      ]
     },
     "metadata": {},
     "execution_count": 69
    }
   ],
   "source": [
    "# roc-auc, avg-precision\n",
    "\n",
    "link_prediction_performance(scores_matrix=model._scores_matrix, val_ones=test_ones, val_zeros=test_zeros)"
   ]
  },
  {
   "source": [
    "# Prolblogs"
   ],
   "cell_type": "markdown",
   "metadata": {}
  },
  {
   "source": [
    "#### CELL"
   ],
   "cell_type": "markdown",
   "metadata": {}
  },
  {
   "cell_type": "code",
   "execution_count": 120,
   "metadata": {},
   "outputs": [
    {
     "output_type": "stream",
     "name": "stdout",
     "text": [
      "Selecting 1 largest connected components\n"
     ]
    }
   ],
   "source": [
    "_A_obs, _X_obs, _z_obs = utils.load_npz('../data/polblogs.npz')\n",
    "_A_obs = _A_obs + _A_obs.T\n",
    "_A_obs[_A_obs > 1] = 1\n",
    "lcc = utils.largest_connected_components(_A_obs)\n",
    "_A_obs = _A_obs[lcc,:][:,lcc]\n",
    "_N = _A_obs.shape[0]"
   ]
  },
  {
   "cell_type": "code",
   "execution_count": 121,
   "metadata": {},
   "outputs": [],
   "source": [
    "val_share = 0.05\n",
    "test_share = 0.1\n",
    "seed = 48"
   ]
  },
  {
   "cell_type": "code",
   "execution_count": 122,
   "metadata": {},
   "outputs": [],
   "source": [
    "train_ones, val_ones, val_zeros, test_ones, test_zeros = utils.train_val_test_split_adjacency(_A_obs, val_share, test_share, seed, undirected=True, connected=True, asserts=False)"
   ]
  },
  {
   "cell_type": "code",
   "execution_count": 123,
   "metadata": {},
   "outputs": [],
   "source": [
    "train_graph = sp.coo_matrix((np.ones(len(train_ones)),(train_ones[:,0], train_ones[:,1]))).tocsr()\n",
    "assert (train_graph.toarray() == train_graph.toarray().T).all()"
   ]
  },
  {
   "cell_type": "code",
   "execution_count": 125,
   "metadata": {},
   "outputs": [],
   "source": [
    "# initialize model with EO-criterion\n",
    "model = Cell(A=_A_obs,\n",
    "             H=9,\n",
    "             g_type='cell',\n",
    "             callbacks=[EdgeOverlapCriterion(invoke_every=10, edge_overlap_limit=.5)])"
   ]
  },
  {
   "cell_type": "code",
   "execution_count": 126,
   "metadata": {},
   "outputs": [
    {
     "output_type": "stream",
     "name": "stdout",
     "text": [
      "Step:  10/200 Loss: 5.85955 Edge-Overlap: 0.324 Total-Time: 1\n",
      "Step:  20/200 Loss: 5.52497 Edge-Overlap: 0.334 Total-Time: 2\n",
      "Step:  30/200 Loss: 5.35665 Edge-Overlap: 0.371 Total-Time: 4\n",
      "Step:  40/200 Loss: 5.26537 Edge-Overlap: 0.381 Total-Time: 5\n",
      "Step:  50/200 Loss: 5.21497 Edge-Overlap: 0.398 Total-Time: 7\n",
      "Step:  60/200 Loss: 5.18568 Edge-Overlap: 0.405 Total-Time: 8\n",
      "Step:  70/200 Loss: 5.16670 Edge-Overlap: 0.410 Total-Time: 10\n",
      "Step:  80/200 Loss: 5.15340 Edge-Overlap: 0.412 Total-Time: 11\n",
      "Step:  90/200 Loss: 5.14335 Edge-Overlap: 0.414 Total-Time: 13\n",
      "Step: 100/200 Loss: 5.13535 Edge-Overlap: 0.414 Total-Time: 15\n",
      "Step: 110/200 Loss: 5.12871 Edge-Overlap: 0.414 Total-Time: 16\n",
      "Step: 120/200 Loss: 5.12317 Edge-Overlap: 0.420 Total-Time: 18\n",
      "Step: 130/200 Loss: 5.11827 Edge-Overlap: 0.420 Total-Time: 19\n",
      "Step: 140/200 Loss: 5.11391 Edge-Overlap: 0.420 Total-Time: 21\n",
      "Step: 150/200 Loss: 5.11006 Edge-Overlap: 0.426 Total-Time: 23\n",
      "Step: 160/200 Loss: 5.10672 Edge-Overlap: 0.423 Total-Time: 24\n",
      "Step: 170/200 Loss: 5.10363 Edge-Overlap: 0.426 Total-Time: 26\n",
      "Step: 180/200 Loss: 5.10088 Edge-Overlap: 0.425 Total-Time: 28\n",
      "Step: 190/200 Loss: 5.09836 Edge-Overlap: 0.427 Total-Time: 29\n",
      "Step: 200/200 Loss: 5.09627 Edge-Overlap: 0.424 Total-Time: 30\n"
     ]
    }
   ],
   "source": [
    "# train model \n",
    "model.train(steps=200,\n",
    "            optimizer_fn=torch.optim.Adam,\n",
    "            optimizer_args={'lr': 0.1,\n",
    "                            'weight_decay': 1e-7})"
   ]
  },
  {
   "cell_type": "code",
   "execution_count": 127,
   "metadata": {},
   "outputs": [
    {
     "output_type": "execute_result",
     "data": {
      "text/plain": [
       "(0.9890624235198535, 0.9872647970639767)"
      ]
     },
     "metadata": {},
     "execution_count": 127
    }
   ],
   "source": [
    "# roc-auc, avg-precision\n",
    "\n",
    "link_prediction_performance(scores_matrix=model._scores_matrix, val_ones=test_ones, val_zeros=test_zeros)"
   ]
  }
 ]
}