{
 "metadata": {
  "language_info": {
   "codemirror_mode": {
    "name": "ipython",
    "version": 3
   },
   "file_extension": ".py",
   "mimetype": "text/x-python",
   "name": "python",
   "nbconvert_exporter": "python",
   "pygments_lexer": "ipython3",
   "version": "3.8.5-final"
  },
  "orig_nbformat": 2,
  "kernelspec": {
   "name": "python38564bitfad426787c4d466e858501df55a3f5b8",
   "display_name": "Python 3.8.5 64-bit",
   "language": "python"
  }
 },
 "nbformat": 4,
 "nbformat_minor": 2,
 "cells": [
  {
   "cell_type": "code",
   "execution_count": 33,
   "metadata": {},
   "outputs": [
    {
     "output_type": "stream",
     "name": "stdout",
     "text": [
      "The autoreload extension is already loaded. To reload it, use:\n  %reload_ext autoreload\n"
     ]
    }
   ],
   "source": [
    "# import warnings\n",
    "# warnings.filterwarnings('ignore')\n",
    "%load_ext autoreload\n",
    "%autoreload 2\n",
    "\n",
    "import pickle\n",
    "import numpy as np\n",
    "import scipy.sparse as sp\n",
    "from scipy.sparse import load_npz\n",
    "\n",
    "import torch\n",
    "\n",
    "from cell import utils\n",
    "from cell.utils import link_prediction_performance\n",
    "from cell.cell import Cell, EdgeOverlapCriterion, LinkPredictionCriterion\n",
    "from cell.graph_statistics import compute_graph_statistics"
   ]
  },
  {
   "cell_type": "code",
   "execution_count": 34,
   "metadata": {},
   "outputs": [],
   "source": [
    "#train_graph \n",
    "\n",
    "_A_obs, _X_obs, _z_obs = utils.load_npz('../data/cora_ml.npz')\n",
    "# with open('./data/link_prediction.p', 'rb') as handle:\n",
    "#     val_ones, val_zeros, test_ones, test_zeros = pickle.load(handle)"
   ]
  },
  {
   "cell_type": "code",
   "execution_count": 37,
   "metadata": {},
   "outputs": [
    {
     "output_type": "stream",
     "name": "stdout",
     "text": [
      "Selecting 1 largest connected components\n"
     ]
    }
   ],
   "source": [
    "_A_obs = _A_obs + _A_obs.T\n",
    "_A_obs[_A_obs > 1] = 1\n",
    "lcc = utils.largest_connected_components(_A_obs)\n",
    "_A_obs = _A_obs[lcc,:][:,lcc]\n",
    "_N = _A_obs.shape[0]"
   ]
  },
  {
   "cell_type": "code",
   "execution_count": 38,
   "metadata": {},
   "outputs": [],
   "source": [
    "train_graph = _A_obs"
   ]
  },
  {
   "source": [
    "Edge overlap"
   ],
   "cell_type": "markdown",
   "metadata": {}
  },
  {
   "cell_type": "code",
   "execution_count": 14,
   "metadata": {},
   "outputs": [],
   "source": [
    "\n",
    "# initialize model with EO-criterion\n",
    "model = Cell(A=train_graph,\n",
    "             H=9,\n",
    "             callbacks=[EdgeOverlapCriterion(invoke_every=10, edge_overlap_limit=.5)])"
   ]
  },
  {
   "cell_type": "code",
   "execution_count": null,
   "metadata": {},
   "outputs": [],
   "source": []
  },
  {
   "cell_type": "code",
   "execution_count": 15,
   "metadata": {},
   "outputs": [
    {
     "output_type": "stream",
     "name": "stdout",
     "text": [
      "Step:  10/200 Loss: 6.11672 Edge-Overlap: 0.044 Total-Time: 3\n",
      "Step:  20/200 Loss: 4.20829 Edge-Overlap: 0.291 Total-Time: 7\n",
      "Step:  30/200 Loss: 3.49104 Edge-Overlap: 0.446 Total-Time: 11\n",
      "Step:  40/200 Loss: 3.16307 Edge-Overlap: 0.540 Total-Time: 15\n"
     ]
    }
   ],
   "source": [
    "# train model \n",
    "model.train(steps=200,\n",
    "            optimizer_fn=torch.optim.Adam,\n",
    "            optimizer_args={'lr': 0.1,\n",
    "                            'weight_decay': 1e-7})"
   ]
  },
  {
   "cell_type": "code",
   "execution_count": 16,
   "metadata": {},
   "outputs": [],
   "source": [
    "\n",
    "generated_graph = model.sample_graph()"
   ]
  },
  {
   "cell_type": "code",
   "execution_count": 17,
   "metadata": {},
   "outputs": [
    {
     "output_type": "execute_result",
     "data": {
      "text/plain": [
       "{'d_max': 191.0,\n",
       " 'd_min': 1.0,\n",
       " 'd': 5.447746243739566,\n",
       " 'LCC': 2946,\n",
       " 'wedge_count': 109583.0,\n",
       " 'claw_count': 2101324.0,\n",
       " 'triangle_count': 2547,\n",
       " 'square_count': 15225.0,\n",
       " 'power_law_exp': 1.7618571951562532,\n",
       " 'gini': 0.4648573805897793,\n",
       " 'rel_edge_distr_entropy': 0.9481511142508072,\n",
       " 'assortativity': -0.0741220706786816,\n",
       " 'clustering_coefficient': 0.06972796875427759,\n",
       " 'cpl': 5.156273311283376}"
      ]
     },
     "metadata": {},
     "execution_count": 17
    }
   ],
   "source": [
    "compute_graph_statistics(generated_graph)"
   ]
  },
  {
   "cell_type": "code",
   "execution_count": 18,
   "metadata": {},
   "outputs": [
    {
     "output_type": "execute_result",
     "data": {
      "text/plain": [
       "{'d_max': 246.0,\n",
       " 'd_min': 1.0,\n",
       " 'd': 5.4477463,\n",
       " 'LCC': 2810,\n",
       " 'wedge_count': 138083.0,\n",
       " 'claw_count': 3930549.0,\n",
       " 'triangle_count': 5308,\n",
       " 'square_count': 34607.0,\n",
       " 'power_law_exp': 1.8000197248954521,\n",
       " 'gini': 0.502809004629355,\n",
       " 'rel_edge_distr_entropy': 0.9374350325221678,\n",
       " 'assortativity': -0.07206001964302333,\n",
       " 'clustering_coefficient': 0.11532194404814496,\n",
       " 'cpl': 5.271030236946822}"
      ]
     },
     "metadata": {},
     "execution_count": 18
    }
   ],
   "source": [
    "compute_graph_statistics(train_graph)"
   ]
  },
  {
   "source": [
    "validation criteria"
   ],
   "cell_type": "markdown",
   "metadata": {}
  },
  {
   "cell_type": "code",
   "execution_count": 40,
   "metadata": {},
   "outputs": [],
   "source": [
    "val_share = 0.1\n",
    "test_share = 0.05\n",
    "seed = 481516234"
   ]
  },
  {
   "cell_type": "code",
   "execution_count": 41,
   "metadata": {},
   "outputs": [],
   "source": [
    "train_ones, val_ones, val_zeros, test_ones, test_zeros = utils.train_val_test_split_adjacency(_A_obs, val_share, test_share, seed, undirected=True, connected=True, asserts=True)"
   ]
  },
  {
   "cell_type": "code",
   "execution_count": null,
   "metadata": {},
   "outputs": [],
   "source": []
  },
  {
   "cell_type": "code",
   "execution_count": 21,
   "metadata": {},
   "outputs": [],
   "source": [
    "# with open('../data/link_prediction.p', 'rb') as handle:\n",
    "#     val_ones, val_zeros, test_ones, test_zeros = pickle.load(handle)"
   ]
  },
  {
   "cell_type": "code",
   "execution_count": null,
   "metadata": {},
   "outputs": [],
   "source": []
  },
  {
   "cell_type": "code",
   "execution_count": 42,
   "metadata": {},
   "outputs": [],
   "source": [
    "\n",
    "# initialize model with LP-criterion\n",
    "#\n",
    "model = Cell(A=train_graph,\n",
    "             H=9,\n",
    "             callbacks=[LinkPredictionCriterion(invoke_every=2,\n",
    "                                                val_ones=val_ones,\n",
    "                                            val_zeros=val_zeros,\n",
    "                                                max_patience=3)])"
   ]
  },
  {
   "cell_type": "code",
   "execution_count": 43,
   "metadata": {},
   "outputs": [
    {
     "output_type": "stream",
     "name": "stdout",
     "text": [
      "Step:   2/200 Loss: 7.92807 ROC-AUC Score: 0.874 Average Precision: 0.883 Total-Time: 0\n",
      "Step:   4/200 Loss: 7.73430 ROC-AUC Score: 0.928 Average Precision: 0.935 Total-Time: 1\n",
      "Step:   6/200 Loss: 7.32484 ROC-AUC Score: 0.945 Average Precision: 0.949 Total-Time: 1\n",
      "Step:   8/200 Loss: 6.72738 ROC-AUC Score: 0.958 Average Precision: 0.961 Total-Time: 2\n",
      "Step:  10/200 Loss: 6.06650 ROC-AUC Score: 0.972 Average Precision: 0.974 Total-Time: 2\n",
      "Step:  12/200 Loss: 5.48931 ROC-AUC Score: 0.983 Average Precision: 0.985 Total-Time: 3\n",
      "Step:  14/200 Loss: 5.05906 ROC-AUC Score: 0.990 Average Precision: 0.991 Total-Time: 3\n",
      "Step:  16/200 Loss: 4.73280 ROC-AUC Score: 0.992 Average Precision: 0.993 Total-Time: 4\n",
      "Step:  18/200 Loss: 4.45470 ROC-AUC Score: 0.992 Average Precision: 0.993 Total-Time: 4\n",
      "Step:  20/200 Loss: 4.22970 ROC-AUC Score: 0.993 Average Precision: 0.993 Total-Time: 5\n",
      "Step:  22/200 Loss: 4.04646 ROC-AUC Score: 0.994 Average Precision: 0.994 Total-Time: 5\n",
      "Step:  24/200 Loss: 3.89095 ROC-AUC Score: 0.996 Average Precision: 0.996 Total-Time: 6\n",
      "Step:  26/200 Loss: 3.76095 ROC-AUC Score: 0.996 Average Precision: 0.996 Total-Time: 6\n",
      "Step:  28/200 Loss: 3.64637 ROC-AUC Score: 0.996 Average Precision: 0.996 Total-Time: 7\n",
      "Step:  30/200 Loss: 3.54809 ROC-AUC Score: 0.997 Average Precision: 0.997 Total-Time: 7\n",
      "Step:  32/200 Loss: 3.46567 ROC-AUC Score: 0.997 Average Precision: 0.997 Total-Time: 8\n",
      "Step:  34/200 Loss: 3.39346 ROC-AUC Score: 0.998 Average Precision: 0.998 Total-Time: 9\n",
      "Step:  36/200 Loss: 3.33046 ROC-AUC Score: 0.998 Average Precision: 0.998 Total-Time: 9\n",
      "Step:  38/200 Loss: 3.27510 ROC-AUC Score: 0.998 Average Precision: 0.998 Total-Time: 10\n",
      "Step:  40/200 Loss: 3.22522 ROC-AUC Score: 0.999 Average Precision: 0.999 Total-Time: 10\n",
      "Step:  42/200 Loss: 3.18173 ROC-AUC Score: 0.999 Average Precision: 0.999 Total-Time: 11\n",
      "Step:  44/200 Loss: 3.14246 ROC-AUC Score: 0.999 Average Precision: 0.999 Total-Time: 11\n",
      "Step:  46/200 Loss: 3.10731 ROC-AUC Score: 0.999 Average Precision: 0.999 Total-Time: 12\n",
      "Step:  48/200 Loss: 3.07592 ROC-AUC Score: 0.999 Average Precision: 0.999 Total-Time: 13\n",
      "Step:  50/200 Loss: 3.04735 ROC-AUC Score: 0.999 Average Precision: 0.999 Total-Time: 13\n",
      "Step:  52/200 Loss: 3.02162 ROC-AUC Score: 0.999 Average Precision: 0.999 Total-Time: 14\n",
      "Step:  54/200 Loss: 2.99822 ROC-AUC Score: 0.999 Average Precision: 0.999 Total-Time: 14\n",
      "Step:  56/200 Loss: 2.97693 ROC-AUC Score: 0.999 Average Precision: 0.999 Total-Time: 15\n",
      "Step:  58/200 Loss: 2.95740 ROC-AUC Score: 0.999 Average Precision: 0.999 Total-Time: 15\n",
      "Step:  60/200 Loss: 2.93950 ROC-AUC Score: 0.999 Average Precision: 0.999 Total-Time: 16\n",
      "Step:  62/200 Loss: 2.92308 ROC-AUC Score: 0.999 Average Precision: 0.999 Total-Time: 17\n",
      "Step:  64/200 Loss: 2.90782 ROC-AUC Score: 0.999 Average Precision: 0.999 Total-Time: 17\n",
      "Step:  66/200 Loss: 2.89355 ROC-AUC Score: 0.999 Average Precision: 0.999 Total-Time: 18\n",
      "Step:  68/200 Loss: 2.88022 ROC-AUC Score: 0.999 Average Precision: 0.999 Total-Time: 18\n",
      "Step:  70/200 Loss: 2.86773 ROC-AUC Score: 0.999 Average Precision: 0.999 Total-Time: 19\n",
      "Step:  72/200 Loss: 2.85607 ROC-AUC Score: 0.999 Average Precision: 0.999 Total-Time: 20\n",
      "Step:  74/200 Loss: 2.84502 ROC-AUC Score: 0.999 Average Precision: 1.000 Total-Time: 20\n",
      "Step:  76/200 Loss: 2.83456 ROC-AUC Score: 1.000 Average Precision: 1.000 Total-Time: 21\n",
      "Step:  78/200 Loss: 2.82465 ROC-AUC Score: 1.000 Average Precision: 1.000 Total-Time: 21\n",
      "Step:  80/200 Loss: 2.81524 ROC-AUC Score: 1.000 Average Precision: 1.000 Total-Time: 22\n",
      "Step:  82/200 Loss: 2.80626 ROC-AUC Score: 1.000 Average Precision: 1.000 Total-Time: 22\n",
      "Step:  84/200 Loss: 2.79774 ROC-AUC Score: 1.000 Average Precision: 1.000 Total-Time: 23\n",
      "Step:  86/200 Loss: 2.78962 ROC-AUC Score: 1.000 Average Precision: 1.000 Total-Time: 23\n",
      "Step:  88/200 Loss: 2.78188 ROC-AUC Score: 1.000 Average Precision: 1.000 Total-Time: 24\n",
      "Step:  90/200 Loss: 2.77449 ROC-AUC Score: 1.000 Average Precision: 1.000 Total-Time: 24\n",
      "Step:  92/200 Loss: 2.76740 ROC-AUC Score: 1.000 Average Precision: 1.000 Total-Time: 25\n",
      "Step:  94/200 Loss: 2.76063 ROC-AUC Score: 1.000 Average Precision: 1.000 Total-Time: 25\n",
      "Step:  96/200 Loss: 2.75413 ROC-AUC Score: 1.000 Average Precision: 1.000 Total-Time: 26\n",
      "Step:  98/200 Loss: 2.74793 ROC-AUC Score: 1.000 Average Precision: 1.000 Total-Time: 27\n",
      "Step: 100/200 Loss: 2.74198 ROC-AUC Score: 1.000 Average Precision: 1.000 Total-Time: 27\n",
      "Step: 102/200 Loss: 2.73629 ROC-AUC Score: 1.000 Average Precision: 1.000 Total-Time: 28\n",
      "Step: 104/200 Loss: 2.73078 ROC-AUC Score: 1.000 Average Precision: 1.000 Total-Time: 29\n",
      "Step: 106/200 Loss: 2.72547 ROC-AUC Score: 1.000 Average Precision: 1.000 Total-Time: 29\n",
      "Step: 108/200 Loss: 2.72044 ROC-AUC Score: 1.000 Average Precision: 1.000 Total-Time: 30\n",
      "Step: 110/200 Loss: 2.71552 ROC-AUC Score: 1.000 Average Precision: 1.000 Total-Time: 30\n",
      "Step: 112/200 Loss: 2.71083 ROC-AUC Score: 1.000 Average Precision: 1.000 Total-Time: 31\n",
      "Step: 114/200 Loss: 2.70620 ROC-AUC Score: 1.000 Average Precision: 1.000 Total-Time: 32\n",
      "Step: 116/200 Loss: 2.70175 ROC-AUC Score: 1.000 Average Precision: 1.000 Total-Time: 32\n",
      "Step: 118/200 Loss: 2.69748 ROC-AUC Score: 1.000 Average Precision: 1.000 Total-Time: 33\n",
      "Step: 120/200 Loss: 2.69336 ROC-AUC Score: 1.000 Average Precision: 1.000 Total-Time: 33\n",
      "Step: 122/200 Loss: 2.68938 ROC-AUC Score: 1.000 Average Precision: 1.000 Total-Time: 34\n",
      "Step: 124/200 Loss: 2.68545 ROC-AUC Score: 1.000 Average Precision: 1.000 Total-Time: 35\n",
      "Step: 126/200 Loss: 2.68166 ROC-AUC Score: 1.000 Average Precision: 1.000 Total-Time: 35\n",
      "Step: 128/200 Loss: 2.67801 ROC-AUC Score: 1.000 Average Precision: 1.000 Total-Time: 36\n",
      "Step: 130/200 Loss: 2.67442 ROC-AUC Score: 1.000 Average Precision: 1.000 Total-Time: 37\n",
      "Step: 132/200 Loss: 2.67092 ROC-AUC Score: 1.000 Average Precision: 1.000 Total-Time: 37\n",
      "Step: 134/200 Loss: 2.66754 ROC-AUC Score: 1.000 Average Precision: 1.000 Total-Time: 38\n",
      "Step: 136/200 Loss: 2.66424 ROC-AUC Score: 1.000 Average Precision: 1.000 Total-Time: 38\n",
      "Step: 138/200 Loss: 2.66109 ROC-AUC Score: 1.000 Average Precision: 1.000 Total-Time: 39\n",
      "Step: 140/200 Loss: 2.65799 ROC-AUC Score: 1.000 Average Precision: 1.000 Total-Time: 39\n",
      "Step: 142/200 Loss: 2.65501 ROC-AUC Score: 1.000 Average Precision: 1.000 Total-Time: 40\n",
      "Step: 144/200 Loss: 2.65204 ROC-AUC Score: 1.000 Average Precision: 1.000 Total-Time: 41\n",
      "Step: 146/200 Loss: 2.64913 ROC-AUC Score: 1.000 Average Precision: 1.000 Total-Time: 41\n",
      "Step: 148/200 Loss: 2.64620 ROC-AUC Score: 1.000 Average Precision: 1.000 Total-Time: 42\n",
      "Step: 150/200 Loss: 2.64363 ROC-AUC Score: 1.000 Average Precision: 1.000 Total-Time: 43\n",
      "Step: 152/200 Loss: 2.64106 ROC-AUC Score: 1.000 Average Precision: 1.000 Total-Time: 43\n",
      "Step: 154/200 Loss: 2.63841 ROC-AUC Score: 1.000 Average Precision: 1.000 Total-Time: 44\n",
      "Step: 156/200 Loss: 2.63577 ROC-AUC Score: 1.000 Average Precision: 1.000 Total-Time: 44\n",
      "Step: 158/200 Loss: 2.63332 ROC-AUC Score: 1.000 Average Precision: 1.000 Total-Time: 45\n",
      "Step: 160/200 Loss: 2.63080 ROC-AUC Score: 1.000 Average Precision: 1.000 Total-Time: 45\n",
      "Step: 162/200 Loss: 2.62839 ROC-AUC Score: 1.000 Average Precision: 1.000 Total-Time: 46\n",
      "Step: 164/200 Loss: 2.62605 ROC-AUC Score: 1.000 Average Precision: 1.000 Total-Time: 47\n",
      "Step: 166/200 Loss: 2.62379 ROC-AUC Score: 1.000 Average Precision: 1.000 Total-Time: 47\n",
      "Step: 168/200 Loss: 2.62159 ROC-AUC Score: 1.000 Average Precision: 1.000 Total-Time: 48\n",
      "Step: 170/200 Loss: 2.61941 ROC-AUC Score: 1.000 Average Precision: 1.000 Total-Time: 48\n",
      "Step: 172/200 Loss: 2.61743 ROC-AUC Score: 1.000 Average Precision: 1.000 Total-Time: 49\n",
      "Step: 174/200 Loss: 2.61544 ROC-AUC Score: 1.000 Average Precision: 1.000 Total-Time: 50\n",
      "Step: 176/200 Loss: 2.61346 ROC-AUC Score: 1.000 Average Precision: 1.000 Total-Time: 50\n",
      "Step: 178/200 Loss: 2.61122 ROC-AUC Score: 1.000 Average Precision: 1.000 Total-Time: 51\n",
      "Step: 180/200 Loss: 2.60930 ROC-AUC Score: 1.000 Average Precision: 1.000 Total-Time: 51\n",
      "Step: 182/200 Loss: 2.60752 ROC-AUC Score: 1.000 Average Precision: 1.000 Total-Time: 52\n",
      "Step: 184/200 Loss: 2.60555 ROC-AUC Score: 1.000 Average Precision: 1.000 Total-Time: 53\n",
      "Step: 186/200 Loss: 2.60380 ROC-AUC Score: 1.000 Average Precision: 1.000 Total-Time: 53\n",
      "Step: 188/200 Loss: 2.60206 ROC-AUC Score: 1.000 Average Precision: 1.000 Total-Time: 54\n",
      "Step: 190/200 Loss: 2.60027 ROC-AUC Score: 1.000 Average Precision: 1.000 Total-Time: 54\n",
      "Step: 192/200 Loss: 2.59855 ROC-AUC Score: 1.000 Average Precision: 1.000 Total-Time: 55\n",
      "Step: 194/200 Loss: 2.59695 ROC-AUC Score: 1.000 Average Precision: 1.000 Total-Time: 56\n",
      "Step: 196/200 Loss: 2.59540 ROC-AUC Score: 1.000 Average Precision: 1.000 Total-Time: 56\n",
      "Step: 198/200 Loss: 2.59384 ROC-AUC Score: 1.000 Average Precision: 1.000 Total-Time: 57\n",
      "Step: 200/200 Loss: 2.59230 ROC-AUC Score: 1.000 Average Precision: 1.000 Total-Time: 58\n"
     ]
    }
   ],
   "source": [
    "\n",
    "# train model \n",
    "model.train(steps=200,\n",
    "            optimizer_fn=torch.optim.Adam,\n",
    "            optimizer_args={'lr': 0.1,\n",
    "                            'weight_decay': 1e-6})"
   ]
  },
  {
   "cell_type": "code",
   "execution_count": 44,
   "metadata": {},
   "outputs": [
    {
     "output_type": "execute_result",
     "data": {
      "text/plain": [
       "(0.999975, 0.9999752475247525)"
      ]
     },
     "metadata": {},
     "execution_count": 44
    }
   ],
   "source": [
    "link_prediction_performance(scores_matrix=model._scores_matrix, val_ones=test_ones, val_zeros=test_zeros)"
   ]
  },
  {
   "cell_type": "code",
   "execution_count": null,
   "metadata": {},
   "outputs": [],
   "source": []
  },
  {
   "cell_type": "code",
   "execution_count": 55,
   "metadata": {},
   "outputs": [
    {
     "output_type": "stream",
     "name": "stdout",
     "text": [
      "Selecting 1 largest connected components\n"
     ]
    }
   ],
   "source": [
    "_A_obs, _X_obs, _z_obs = utils.load_npz('../data/citeseer.npz')\n",
    "_A_obs = _A_obs + _A_obs.T\n",
    "_A_obs[_A_obs > 1] = 1\n",
    "lcc = utils.largest_connected_components(_A_obs)\n",
    "_A_obs = _A_obs[lcc,:][:,lcc]\n",
    "_N = _A_obs.shape[0]"
   ]
  },
  {
   "cell_type": "code",
   "execution_count": 56,
   "metadata": {},
   "outputs": [],
   "source": [
    "# initialize model with EO-criterion\n",
    "model = Cell(A=_A_obs,\n",
    "             H=9,\n",
    "             callbacks=[EdgeOverlapCriterion(invoke_every=10, edge_overlap_limit=.5)])"
   ]
  },
  {
   "cell_type": "code",
   "execution_count": 57,
   "metadata": {},
   "outputs": [
    {
     "output_type": "stream",
     "name": "stdout",
     "text": [
      "Step:  10/200 Loss: 5.31182 Edge-Overlap: 0.047 Total-Time: 2\n",
      "Step:  20/200 Loss: 3.15629 Edge-Overlap: 0.351 Total-Time: 4\n",
      "Step:  30/200 Loss: 2.32542 Edge-Overlap: 0.597 Total-Time: 6\n"
     ]
    }
   ],
   "source": [
    "# train model \n",
    "model.train(steps=200,\n",
    "            optimizer_fn=torch.optim.Adam,\n",
    "            optimizer_args={'lr': 0.1,\n",
    "                            'weight_decay': 1e-7})"
   ]
  },
  {
   "cell_type": "code",
   "execution_count": 58,
   "metadata": {},
   "outputs": [],
   "source": [
    "generated_graph = model.sample_graph()"
   ]
  },
  {
   "cell_type": "code",
   "execution_count": 59,
   "metadata": {},
   "outputs": [
    {
     "output_type": "execute_result",
     "data": {
      "text/plain": [
       "{'d_max': 55.0,\n",
       " 'd_min': 1.0,\n",
       " 'd': 3.5014218009478673,\n",
       " 'LCC': 2066,\n",
       " 'wedge_count': 19756.0,\n",
       " 'claw_count': 85692.0,\n",
       " 'triangle_count': 426,\n",
       " 'square_count': 1505.0,\n",
       " 'power_law_exp': 2.018716157596158,\n",
       " 'gini': 0.39795839031912905,\n",
       " 'rel_edge_distr_entropy': 0.9632865165023955,\n",
       " 'assortativity': -0.017407390313332816,\n",
       " 'clustering_coefficient': 0.06468920834176958,\n",
       " 'cpl': 6.635365658145284}"
      ]
     },
     "metadata": {},
     "execution_count": 59
    }
   ],
   "source": [
    "compute_graph_statistics(generated_graph)"
   ]
  },
  {
   "cell_type": "code",
   "execution_count": 60,
   "metadata": {},
   "outputs": [
    {
     "output_type": "execute_result",
     "data": {
      "text/plain": [
       "{'d_max': 99.0,\n",
       " 'd_min': 1.0,\n",
       " 'd': 3.5014217,\n",
       " 'LCC': 2110,\n",
       " 'wedge_count': 26160.0,\n",
       " 'claw_count': 251101.0,\n",
       " 'triangle_count': 1083,\n",
       " 'square_count': 6130.0,\n",
       " 'power_law_exp': 2.058415965970431,\n",
       " 'gini': 0.4269812453652264,\n",
       " 'rel_edge_distr_entropy': 0.9541777601995937,\n",
       " 'assortativity': 0.007273127853861046,\n",
       " 'clustering_coefficient': 0.12419724770642201,\n",
       " 'cpl': 9.310486989858404}"
      ]
     },
     "metadata": {},
     "execution_count": 60
    }
   ],
   "source": [
    "compute_graph_statistics(_A_obs)"
   ]
  },
  {
   "cell_type": "code",
   "execution_count": 66,
   "metadata": {},
   "outputs": [],
   "source": [
    "val_share = 0.1\n",
    "test_share = 0.05\n",
    "seed = 48151626"
   ]
  },
  {
   "cell_type": "code",
   "execution_count": 67,
   "metadata": {},
   "outputs": [],
   "source": [
    "train_ones, val_ones, val_zeros, test_ones, test_zeros = utils.train_val_test_split_adjacency(_A_obs, val_share, test_share, seed, undirected=True, connected=True, asserts=False)"
   ]
  },
  {
   "cell_type": "code",
   "execution_count": 71,
   "metadata": {},
   "outputs": [],
   "source": [
    "# initialize model with LP-criterion\n",
    "#\n",
    "model = Cell(A=_A_obs,\n",
    "             H=9,\n",
    "             callbacks=[LinkPredictionCriterion(invoke_every=2,\n",
    "                                                val_ones=val_ones,\n",
    "                                            val_zeros=val_zeros,\n",
    "                                                max_patience=3)])"
   ]
  },
  {
   "cell_type": "code",
   "execution_count": 72,
   "metadata": {},
   "outputs": [
    {
     "output_type": "stream",
     "name": "stdout",
     "text": [
      "Step:   2/200 Loss: 7.63338 ROC-AUC Score: 0.915 Average Precision: 0.928 Total-Time: 0\n",
      "Step:   4/200 Loss: 7.38481 ROC-AUC Score: 0.943 Average Precision: 0.953 Total-Time: 0\n",
      "Step:   6/200 Loss: 6.88181 ROC-AUC Score: 0.947 Average Precision: 0.956 Total-Time: 0\n",
      "Step:   8/200 Loss: 6.15669 ROC-AUC Score: 0.950 Average Precision: 0.957 Total-Time: 1\n",
      "Step:  10/200 Loss: 5.36616 ROC-AUC Score: 0.960 Average Precision: 0.964 Total-Time: 1\n",
      "Step:  12/200 Loss: 4.67934 ROC-AUC Score: 0.973 Average Precision: 0.975 Total-Time: 2\n",
      "Step:  14/200 Loss: 4.19243 ROC-AUC Score: 0.984 Average Precision: 0.985 Total-Time: 2\n",
      "Step:  16/200 Loss: 3.83087 ROC-AUC Score: 0.990 Average Precision: 0.991 Total-Time: 2\n",
      "Step:  18/200 Loss: 3.50107 ROC-AUC Score: 0.994 Average Precision: 0.994 Total-Time: 3\n",
      "Step:  20/200 Loss: 3.23473 ROC-AUC Score: 0.995 Average Precision: 0.995 Total-Time: 3\n",
      "Step:  22/200 Loss: 3.00925 ROC-AUC Score: 0.997 Average Precision: 0.997 Total-Time: 3\n",
      "Step:  24/200 Loss: 2.81438 ROC-AUC Score: 0.998 Average Precision: 0.998 Total-Time: 4\n",
      "Step:  26/200 Loss: 2.65171 ROC-AUC Score: 0.999 Average Precision: 0.999 Total-Time: 4\n",
      "Step:  28/200 Loss: 2.51409 ROC-AUC Score: 0.999 Average Precision: 0.999 Total-Time: 5\n",
      "Step:  30/200 Loss: 2.39942 ROC-AUC Score: 1.000 Average Precision: 1.000 Total-Time: 5\n",
      "Step:  32/200 Loss: 2.30292 ROC-AUC Score: 1.000 Average Precision: 1.000 Total-Time: 5\n",
      "Step:  34/200 Loss: 2.22317 ROC-AUC Score: 1.000 Average Precision: 1.000 Total-Time: 6\n",
      "Step:  36/200 Loss: 2.15597 ROC-AUC Score: 1.000 Average Precision: 1.000 Total-Time: 6\n",
      "Step:  38/200 Loss: 2.09915 ROC-AUC Score: 1.000 Average Precision: 1.000 Total-Time: 6\n",
      "Step:  40/200 Loss: 2.05118 ROC-AUC Score: 1.000 Average Precision: 1.000 Total-Time: 7\n",
      "Step:  42/200 Loss: 2.00945 ROC-AUC Score: 1.000 Average Precision: 1.000 Total-Time: 7\n",
      "Step:  44/200 Loss: 1.97340 ROC-AUC Score: 1.000 Average Precision: 1.000 Total-Time: 7\n",
      "Step:  46/200 Loss: 1.94230 ROC-AUC Score: 1.000 Average Precision: 1.000 Total-Time: 8\n",
      "Step:  48/200 Loss: 1.91457 ROC-AUC Score: 1.000 Average Precision: 1.000 Total-Time: 8\n",
      "Step:  50/200 Loss: 1.89037 ROC-AUC Score: 1.000 Average Precision: 1.000 Total-Time: 9\n",
      "Step:  52/200 Loss: 1.86902 ROC-AUC Score: 1.000 Average Precision: 1.000 Total-Time: 9\n",
      "Step:  54/200 Loss: 1.85045 ROC-AUC Score: 1.000 Average Precision: 1.000 Total-Time: 9\n",
      "Step:  56/200 Loss: 1.83396 ROC-AUC Score: 1.000 Average Precision: 1.000 Total-Time: 10\n",
      "Step:  58/200 Loss: 1.81937 ROC-AUC Score: 1.000 Average Precision: 1.000 Total-Time: 10\n",
      "Step:  60/200 Loss: 1.80642 ROC-AUC Score: 1.000 Average Precision: 1.000 Total-Time: 11\n"
     ]
    }
   ],
   "source": [
    "# train model \n",
    "model.train(steps=200,\n",
    "            optimizer_fn=torch.optim.Adam,\n",
    "            optimizer_args={'lr': 0.1,\n",
    "                            'weight_decay': 1e-6})"
   ]
  },
  {
   "cell_type": "code",
   "execution_count": 73,
   "metadata": {},
   "outputs": [
    {
     "output_type": "execute_result",
     "data": {
      "text/plain": [
       "(1.0, 1.0)"
      ]
     },
     "metadata": {},
     "execution_count": 73
    }
   ],
   "source": [
    "link_prediction_performance(scores_matrix=model._scores_matrix, val_ones=test_ones, val_zeros=test_zeros)"
   ]
  },
  {
   "cell_type": "code",
   "execution_count": null,
   "metadata": {},
   "outputs": [],
   "source": []
  },
  {
   "cell_type": "code",
   "execution_count": 74,
   "metadata": {},
   "outputs": [
    {
     "output_type": "stream",
     "name": "stdout",
     "text": [
      "Selecting 1 largest connected components\n"
     ]
    }
   ],
   "source": [
    "_A_obs, _X_obs, _z_obs = utils.load_npz('../data/polblogs.npz')\n",
    "_A_obs = _A_obs + _A_obs.T\n",
    "_A_obs[_A_obs > 1] = 1\n",
    "lcc = utils.largest_connected_components(_A_obs)\n",
    "_A_obs = _A_obs[lcc,:][:,lcc]\n",
    "_N = _A_obs.shape[0]"
   ]
  },
  {
   "cell_type": "code",
   "execution_count": 75,
   "metadata": {},
   "outputs": [],
   "source": [
    "# initialize model with EO-criterion\n",
    "model = Cell(A=_A_obs,\n",
    "             H=9,\n",
    "             callbacks=[EdgeOverlapCriterion(invoke_every=10, edge_overlap_limit=.5)])"
   ]
  },
  {
   "cell_type": "code",
   "execution_count": 76,
   "metadata": {},
   "outputs": [
    {
     "output_type": "stream",
     "name": "stdout",
     "text": [
      "Step:  10/200 Loss: 5.85236 Edge-Overlap: 0.322 Total-Time: 1\n",
      "Step:  20/200 Loss: 5.50769 Edge-Overlap: 0.334 Total-Time: 2\n",
      "Step:  30/200 Loss: 5.34249 Edge-Overlap: 0.370 Total-Time: 3\n",
      "Step:  40/200 Loss: 5.26058 Edge-Overlap: 0.391 Total-Time: 4\n",
      "Step:  50/200 Loss: 5.21466 Edge-Overlap: 0.402 Total-Time: 6\n",
      "Step:  60/200 Loss: 5.18701 Edge-Overlap: 0.402 Total-Time: 7\n",
      "Step:  70/200 Loss: 5.16819 Edge-Overlap: 0.405 Total-Time: 8\n",
      "Step:  80/200 Loss: 5.15462 Edge-Overlap: 0.410 Total-Time: 9\n",
      "Step:  90/200 Loss: 5.14412 Edge-Overlap: 0.416 Total-Time: 11\n",
      "Step: 100/200 Loss: 5.13580 Edge-Overlap: 0.417 Total-Time: 12\n",
      "Step: 110/200 Loss: 5.12906 Edge-Overlap: 0.410 Total-Time: 13\n",
      "Step: 120/200 Loss: 5.12339 Edge-Overlap: 0.422 Total-Time: 14\n",
      "Step: 130/200 Loss: 5.11848 Edge-Overlap: 0.424 Total-Time: 15\n",
      "Step: 140/200 Loss: 5.11413 Edge-Overlap: 0.421 Total-Time: 17\n",
      "Step: 150/200 Loss: 5.11028 Edge-Overlap: 0.423 Total-Time: 18\n",
      "Step: 160/200 Loss: 5.10686 Edge-Overlap: 0.425 Total-Time: 19\n",
      "Step: 170/200 Loss: 5.10394 Edge-Overlap: 0.427 Total-Time: 20\n",
      "Step: 180/200 Loss: 5.10117 Edge-Overlap: 0.424 Total-Time: 22\n",
      "Step: 190/200 Loss: 5.09868 Edge-Overlap: 0.427 Total-Time: 23\n",
      "Step: 200/200 Loss: 5.09652 Edge-Overlap: 0.425 Total-Time: 24\n"
     ]
    }
   ],
   "source": [
    "# train model \n",
    "model.train(steps=200,\n",
    "            optimizer_fn=torch.optim.Adam,\n",
    "            optimizer_args={'lr': 0.1,\n",
    "                            'weight_decay': 1e-7})"
   ]
  },
  {
   "cell_type": "code",
   "execution_count": 77,
   "metadata": {},
   "outputs": [],
   "source": [
    "generated_graph = model.sample_graph()"
   ]
  },
  {
   "cell_type": "code",
   "execution_count": 78,
   "metadata": {},
   "outputs": [
    {
     "output_type": "execute_result",
     "data": {
      "text/plain": [
       "{'d_max': 285.0,\n",
       " 'd_min': 1.0,\n",
       " 'd': 27.356792144026187,\n",
       " 'LCC': 1220,\n",
       " 'wedge_count': 1204509.0,\n",
       " 'claw_count': 46968179.0,\n",
       " 'triangle_count': 70833,\n",
       " 'square_count': 3306353.0,\n",
       " 'power_law_exp': 1.4029215956463672,\n",
       " 'gini': 0.5996028538514901,\n",
       " 'rel_edge_distr_entropy': 0.9113624629348419,\n",
       " 'assortativity': -0.24596029072229966,\n",
       " 'clustering_coefficient': 0.17641960334044826,\n",
       " 'cpl': 2.6980342688386494}"
      ]
     },
     "metadata": {},
     "execution_count": 78
    }
   ],
   "source": [
    "compute_graph_statistics(generated_graph)"
   ]
  },
  {
   "cell_type": "code",
   "execution_count": 79,
   "metadata": {},
   "outputs": [
    {
     "output_type": "execute_result",
     "data": {
      "text/plain": [
       "{'d_max': 351.0,\n",
       " 'd_min': 1.0,\n",
       " 'd': 27.35761,\n",
       " 'LCC': 1222,\n",
       " 'wedge_count': 1341632.0,\n",
       " 'claw_count': 62803482.666666664,\n",
       " 'triangle_count': 101043,\n",
       " 'square_count': 5172122.0,\n",
       " 'power_law_exp': 1.4142113430224184,\n",
       " 'gini': 0.6219855773483856,\n",
       " 'rel_edge_distr_entropy': 0.9026675551611921,\n",
       " 'assortativity': -0.22127261479881782,\n",
       " 'clustering_coefficient': 0.22594049635071317,\n",
       " 'cpl': 2.7375296736998864}"
      ]
     },
     "metadata": {},
     "execution_count": 79
    }
   ],
   "source": [
    "compute_graph_statistics(_A_obs)"
   ]
  },
  {
   "cell_type": "code",
   "execution_count": 80,
   "metadata": {},
   "outputs": [],
   "source": [
    "val_share = 0.1\n",
    "test_share = 0.05\n",
    "seed = 48151627"
   ]
  },
  {
   "cell_type": "code",
   "execution_count": 81,
   "metadata": {},
   "outputs": [],
   "source": [
    "train_ones, val_ones, val_zeros, test_ones, test_zeros = utils.train_val_test_split_adjacency(_A_obs, val_share, test_share, seed, undirected=True, connected=True, asserts=False)"
   ]
  },
  {
   "cell_type": "code",
   "execution_count": 82,
   "metadata": {},
   "outputs": [],
   "source": [
    "# initialize model with LP-criterion\n",
    "#\n",
    "model = Cell(A=_A_obs,\n",
    "             H=9,\n",
    "             callbacks=[LinkPredictionCriterion(invoke_every=2,\n",
    "                                                val_ones=val_ones,\n",
    "                                            val_zeros=val_zeros,\n",
    "                                                max_patience=3)])"
   ]
  },
  {
   "cell_type": "code",
   "execution_count": 83,
   "metadata": {},
   "outputs": [
    {
     "output_type": "stream",
     "name": "stdout",
     "text": [
      "Step:   2/200 Loss: 7.09961 ROC-AUC Score: 0.859 Average Precision: 0.862 Total-Time: 0\n",
      "Step:   4/200 Loss: 6.92702 ROC-AUC Score: 0.940 Average Precision: 0.934 Total-Time: 0\n",
      "Step:   6/200 Loss: 6.49180 ROC-AUC Score: 0.946 Average Precision: 0.939 Total-Time: 0\n",
      "Step:   8/200 Loss: 6.05247 ROC-AUC Score: 0.954 Average Precision: 0.948 Total-Time: 0\n",
      "Step:  10/200 Loss: 5.89296 ROC-AUC Score: 0.962 Average Precision: 0.957 Total-Time: 1\n",
      "Step:  12/200 Loss: 5.81134 ROC-AUC Score: 0.967 Average Precision: 0.962 Total-Time: 1\n",
      "Step:  14/200 Loss: 5.71908 ROC-AUC Score: 0.969 Average Precision: 0.964 Total-Time: 1\n",
      "Step:  16/200 Loss: 5.64729 ROC-AUC Score: 0.973 Average Precision: 0.968 Total-Time: 1\n",
      "Step:  18/200 Loss: 5.58388 ROC-AUC Score: 0.976 Average Precision: 0.972 Total-Time: 2\n",
      "Step:  20/200 Loss: 5.52527 ROC-AUC Score: 0.977 Average Precision: 0.975 Total-Time: 2\n",
      "Step:  22/200 Loss: 5.47827 ROC-AUC Score: 0.979 Average Precision: 0.976 Total-Time: 2\n",
      "Step:  24/200 Loss: 5.43891 ROC-AUC Score: 0.980 Average Precision: 0.977 Total-Time: 2\n",
      "Step:  26/200 Loss: 5.40745 ROC-AUC Score: 0.980 Average Precision: 0.978 Total-Time: 3\n",
      "Step:  28/200 Loss: 5.37818 ROC-AUC Score: 0.982 Average Precision: 0.980 Total-Time: 3\n",
      "Step:  30/200 Loss: 5.35313 ROC-AUC Score: 0.983 Average Precision: 0.981 Total-Time: 3\n",
      "Step:  32/200 Loss: 5.33108 ROC-AUC Score: 0.983 Average Precision: 0.982 Total-Time: 3\n",
      "Step:  34/200 Loss: 5.31046 ROC-AUC Score: 0.983 Average Precision: 0.981 Total-Time: 3\n",
      "Step:  36/200 Loss: 5.29258 ROC-AUC Score: 0.983 Average Precision: 0.981 Total-Time: 4\n",
      "Step:  38/200 Loss: 5.27727 ROC-AUC Score: 0.983 Average Precision: 0.981 Total-Time: 4\n",
      "Step:  40/200 Loss: 5.26367 ROC-AUC Score: 0.984 Average Precision: 0.981 Total-Time: 4\n"
     ]
    }
   ],
   "source": [
    "# train model \n",
    "model.train(steps=200,\n",
    "            optimizer_fn=torch.optim.Adam,\n",
    "            optimizer_args={'lr': 0.1,\n",
    "                            'weight_decay': 1e-6})"
   ]
  },
  {
   "cell_type": "code",
   "execution_count": 84,
   "metadata": {},
   "outputs": [
    {
     "output_type": "execute_result",
     "data": {
      "text/plain": [
       "(0.9841029220533595, 0.9817612171309184)"
      ]
     },
     "metadata": {},
     "execution_count": 84
    }
   ],
   "source": [
    "link_prediction_performance(scores_matrix=model._scores_matrix, val_ones=test_ones, val_zeros=test_zeros)"
   ]
  },
  {
   "cell_type": "code",
   "execution_count": null,
   "metadata": {},
   "outputs": [],
   "source": []
  }
 ]
}