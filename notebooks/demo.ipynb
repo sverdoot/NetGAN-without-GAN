{
 "metadata": {
  "language_info": {
   "codemirror_mode": {
    "name": "ipython",
    "version": 3
   },
   "file_extension": ".py",
   "mimetype": "text/x-python",
   "name": "python",
   "nbconvert_exporter": "python",
   "pygments_lexer": "ipython3",
   "version": "3.8.5-final"
  },
  "orig_nbformat": 2,
  "kernelspec": {
   "name": "python38564bitfad426787c4d466e858501df55a3f5b8",
   "display_name": "Python 3.8.5 64-bit",
   "language": "python"
  }
 },
 "nbformat": 4,
 "nbformat_minor": 2,
 "cells": [
  {
   "cell_type": "code",
   "execution_count": 1,
   "metadata": {},
   "outputs": [],
   "source": [
    "# import warnings\n",
    "# warnings.filterwarnings('ignore')\n",
    "%load_ext autoreload\n",
    "%autoreload 2\n",
    "\n",
    "import pickle\n",
    "import numpy as np\n",
    "import scipy.sparse as sp\n",
    "from scipy.sparse import load_npz\n",
    "import pandas as pd\n",
    "\n",
    "import torch\n",
    "\n",
    "from cell import utils\n",
    "from cell.utils import link_prediction_performance, edge_overlap\n",
    "from cell.cell import Cell, EdgeOverlapCriterion, LinkPredictionCriterion\n",
    "from cell.graph_statistics import compute_graph_statistics"
   ]
  },
  {
   "cell_type": "code",
   "execution_count": 2,
   "metadata": {},
   "outputs": [],
   "source": [
    "def run(g_type='cell', loss_fn=None, criterion='eo', nsteps=200, nsamples=5, optimizer_args=None, collect_stat=True):\n",
    "    if criterion == 'eo':\n",
    "        callbacks = [EdgeOverlapCriterion(invoke_every=10, edge_overlap_limit=.5)]\n",
    "    elif criterion == 'val':\n",
    "        callbacks = [LinkPredictionCriterion(invoke_every=2,\n",
    "                                                val_ones=val_ones,\n",
    "                                            val_zeros=val_zeros,\n",
    "                                                max_patience=5)]\n",
    "    else:\n",
    "        raise NameError\n",
    "\n",
    "    model = Cell(A=train_graph,\n",
    "             H=9,\n",
    "             g_type=g_type,\n",
    "             loss_fn=loss_fn,\n",
    "             callbacks=callbacks)\n",
    "\n",
    "    # train model\n",
    "    if optimizer_args is None:\n",
    "         optimizer_args = {'lr': 0.1, 'weight_decay': 1e-5}\n",
    "    model.train(steps=nsteps,\n",
    "                optimizer_fn=torch.optim.Adam,\n",
    "                optimizer_args=optimizer_args)\n",
    "    \n",
    "    roc_auc, avg_prec = link_prediction_performance(scores_matrix=model._scores_matrix, val_ones=test_ones, val_zeros=test_zeros)\n",
    "    print(f'ROC-AUC: {roc_auc}, AVG_PREC: {avg_prec}')\n",
    "\n",
    "    if collect_stat:\n",
    "        generated_graphs = [model.sample_graph() for _ in range(nsamples)]\n",
    "        stats = [compute_graph_statistics(gg) for gg in generated_graphs]\n",
    "        stat_df = pd.DataFrame({k: [s[k] for s in stats] for k in stats[0].keys()})\n",
    "        stat_df = stat_df.mean()\n",
    "        stat_df['roc-auc'] = roc_auc\n",
    "        stat_df['avg-prec'] = avg_prec\n",
    "\n",
    "        return stat_df.T, generated_graphs"
   ]
  },
  {
   "source": [
    "# CORA ML"
   ],
   "cell_type": "markdown",
   "metadata": {}
  },
  {
   "cell_type": "code",
   "execution_count": 3,
   "metadata": {},
   "outputs": [
    {
     "output_type": "stream",
     "name": "stdout",
     "text": [
      "Selecting 1 largest connected components\n"
     ]
    }
   ],
   "source": [
    "#train_graph \n",
    "_A_obs, _X_obs, _z_obs = utils.load_npz('../data/cora_ml.npz')\n",
    "_A_obs = _A_obs + _A_obs.T\n",
    "_A_obs[_A_obs > 1] = 1\n",
    "lcc = utils.largest_connected_components(_A_obs)\n",
    "_A_obs = _A_obs[lcc,:][:,lcc]\n",
    "_N = _A_obs.shape[0]"
   ]
  },
  {
   "cell_type": "code",
   "execution_count": 4,
   "metadata": {},
   "outputs": [],
   "source": [
    "val_share = 0.05\n",
    "test_share = 0.1\n",
    "seed = 42 #481516234\n",
    "\n",
    "train_ones, val_ones, val_zeros, test_ones, test_zeros = utils.train_val_test_split_adjacency(_A_obs, val_share, test_share, seed, undirected=True, connected=True, asserts=True)\n",
    "\n",
    "train_graph = sp.coo_matrix((np.ones(len(train_ones)),(train_ones[:,0], train_ones[:,1]))).tocsr()\n",
    "assert (train_graph.toarray() == train_graph.toarray().T).all()"
   ]
  },
  {
   "cell_type": "code",
   "execution_count": 5,
   "metadata": {},
   "outputs": [],
   "source": [
    "df = pd.DataFrame()"
   ]
  },
  {
   "source": [
    "### Edge overlap"
   ],
   "cell_type": "markdown",
   "metadata": {}
  },
  {
   "source": [
    "#### CELL"
   ],
   "cell_type": "markdown",
   "metadata": {}
  },
  {
   "cell_type": "code",
   "execution_count": 6,
   "metadata": {},
   "outputs": [
    {
     "output_type": "stream",
     "name": "stdout",
     "text": [
      "Step:  10/200 Loss: 6.01586 Edge-Overlap: 0.038 Total-Time: 4\n",
      "Step:  20/200 Loss: 4.05325 Edge-Overlap: 0.276 Total-Time: 8\n",
      "Step:  30/200 Loss: 3.32439 Edge-Overlap: 0.426 Total-Time: 12\n",
      "Step:  40/200 Loss: 3.01242 Edge-Overlap: 0.502 Total-Time: 16\n",
      "ROC-AUC: 0.9457973906682476, AVG_PREC: 0.9525788314348327\n"
     ]
    }
   ],
   "source": [
    "method = 'cell'\n",
    "options = dict(g_type='cell')\n",
    "\n",
    "stat_df, _ = run(**options)\n",
    "df[method] = stat_df"
   ]
  },
  {
   "source": [
    "#### SVD"
   ],
   "cell_type": "markdown",
   "metadata": {}
  },
  {
   "cell_type": "code",
   "execution_count": 7,
   "metadata": {},
   "outputs": [
    {
     "output_type": "stream",
     "name": "stdout",
     "text": [
      "Step:  10/400 Loss: 7.94193 Edge-Overlap: 0.002 Total-Time: 3\n",
      "Step:  20/400 Loss: 7.92814 Edge-Overlap: 0.002 Total-Time: 8\n",
      "Step:  30/400 Loss: 7.47896 Edge-Overlap: 0.020 Total-Time: 13\n",
      "Step:  40/400 Loss: 6.79170 Edge-Overlap: 0.035 Total-Time: 17\n",
      "Step:  50/400 Loss: 6.00597 Edge-Overlap: 0.097 Total-Time: 21\n",
      "Step:  60/400 Loss: 5.20309 Edge-Overlap: 0.146 Total-Time: 25\n",
      "Step:  70/400 Loss: 4.74022 Edge-Overlap: 0.174 Total-Time: 30\n",
      "Step:  80/400 Loss: 4.49785 Edge-Overlap: 0.209 Total-Time: 34\n",
      "Step:  90/400 Loss: 4.35357 Edge-Overlap: 0.221 Total-Time: 38\n",
      "Step: 100/400 Loss: 4.27166 Edge-Overlap: 0.236 Total-Time: 42\n",
      "Step: 110/400 Loss: 4.22694 Edge-Overlap: 0.249 Total-Time: 46\n",
      "Step: 120/400 Loss: 4.19445 Edge-Overlap: 0.247 Total-Time: 52\n",
      "Step: 130/400 Loss: 4.20267 Edge-Overlap: 0.251 Total-Time: 56\n",
      "Step: 140/400 Loss: 4.18658 Edge-Overlap: 0.258 Total-Time: 61\n",
      "Step: 150/400 Loss: 4.21205 Edge-Overlap: 0.247 Total-Time: 66\n",
      "Step: 160/400 Loss: 4.19877 Edge-Overlap: 0.255 Total-Time: 70\n",
      "Step: 170/400 Loss: 4.14986 Edge-Overlap: 0.267 Total-Time: 74\n",
      "Step: 180/400 Loss: 4.17368 Edge-Overlap: 0.272 Total-Time: 79\n",
      "Step: 190/400 Loss: 4.14029 Edge-Overlap: 0.270 Total-Time: 83\n",
      "Step: 200/400 Loss: 4.14842 Edge-Overlap: 0.278 Total-Time: 87\n",
      "Step: 210/400 Loss: 4.15761 Edge-Overlap: 0.287 Total-Time: 92\n",
      "Step: 220/400 Loss: 4.16664 Edge-Overlap: 0.274 Total-Time: 96\n",
      "Step: 230/400 Loss: 4.17680 Edge-Overlap: 0.274 Total-Time: 100\n",
      "Step: 240/400 Loss: 4.17364 Edge-Overlap: 0.280 Total-Time: 104\n",
      "Step: 250/400 Loss: 4.16169 Edge-Overlap: 0.280 Total-Time: 108\n",
      "Step: 260/400 Loss: 4.12166 Edge-Overlap: 0.297 Total-Time: 113\n",
      "Step: 270/400 Loss: 4.11801 Edge-Overlap: 0.299 Total-Time: 117\n",
      "Step: 280/400 Loss: 4.13399 Edge-Overlap: 0.289 Total-Time: 122\n",
      "Step: 290/400 Loss: 4.18806 Edge-Overlap: 0.283 Total-Time: 126\n",
      "Step: 300/400 Loss: 4.19593 Edge-Overlap: 0.280 Total-Time: 130\n",
      "Step: 310/400 Loss: 4.17362 Edge-Overlap: 0.290 Total-Time: 134\n",
      "Step: 320/400 Loss: 4.11177 Edge-Overlap: 0.301 Total-Time: 139\n",
      "Step: 330/400 Loss: 4.07418 Edge-Overlap: 0.308 Total-Time: 144\n",
      "Step: 340/400 Loss: 4.05073 Edge-Overlap: 0.308 Total-Time: 148\n",
      "Step: 350/400 Loss: 4.12163 Edge-Overlap: 0.301 Total-Time: 152\n",
      "Step: 360/400 Loss: 4.23344 Edge-Overlap: 0.295 Total-Time: 156\n",
      "Step: 370/400 Loss: 4.23480 Edge-Overlap: 0.277 Total-Time: 161\n",
      "Step: 380/400 Loss: 4.22209 Edge-Overlap: 0.289 Total-Time: 165\n",
      "Step: 390/400 Loss: 4.14006 Edge-Overlap: 0.296 Total-Time: 169\n",
      "Step: 400/400 Loss: 4.05254 Edge-Overlap: 0.319 Total-Time: 173\n",
      "ROC-AUC: 0.9577804546045511, AVG_PREC: 0.958603281600297\n"
     ]
    }
   ],
   "source": [
    "method = 'svd'\n",
    "options = dict(g_type='svd', nsteps=400)\n",
    "\n",
    "stat_df, _ = run(**options)\n",
    "df[method] = stat_df"
   ]
  },
  {
   "source": [
    "#### our CELL"
   ],
   "cell_type": "markdown",
   "metadata": {}
  },
  {
   "cell_type": "code",
   "execution_count": 8,
   "metadata": {},
   "outputs": [
    {
     "output_type": "stream",
     "name": "stdout",
     "text": [
      "Step:  10/200 Loss: 7.26073 Edge-Overlap: 0.023 Total-Time: 4\n",
      "Step:  20/200 Loss: 6.58085 Edge-Overlap: 0.049 Total-Time: 9\n",
      "Step:  30/200 Loss: 5.71365 Edge-Overlap: 0.078 Total-Time: 14\n",
      "Step:  40/200 Loss: 4.68742 Edge-Overlap: 0.159 Total-Time: 19\n",
      "Step:  50/200 Loss: 4.06416 Edge-Overlap: 0.255 Total-Time: 24\n",
      "Step:  60/200 Loss: 3.64424 Edge-Overlap: 0.343 Total-Time: 29\n",
      "Step:  70/200 Loss: 3.37734 Edge-Overlap: 0.409 Total-Time: 33\n",
      "Step:  80/200 Loss: 3.18726 Edge-Overlap: 0.445 Total-Time: 38\n",
      "Step:  90/200 Loss: 3.01348 Edge-Overlap: 0.519 Total-Time: 42\n",
      "ROC-AUC: 0.9547604092098854, AVG_PREC: 0.9581684006198069\n"
     ]
    }
   ],
   "source": [
    "method = 'nonlin cell'\n",
    "optimizer_args = dict(lr=0.1, weight_decay=1e-4)\n",
    "options = dict(g_type='fc', optimizer_args=optimizer_args)\n",
    "\n",
    "stat_df, _ = run(**options)\n",
    "df[method] = stat_df"
   ]
  },
  {
   "source": [
    "#### Results"
   ],
   "cell_type": "markdown",
   "metadata": {}
  },
  {
   "cell_type": "code",
   "execution_count": 9,
   "metadata": {},
   "outputs": [],
   "source": [
    "df['gt'] = list(compute_graph_statistics(_A_obs).values()) + [1, 1]"
   ]
  },
  {
   "cell_type": "code",
   "execution_count": 10,
   "metadata": {},
   "outputs": [
    {
     "output_type": "execute_result",
     "data": {
      "text/plain": [
       "                                cell           svd   nonlin cell            gt\n",
       "d_max                   1.846000e+02  2.140000e+02  1.964000e+02  2.460000e+02\n",
       "d_min                   1.000000e+00  1.000000e+00  1.000000e+00  1.000000e+00\n",
       "d                       4.827758e+00  4.827758e+00  4.827758e+00  5.680427e+00\n",
       "LCC                     2.807600e+03  2.810000e+03  2.799800e+03  2.810000e+03\n",
       "wedge_count             7.648460e+04  8.457000e+04  9.500080e+04  1.377190e+05\n",
       "claw_count              1.486932e+06  2.107483e+06  2.176951e+06  3.930163e+06\n",
       "triangle_count          1.206400e+03  1.339800e+03  2.036800e+03  5.247000e+03\n",
       "square_count            5.472600e+03  5.458400e+03  1.435440e+04  3.450700e+04\n",
       "power_law_exp           1.806878e+00  1.825743e+00  1.850737e+00  1.767268e+00\n",
       "gini                    4.377946e-01  4.546647e-01  4.782584e-01  4.964733e-01\n",
       "rel_edge_distr_entropy  9.531976e-01  9.493007e-01  9.421315e-01  9.385288e-01\n",
       "assortativity          -7.436426e-02 -8.500642e-02 -7.490580e-02 -7.659231e-02\n",
       "clustering_coefficient  4.734619e-02  4.757409e-02  6.438549e-02  1.142980e-01\n",
       "cpl                     5.143297e+00  5.191114e+00  5.458666e+00  5.271418e+00\n",
       "roc-auc                 9.457974e-01  9.577805e-01  9.547604e-01  1.000000e+00\n",
       "avg-prec                9.525788e-01  9.586033e-01  9.581684e-01  1.000000e+00"
      ],
      "text/html": "<div>\n<style scoped>\n    .dataframe tbody tr th:only-of-type {\n        vertical-align: middle;\n    }\n\n    .dataframe tbody tr th {\n        vertical-align: top;\n    }\n\n    .dataframe thead th {\n        text-align: right;\n    }\n</style>\n<table border=\"1\" class=\"dataframe\">\n  <thead>\n    <tr style=\"text-align: right;\">\n      <th></th>\n      <th>cell</th>\n      <th>svd</th>\n      <th>nonlin cell</th>\n      <th>gt</th>\n    </tr>\n  </thead>\n  <tbody>\n    <tr>\n      <th>d_max</th>\n      <td>1.846000e+02</td>\n      <td>2.140000e+02</td>\n      <td>1.964000e+02</td>\n      <td>2.460000e+02</td>\n    </tr>\n    <tr>\n      <th>d_min</th>\n      <td>1.000000e+00</td>\n      <td>1.000000e+00</td>\n      <td>1.000000e+00</td>\n      <td>1.000000e+00</td>\n    </tr>\n    <tr>\n      <th>d</th>\n      <td>4.827758e+00</td>\n      <td>4.827758e+00</td>\n      <td>4.827758e+00</td>\n      <td>5.680427e+00</td>\n    </tr>\n    <tr>\n      <th>LCC</th>\n      <td>2.807600e+03</td>\n      <td>2.810000e+03</td>\n      <td>2.799800e+03</td>\n      <td>2.810000e+03</td>\n    </tr>\n    <tr>\n      <th>wedge_count</th>\n      <td>7.648460e+04</td>\n      <td>8.457000e+04</td>\n      <td>9.500080e+04</td>\n      <td>1.377190e+05</td>\n    </tr>\n    <tr>\n      <th>claw_count</th>\n      <td>1.486932e+06</td>\n      <td>2.107483e+06</td>\n      <td>2.176951e+06</td>\n      <td>3.930163e+06</td>\n    </tr>\n    <tr>\n      <th>triangle_count</th>\n      <td>1.206400e+03</td>\n      <td>1.339800e+03</td>\n      <td>2.036800e+03</td>\n      <td>5.247000e+03</td>\n    </tr>\n    <tr>\n      <th>square_count</th>\n      <td>5.472600e+03</td>\n      <td>5.458400e+03</td>\n      <td>1.435440e+04</td>\n      <td>3.450700e+04</td>\n    </tr>\n    <tr>\n      <th>power_law_exp</th>\n      <td>1.806878e+00</td>\n      <td>1.825743e+00</td>\n      <td>1.850737e+00</td>\n      <td>1.767268e+00</td>\n    </tr>\n    <tr>\n      <th>gini</th>\n      <td>4.377946e-01</td>\n      <td>4.546647e-01</td>\n      <td>4.782584e-01</td>\n      <td>4.964733e-01</td>\n    </tr>\n    <tr>\n      <th>rel_edge_distr_entropy</th>\n      <td>9.531976e-01</td>\n      <td>9.493007e-01</td>\n      <td>9.421315e-01</td>\n      <td>9.385288e-01</td>\n    </tr>\n    <tr>\n      <th>assortativity</th>\n      <td>-7.436426e-02</td>\n      <td>-8.500642e-02</td>\n      <td>-7.490580e-02</td>\n      <td>-7.659231e-02</td>\n    </tr>\n    <tr>\n      <th>clustering_coefficient</th>\n      <td>4.734619e-02</td>\n      <td>4.757409e-02</td>\n      <td>6.438549e-02</td>\n      <td>1.142980e-01</td>\n    </tr>\n    <tr>\n      <th>cpl</th>\n      <td>5.143297e+00</td>\n      <td>5.191114e+00</td>\n      <td>5.458666e+00</td>\n      <td>5.271418e+00</td>\n    </tr>\n    <tr>\n      <th>roc-auc</th>\n      <td>9.457974e-01</td>\n      <td>9.577805e-01</td>\n      <td>9.547604e-01</td>\n      <td>1.000000e+00</td>\n    </tr>\n    <tr>\n      <th>avg-prec</th>\n      <td>9.525788e-01</td>\n      <td>9.586033e-01</td>\n      <td>9.581684e-01</td>\n      <td>1.000000e+00</td>\n    </tr>\n  </tbody>\n</table>\n</div>"
     },
     "metadata": {},
     "execution_count": 10
    }
   ],
   "source": [
    "df"
   ]
  },
  {
   "source": [
    "### Link Prediction Criterion"
   ],
   "cell_type": "markdown",
   "metadata": {}
  },
  {
   "source": [
    "#### CELL"
   ],
   "cell_type": "markdown",
   "metadata": {}
  },
  {
   "cell_type": "code",
   "execution_count": 11,
   "metadata": {},
   "outputs": [
    {
     "output_type": "stream",
     "name": "stdout",
     "text": [
      "Step:   2/200 Loss: 7.92702 ROC-AUC Score: 0.602 Average Precision: 0.626 Total-Time: 0\n",
      "Step:   4/200 Loss: 7.71740 ROC-AUC Score: 0.691 Average Precision: 0.710 Total-Time: 1\n",
      "Step:   6/200 Loss: 7.27345 ROC-AUC Score: 0.740 Average Precision: 0.756 Total-Time: 2\n",
      "Step:   8/200 Loss: 6.62059 ROC-AUC Score: 0.787 Average Precision: 0.799 Total-Time: 3\n",
      "Step:  10/200 Loss: 5.89705 ROC-AUC Score: 0.833 Average Precision: 0.845 Total-Time: 4\n",
      "Step:  12/200 Loss: 5.27090 ROC-AUC Score: 0.869 Average Precision: 0.883 Total-Time: 5\n",
      "Step:  14/200 Loss: 4.81201 ROC-AUC Score: 0.888 Average Precision: 0.903 Total-Time: 6\n",
      "Step:  16/200 Loss: 4.47060 ROC-AUC Score: 0.899 Average Precision: 0.913 Total-Time: 6\n",
      "Step:  18/200 Loss: 4.19335 ROC-AUC Score: 0.907 Average Precision: 0.918 Total-Time: 9\n",
      "Step:  20/200 Loss: 3.96231 ROC-AUC Score: 0.915 Average Precision: 0.924 Total-Time: 10\n",
      "Step:  22/200 Loss: 3.77934 ROC-AUC Score: 0.921 Average Precision: 0.930 Total-Time: 11\n",
      "Step:  24/200 Loss: 3.62857 ROC-AUC Score: 0.925 Average Precision: 0.933 Total-Time: 12\n",
      "Step:  26/200 Loss: 3.50052 ROC-AUC Score: 0.928 Average Precision: 0.935 Total-Time: 13\n",
      "Step:  28/200 Loss: 3.39029 ROC-AUC Score: 0.931 Average Precision: 0.935 Total-Time: 15\n",
      "Step:  30/200 Loss: 3.29870 ROC-AUC Score: 0.934 Average Precision: 0.940 Total-Time: 16\n",
      "Step:  32/200 Loss: 3.22094 ROC-AUC Score: 0.936 Average Precision: 0.944 Total-Time: 17\n",
      "Step:  34/200 Loss: 3.15594 ROC-AUC Score: 0.937 Average Precision: 0.947 Total-Time: 17\n",
      "Step:  36/200 Loss: 3.09939 ROC-AUC Score: 0.939 Average Precision: 0.950 Total-Time: 18\n",
      "Step:  38/200 Loss: 3.05159 ROC-AUC Score: 0.940 Average Precision: 0.952 Total-Time: 19\n",
      "Step:  40/200 Loss: 3.01039 ROC-AUC Score: 0.941 Average Precision: 0.953 Total-Time: 21\n",
      "Step:  42/200 Loss: 2.97512 ROC-AUC Score: 0.941 Average Precision: 0.952 Total-Time: 21\n",
      "Step:  44/200 Loss: 2.94370 ROC-AUC Score: 0.940 Average Precision: 0.952 Total-Time: 22\n",
      "Step:  46/200 Loss: 2.91602 ROC-AUC Score: 0.939 Average Precision: 0.951 Total-Time: 23\n",
      "Step:  48/200 Loss: 2.89151 ROC-AUC Score: 0.939 Average Precision: 0.951 Total-Time: 24\n",
      "Step:  50/200 Loss: 2.86967 ROC-AUC Score: 0.940 Average Precision: 0.951 Total-Time: 25\n",
      "Step:  52/200 Loss: 2.85006 ROC-AUC Score: 0.939 Average Precision: 0.951 Total-Time: 26\n",
      "ROC-AUC: 0.9460934428360858, AVG_PREC: 0.9477906451093939\n"
     ]
    }
   ],
   "source": [
    "method = 'cell'\n",
    "options = dict(g_type='cell', criterion='val', collect_stat=False)\n",
    "\n",
    "run(**options)\n",
    "#df[method] = stat_df"
   ]
  },
  {
   "source": [
    "#### SVD"
   ],
   "cell_type": "markdown",
   "metadata": {}
  },
  {
   "cell_type": "code",
   "execution_count": 12,
   "metadata": {},
   "outputs": [
    {
     "output_type": "stream",
     "name": "stdout",
     "text": [
      "Step:   2/400 Loss: 7.94520 ROC-AUC Score: 0.498 Average Precision: 0.505 Total-Time: 0\n",
      "Step:   4/400 Loss: 7.94193 ROC-AUC Score: 0.500 Average Precision: 0.530 Total-Time: 1\n",
      "Step:   6/400 Loss: 7.94166 ROC-AUC Score: 0.511 Average Precision: 0.536 Total-Time: 2\n",
      "Step:   8/400 Loss: 7.94090 ROC-AUC Score: 0.579 Average Precision: 0.625 Total-Time: 3\n",
      "Step:  10/400 Loss: 7.94088 ROC-AUC Score: 0.644 Average Precision: 0.711 Total-Time: 4\n",
      "Step:  12/400 Loss: 7.93385 ROC-AUC Score: 0.723 Average Precision: 0.781 Total-Time: 4\n",
      "Step:  14/400 Loss: 7.91625 ROC-AUC Score: 0.778 Average Precision: 0.823 Total-Time: 5\n",
      "Step:  16/400 Loss: 7.87864 ROC-AUC Score: 0.805 Average Precision: 0.843 Total-Time: 6\n",
      "Step:  18/400 Loss: 7.80791 ROC-AUC Score: 0.816 Average Precision: 0.845 Total-Time: 7\n",
      "Step:  20/400 Loss: 7.69928 ROC-AUC Score: 0.834 Average Precision: 0.858 Total-Time: 8\n",
      "Step:  22/400 Loss: 7.58459 ROC-AUC Score: 0.856 Average Precision: 0.874 Total-Time: 9\n",
      "Step:  24/400 Loss: 7.46546 ROC-AUC Score: 0.864 Average Precision: 0.884 Total-Time: 10\n",
      "Step:  26/400 Loss: 7.30307 ROC-AUC Score: 0.883 Average Precision: 0.900 Total-Time: 10\n",
      "Step:  28/400 Loss: 7.10162 ROC-AUC Score: 0.898 Average Precision: 0.913 Total-Time: 11\n",
      "Step:  30/400 Loss: 6.91485 ROC-AUC Score: 0.911 Average Precision: 0.923 Total-Time: 12\n",
      "Step:  32/400 Loss: 6.74539 ROC-AUC Score: 0.924 Average Precision: 0.932 Total-Time: 13\n",
      "Step:  34/400 Loss: 6.58284 ROC-AUC Score: 0.933 Average Precision: 0.939 Total-Time: 15\n",
      "Step:  36/400 Loss: 6.43830 ROC-AUC Score: 0.937 Average Precision: 0.944 Total-Time: 16\n",
      "Step:  38/400 Loss: 6.30705 ROC-AUC Score: 0.946 Average Precision: 0.952 Total-Time: 19\n",
      "Step:  40/400 Loss: 6.17124 ROC-AUC Score: 0.952 Average Precision: 0.958 Total-Time: 25\n",
      "Step:  42/400 Loss: 6.04470 ROC-AUC Score: 0.954 Average Precision: 0.960 Total-Time: 31\n",
      "Step:  44/400 Loss: 5.92198 ROC-AUC Score: 0.955 Average Precision: 0.961 Total-Time: 36\n",
      "Step:  46/400 Loss: 5.80326 ROC-AUC Score: 0.956 Average Precision: 0.962 Total-Time: 40\n",
      "Step:  48/400 Loss: 5.69082 ROC-AUC Score: 0.957 Average Precision: 0.963 Total-Time: 44\n",
      "Step:  50/400 Loss: 5.58471 ROC-AUC Score: 0.956 Average Precision: 0.963 Total-Time: 44\n",
      "Step:  52/400 Loss: 5.48768 ROC-AUC Score: 0.958 Average Precision: 0.964 Total-Time: 45\n",
      "Step:  54/400 Loss: 5.40062 ROC-AUC Score: 0.959 Average Precision: 0.964 Total-Time: 46\n",
      "Step:  56/400 Loss: 5.32056 ROC-AUC Score: 0.958 Average Precision: 0.962 Total-Time: 47\n",
      "Step:  58/400 Loss: 5.24749 ROC-AUC Score: 0.959 Average Precision: 0.964 Total-Time: 48\n",
      "Step:  60/400 Loss: 5.18458 ROC-AUC Score: 0.962 Average Precision: 0.967 Total-Time: 48\n",
      "Step:  62/400 Loss: 5.12748 ROC-AUC Score: 0.961 Average Precision: 0.965 Total-Time: 49\n",
      "Step:  64/400 Loss: 5.07850 ROC-AUC Score: 0.961 Average Precision: 0.966 Total-Time: 50\n",
      "Step:  66/400 Loss: 5.03407 ROC-AUC Score: 0.962 Average Precision: 0.967 Total-Time: 50\n",
      "Step:  68/400 Loss: 4.99347 ROC-AUC Score: 0.961 Average Precision: 0.964 Total-Time: 51\n",
      "Step:  70/400 Loss: 4.95897 ROC-AUC Score: 0.963 Average Precision: 0.968 Total-Time: 52\n",
      "Step:  72/400 Loss: 4.93163 ROC-AUC Score: 0.964 Average Precision: 0.968 Total-Time: 53\n",
      "Step:  74/400 Loss: 4.89963 ROC-AUC Score: 0.962 Average Precision: 0.966 Total-Time: 54\n",
      "Step:  76/400 Loss: 4.87361 ROC-AUC Score: 0.961 Average Precision: 0.965 Total-Time: 55\n",
      "Step:  78/400 Loss: 4.84840 ROC-AUC Score: 0.963 Average Precision: 0.967 Total-Time: 56\n",
      "Step:  80/400 Loss: 4.82590 ROC-AUC Score: 0.963 Average Precision: 0.965 Total-Time: 57\n",
      "Step:  82/400 Loss: 4.80405 ROC-AUC Score: 0.963 Average Precision: 0.966 Total-Time: 58\n",
      "Step:  84/400 Loss: 4.78251 ROC-AUC Score: 0.965 Average Precision: 0.968 Total-Time: 59\n",
      "Step:  86/400 Loss: 4.76901 ROC-AUC Score: 0.963 Average Precision: 0.966 Total-Time: 60\n",
      "Step:  88/400 Loss: 4.74852 ROC-AUC Score: 0.965 Average Precision: 0.968 Total-Time: 61\n",
      "Step:  90/400 Loss: 4.73304 ROC-AUC Score: 0.964 Average Precision: 0.967 Total-Time: 67\n",
      "Step:  92/400 Loss: 4.72037 ROC-AUC Score: 0.964 Average Precision: 0.966 Total-Time: 68\n",
      "Step:  94/400 Loss: 4.71242 ROC-AUC Score: 0.966 Average Precision: 0.969 Total-Time: 69\n",
      "Step:  96/400 Loss: 4.70020 ROC-AUC Score: 0.963 Average Precision: 0.965 Total-Time: 70\n",
      "Step:  98/400 Loss: 4.69303 ROC-AUC Score: 0.965 Average Precision: 0.968 Total-Time: 71\n",
      "Step: 100/400 Loss: 4.68303 ROC-AUC Score: 0.963 Average Precision: 0.967 Total-Time: 71\n",
      "Step: 102/400 Loss: 4.67341 ROC-AUC Score: 0.964 Average Precision: 0.967 Total-Time: 72\n",
      "Step: 104/400 Loss: 4.66842 ROC-AUC Score: 0.966 Average Precision: 0.969 Total-Time: 73\n",
      "Step: 106/400 Loss: 4.66507 ROC-AUC Score: 0.964 Average Precision: 0.967 Total-Time: 74\n",
      "ROC-AUC: 0.9558600315475696, AVG_PREC: 0.9600216397232626\n"
     ]
    }
   ],
   "source": [
    "method = 'svd'\n",
    "options = dict(g_type='svd', criterion='val', nsteps=400, collect_stat=False)\n",
    "\n",
    "run(**options)\n",
    "#df[method] = stat_dfmethod = 'cell'"
   ]
  },
  {
   "source": [
    "#### our CELL"
   ],
   "cell_type": "markdown",
   "metadata": {}
  },
  {
   "cell_type": "code",
   "execution_count": 13,
   "metadata": {},
   "outputs": [
    {
     "output_type": "stream",
     "name": "stdout",
     "text": [
      "Step:   2/200 Loss: 7.90419 ROC-AUC Score: 0.822 Average Precision: 0.840 Total-Time: 1\n",
      "Step:   4/200 Loss: 7.57049 ROC-AUC Score: 0.827 Average Precision: 0.845 Total-Time: 1\n",
      "Step:   6/200 Loss: 7.35356 ROC-AUC Score: 0.844 Average Precision: 0.856 Total-Time: 2\n",
      "Step:   8/200 Loss: 7.31659 ROC-AUC Score: 0.843 Average Precision: 0.865 Total-Time: 3\n",
      "Step:  10/200 Loss: 7.24757 ROC-AUC Score: 0.827 Average Precision: 0.854 Total-Time: 5\n",
      "Step:  12/200 Loss: 7.19946 ROC-AUC Score: 0.844 Average Precision: 0.867 Total-Time: 6\n",
      "Step:  14/200 Loss: 7.10661 ROC-AUC Score: 0.849 Average Precision: 0.871 Total-Time: 6\n",
      "Step:  16/200 Loss: 6.93392 ROC-AUC Score: 0.855 Average Precision: 0.871 Total-Time: 7\n",
      "Step:  18/200 Loss: 6.74417 ROC-AUC Score: 0.876 Average Precision: 0.891 Total-Time: 8\n",
      "Step:  20/200 Loss: 6.53212 ROC-AUC Score: 0.891 Average Precision: 0.901 Total-Time: 10\n",
      "Step:  22/200 Loss: 6.32547 ROC-AUC Score: 0.890 Average Precision: 0.893 Total-Time: 12\n",
      "Step:  24/200 Loss: 6.14707 ROC-AUC Score: 0.896 Average Precision: 0.887 Total-Time: 13\n",
      "Step:  26/200 Loss: 5.87179 ROC-AUC Score: 0.912 Average Precision: 0.920 Total-Time: 14\n",
      "Step:  28/200 Loss: 5.62515 ROC-AUC Score: 0.927 Average Precision: 0.934 Total-Time: 15\n",
      "Step:  30/200 Loss: 5.35249 ROC-AUC Score: 0.931 Average Precision: 0.939 Total-Time: 16\n",
      "Step:  32/200 Loss: 5.61661 ROC-AUC Score: 0.919 Average Precision: 0.925 Total-Time: 17\n",
      "Step:  34/200 Loss: 5.11992 ROC-AUC Score: 0.935 Average Precision: 0.934 Total-Time: 18\n",
      "Step:  36/200 Loss: 4.91086 ROC-AUC Score: 0.947 Average Precision: 0.953 Total-Time: 19\n",
      "Step:  38/200 Loss: 4.71512 ROC-AUC Score: 0.952 Average Precision: 0.957 Total-Time: 20\n",
      "Step:  40/200 Loss: 4.50913 ROC-AUC Score: 0.950 Average Precision: 0.955 Total-Time: 22\n",
      "Step:  42/200 Loss: 4.46136 ROC-AUC Score: 0.954 Average Precision: 0.957 Total-Time: 23\n",
      "Step:  44/200 Loss: 4.23102 ROC-AUC Score: 0.957 Average Precision: 0.959 Total-Time: 24\n",
      "Step:  46/200 Loss: 4.03305 ROC-AUC Score: 0.955 Average Precision: 0.957 Total-Time: 25\n",
      "Step:  48/200 Loss: 4.17980 ROC-AUC Score: 0.940 Average Precision: 0.940 Total-Time: 27\n",
      "Step:  50/200 Loss: 4.07339 ROC-AUC Score: 0.948 Average Precision: 0.942 Total-Time: 28\n",
      "Step:  52/200 Loss: 3.91417 ROC-AUC Score: 0.958 Average Precision: 0.961 Total-Time: 29\n",
      "Step:  54/200 Loss: 3.77987 ROC-AUC Score: 0.962 Average Precision: 0.966 Total-Time: 30\n",
      "Step:  56/200 Loss: 3.67579 ROC-AUC Score: 0.958 Average Precision: 0.961 Total-Time: 31\n",
      "Step:  58/200 Loss: 3.82903 ROC-AUC Score: 0.962 Average Precision: 0.964 Total-Time: 31\n",
      "Step:  60/200 Loss: 3.62172 ROC-AUC Score: 0.961 Average Precision: 0.963 Total-Time: 32\n",
      "Step:  62/200 Loss: 3.50146 ROC-AUC Score: 0.964 Average Precision: 0.967 Total-Time: 33\n",
      "Step:  64/200 Loss: 3.40129 ROC-AUC Score: 0.964 Average Precision: 0.968 Total-Time: 34\n",
      "Step:  66/200 Loss: 3.31931 ROC-AUC Score: 0.965 Average Precision: 0.968 Total-Time: 35\n",
      "Step:  68/200 Loss: 3.27669 ROC-AUC Score: 0.967 Average Precision: 0.970 Total-Time: 36\n",
      "Step:  70/200 Loss: 3.42706 ROC-AUC Score: 0.962 Average Precision: 0.966 Total-Time: 37\n",
      "Step:  72/200 Loss: 3.27554 ROC-AUC Score: 0.961 Average Precision: 0.959 Total-Time: 38\n",
      "Step:  74/200 Loss: 3.25037 ROC-AUC Score: 0.967 Average Precision: 0.969 Total-Time: 39\n",
      "Step:  76/200 Loss: 3.18088 ROC-AUC Score: 0.968 Average Precision: 0.968 Total-Time: 40\n",
      "Step:  78/200 Loss: 3.11597 ROC-AUC Score: 0.965 Average Precision: 0.966 Total-Time: 41\n",
      "Step:  80/200 Loss: 3.09203 ROC-AUC Score: 0.963 Average Precision: 0.963 Total-Time: 42\n",
      "ROC-AUC: 0.9578149157034527, AVG_PREC: 0.9596444049050065\n"
     ]
    }
   ],
   "source": [
    "method = 'nonlin cell'\n",
    "optimizer_args = dict(lr=0.1, weight_decay=5e-5)\n",
    "options = dict(g_type='fc', criterion='val', optimizer_args=optimizer_args, collect_stat=False)\n",
    "\n",
    "run(**options)\n",
    "#df[method] = stat_df"
   ]
  },
  {
   "source": [
    "# Citeseer"
   ],
   "cell_type": "markdown",
   "metadata": {}
  },
  {
   "cell_type": "code",
   "execution_count": 14,
   "metadata": {},
   "outputs": [
    {
     "output_type": "stream",
     "name": "stdout",
     "text": [
      "Selecting 1 largest connected components\n"
     ]
    }
   ],
   "source": [
    "_A_obs, _X_obs, _z_obs = utils.load_npz('../data/citeseer.npz')\n",
    "_A_obs = _A_obs + _A_obs.T\n",
    "_A_obs[_A_obs > 1] = 1\n",
    "_A_obs = _A_obs - sp.eye(_A_obs.shape[0], _A_obs.shape[0])\n",
    "_A_obs[_A_obs < 0] = 0\n",
    "lcc = utils.largest_connected_components(_A_obs)\n",
    "_A_obs = _A_obs[lcc,:][:,lcc]\n",
    "_N = _A_obs.shape[0]"
   ]
  },
  {
   "cell_type": "code",
   "execution_count": 15,
   "metadata": {},
   "outputs": [],
   "source": [
    "val_share = 0.05\n",
    "test_share = 0.1\n",
    "seed = 48\n",
    "\n",
    "#there are self loops!\n",
    "\n",
    "train_ones, val_ones, val_zeros, test_ones, test_zeros = utils.train_val_test_split_adjacency(_A_obs, val_share, test_share, seed, undirected=True, connected=True, asserts=False)\n",
    "\n",
    "train_graph = sp.coo_matrix((np.ones(len(train_ones)),(train_ones[:,0], train_ones[:,1]))).tocsr()\n",
    "assert (train_graph.toarray() == train_graph.toarray().T).all()"
   ]
  },
  {
   "cell_type": "code",
   "execution_count": 16,
   "metadata": {},
   "outputs": [],
   "source": [
    "df = pd.DataFrame()"
   ]
  },
  {
   "source": [
    "#### CELL"
   ],
   "cell_type": "markdown",
   "metadata": {}
  },
  {
   "cell_type": "code",
   "execution_count": 17,
   "metadata": {},
   "outputs": [
    {
     "output_type": "stream",
     "name": "stdout",
     "text": [
      "Step:  10/200 Loss: 5.28629 Edge-Overlap: 0.044 Total-Time: 2\n",
      "Step:  20/200 Loss: 2.91523 Edge-Overlap: 0.363 Total-Time: 4\n",
      "Step:  30/200 Loss: 2.04880 Edge-Overlap: 0.611 Total-Time: 7\n",
      "ROC-AUC: 0.8873980978260869, AVG_PREC: 0.9049761542549186\n"
     ]
    }
   ],
   "source": [
    "method = 'cell'\n",
    "options = dict(g_type='cell')\n",
    "\n",
    "stat_df, _ = run(**options)\n",
    "df[method] = stat_df"
   ]
  },
  {
   "source": [
    "#### SVD"
   ],
   "cell_type": "markdown",
   "metadata": {}
  },
  {
   "cell_type": "code",
   "execution_count": 18,
   "metadata": {},
   "outputs": [
    {
     "output_type": "stream",
     "name": "stdout",
     "text": [
      "Step:  10/400 Loss: 7.65241 Edge-Overlap: 0.002 Total-Time: 3\n",
      "Step:  20/400 Loss: 7.26079 Edge-Overlap: 0.011 Total-Time: 6\n",
      "Step:  30/400 Loss: 5.88715 Edge-Overlap: 0.072 Total-Time: 8\n",
      "Step:  40/400 Loss: 4.45293 Edge-Overlap: 0.158 Total-Time: 11\n",
      "Step:  50/400 Loss: 3.48089 Edge-Overlap: 0.315 Total-Time: 14\n",
      "Step:  60/400 Loss: 2.89399 Edge-Overlap: 0.444 Total-Time: 16\n",
      "Step:  70/400 Loss: 2.59868 Edge-Overlap: 0.520 Total-Time: 19\n",
      "ROC-AUC: 0.9151110586011343, AVG_PREC: 0.9294366246611824\n"
     ]
    }
   ],
   "source": [
    "method = 'svd'\n",
    "options = dict(g_type='svd', nsteps=400)\n",
    "\n",
    "stat_df, _ = run(**options)\n",
    "df[method] = stat_df"
   ]
  },
  {
   "source": [
    "#### our CELL"
   ],
   "cell_type": "markdown",
   "metadata": {}
  },
  {
   "cell_type": "code",
   "execution_count": 19,
   "metadata": {},
   "outputs": [
    {
     "output_type": "stream",
     "name": "stdout",
     "text": [
      "Step:  10/200 Loss: 6.31022 Edge-Overlap: 0.024 Total-Time: 3\n",
      "Step:  20/200 Loss: 4.06900 Edge-Overlap: 0.207 Total-Time: 6\n",
      "Step:  30/200 Loss: 2.59340 Edge-Overlap: 0.485 Total-Time: 10\n",
      "Step:  40/200 Loss: 2.13415 Edge-Overlap: 0.644 Total-Time: 13\n",
      "ROC-AUC: 0.8846733223062383, AVG_PREC: 0.8967969524264645\n"
     ]
    }
   ],
   "source": [
    "method = 'nonlin cell'\n",
    "optimizer_args = dict(lr=0.05, weight_decay=1e-5)\n",
    "options = dict(g_type='fc', optimizer_args=optimizer_args)\n",
    "\n",
    "stat_df, _ = run(**options)\n",
    "df[method] = stat_df"
   ]
  },
  {
   "source": [
    "#### Results"
   ],
   "cell_type": "markdown",
   "metadata": {}
  },
  {
   "cell_type": "code",
   "execution_count": 20,
   "metadata": {},
   "outputs": [],
   "source": [
    "df['gt'] = list(compute_graph_statistics(_A_obs).values()) + [1, 1]"
   ]
  },
  {
   "cell_type": "code",
   "execution_count": 21,
   "metadata": {},
   "outputs": [
    {
     "output_type": "execute_result",
     "data": {
      "text/plain": [
       "                                cell           svd    nonlin cell  \\\n",
       "d_max                      55.000000     49.800000      70.800000   \n",
       "d_min                       1.000000      1.000000       1.000000   \n",
       "d                           2.954502      2.954502       2.954502   \n",
       "LCC                      2073.800000   2099.200000    1966.800000   \n",
       "wedge_count             13354.800000  13328.800000   18488.600000   \n",
       "claw_count              57748.600000  52871.000000  136247.800000   \n",
       "triangle_count            144.800000    146.000000     279.200000   \n",
       "square_count              439.000000    415.400000    1075.000000   \n",
       "power_law_exp               2.187040      2.195489       2.299983   \n",
       "gini                        0.376319      0.381230       0.433082   \n",
       "rel_edge_distr_entropy      0.966360      0.965683       0.952351   \n",
       "assortativity              -0.059686     -0.075747      -0.049608   \n",
       "clustering_coefficient      0.032483      0.032917       0.045320   \n",
       "cpl                         7.477538      7.670413       7.245008   \n",
       "roc-auc                     0.887398      0.915111       0.884673   \n",
       "avg-prec                    0.904976      0.929437       0.896797   \n",
       "\n",
       "                                   gt  \n",
       "d_max                       99.000000  \n",
       "d_min                        1.000000  \n",
       "d                            3.476777  \n",
       "LCC                       2110.000000  \n",
       "wedge_count              25943.000000  \n",
       "claw_count              250348.000000  \n",
       "triangle_count            1083.000000  \n",
       "square_count              5977.000000  \n",
       "power_law_exp                2.068238  \n",
       "gini                         0.428260  \n",
       "rel_edge_distr_entropy       0.953867  \n",
       "assortativity                0.060227  \n",
       "clustering_coefficient       0.125236  \n",
       "cpl                          9.310487  \n",
       "roc-auc                      1.000000  \n",
       "avg-prec                     1.000000  "
      ],
      "text/html": "<div>\n<style scoped>\n    .dataframe tbody tr th:only-of-type {\n        vertical-align: middle;\n    }\n\n    .dataframe tbody tr th {\n        vertical-align: top;\n    }\n\n    .dataframe thead th {\n        text-align: right;\n    }\n</style>\n<table border=\"1\" class=\"dataframe\">\n  <thead>\n    <tr style=\"text-align: right;\">\n      <th></th>\n      <th>cell</th>\n      <th>svd</th>\n      <th>nonlin cell</th>\n      <th>gt</th>\n    </tr>\n  </thead>\n  <tbody>\n    <tr>\n      <th>d_max</th>\n      <td>55.000000</td>\n      <td>49.800000</td>\n      <td>70.800000</td>\n      <td>99.000000</td>\n    </tr>\n    <tr>\n      <th>d_min</th>\n      <td>1.000000</td>\n      <td>1.000000</td>\n      <td>1.000000</td>\n      <td>1.000000</td>\n    </tr>\n    <tr>\n      <th>d</th>\n      <td>2.954502</td>\n      <td>2.954502</td>\n      <td>2.954502</td>\n      <td>3.476777</td>\n    </tr>\n    <tr>\n      <th>LCC</th>\n      <td>2073.800000</td>\n      <td>2099.200000</td>\n      <td>1966.800000</td>\n      <td>2110.000000</td>\n    </tr>\n    <tr>\n      <th>wedge_count</th>\n      <td>13354.800000</td>\n      <td>13328.800000</td>\n      <td>18488.600000</td>\n      <td>25943.000000</td>\n    </tr>\n    <tr>\n      <th>claw_count</th>\n      <td>57748.600000</td>\n      <td>52871.000000</td>\n      <td>136247.800000</td>\n      <td>250348.000000</td>\n    </tr>\n    <tr>\n      <th>triangle_count</th>\n      <td>144.800000</td>\n      <td>146.000000</td>\n      <td>279.200000</td>\n      <td>1083.000000</td>\n    </tr>\n    <tr>\n      <th>square_count</th>\n      <td>439.000000</td>\n      <td>415.400000</td>\n      <td>1075.000000</td>\n      <td>5977.000000</td>\n    </tr>\n    <tr>\n      <th>power_law_exp</th>\n      <td>2.187040</td>\n      <td>2.195489</td>\n      <td>2.299983</td>\n      <td>2.068238</td>\n    </tr>\n    <tr>\n      <th>gini</th>\n      <td>0.376319</td>\n      <td>0.381230</td>\n      <td>0.433082</td>\n      <td>0.428260</td>\n    </tr>\n    <tr>\n      <th>rel_edge_distr_entropy</th>\n      <td>0.966360</td>\n      <td>0.965683</td>\n      <td>0.952351</td>\n      <td>0.953867</td>\n    </tr>\n    <tr>\n      <th>assortativity</th>\n      <td>-0.059686</td>\n      <td>-0.075747</td>\n      <td>-0.049608</td>\n      <td>0.060227</td>\n    </tr>\n    <tr>\n      <th>clustering_coefficient</th>\n      <td>0.032483</td>\n      <td>0.032917</td>\n      <td>0.045320</td>\n      <td>0.125236</td>\n    </tr>\n    <tr>\n      <th>cpl</th>\n      <td>7.477538</td>\n      <td>7.670413</td>\n      <td>7.245008</td>\n      <td>9.310487</td>\n    </tr>\n    <tr>\n      <th>roc-auc</th>\n      <td>0.887398</td>\n      <td>0.915111</td>\n      <td>0.884673</td>\n      <td>1.000000</td>\n    </tr>\n    <tr>\n      <th>avg-prec</th>\n      <td>0.904976</td>\n      <td>0.929437</td>\n      <td>0.896797</td>\n      <td>1.000000</td>\n    </tr>\n  </tbody>\n</table>\n</div>"
     },
     "metadata": {},
     "execution_count": 21
    }
   ],
   "source": [
    "df"
   ]
  },
  {
   "source": [],
   "cell_type": "markdown",
   "metadata": {}
  },
  {
   "cell_type": "code",
   "execution_count": null,
   "metadata": {},
   "outputs": [],
   "source": []
  },
  {
   "cell_type": "code",
   "execution_count": 22,
   "metadata": {},
   "outputs": [
    {
     "output_type": "stream",
     "name": "stdout",
     "text": [
      "Step:   2/200 Loss: 7.63157 ROC-AUC Score: 0.601 Average Precision: 0.613 Total-Time: 0\n",
      "Step:   4/200 Loss: 7.36956 ROC-AUC Score: 0.660 Average Precision: 0.685 Total-Time: 1\n",
      "Step:   6/200 Loss: 6.84330 ROC-AUC Score: 0.692 Average Precision: 0.718 Total-Time: 2\n",
      "Step:   8/200 Loss: 6.07910 ROC-AUC Score: 0.718 Average Precision: 0.745 Total-Time: 2\n",
      "Step:  10/200 Loss: 5.23607 ROC-AUC Score: 0.757 Average Precision: 0.784 Total-Time: 3\n",
      "Step:  12/200 Loss: 4.48084 ROC-AUC Score: 0.798 Average Precision: 0.825 Total-Time: 3\n",
      "Step:  14/200 Loss: 3.91412 ROC-AUC Score: 0.830 Average Precision: 0.857 Total-Time: 4\n",
      "Step:  16/200 Loss: 3.49612 ROC-AUC Score: 0.853 Average Precision: 0.877 Total-Time: 5\n",
      "Step:  18/200 Loss: 3.14994 ROC-AUC Score: 0.867 Average Precision: 0.887 Total-Time: 6\n",
      "Step:  20/200 Loss: 2.85988 ROC-AUC Score: 0.877 Average Precision: 0.896 Total-Time: 8\n",
      "Step:  22/200 Loss: 2.62161 ROC-AUC Score: 0.885 Average Precision: 0.904 Total-Time: 8\n",
      "Step:  24/200 Loss: 2.42357 ROC-AUC Score: 0.894 Average Precision: 0.911 Total-Time: 9\n",
      "Step:  26/200 Loss: 2.25809 ROC-AUC Score: 0.899 Average Precision: 0.916 Total-Time: 9\n",
      "Step:  28/200 Loss: 2.12326 ROC-AUC Score: 0.903 Average Precision: 0.919 Total-Time: 10\n",
      "Step:  30/200 Loss: 2.01723 ROC-AUC Score: 0.904 Average Precision: 0.920 Total-Time: 10\n",
      "Step:  32/200 Loss: 1.93019 ROC-AUC Score: 0.906 Average Precision: 0.922 Total-Time: 11\n",
      "Step:  34/200 Loss: 1.86062 ROC-AUC Score: 0.908 Average Precision: 0.923 Total-Time: 13\n",
      "Step:  36/200 Loss: 1.80278 ROC-AUC Score: 0.908 Average Precision: 0.923 Total-Time: 14\n",
      "Step:  38/200 Loss: 1.75598 ROC-AUC Score: 0.908 Average Precision: 0.923 Total-Time: 14\n",
      "Step:  40/200 Loss: 1.71714 ROC-AUC Score: 0.908 Average Precision: 0.923 Total-Time: 15\n",
      "Step:  42/200 Loss: 1.68583 ROC-AUC Score: 0.908 Average Precision: 0.923 Total-Time: 15\n",
      "Step:  44/200 Loss: 1.66021 ROC-AUC Score: 0.906 Average Precision: 0.922 Total-Time: 16\n",
      "Step:  46/200 Loss: 1.63926 ROC-AUC Score: 0.904 Average Precision: 0.920 Total-Time: 17\n",
      "ROC-AUC: 0.8717140241020793, AVG_PREC: 0.9012166753473332\n"
     ]
    }
   ],
   "source": [
    "method = 'cell'\n",
    "options = dict(g_type='cell', criterion='val', collect_stat=False)\n",
    "\n",
    "run(**options)\n",
    "#df[method] = stat_df"
   ]
  },
  {
   "cell_type": "code",
   "execution_count": 23,
   "metadata": {},
   "outputs": [
    {
     "output_type": "stream",
     "name": "stdout",
     "text": [
      "Step:   2/400 Loss: 7.65646 ROC-AUC Score: 0.518 Average Precision: 0.504 Total-Time: 0\n",
      "Step:   4/400 Loss: 7.65481 ROC-AUC Score: 0.465 Average Precision: 0.475 Total-Time: 1\n",
      "Step:   6/400 Loss: 7.65462 ROC-AUC Score: 0.527 Average Precision: 0.600 Total-Time: 2\n",
      "Step:   8/400 Loss: 7.65357 ROC-AUC Score: 0.651 Average Precision: 0.729 Total-Time: 2\n",
      "Step:  10/400 Loss: 7.64557 ROC-AUC Score: 0.726 Average Precision: 0.792 Total-Time: 4\n",
      "Step:  12/400 Loss: 7.61561 ROC-AUC Score: 0.809 Average Precision: 0.856 Total-Time: 7\n",
      "Step:  14/400 Loss: 7.54284 ROC-AUC Score: 0.875 Average Precision: 0.902 Total-Time: 8\n",
      "Step:  16/400 Loss: 7.39171 ROC-AUC Score: 0.882 Average Precision: 0.908 Total-Time: 9\n",
      "Step:  18/400 Loss: 7.14557 ROC-AUC Score: 0.896 Average Precision: 0.915 Total-Time: 9\n",
      "Step:  20/400 Loss: 6.88452 ROC-AUC Score: 0.899 Average Precision: 0.916 Total-Time: 10\n",
      "Step:  22/400 Loss: 6.58569 ROC-AUC Score: 0.912 Average Precision: 0.926 Total-Time: 11\n",
      "Step:  24/400 Loss: 6.19785 ROC-AUC Score: 0.923 Average Precision: 0.936 Total-Time: 11\n",
      "Step:  26/400 Loss: 5.80804 ROC-AUC Score: 0.914 Average Precision: 0.933 Total-Time: 12\n",
      "Step:  28/400 Loss: 5.41989 ROC-AUC Score: 0.913 Average Precision: 0.930 Total-Time: 13\n",
      "Step:  30/400 Loss: 5.02356 ROC-AUC Score: 0.911 Average Precision: 0.928 Total-Time: 13\n",
      "Step:  32/400 Loss: 4.62840 ROC-AUC Score: 0.912 Average Precision: 0.929 Total-Time: 14\n",
      "Step:  34/400 Loss: 4.25414 ROC-AUC Score: 0.911 Average Precision: 0.931 Total-Time: 15\n",
      "Step:  36/400 Loss: 3.91248 ROC-AUC Score: 0.911 Average Precision: 0.928 Total-Time: 15\n",
      "ROC-AUC: 0.9104885396975425, AVG_PREC: 0.9242059422450373\n"
     ]
    }
   ],
   "source": [
    "method = 'svd'\n",
    "options = dict(g_type='svd', criterion='val', nsteps=400, collect_stat=False)\n",
    "\n",
    "run(**options)\n",
    "#df[method] = stat_df"
   ]
  },
  {
   "cell_type": "code",
   "execution_count": 24,
   "metadata": {},
   "outputs": [
    {
     "output_type": "stream",
     "name": "stdout",
     "text": [
      "Step:   2/200 Loss: 7.67045 ROC-AUC Score: 0.780 Average Precision: 0.808 Total-Time: 0\n",
      "Step:   4/200 Loss: 7.19226 ROC-AUC Score: 0.737 Average Precision: 0.770 Total-Time: 1\n",
      "Step:   6/200 Loss: 6.90732 ROC-AUC Score: 0.771 Average Precision: 0.791 Total-Time: 1\n",
      "Step:   8/200 Loss: 6.57721 ROC-AUC Score: 0.721 Average Precision: 0.761 Total-Time: 2\n",
      "Step:  10/200 Loss: 6.36019 ROC-AUC Score: 0.737 Average Precision: 0.763 Total-Time: 2\n",
      "Step:  12/200 Loss: 5.75468 ROC-AUC Score: 0.755 Average Precision: 0.774 Total-Time: 3\n",
      "Step:  14/200 Loss: 5.29272 ROC-AUC Score: 0.761 Average Precision: 0.785 Total-Time: 4\n",
      "ROC-AUC: 0.7592081167296786, AVG_PREC: 0.7483266535055098\n"
     ]
    }
   ],
   "source": [
    "method = 'nonlin cell'\n",
    "optimizer_args = dict(lr=0.1, weight_decay=1e-5)\n",
    "options = dict(g_type='fc', criterion='val', optimizer_args=optimizer_args, collect_stat=False)\n",
    "\n",
    "run(**options)\n",
    "#df[method] = stat_df"
   ]
  },
  {
   "source": [
    "# Prolblogs"
   ],
   "cell_type": "markdown",
   "metadata": {}
  },
  {
   "cell_type": "code",
   "execution_count": 25,
   "metadata": {},
   "outputs": [
    {
     "output_type": "stream",
     "name": "stdout",
     "text": [
      "Selecting 1 largest connected components\n"
     ]
    }
   ],
   "source": [
    "_A_obs, _X_obs, _z_obs = utils.load_npz('../data/polblogs.npz')\n",
    "_A_obs = _A_obs + _A_obs.T\n",
    "_A_obs[_A_obs > 1] = 1\n",
    "_A_obs = _A_obs - sp.eye(_A_obs.shape[0], _A_obs.shape[0])\n",
    "_A_obs[_A_obs < 0] = 0\n",
    "lcc = utils.largest_connected_components(_A_obs)\n",
    "_A_obs = _A_obs[lcc,:][:,lcc]\n",
    "_N = _A_obs.shape[0]"
   ]
  },
  {
   "cell_type": "code",
   "execution_count": 26,
   "metadata": {},
   "outputs": [],
   "source": [
    "val_share = 0.05\n",
    "test_share = 0.1\n",
    "seed = 48\n",
    "\n",
    "train_ones, val_ones, val_zeros, test_ones, test_zeros = utils.train_val_test_split_adjacency(_A_obs, val_share, test_share, seed, undirected=True, connected=True, asserts=False)\n",
    "\n",
    "train_graph = sp.coo_matrix((np.ones(len(train_ones)),(train_ones[:,0], train_ones[:,1]))).tocsr()\n",
    "assert (train_graph.toarray() == train_graph.toarray().T).all()"
   ]
  },
  {
   "cell_type": "code",
   "execution_count": 27,
   "metadata": {},
   "outputs": [],
   "source": [
    "df = pd.DataFrame()"
   ]
  },
  {
   "source": [
    "#### CELL"
   ],
   "cell_type": "markdown",
   "metadata": {}
  },
  {
   "cell_type": "code",
   "execution_count": 28,
   "metadata": {},
   "outputs": [
    {
     "output_type": "stream",
     "name": "stdout",
     "text": [
      "Step:  10/200 Loss: 5.84881 Edge-Overlap: 0.281 Total-Time: 1\n",
      "Step:  20/200 Loss: 5.47476 Edge-Overlap: 0.299 Total-Time: 2\n",
      "Step:  30/200 Loss: 5.30328 Edge-Overlap: 0.323 Total-Time: 3\n",
      "Step:  40/200 Loss: 5.22759 Edge-Overlap: 0.343 Total-Time: 4\n",
      "Step:  50/200 Loss: 5.18936 Edge-Overlap: 0.352 Total-Time: 5\n",
      "Step:  60/200 Loss: 5.16904 Edge-Overlap: 0.353 Total-Time: 7\n",
      "Step:  70/200 Loss: 5.15706 Edge-Overlap: 0.352 Total-Time: 9\n",
      "Step:  80/200 Loss: 5.14958 Edge-Overlap: 0.355 Total-Time: 10\n",
      "Step:  90/200 Loss: 5.14460 Edge-Overlap: 0.358 Total-Time: 11\n",
      "Step: 100/200 Loss: 5.14109 Edge-Overlap: 0.368 Total-Time: 12\n",
      "Step: 110/200 Loss: 5.13836 Edge-Overlap: 0.361 Total-Time: 14\n",
      "Step: 120/200 Loss: 5.13609 Edge-Overlap: 0.360 Total-Time: 15\n",
      "Step: 130/200 Loss: 5.13421 Edge-Overlap: 0.363 Total-Time: 16\n",
      "Step: 140/200 Loss: 5.13263 Edge-Overlap: 0.357 Total-Time: 17\n",
      "Step: 150/200 Loss: 5.13125 Edge-Overlap: 0.357 Total-Time: 18\n",
      "Step: 160/200 Loss: 5.13002 Edge-Overlap: 0.363 Total-Time: 19\n",
      "Step: 170/200 Loss: 5.12892 Edge-Overlap: 0.357 Total-Time: 21\n",
      "Step: 180/200 Loss: 5.12798 Edge-Overlap: 0.364 Total-Time: 22\n",
      "Step: 190/200 Loss: 5.12716 Edge-Overlap: 0.363 Total-Time: 23\n",
      "Step: 200/200 Loss: 5.12645 Edge-Overlap: 0.363 Total-Time: 24\n",
      "ROC-AUC: 0.9609379158956872, AVG_PREC: 0.9600843743186801\n"
     ]
    }
   ],
   "source": [
    "method = 'cell'\n",
    "options = dict(g_type='cell')\n",
    "\n",
    "stat_df, _ = run(**options)\n",
    "df[method] = stat_df"
   ]
  },
  {
   "source": [
    "#### SVD"
   ],
   "cell_type": "markdown",
   "metadata": {}
  },
  {
   "cell_type": "code",
   "execution_count": 29,
   "metadata": {},
   "outputs": [
    {
     "output_type": "stream",
     "name": "stdout",
     "text": [
      "Step:  10/400 Loss: 7.07858 Edge-Overlap: 0.022 Total-Time: 1\n",
      "Step:  20/400 Loss: 6.39902 Edge-Overlap: 0.161 Total-Time: 2\n",
      "Step:  30/400 Loss: 5.91235 Edge-Overlap: 0.220 Total-Time: 4\n",
      "Step:  40/400 Loss: 5.70091 Edge-Overlap: 0.259 Total-Time: 5\n",
      "Step:  50/400 Loss: 5.58715 Edge-Overlap: 0.276 Total-Time: 6\n",
      "Step:  60/400 Loss: 5.53881 Edge-Overlap: 0.286 Total-Time: 7\n",
      "Step:  70/400 Loss: 5.51130 Edge-Overlap: 0.290 Total-Time: 8\n",
      "Step:  80/400 Loss: 5.49320 Edge-Overlap: 0.292 Total-Time: 10\n",
      "Step:  90/400 Loss: 5.48540 Edge-Overlap: 0.288 Total-Time: 11\n",
      "Step: 100/400 Loss: 5.47701 Edge-Overlap: 0.289 Total-Time: 12\n",
      "Step: 110/400 Loss: 5.46259 Edge-Overlap: 0.295 Total-Time: 13\n",
      "Step: 120/400 Loss: 5.46716 Edge-Overlap: 0.290 Total-Time: 14\n",
      "Step: 130/400 Loss: 5.45630 Edge-Overlap: 0.297 Total-Time: 16\n",
      "Step: 140/400 Loss: 5.46460 Edge-Overlap: 0.295 Total-Time: 17\n",
      "Step: 150/400 Loss: 5.44760 Edge-Overlap: 0.297 Total-Time: 18\n",
      "Step: 160/400 Loss: 5.48187 Edge-Overlap: 0.306 Total-Time: 19\n",
      "Step: 170/400 Loss: 5.45409 Edge-Overlap: 0.296 Total-Time: 21\n",
      "Step: 180/400 Loss: 5.43624 Edge-Overlap: 0.299 Total-Time: 22\n",
      "Step: 190/400 Loss: 5.45631 Edge-Overlap: 0.290 Total-Time: 23\n",
      "Step: 200/400 Loss: 5.43339 Edge-Overlap: 0.305 Total-Time: 24\n",
      "Step: 210/400 Loss: 5.44134 Edge-Overlap: 0.278 Total-Time: 25\n",
      "Step: 220/400 Loss: 5.44808 Edge-Overlap: 0.294 Total-Time: 27\n",
      "Step: 230/400 Loss: 5.42643 Edge-Overlap: 0.303 Total-Time: 28\n",
      "Step: 240/400 Loss: 5.43586 Edge-Overlap: 0.292 Total-Time: 31\n",
      "Step: 250/400 Loss: 5.44484 Edge-Overlap: 0.296 Total-Time: 32\n",
      "Step: 260/400 Loss: 5.42230 Edge-Overlap: 0.297 Total-Time: 34\n",
      "Step: 270/400 Loss: 5.43769 Edge-Overlap: 0.286 Total-Time: 35\n",
      "Step: 280/400 Loss: 5.42926 Edge-Overlap: 0.297 Total-Time: 37\n",
      "Step: 290/400 Loss: 5.41969 Edge-Overlap: 0.301 Total-Time: 38\n",
      "Step: 300/400 Loss: 5.41794 Edge-Overlap: 0.297 Total-Time: 40\n",
      "Step: 310/400 Loss: 5.41911 Edge-Overlap: 0.300 Total-Time: 41\n",
      "Step: 320/400 Loss: 5.41850 Edge-Overlap: 0.300 Total-Time: 42\n",
      "Step: 330/400 Loss: 5.41099 Edge-Overlap: 0.308 Total-Time: 44\n",
      "Step: 340/400 Loss: 5.44229 Edge-Overlap: 0.282 Total-Time: 45\n",
      "Step: 350/400 Loss: 5.42955 Edge-Overlap: 0.295 Total-Time: 46\n",
      "Step: 360/400 Loss: 5.42001 Edge-Overlap: 0.299 Total-Time: 47\n",
      "Step: 370/400 Loss: 5.41379 Edge-Overlap: 0.295 Total-Time: 48\n",
      "Step: 380/400 Loss: 5.40918 Edge-Overlap: 0.304 Total-Time: 50\n",
      "Step: 390/400 Loss: 5.43882 Edge-Overlap: 0.273 Total-Time: 51\n",
      "Step: 400/400 Loss: 5.42092 Edge-Overlap: 0.298 Total-Time: 52\n",
      "ROC-AUC: 0.9618679144772876, AVG_PREC: 0.9606703300653177\n"
     ]
    }
   ],
   "source": [
    "method = 'svd'\n",
    "options = dict(g_type='svd', nsteps=400)\n",
    "\n",
    "stat_df, _ = run(**options)\n",
    "df[method] = stat_df"
   ]
  },
  {
   "source": [
    "#### our CELL"
   ],
   "cell_type": "markdown",
   "metadata": {}
  },
  {
   "cell_type": "code",
   "execution_count": 30,
   "metadata": {},
   "outputs": [
    {
     "output_type": "stream",
     "name": "stdout",
     "text": [
      "Step:  10/200 Loss: 6.32950 Edge-Overlap: 0.152 Total-Time: 1\n",
      "Step:  20/200 Loss: 5.85202 Edge-Overlap: 0.231 Total-Time: 8\n",
      "Step:  30/200 Loss: 5.73939 Edge-Overlap: 0.226 Total-Time: 11\n",
      "Step:  40/200 Loss: 5.71152 Edge-Overlap: 0.241 Total-Time: 13\n",
      "Step:  50/200 Loss: 5.58731 Edge-Overlap: 0.267 Total-Time: 14\n",
      "Step:  60/200 Loss: 5.49715 Edge-Overlap: 0.281 Total-Time: 15\n",
      "Step:  70/200 Loss: 5.44083 Edge-Overlap: 0.298 Total-Time: 17\n",
      "Step:  80/200 Loss: 5.39373 Edge-Overlap: 0.289 Total-Time: 18\n",
      "Step:  90/200 Loss: 5.33906 Edge-Overlap: 0.312 Total-Time: 20\n",
      "Step: 100/200 Loss: 5.31527 Edge-Overlap: 0.334 Total-Time: 21\n",
      "Step: 110/200 Loss: 5.29251 Edge-Overlap: 0.320 Total-Time: 23\n",
      "Step: 120/200 Loss: 5.28192 Edge-Overlap: 0.329 Total-Time: 24\n",
      "Step: 130/200 Loss: 5.24916 Edge-Overlap: 0.330 Total-Time: 26\n",
      "Step: 140/200 Loss: 5.24316 Edge-Overlap: 0.343 Total-Time: 27\n",
      "Step: 150/200 Loss: 5.22756 Edge-Overlap: 0.339 Total-Time: 31\n",
      "Step: 160/200 Loss: 5.22564 Edge-Overlap: 0.337 Total-Time: 33\n",
      "Step: 170/200 Loss: 5.23811 Edge-Overlap: 0.314 Total-Time: 35\n",
      "Step: 180/200 Loss: 5.21172 Edge-Overlap: 0.344 Total-Time: 36\n",
      "Step: 190/200 Loss: 5.23376 Edge-Overlap: 0.328 Total-Time: 38\n",
      "Step: 200/200 Loss: 5.19689 Edge-Overlap: 0.344 Total-Time: 39\n",
      "ROC-AUC: 0.9601033109450079, AVG_PREC: 0.9602214903912779\n"
     ]
    }
   ],
   "source": [
    "method = 'nonlin cell'\n",
    "optimizer_args={'lr': 0.1, 'weight_decay': 1e-5}\n",
    "options = dict(g_type='fc', optimizer_args=optimizer_args)\n",
    "\n",
    "stat_df, _ = run(**options)\n",
    "df[method] = stat_df"
   ]
  },
  {
   "cell_type": "code",
   "execution_count": null,
   "metadata": {},
   "outputs": [],
   "source": []
  },
  {
   "cell_type": "code",
   "execution_count": 31,
   "metadata": {},
   "outputs": [],
   "source": [
    "df['gt'] = list(compute_graph_statistics(_A_obs).values()) + [1, 1]"
   ]
  },
  {
   "cell_type": "code",
   "execution_count": 32,
   "metadata": {},
   "outputs": [
    {
     "output_type": "execute_result",
     "data": {
      "text/plain": [
       "                                cell           svd   nonlin cell            gt\n",
       "d_max                   2.630000e+02  2.614000e+02  2.664000e+02  3.510000e+02\n",
       "d_min                   1.000000e+00  1.000000e+00  1.000000e+00  1.000000e+00\n",
       "d                       2.325041e+01  2.325041e+01  2.325041e+01  2.735516e+01\n",
       "LCC                     1.222000e+03  1.221600e+03  1.221600e+03  1.222000e+03\n",
       "wedge_count             8.517630e+05  8.416066e+05  9.149522e+05  1.341525e+06\n",
       "claw_count              2.917463e+07  2.767297e+07  3.364731e+07  6.280078e+07\n",
       "triangle_count          4.073080e+04  4.234700e+04  4.512760e+04  1.010430e+05\n",
       "square_count            1.575500e+06  1.620467e+06  1.854367e+06  5.171257e+06\n",
       "power_law_exp           1.406830e+00  1.410251e+00  1.428202e+00  1.414274e+00\n",
       "gini                    5.772717e-01  5.810389e-01  6.054291e-01  6.220195e-01\n",
       "rel_edge_distr_entropy  9.178753e-01  9.172575e-01  9.086914e-01  9.026543e-01\n",
       "assortativity          -2.248754e-01 -2.239020e-01 -2.354005e-01 -1.836882e-01\n",
       "clustering_coefficient  1.434585e-01  1.509482e-01  1.479647e-01  2.259585e-01\n",
       "cpl                     2.718428e+00  2.759924e+00  2.756766e+00  2.737530e+00\n",
       "roc-auc                 9.609379e-01  9.618679e-01  9.601033e-01  1.000000e+00\n",
       "avg-prec                9.600844e-01  9.606703e-01  9.602215e-01  1.000000e+00"
      ],
      "text/html": "<div>\n<style scoped>\n    .dataframe tbody tr th:only-of-type {\n        vertical-align: middle;\n    }\n\n    .dataframe tbody tr th {\n        vertical-align: top;\n    }\n\n    .dataframe thead th {\n        text-align: right;\n    }\n</style>\n<table border=\"1\" class=\"dataframe\">\n  <thead>\n    <tr style=\"text-align: right;\">\n      <th></th>\n      <th>cell</th>\n      <th>svd</th>\n      <th>nonlin cell</th>\n      <th>gt</th>\n    </tr>\n  </thead>\n  <tbody>\n    <tr>\n      <th>d_max</th>\n      <td>2.630000e+02</td>\n      <td>2.614000e+02</td>\n      <td>2.664000e+02</td>\n      <td>3.510000e+02</td>\n    </tr>\n    <tr>\n      <th>d_min</th>\n      <td>1.000000e+00</td>\n      <td>1.000000e+00</td>\n      <td>1.000000e+00</td>\n      <td>1.000000e+00</td>\n    </tr>\n    <tr>\n      <th>d</th>\n      <td>2.325041e+01</td>\n      <td>2.325041e+01</td>\n      <td>2.325041e+01</td>\n      <td>2.735516e+01</td>\n    </tr>\n    <tr>\n      <th>LCC</th>\n      <td>1.222000e+03</td>\n      <td>1.221600e+03</td>\n      <td>1.221600e+03</td>\n      <td>1.222000e+03</td>\n    </tr>\n    <tr>\n      <th>wedge_count</th>\n      <td>8.517630e+05</td>\n      <td>8.416066e+05</td>\n      <td>9.149522e+05</td>\n      <td>1.341525e+06</td>\n    </tr>\n    <tr>\n      <th>claw_count</th>\n      <td>2.917463e+07</td>\n      <td>2.767297e+07</td>\n      <td>3.364731e+07</td>\n      <td>6.280078e+07</td>\n    </tr>\n    <tr>\n      <th>triangle_count</th>\n      <td>4.073080e+04</td>\n      <td>4.234700e+04</td>\n      <td>4.512760e+04</td>\n      <td>1.010430e+05</td>\n    </tr>\n    <tr>\n      <th>square_count</th>\n      <td>1.575500e+06</td>\n      <td>1.620467e+06</td>\n      <td>1.854367e+06</td>\n      <td>5.171257e+06</td>\n    </tr>\n    <tr>\n      <th>power_law_exp</th>\n      <td>1.406830e+00</td>\n      <td>1.410251e+00</td>\n      <td>1.428202e+00</td>\n      <td>1.414274e+00</td>\n    </tr>\n    <tr>\n      <th>gini</th>\n      <td>5.772717e-01</td>\n      <td>5.810389e-01</td>\n      <td>6.054291e-01</td>\n      <td>6.220195e-01</td>\n    </tr>\n    <tr>\n      <th>rel_edge_distr_entropy</th>\n      <td>9.178753e-01</td>\n      <td>9.172575e-01</td>\n      <td>9.086914e-01</td>\n      <td>9.026543e-01</td>\n    </tr>\n    <tr>\n      <th>assortativity</th>\n      <td>-2.248754e-01</td>\n      <td>-2.239020e-01</td>\n      <td>-2.354005e-01</td>\n      <td>-1.836882e-01</td>\n    </tr>\n    <tr>\n      <th>clustering_coefficient</th>\n      <td>1.434585e-01</td>\n      <td>1.509482e-01</td>\n      <td>1.479647e-01</td>\n      <td>2.259585e-01</td>\n    </tr>\n    <tr>\n      <th>cpl</th>\n      <td>2.718428e+00</td>\n      <td>2.759924e+00</td>\n      <td>2.756766e+00</td>\n      <td>2.737530e+00</td>\n    </tr>\n    <tr>\n      <th>roc-auc</th>\n      <td>9.609379e-01</td>\n      <td>9.618679e-01</td>\n      <td>9.601033e-01</td>\n      <td>1.000000e+00</td>\n    </tr>\n    <tr>\n      <th>avg-prec</th>\n      <td>9.600844e-01</td>\n      <td>9.606703e-01</td>\n      <td>9.602215e-01</td>\n      <td>1.000000e+00</td>\n    </tr>\n  </tbody>\n</table>\n</div>"
     },
     "metadata": {},
     "execution_count": 32
    }
   ],
   "source": [
    "df"
   ]
  },
  {
   "source": [
    "# RT-GOP"
   ],
   "cell_type": "markdown",
   "metadata": {}
  },
  {
   "cell_type": "code",
   "execution_count": 33,
   "metadata": {},
   "outputs": [
    {
     "output_type": "stream",
     "name": "stdout",
     "text": [
      "Selecting 1 largest connected components\n"
     ]
    }
   ],
   "source": [
    "_A_obs, _X_obs, _z_obs = utils.load_npz('../data/rt_gop.npz')\n",
    "_A_obs = _A_obs + _A_obs.T\n",
    "_A_obs[_A_obs > 1] = 1\n",
    "_A_obs = _A_obs - sp.eye(_A_obs.shape[0], _A_obs.shape[0])\n",
    "_A_obs[_A_obs < 0] = 0\n",
    "lcc = utils.largest_connected_components(_A_obs)\n",
    "_A_obs = _A_obs[lcc,:][:,lcc]\n",
    "_N = _A_obs.shape[0]"
   ]
  },
  {
   "cell_type": "code",
   "execution_count": 34,
   "metadata": {},
   "outputs": [],
   "source": [
    "val_share = 0.05\n",
    "test_share = 0.1\n",
    "seed = 48\n",
    "\n",
    "train_ones, val_ones, val_zeros, test_ones, test_zeros = utils.train_val_test_split_adjacency(_A_obs, val_share, test_share, seed, undirected=True, connected=True, asserts=False)\n",
    "\n",
    "train_graph = sp.coo_matrix((np.ones(len(train_ones)),(train_ones[:,0], train_ones[:,1]))).tocsr()\n",
    "assert (train_graph.toarray() == train_graph.toarray().T).all()"
   ]
  },
  {
   "cell_type": "code",
   "execution_count": 35,
   "metadata": {},
   "outputs": [],
   "source": [
    "df = pd.DataFrame()"
   ]
  },
  {
   "cell_type": "code",
   "execution_count": 36,
   "metadata": {},
   "outputs": [
    {
     "output_type": "stream",
     "name": "stdout",
     "text": [
      "Step:  10/200 Loss: 5.72706 Edge-Overlap: 0.019 Total-Time: 9\n",
      "Step:  20/200 Loss: 2.51444 Edge-Overlap: 0.545 Total-Time: 19\n",
      "ROC-AUC: 0.6790294412803504, AVG_PREC: 0.682087804284342\n"
     ]
    }
   ],
   "source": [
    "method = 'cell'\n",
    "options = dict(g_type='cell')\n",
    "\n",
    "stat_df, _ = run(**options)\n",
    "df[method] = stat_df"
   ]
  },
  {
   "cell_type": "code",
   "execution_count": 37,
   "metadata": {},
   "outputs": [
    {
     "output_type": "stream",
     "name": "stdout",
     "text": [
      "Step:  10/400 Loss: 8.45468 Edge-Overlap: 0.001 Total-Time: 10\n",
      "Step:  20/400 Loss: 8.16276 Edge-Overlap: 0.001 Total-Time: 22\n",
      "Step:  30/400 Loss: 7.08700 Edge-Overlap: 0.052 Total-Time: 35\n",
      "Step:  40/400 Loss: 6.06453 Edge-Overlap: 0.110 Total-Time: 45\n",
      "Step:  50/400 Loss: 5.45302 Edge-Overlap: 0.124 Total-Time: 57\n",
      "Step:  60/400 Loss: 5.03167 Edge-Overlap: 0.146 Total-Time: 65\n",
      "Step:  70/400 Loss: 4.70072 Edge-Overlap: 0.180 Total-Time: 78\n",
      "Step:  80/400 Loss: 4.54685 Edge-Overlap: 0.205 Total-Time: 88\n",
      "Step:  90/400 Loss: 4.42346 Edge-Overlap: 0.214 Total-Time: 97\n",
      "Step: 100/400 Loss: 4.42192 Edge-Overlap: 0.230 Total-Time: 107\n",
      "Step: 110/400 Loss: 4.31891 Edge-Overlap: 0.234 Total-Time: 119\n",
      "Step: 120/400 Loss: 4.25269 Edge-Overlap: 0.251 Total-Time: 129\n",
      "Step: 130/400 Loss: 4.34690 Edge-Overlap: 0.249 Total-Time: 140\n",
      "Step: 140/400 Loss: 4.29001 Edge-Overlap: 0.256 Total-Time: 150\n",
      "Step: 150/400 Loss: 4.29676 Edge-Overlap: 0.286 Total-Time: 162\n",
      "Step: 160/400 Loss: 4.28866 Edge-Overlap: 0.272 Total-Time: 172\n",
      "Step: 170/400 Loss: 4.30692 Edge-Overlap: 0.277 Total-Time: 182\n",
      "Step: 180/400 Loss: 4.32348 Edge-Overlap: 0.278 Total-Time: 192\n",
      "Step: 190/400 Loss: 4.34945 Edge-Overlap: 0.284 Total-Time: 204\n",
      "Step: 200/400 Loss: 4.40199 Edge-Overlap: 0.265 Total-Time: 215\n",
      "Step: 210/400 Loss: 4.53748 Edge-Overlap: 0.252 Total-Time: 224\n",
      "Step: 220/400 Loss: 4.52632 Edge-Overlap: 0.253 Total-Time: 234\n",
      "Step: 230/400 Loss: 4.43089 Edge-Overlap: 0.268 Total-Time: 246\n",
      "Step: 240/400 Loss: 4.36987 Edge-Overlap: 0.277 Total-Time: 257\n",
      "Step: 250/400 Loss: 4.31682 Edge-Overlap: 0.300 Total-Time: 266\n",
      "Step: 260/400 Loss: 4.25000 Edge-Overlap: 0.301 Total-Time: 277\n",
      "Step: 270/400 Loss: 4.25428 Edge-Overlap: 0.313 Total-Time: 289\n",
      "Step: 280/400 Loss: 4.26425 Edge-Overlap: 0.301 Total-Time: 299\n",
      "Step: 290/400 Loss: 4.37752 Edge-Overlap: 0.298 Total-Time: 309\n",
      "Step: 300/400 Loss: 4.39426 Edge-Overlap: 0.292 Total-Time: 319\n",
      "Step: 310/400 Loss: 4.33255 Edge-Overlap: 0.300 Total-Time: 331\n",
      "Step: 320/400 Loss: 4.39123 Edge-Overlap: 0.300 Total-Time: 341\n",
      "Step: 330/400 Loss: 4.49564 Edge-Overlap: 0.296 Total-Time: 352\n",
      "Step: 340/400 Loss: 4.47229 Edge-Overlap: 0.292 Total-Time: 362\n",
      "Step: 350/400 Loss: 4.34775 Edge-Overlap: 0.296 Total-Time: 376\n",
      "Step: 360/400 Loss: 4.47490 Edge-Overlap: 0.300 Total-Time: 386\n",
      "Step: 370/400 Loss: 4.60422 Edge-Overlap: 0.293 Total-Time: 396\n",
      "Step: 380/400 Loss: 4.54978 Edge-Overlap: 0.289 Total-Time: 405\n",
      "Step: 390/400 Loss: 4.40825 Edge-Overlap: 0.294 Total-Time: 418\n",
      "Step: 400/400 Loss: 4.33821 Edge-Overlap: 0.272 Total-Time: 427\n",
      "ROC-AUC: 0.7727488954632536, AVG_PREC: 0.7981726207034359\n"
     ]
    }
   ],
   "source": [
    "method = 'svd'\n",
    "options = dict(g_type='svd', nsteps=400)\n",
    "\n",
    "stat_df, _ = run(**options)\n",
    "df[method] = stat_df"
   ]
  },
  {
   "cell_type": "code",
   "execution_count": 38,
   "metadata": {},
   "outputs": [
    {
     "output_type": "stream",
     "name": "stdout",
     "text": [
      "Step:  10/200 Loss: 7.29063 Edge-Overlap: 0.014 Total-Time: 12\n",
      "Step:  20/200 Loss: 4.53364 Edge-Overlap: 0.210 Total-Time: 23\n",
      "Step:  30/200 Loss: 2.81857 Edge-Overlap: 0.589 Total-Time: 37\n",
      "ROC-AUC: 0.8339578255939736, AVG_PREC: 0.8281045442188132\n"
     ]
    }
   ],
   "source": [
    "method = 'nonlin cell'\n",
    "optimizer_args={'lr': 0.1, 'weight_decay': 1e-5}\n",
    "options = dict(g_type='fc', optimizer_args=optimizer_args)\n",
    "\n",
    "stat_df, _ = run(**options)\n",
    "df[method] = stat_df"
   ]
  },
  {
   "cell_type": "code",
   "execution_count": 39,
   "metadata": {},
   "outputs": [],
   "source": [
    "df['gt'] = list(compute_graph_statistics(_A_obs).values()) + [1, 1]"
   ]
  },
  {
   "cell_type": "code",
   "execution_count": 40,
   "metadata": {},
   "outputs": [
    {
     "output_type": "execute_result",
     "data": {
      "text/plain": [
       "                                cell           svd   nonlin cell            gt\n",
       "d_max                   2.710000e+02  2.098000e+02  2.552000e+02  3.080000e+02\n",
       "d_min                   1.000000e+00  1.000000e+00  1.000000e+00  1.000000e+00\n",
       "d                       2.005121e+00  2.005121e+00  2.005121e+00  2.359292e+00\n",
       "LCC                     4.109000e+03  4.426400e+03  3.989000e+03  4.687000e+03\n",
       "wedge_count             8.635360e+04  6.255720e+04  7.720560e+04  1.227550e+05\n",
       "claw_count              4.402984e+06  2.163120e+06  3.610721e+06  6.526042e+06\n",
       "triangle_count          2.000000e-01  2.000000e-01  0.000000e+00  3.300000e+01\n",
       "square_count            1.020000e+01  4.200000e+00  1.160000e+01  3.690000e+02\n",
       "power_law_exp           3.937709e+00  4.081575e+00  4.201475e+00  3.492755e+00\n",
       "gini                    4.323066e-01  4.429883e-01  4.479705e-01  5.020176e-01\n",
       "rel_edge_distr_entropy  9.195532e-01  9.232937e-01  9.184110e-01  9.054355e-01\n",
       "assortativity          -1.321818e-01 -1.412254e-01 -1.300911e-01 -8.981693e-02\n",
       "clustering_coefficient  6.825084e-06  9.572584e-06  0.000000e+00  8.064845e-04\n",
       "cpl                     1.646807e+01  1.966010e+01  1.460888e+01  6.583041e+00\n",
       "roc-auc                 6.790294e-01  7.727489e-01  8.339578e-01  1.000000e+00\n",
       "avg-prec                6.820878e-01  7.981726e-01  8.281045e-01  1.000000e+00"
      ],
      "text/html": "<div>\n<style scoped>\n    .dataframe tbody tr th:only-of-type {\n        vertical-align: middle;\n    }\n\n    .dataframe tbody tr th {\n        vertical-align: top;\n    }\n\n    .dataframe thead th {\n        text-align: right;\n    }\n</style>\n<table border=\"1\" class=\"dataframe\">\n  <thead>\n    <tr style=\"text-align: right;\">\n      <th></th>\n      <th>cell</th>\n      <th>svd</th>\n      <th>nonlin cell</th>\n      <th>gt</th>\n    </tr>\n  </thead>\n  <tbody>\n    <tr>\n      <th>d_max</th>\n      <td>2.710000e+02</td>\n      <td>2.098000e+02</td>\n      <td>2.552000e+02</td>\n      <td>3.080000e+02</td>\n    </tr>\n    <tr>\n      <th>d_min</th>\n      <td>1.000000e+00</td>\n      <td>1.000000e+00</td>\n      <td>1.000000e+00</td>\n      <td>1.000000e+00</td>\n    </tr>\n    <tr>\n      <th>d</th>\n      <td>2.005121e+00</td>\n      <td>2.005121e+00</td>\n      <td>2.005121e+00</td>\n      <td>2.359292e+00</td>\n    </tr>\n    <tr>\n      <th>LCC</th>\n      <td>4.109000e+03</td>\n      <td>4.426400e+03</td>\n      <td>3.989000e+03</td>\n      <td>4.687000e+03</td>\n    </tr>\n    <tr>\n      <th>wedge_count</th>\n      <td>8.635360e+04</td>\n      <td>6.255720e+04</td>\n      <td>7.720560e+04</td>\n      <td>1.227550e+05</td>\n    </tr>\n    <tr>\n      <th>claw_count</th>\n      <td>4.402984e+06</td>\n      <td>2.163120e+06</td>\n      <td>3.610721e+06</td>\n      <td>6.526042e+06</td>\n    </tr>\n    <tr>\n      <th>triangle_count</th>\n      <td>2.000000e-01</td>\n      <td>2.000000e-01</td>\n      <td>0.000000e+00</td>\n      <td>3.300000e+01</td>\n    </tr>\n    <tr>\n      <th>square_count</th>\n      <td>1.020000e+01</td>\n      <td>4.200000e+00</td>\n      <td>1.160000e+01</td>\n      <td>3.690000e+02</td>\n    </tr>\n    <tr>\n      <th>power_law_exp</th>\n      <td>3.937709e+00</td>\n      <td>4.081575e+00</td>\n      <td>4.201475e+00</td>\n      <td>3.492755e+00</td>\n    </tr>\n    <tr>\n      <th>gini</th>\n      <td>4.323066e-01</td>\n      <td>4.429883e-01</td>\n      <td>4.479705e-01</td>\n      <td>5.020176e-01</td>\n    </tr>\n    <tr>\n      <th>rel_edge_distr_entropy</th>\n      <td>9.195532e-01</td>\n      <td>9.232937e-01</td>\n      <td>9.184110e-01</td>\n      <td>9.054355e-01</td>\n    </tr>\n    <tr>\n      <th>assortativity</th>\n      <td>-1.321818e-01</td>\n      <td>-1.412254e-01</td>\n      <td>-1.300911e-01</td>\n      <td>-8.981693e-02</td>\n    </tr>\n    <tr>\n      <th>clustering_coefficient</th>\n      <td>6.825084e-06</td>\n      <td>9.572584e-06</td>\n      <td>0.000000e+00</td>\n      <td>8.064845e-04</td>\n    </tr>\n    <tr>\n      <th>cpl</th>\n      <td>1.646807e+01</td>\n      <td>1.966010e+01</td>\n      <td>1.460888e+01</td>\n      <td>6.583041e+00</td>\n    </tr>\n    <tr>\n      <th>roc-auc</th>\n      <td>6.790294e-01</td>\n      <td>7.727489e-01</td>\n      <td>8.339578e-01</td>\n      <td>1.000000e+00</td>\n    </tr>\n    <tr>\n      <th>avg-prec</th>\n      <td>6.820878e-01</td>\n      <td>7.981726e-01</td>\n      <td>8.281045e-01</td>\n      <td>1.000000e+00</td>\n    </tr>\n  </tbody>\n</table>\n</div>"
     },
     "metadata": {},
     "execution_count": 40
    }
   ],
   "source": [
    "df"
   ]
  },
  {
   "cell_type": "code",
   "execution_count": null,
   "metadata": {},
   "outputs": [],
   "source": []
  }
 ]
}