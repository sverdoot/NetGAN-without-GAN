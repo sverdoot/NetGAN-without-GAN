{
 "metadata": {
  "language_info": {
   "codemirror_mode": {
    "name": "ipython",
    "version": 3
   },
   "file_extension": ".py",
   "mimetype": "text/x-python",
   "name": "python",
   "nbconvert_exporter": "python",
   "pygments_lexer": "ipython3",
   "version": "3.8.5-final"
  },
  "orig_nbformat": 2,
  "kernelspec": {
   "name": "python38564bitfad426787c4d466e858501df55a3f5b8",
   "display_name": "Python 3.8.5 64-bit",
   "language": "python"
  }
 },
 "nbformat": 4,
 "nbformat_minor": 2,
 "cells": [
  {
   "cell_type": "code",
   "execution_count": 1,
   "metadata": {},
   "outputs": [],
   "source": [
    "# import warnings\n",
    "# warnings.filterwarnings('ignore')\n",
    "%load_ext autoreload\n",
    "%autoreload 2\n",
    "\n",
    "import pickle\n",
    "import numpy as np\n",
    "import scipy.sparse as sp\n",
    "from scipy.sparse import load_npz\n",
    "import pandas as pd\n",
    "\n",
    "import torch\n",
    "\n",
    "from cell import utils\n",
    "from cell.utils import link_prediction_performance, edge_overlap\n",
    "from cell.cell import Cell, EdgeOverlapCriterion, LinkPredictionCriterion\n",
    "from cell.graph_statistics import compute_graph_statistics"
   ]
  },
  {
   "cell_type": "code",
   "execution_count": 31,
   "metadata": {},
   "outputs": [],
   "source": [
    "def run(g_type='cell', loss_fn=None, criterion='eo', nsteps=200, nsamples=5, optimizer_args=None, collect_stat=True):\n",
    "    if criterion == 'eo':\n",
    "        callbacks = [EdgeOverlapCriterion(invoke_every=10, edge_overlap_limit=.5)]\n",
    "    elif criterion == 'val':\n",
    "        callbacks = [LinkPredictionCriterion(invoke_every=2,\n",
    "                                                val_ones=val_ones,\n",
    "                                            val_zeros=val_zeros,\n",
    "                                                max_patience=5)]\n",
    "    else:\n",
    "        raise NameError\n",
    "\n",
    "    model = Cell(A=train_graph,\n",
    "             H=9,\n",
    "             g_type=g_type,\n",
    "             loss_fn=loss_fn,\n",
    "             callbacks=callbacks)\n",
    "\n",
    "    # train model\n",
    "    if optimizer_args is None:\n",
    "         optimizer_args = {'lr': 0.1, 'weight_decay': 1e-5}\n",
    "    model.train(steps=nsteps,\n",
    "                optimizer_fn=torch.optim.Adam,\n",
    "                optimizer_args=optimizer_args)\n",
    "    \n",
    "    roc_auc, avg_prec = link_prediction_performance(scores_matrix=model._scores_matrix, val_ones=test_ones, val_zeros=test_zeros)\n",
    "    print(f'ROC-AUC: {roc_auc}, AVG_PREC: {avg_prec}')\n",
    "\n",
    "    if collect_stat:\n",
    "        generated_graphs = [model.sample_graph() for _ in range(nsamples)]\n",
    "        stats = [compute_graph_statistics(gg) for gg in generated_graphs]\n",
    "        stat_df = pd.DataFrame({k: [s[k] for s in stats] for k in stats[0].keys()})\n",
    "        stat_df = stat_df.mean()\n",
    "        stat_df['roc-auc'] = roc_auc\n",
    "        stat_df['avg-prec'] = avg_prec\n",
    "\n",
    "        return stat_df.T, generated_graphs"
   ]
  },
  {
   "source": [
    "# CORA ML"
   ],
   "cell_type": "markdown",
   "metadata": {}
  },
  {
   "cell_type": "code",
   "execution_count": 5,
   "metadata": {},
   "outputs": [
    {
     "output_type": "stream",
     "name": "stdout",
     "text": [
      "Selecting 1 largest connected components\n"
     ]
    }
   ],
   "source": [
    "#train_graph \n",
    "_A_obs, _X_obs, _z_obs = utils.load_npz('../data/cora_ml.npz')\n",
    "_A_obs = _A_obs + _A_obs.T\n",
    "_A_obs[_A_obs > 1] = 1\n",
    "lcc = utils.largest_connected_components(_A_obs)\n",
    "_A_obs = _A_obs[lcc,:][:,lcc]\n",
    "_N = _A_obs.shape[0]"
   ]
  },
  {
   "cell_type": "code",
   "execution_count": 6,
   "metadata": {},
   "outputs": [],
   "source": [
    "val_share = 0.05\n",
    "test_share = 0.1\n",
    "seed = 42 #481516234\n",
    "\n",
    "train_ones, val_ones, val_zeros, test_ones, test_zeros = utils.train_val_test_split_adjacency(_A_obs, val_share, test_share, seed, undirected=True, connected=True, asserts=True)\n",
    "\n",
    "train_graph = sp.coo_matrix((np.ones(len(train_ones)),(train_ones[:,0], train_ones[:,1]))).tocsr()\n",
    "assert (train_graph.toarray() == train_graph.toarray().T).all()"
   ]
  },
  {
   "cell_type": "code",
   "execution_count": 5,
   "metadata": {},
   "outputs": [],
   "source": [
    "df = pd.DataFrame()"
   ]
  },
  {
   "source": [
    "### Edge overlap"
   ],
   "cell_type": "markdown",
   "metadata": {}
  },
  {
   "source": [
    "#### CELL"
   ],
   "cell_type": "markdown",
   "metadata": {}
  },
  {
   "cell_type": "code",
   "execution_count": 6,
   "metadata": {},
   "outputs": [
    {
     "output_type": "stream",
     "name": "stdout",
     "text": [
      "Step:  10/200 Loss: 6.03302 Edge-Overlap: 0.033 Total-Time: 4\n",
      "Step:  20/200 Loss: 4.08839 Edge-Overlap: 0.278 Total-Time: 9\n",
      "Step:  30/200 Loss: 3.32947 Edge-Overlap: 0.415 Total-Time: 14\n",
      "Step:  40/200 Loss: 3.00776 Edge-Overlap: 0.499 Total-Time: 18\n",
      "Step:  50/200 Loss: 2.85692 Edge-Overlap: 0.532 Total-Time: 23\n",
      "ROC-AUC: 0.9412563576811439, AVG_PREC: 0.9458396278486313\n"
     ]
    }
   ],
   "source": [
    "method = 'cell'\n",
    "options = dict(g_type='cell')\n",
    "\n",
    "stat_df, _ = run(**options)\n",
    "df[method] = stat_df"
   ]
  },
  {
   "source": [
    "#### SVD"
   ],
   "cell_type": "markdown",
   "metadata": {}
  },
  {
   "cell_type": "code",
   "execution_count": 7,
   "metadata": {},
   "outputs": [
    {
     "output_type": "stream",
     "name": "stdout",
     "text": [
      "Step:  10/400 Loss: 7.93868 Edge-Overlap: 0.002 Total-Time: 4\n",
      "Step:  20/400 Loss: 7.50294 Edge-Overlap: 0.018 Total-Time: 8\n",
      "Step:  30/400 Loss: 6.52674 Edge-Overlap: 0.047 Total-Time: 13\n",
      "Step:  40/400 Loss: 5.74590 Edge-Overlap: 0.095 Total-Time: 17\n",
      "Step:  50/400 Loss: 5.30830 Edge-Overlap: 0.121 Total-Time: 22\n",
      "Step:  60/400 Loss: 5.04991 Edge-Overlap: 0.147 Total-Time: 26\n",
      "Step:  70/400 Loss: 4.89850 Edge-Overlap: 0.153 Total-Time: 31\n",
      "Step:  80/400 Loss: 4.79412 Edge-Overlap: 0.164 Total-Time: 35\n",
      "Step:  90/400 Loss: 4.72522 Edge-Overlap: 0.168 Total-Time: 40\n",
      "Step: 100/400 Loss: 4.67763 Edge-Overlap: 0.179 Total-Time: 44\n",
      "Step: 110/400 Loss: 4.64200 Edge-Overlap: 0.168 Total-Time: 48\n",
      "Step: 120/400 Loss: 4.64415 Edge-Overlap: 0.178 Total-Time: 53\n",
      "Step: 130/400 Loss: 4.65872 Edge-Overlap: 0.182 Total-Time: 57\n",
      "Step: 140/400 Loss: 4.64247 Edge-Overlap: 0.188 Total-Time: 62\n",
      "Step: 150/400 Loss: 4.61682 Edge-Overlap: 0.187 Total-Time: 66\n",
      "Step: 160/400 Loss: 4.64835 Edge-Overlap: 0.186 Total-Time: 71\n",
      "Step: 170/400 Loss: 4.63972 Edge-Overlap: 0.198 Total-Time: 75\n",
      "Step: 180/400 Loss: 4.67577 Edge-Overlap: 0.184 Total-Time: 80\n",
      "Step: 190/400 Loss: 4.65301 Edge-Overlap: 0.183 Total-Time: 84\n",
      "Step: 200/400 Loss: 4.65181 Edge-Overlap: 0.198 Total-Time: 89\n",
      "Step: 210/400 Loss: 4.63759 Edge-Overlap: 0.200 Total-Time: 93\n",
      "Step: 220/400 Loss: 4.64747 Edge-Overlap: 0.200 Total-Time: 98\n",
      "Step: 230/400 Loss: 4.67966 Edge-Overlap: 0.194 Total-Time: 102\n",
      "Step: 240/400 Loss: 4.64344 Edge-Overlap: 0.202 Total-Time: 107\n",
      "Step: 250/400 Loss: 4.67228 Edge-Overlap: 0.197 Total-Time: 111\n",
      "Step: 260/400 Loss: 4.67666 Edge-Overlap: 0.187 Total-Time: 116\n",
      "Step: 270/400 Loss: 4.70198 Edge-Overlap: 0.198 Total-Time: 120\n",
      "Step: 280/400 Loss: 4.69098 Edge-Overlap: 0.201 Total-Time: 125\n",
      "Step: 290/400 Loss: 4.67592 Edge-Overlap: 0.203 Total-Time: 129\n",
      "Step: 300/400 Loss: 4.65097 Edge-Overlap: 0.195 Total-Time: 134\n",
      "Step: 310/400 Loss: 4.69520 Edge-Overlap: 0.202 Total-Time: 138\n",
      "Step: 320/400 Loss: 4.75898 Edge-Overlap: 0.202 Total-Time: 142\n",
      "Step: 330/400 Loss: 4.65583 Edge-Overlap: 0.201 Total-Time: 147\n",
      "Step: 340/400 Loss: 4.62691 Edge-Overlap: 0.201 Total-Time: 152\n",
      "Step: 350/400 Loss: 4.65431 Edge-Overlap: 0.213 Total-Time: 156\n",
      "Step: 360/400 Loss: 4.69737 Edge-Overlap: 0.195 Total-Time: 161\n",
      "Step: 370/400 Loss: 4.73744 Edge-Overlap: 0.206 Total-Time: 165\n",
      "Step: 380/400 Loss: 4.76781 Edge-Overlap: 0.201 Total-Time: 170\n",
      "Step: 390/400 Loss: 4.65027 Edge-Overlap: 0.217 Total-Time: 174\n",
      "Step: 400/400 Loss: 4.67605 Edge-Overlap: 0.212 Total-Time: 179\n",
      "ROC-AUC: 0.9539035809781, AVG_PREC: 0.9556113643627493\n"
     ]
    }
   ],
   "source": [
    "method = 'svd'\n",
    "options = dict(g_type='svd', nsteps=400)\n",
    "\n",
    "stat_df, _ = run(**options)\n",
    "df[method] = stat_df"
   ]
  },
  {
   "source": [
    "#### our CELL"
   ],
   "cell_type": "markdown",
   "metadata": {}
  },
  {
   "cell_type": "code",
   "execution_count": 8,
   "metadata": {},
   "outputs": [
    {
     "output_type": "stream",
     "name": "stdout",
     "text": [
      "Step:  10/200 Loss: 7.36982 Edge-Overlap: 0.021 Total-Time: 5\n",
      "Step:  20/200 Loss: 6.98611 Edge-Overlap: 0.027 Total-Time: 10\n",
      "Step:  30/200 Loss: 6.31122 Edge-Overlap: 0.076 Total-Time: 15\n",
      "Step:  40/200 Loss: 5.33766 Edge-Overlap: 0.114 Total-Time: 20\n",
      "Step:  50/200 Loss: 4.77716 Edge-Overlap: 0.158 Total-Time: 25\n",
      "Step:  60/200 Loss: 4.02139 Edge-Overlap: 0.278 Total-Time: 30\n",
      "Step:  70/200 Loss: 3.69880 Edge-Overlap: 0.335 Total-Time: 35\n",
      "Step:  80/200 Loss: 3.37106 Edge-Overlap: 0.415 Total-Time: 40\n",
      "Step:  90/200 Loss: 3.31426 Edge-Overlap: 0.427 Total-Time: 45\n",
      "Step: 100/200 Loss: 3.12393 Edge-Overlap: 0.465 Total-Time: 49\n",
      "Step: 110/200 Loss: 2.92657 Edge-Overlap: 0.543 Total-Time: 54\n",
      "ROC-AUC: 0.9615993709283037, AVG_PREC: 0.9630098117109628\n"
     ]
    }
   ],
   "source": [
    "method = 'nonlin cell'\n",
    "optimizer_args = dict(lr=0.1, weight_decay=1e-4)\n",
    "options = dict(g_type='fc', optimizer_args=optimizer_args)\n",
    "\n",
    "stat_df, _ = run(**options)\n",
    "df[method] = stat_df"
   ]
  },
  {
   "source": [
    "#### Results"
   ],
   "cell_type": "markdown",
   "metadata": {}
  },
  {
   "cell_type": "code",
   "execution_count": 9,
   "metadata": {},
   "outputs": [],
   "source": [
    "df['gt'] = list(compute_graph_statistics(_A_obs).values()) + [1, 1]"
   ]
  },
  {
   "cell_type": "code",
   "execution_count": 10,
   "metadata": {},
   "outputs": [
    {
     "output_type": "execute_result",
     "data": {
      "text/plain": [
       "                                cell           svd   nonlin cell            gt\n",
       "d_max                   1.982000e+02  1.818000e+02  2.146000e+02  2.460000e+02\n",
       "d_min                   1.000000e+00  1.000000e+00  1.000000e+00  1.000000e+00\n",
       "d                       4.827758e+00  4.827758e+00  4.827758e+00  5.680427e+00\n",
       "LCC                     2.805400e+03  2.810000e+03  2.801400e+03  2.810000e+03\n",
       "wedge_count             8.186840e+04  7.875720e+04  8.601620e+04  1.377190e+05\n",
       "claw_count              1.805467e+06  1.479182e+06  2.181900e+06  3.930163e+06\n",
       "triangle_count          1.352200e+03  1.120800e+03  1.626000e+03  5.247000e+03\n",
       "square_count            7.024800e+03  4.708400e+03  9.221400e+03  3.450700e+04\n",
       "power_law_exp           1.816033e+00  1.827045e+00  1.823022e+00  1.767268e+00\n",
       "gini                    4.473638e-01  4.551560e-01  4.531931e-01  4.964733e-01\n",
       "rel_edge_distr_entropy  9.505780e-01  9.499149e-01  9.491537e-01  9.385288e-01\n",
       "assortativity          -7.284313e-02 -9.256350e-02 -6.028568e-02 -7.659231e-02\n",
       "clustering_coefficient  4.957795e-02  4.271093e-02  5.670474e-02  1.142980e-01\n",
       "cpl                     5.188314e+00  5.169954e+00  5.462211e+00  5.271418e+00\n",
       "roc-auc                 9.412564e-01  9.539036e-01  9.615994e-01  1.000000e+00\n",
       "avg-prec                9.458396e-01  9.556114e-01  9.630098e-01  1.000000e+00"
      ],
      "text/html": "<div>\n<style scoped>\n    .dataframe tbody tr th:only-of-type {\n        vertical-align: middle;\n    }\n\n    .dataframe tbody tr th {\n        vertical-align: top;\n    }\n\n    .dataframe thead th {\n        text-align: right;\n    }\n</style>\n<table border=\"1\" class=\"dataframe\">\n  <thead>\n    <tr style=\"text-align: right;\">\n      <th></th>\n      <th>cell</th>\n      <th>svd</th>\n      <th>nonlin cell</th>\n      <th>gt</th>\n    </tr>\n  </thead>\n  <tbody>\n    <tr>\n      <th>d_max</th>\n      <td>1.982000e+02</td>\n      <td>1.818000e+02</td>\n      <td>2.146000e+02</td>\n      <td>2.460000e+02</td>\n    </tr>\n    <tr>\n      <th>d_min</th>\n      <td>1.000000e+00</td>\n      <td>1.000000e+00</td>\n      <td>1.000000e+00</td>\n      <td>1.000000e+00</td>\n    </tr>\n    <tr>\n      <th>d</th>\n      <td>4.827758e+00</td>\n      <td>4.827758e+00</td>\n      <td>4.827758e+00</td>\n      <td>5.680427e+00</td>\n    </tr>\n    <tr>\n      <th>LCC</th>\n      <td>2.805400e+03</td>\n      <td>2.810000e+03</td>\n      <td>2.801400e+03</td>\n      <td>2.810000e+03</td>\n    </tr>\n    <tr>\n      <th>wedge_count</th>\n      <td>8.186840e+04</td>\n      <td>7.875720e+04</td>\n      <td>8.601620e+04</td>\n      <td>1.377190e+05</td>\n    </tr>\n    <tr>\n      <th>claw_count</th>\n      <td>1.805467e+06</td>\n      <td>1.479182e+06</td>\n      <td>2.181900e+06</td>\n      <td>3.930163e+06</td>\n    </tr>\n    <tr>\n      <th>triangle_count</th>\n      <td>1.352200e+03</td>\n      <td>1.120800e+03</td>\n      <td>1.626000e+03</td>\n      <td>5.247000e+03</td>\n    </tr>\n    <tr>\n      <th>square_count</th>\n      <td>7.024800e+03</td>\n      <td>4.708400e+03</td>\n      <td>9.221400e+03</td>\n      <td>3.450700e+04</td>\n    </tr>\n    <tr>\n      <th>power_law_exp</th>\n      <td>1.816033e+00</td>\n      <td>1.827045e+00</td>\n      <td>1.823022e+00</td>\n      <td>1.767268e+00</td>\n    </tr>\n    <tr>\n      <th>gini</th>\n      <td>4.473638e-01</td>\n      <td>4.551560e-01</td>\n      <td>4.531931e-01</td>\n      <td>4.964733e-01</td>\n    </tr>\n    <tr>\n      <th>rel_edge_distr_entropy</th>\n      <td>9.505780e-01</td>\n      <td>9.499149e-01</td>\n      <td>9.491537e-01</td>\n      <td>9.385288e-01</td>\n    </tr>\n    <tr>\n      <th>assortativity</th>\n      <td>-7.284313e-02</td>\n      <td>-9.256350e-02</td>\n      <td>-6.028568e-02</td>\n      <td>-7.659231e-02</td>\n    </tr>\n    <tr>\n      <th>clustering_coefficient</th>\n      <td>4.957795e-02</td>\n      <td>4.271093e-02</td>\n      <td>5.670474e-02</td>\n      <td>1.142980e-01</td>\n    </tr>\n    <tr>\n      <th>cpl</th>\n      <td>5.188314e+00</td>\n      <td>5.169954e+00</td>\n      <td>5.462211e+00</td>\n      <td>5.271418e+00</td>\n    </tr>\n    <tr>\n      <th>roc-auc</th>\n      <td>9.412564e-01</td>\n      <td>9.539036e-01</td>\n      <td>9.615994e-01</td>\n      <td>1.000000e+00</td>\n    </tr>\n    <tr>\n      <th>avg-prec</th>\n      <td>9.458396e-01</td>\n      <td>9.556114e-01</td>\n      <td>9.630098e-01</td>\n      <td>1.000000e+00</td>\n    </tr>\n  </tbody>\n</table>\n</div>"
     },
     "metadata": {},
     "execution_count": 10
    }
   ],
   "source": [
    "df"
   ]
  },
  {
   "source": [
    "### Link Prediction Criterion"
   ],
   "cell_type": "markdown",
   "metadata": {}
  },
  {
   "source": [
    "#### CELL"
   ],
   "cell_type": "markdown",
   "metadata": {}
  },
  {
   "cell_type": "code",
   "execution_count": 11,
   "metadata": {},
   "outputs": [
    {
     "output_type": "stream",
     "name": "stdout",
     "text": [
      "Step:   2/200 Loss: 7.92950 ROC-AUC Score: 0.584 Average Precision: 0.582 Total-Time: 0\n",
      "Step:   4/200 Loss: 7.73384 ROC-AUC Score: 0.650 Average Precision: 0.663 Total-Time: 1\n",
      "Step:   6/200 Loss: 7.32220 ROC-AUC Score: 0.697 Average Precision: 0.720 Total-Time: 1\n",
      "Step:   8/200 Loss: 6.71251 ROC-AUC Score: 0.746 Average Precision: 0.773 Total-Time: 2\n",
      "Step:  10/200 Loss: 6.02657 ROC-AUC Score: 0.797 Average Precision: 0.826 Total-Time: 3\n",
      "Step:  12/200 Loss: 5.41900 ROC-AUC Score: 0.844 Average Precision: 0.870 Total-Time: 4\n",
      "Step:  14/200 Loss: 4.96410 ROC-AUC Score: 0.879 Average Precision: 0.899 Total-Time: 4\n",
      "Step:  16/200 Loss: 4.60738 ROC-AUC Score: 0.897 Average Precision: 0.913 Total-Time: 5\n",
      "Step:  18/200 Loss: 4.30933 ROC-AUC Score: 0.905 Average Precision: 0.919 Total-Time: 6\n",
      "Step:  20/200 Loss: 4.06496 ROC-AUC Score: 0.910 Average Precision: 0.924 Total-Time: 7\n",
      "Step:  22/200 Loss: 3.86109 ROC-AUC Score: 0.917 Average Precision: 0.929 Total-Time: 8\n",
      "Step:  24/200 Loss: 3.69987 ROC-AUC Score: 0.924 Average Precision: 0.935 Total-Time: 8\n",
      "Step:  26/200 Loss: 3.56250 ROC-AUC Score: 0.930 Average Precision: 0.939 Total-Time: 9\n",
      "Step:  28/200 Loss: 3.44228 ROC-AUC Score: 0.933 Average Precision: 0.942 Total-Time: 10\n",
      "Step:  30/200 Loss: 3.34459 ROC-AUC Score: 0.935 Average Precision: 0.943 Total-Time: 11\n",
      "Step:  32/200 Loss: 3.25893 ROC-AUC Score: 0.935 Average Precision: 0.943 Total-Time: 12\n",
      "Step:  34/200 Loss: 3.18793 ROC-AUC Score: 0.936 Average Precision: 0.945 Total-Time: 12\n",
      "Step:  36/200 Loss: 3.12686 ROC-AUC Score: 0.937 Average Precision: 0.946 Total-Time: 13\n",
      "Step:  38/200 Loss: 3.07489 ROC-AUC Score: 0.937 Average Precision: 0.946 Total-Time: 14\n",
      "Step:  40/200 Loss: 3.02968 ROC-AUC Score: 0.936 Average Precision: 0.945 Total-Time: 14\n",
      "Step:  42/200 Loss: 2.99070 ROC-AUC Score: 0.936 Average Precision: 0.945 Total-Time: 15\n",
      "Step:  44/200 Loss: 2.95606 ROC-AUC Score: 0.937 Average Precision: 0.945 Total-Time: 16\n",
      "ROC-AUC: 0.9391056718269553, AVG_PREC: 0.9450454335785382\n"
     ]
    }
   ],
   "source": [
    "method = 'cell'\n",
    "options = dict(g_type='cell', criterion='val', collect_stat=False)\n",
    "\n",
    "run(**options)\n",
    "#df[method] = stat_df"
   ]
  },
  {
   "source": [
    "#### SVD"
   ],
   "cell_type": "markdown",
   "metadata": {}
  },
  {
   "cell_type": "code",
   "execution_count": 7,
   "metadata": {},
   "outputs": [
    {
     "output_type": "stream",
     "name": "stdout",
     "text": [
      "Step:   2/400 Loss: 7.94522 ROC-AUC Score: 0.489 Average Precision: 0.490 Total-Time: 0\n",
      "Step:   4/400 Loss: 7.94192 ROC-AUC Score: 0.498 Average Precision: 0.495 Total-Time: 1\n",
      "Step:   6/400 Loss: 7.94159 ROC-AUC Score: 0.483 Average Precision: 0.537 Total-Time: 2\n",
      "Step:   8/400 Loss: 7.94049 ROC-AUC Score: 0.604 Average Precision: 0.676 Total-Time: 3\n",
      "Step:  10/400 Loss: 7.93631 ROC-AUC Score: 0.710 Average Precision: 0.776 Total-Time: 4\n",
      "Step:  12/400 Loss: 7.91557 ROC-AUC Score: 0.777 Average Precision: 0.830 Total-Time: 5\n",
      "Step:  14/400 Loss: 7.87239 ROC-AUC Score: 0.821 Average Precision: 0.861 Total-Time: 5\n",
      "Step:  16/400 Loss: 7.79032 ROC-AUC Score: 0.831 Average Precision: 0.867 Total-Time: 6\n",
      "Step:  18/400 Loss: 7.65986 ROC-AUC Score: 0.838 Average Precision: 0.872 Total-Time: 7\n",
      "Step:  20/400 Loss: 7.50709 ROC-AUC Score: 0.865 Average Precision: 0.890 Total-Time: 8\n",
      "Step:  22/400 Loss: 7.30607 ROC-AUC Score: 0.877 Average Precision: 0.900 Total-Time: 8\n",
      "Step:  24/400 Loss: 7.04079 ROC-AUC Score: 0.888 Average Precision: 0.909 Total-Time: 9\n",
      "Step:  26/400 Loss: 6.76089 ROC-AUC Score: 0.907 Average Precision: 0.922 Total-Time: 10\n",
      "Step:  28/400 Loss: 6.47792 ROC-AUC Score: 0.921 Average Precision: 0.930 Total-Time: 11\n",
      "Step:  30/400 Loss: 6.20823 ROC-AUC Score: 0.937 Average Precision: 0.943 Total-Time: 12\n",
      "Step:  32/400 Loss: 5.94762 ROC-AUC Score: 0.944 Average Precision: 0.951 Total-Time: 12\n",
      "Step:  34/400 Loss: 5.70174 ROC-AUC Score: 0.951 Average Precision: 0.956 Total-Time: 13\n",
      "Step:  36/400 Loss: 5.46314 ROC-AUC Score: 0.957 Average Precision: 0.962 Total-Time: 14\n",
      "Step:  38/400 Loss: 5.23768 ROC-AUC Score: 0.960 Average Precision: 0.964 Total-Time: 15\n",
      "Step:  40/400 Loss: 5.02667 ROC-AUC Score: 0.964 Average Precision: 0.969 Total-Time: 16\n",
      "Step:  42/400 Loss: 4.83328 ROC-AUC Score: 0.958 Average Precision: 0.964 Total-Time: 16\n",
      "Step:  44/400 Loss: 4.65568 ROC-AUC Score: 0.958 Average Precision: 0.967 Total-Time: 17\n",
      "Step:  46/400 Loss: 4.49283 ROC-AUC Score: 0.954 Average Precision: 0.964 Total-Time: 18\n",
      "Step:  48/400 Loss: 4.34899 ROC-AUC Score: 0.954 Average Precision: 0.964 Total-Time: 19\n",
      "ROC-AUC: 0.9575909185605911, AVG_PREC: 0.9632145234341988\n"
     ]
    }
   ],
   "source": [
    "method = 'svd'\n",
    "options = dict(g_type='svd', criterion='val', nsteps=400, collect_stat=False)\n",
    "\n",
    "run(**options)\n",
    "#df[method] = stat_dfmethod = 'cell'"
   ]
  },
  {
   "source": [
    "#### our CELL"
   ],
   "cell_type": "markdown",
   "metadata": {}
  },
  {
   "cell_type": "code",
   "execution_count": 8,
   "metadata": {},
   "outputs": [
    {
     "output_type": "stream",
     "name": "stdout",
     "text": [
      "Step:   2/200 Loss: 7.96727 ROC-AUC Score: 0.804 Average Precision: 0.818 Total-Time: 1\n",
      "Step:   4/200 Loss: 8.41841 ROC-AUC Score: 0.821 Average Precision: 0.812 Total-Time: 1\n",
      "Step:   6/200 Loss: 7.58843 ROC-AUC Score: 0.823 Average Precision: 0.826 Total-Time: 2\n",
      "Step:   8/200 Loss: 7.38567 ROC-AUC Score: 0.845 Average Precision: 0.846 Total-Time: 3\n",
      "Step:  10/200 Loss: 7.27044 ROC-AUC Score: 0.849 Average Precision: 0.868 Total-Time: 4\n",
      "Step:  12/200 Loss: 7.24348 ROC-AUC Score: 0.845 Average Precision: 0.870 Total-Time: 5\n",
      "Step:  14/200 Loss: 7.15488 ROC-AUC Score: 0.853 Average Precision: 0.876 Total-Time: 6\n",
      "Step:  16/200 Loss: 7.01889 ROC-AUC Score: 0.863 Average Precision: 0.883 Total-Time: 7\n",
      "Step:  18/200 Loss: 6.83287 ROC-AUC Score: 0.865 Average Precision: 0.869 Total-Time: 8\n",
      "Step:  20/200 Loss: 6.65570 ROC-AUC Score: 0.879 Average Precision: 0.887 Total-Time: 9\n",
      "Step:  22/200 Loss: 6.45913 ROC-AUC Score: 0.887 Average Precision: 0.894 Total-Time: 10\n",
      "Step:  24/200 Loss: 6.31568 ROC-AUC Score: 0.889 Average Precision: 0.888 Total-Time: 11\n",
      "Step:  26/200 Loss: 6.20996 ROC-AUC Score: 0.892 Average Precision: 0.893 Total-Time: 12\n",
      "Step:  28/200 Loss: 5.95036 ROC-AUC Score: 0.897 Average Precision: 0.901 Total-Time: 13\n",
      "Step:  30/200 Loss: 5.96717 ROC-AUC Score: 0.910 Average Precision: 0.911 Total-Time: 14\n",
      "Step:  32/200 Loss: 5.67224 ROC-AUC Score: 0.924 Average Precision: 0.926 Total-Time: 14\n",
      "Step:  34/200 Loss: 5.43634 ROC-AUC Score: 0.932 Average Precision: 0.935 Total-Time: 15\n",
      "Step:  36/200 Loss: 5.24361 ROC-AUC Score: 0.934 Average Precision: 0.933 Total-Time: 16\n",
      "Step:  38/200 Loss: 5.10405 ROC-AUC Score: 0.932 Average Precision: 0.929 Total-Time: 17\n",
      "Step:  40/200 Loss: 4.95721 ROC-AUC Score: 0.924 Average Precision: 0.918 Total-Time: 18\n",
      "Step:  42/200 Loss: 5.07586 ROC-AUC Score: 0.928 Average Precision: 0.928 Total-Time: 19\n",
      "Step:  44/200 Loss: 4.69924 ROC-AUC Score: 0.939 Average Precision: 0.940 Total-Time: 20\n",
      "Step:  46/200 Loss: 4.68726 ROC-AUC Score: 0.930 Average Precision: 0.915 Total-Time: 21\n",
      "Step:  48/200 Loss: 4.61972 ROC-AUC Score: 0.945 Average Precision: 0.948 Total-Time: 22\n",
      "Step:  50/200 Loss: 4.39539 ROC-AUC Score: 0.945 Average Precision: 0.950 Total-Time: 23\n",
      "Step:  52/200 Loss: 4.34965 ROC-AUC Score: 0.942 Average Precision: 0.944 Total-Time: 24\n",
      "Step:  54/200 Loss: 4.12122 ROC-AUC Score: 0.947 Average Precision: 0.947 Total-Time: 24\n",
      "Step:  56/200 Loss: 3.95762 ROC-AUC Score: 0.955 Average Precision: 0.957 Total-Time: 25\n",
      "Step:  58/200 Loss: 3.83204 ROC-AUC Score: 0.950 Average Precision: 0.951 Total-Time: 26\n",
      "Step:  60/200 Loss: 3.77227 ROC-AUC Score: 0.944 Average Precision: 0.939 Total-Time: 27\n",
      "Step:  62/200 Loss: 3.78710 ROC-AUC Score: 0.948 Average Precision: 0.948 Total-Time: 28\n",
      "Step:  64/200 Loss: 3.61864 ROC-AUC Score: 0.949 Average Precision: 0.952 Total-Time: 29\n",
      "ROC-AUC: 0.9473888668720757, AVG_PREC: 0.9476986418121702\n"
     ]
    }
   ],
   "source": [
    "method = 'nonlin cell'\n",
    "optimizer_args = dict(lr=0.1, weight_decay=5e-5)\n",
    "options = dict(g_type='fc', criterion='val', optimizer_args=optimizer_args, collect_stat=False)\n",
    "\n",
    "run(**options)\n",
    "#df[method] = stat_df"
   ]
  },
  {
   "source": [
    "# Citeseer"
   ],
   "cell_type": "markdown",
   "metadata": {}
  },
  {
   "cell_type": "code",
   "execution_count": 32,
   "metadata": {},
   "outputs": [
    {
     "output_type": "stream",
     "name": "stdout",
     "text": [
      "Selecting 1 largest connected components\n"
     ]
    }
   ],
   "source": [
    "_A_obs, _X_obs, _z_obs = utils.load_npz('../data/citeseer.npz')\n",
    "_A_obs = _A_obs + _A_obs.T\n",
    "_A_obs[_A_obs > 1] = 1\n",
    "_A_obs = _A_obs - sp.eye(_A_obs.shape[0], _A_obs.shape[0])\n",
    "_A_obs[_A_obs < 0] = 0\n",
    "lcc = utils.largest_connected_components(_A_obs)\n",
    "_A_obs = _A_obs[lcc,:][:,lcc]\n",
    "_N = _A_obs.shape[0]"
   ]
  },
  {
   "cell_type": "code",
   "execution_count": 33,
   "metadata": {},
   "outputs": [],
   "source": [
    "val_share = 0.05\n",
    "test_share = 0.1\n",
    "seed = 48\n",
    "\n",
    "#there are self loops!\n",
    "\n",
    "train_ones, val_ones, val_zeros, test_ones, test_zeros = utils.train_val_test_split_adjacency(_A_obs, val_share, test_share, seed, undirected=True, connected=True, asserts=False)\n",
    "\n",
    "train_graph = sp.coo_matrix((np.ones(len(train_ones)),(train_ones[:,0], train_ones[:,1]))).tocsr()\n",
    "assert (train_graph.toarray() == train_graph.toarray().T).all()"
   ]
  },
  {
   "cell_type": "code",
   "execution_count": 11,
   "metadata": {},
   "outputs": [],
   "source": [
    "df = pd.DataFrame()"
   ]
  },
  {
   "source": [
    "#### CELL"
   ],
   "cell_type": "markdown",
   "metadata": {}
  },
  {
   "cell_type": "code",
   "execution_count": 12,
   "metadata": {},
   "outputs": [
    {
     "output_type": "stream",
     "name": "stdout",
     "text": [
      "Step:  10/200 Loss: 5.32038 Edge-Overlap: 0.040 Total-Time: 2\n",
      "Step:  20/200 Loss: 3.01292 Edge-Overlap: 0.341 Total-Time: 5\n",
      "Step:  30/200 Loss: 2.13118 Edge-Overlap: 0.596 Total-Time: 7\n",
      "ROC-AUC: 0.8454040642722118, AVG_PREC: 0.8784820025495194\n"
     ]
    }
   ],
   "source": [
    "method = 'cell'\n",
    "options = dict(g_type='cell')\n",
    "\n",
    "stat_df, _ = run(**options)\n",
    "df[method] = stat_df"
   ]
  },
  {
   "source": [
    "#### SVD"
   ],
   "cell_type": "markdown",
   "metadata": {}
  },
  {
   "cell_type": "code",
   "execution_count": 13,
   "metadata": {},
   "outputs": [
    {
     "output_type": "stream",
     "name": "stdout",
     "text": [
      "Step:  10/400 Loss: 7.64836 Edge-Overlap: 0.003 Total-Time: 3\n",
      "Step:  20/400 Loss: 7.05292 Edge-Overlap: 0.030 Total-Time: 6\n",
      "Step:  30/400 Loss: 5.37081 Edge-Overlap: 0.120 Total-Time: 9\n",
      "Step:  40/400 Loss: 3.71165 Edge-Overlap: 0.274 Total-Time: 12\n",
      "Step:  50/400 Loss: 2.85903 Edge-Overlap: 0.462 Total-Time: 15\n",
      "Step:  60/400 Loss: 2.48062 Edge-Overlap: 0.579 Total-Time: 17\n",
      "ROC-AUC: 0.9163368383742913, AVG_PREC: 0.9317245283055556\n"
     ]
    }
   ],
   "source": [
    "method = 'svd'\n",
    "options = dict(g_type='svd', nsteps=400)\n",
    "\n",
    "stat_df, _ = run(**options)\n",
    "df[method] = stat_df"
   ]
  },
  {
   "source": [
    "#### our CELL"
   ],
   "cell_type": "markdown",
   "metadata": {}
  },
  {
   "cell_type": "code",
   "execution_count": 14,
   "metadata": {},
   "outputs": [
    {
     "output_type": "stream",
     "name": "stdout",
     "text": [
      "Step:  10/200 Loss: 6.12156 Edge-Overlap: 0.030 Total-Time: 3\n",
      "Step:  20/200 Loss: 3.49128 Edge-Overlap: 0.297 Total-Time: 6\n",
      "Step:  30/200 Loss: 2.43985 Edge-Overlap: 0.569 Total-Time: 9\n",
      "ROC-AUC: 0.873390241020794, AVG_PREC: 0.8912023379662789\n"
     ]
    }
   ],
   "source": [
    "method = 'nonlin cell'\n",
    "optimizer_args = dict(lr=0.05, weight_decay=1e-5)\n",
    "options = dict(g_type='fc', optimizer_args=optimizer_args)\n",
    "\n",
    "stat_df, _ = run(**options)\n",
    "df[method] = stat_df"
   ]
  },
  {
   "source": [
    "#### Results"
   ],
   "cell_type": "markdown",
   "metadata": {}
  },
  {
   "cell_type": "code",
   "execution_count": 15,
   "metadata": {},
   "outputs": [],
   "source": [
    "df['gt'] = list(compute_graph_statistics(_A_obs).values()) + [1, 1]"
   ]
  },
  {
   "cell_type": "code",
   "execution_count": 16,
   "metadata": {},
   "outputs": [
    {
     "output_type": "execute_result",
     "data": {
      "text/plain": [
       "                                cell           svd   nonlin cell  \\\n",
       "d_max                      48.600000     57.000000     52.400000   \n",
       "d_min                       1.000000      1.000000      1.000000   \n",
       "d                           2.954502      2.954502      2.954502   \n",
       "LCC                      2078.400000   2095.600000   2052.400000   \n",
       "wedge_count             13103.200000  13654.600000  15172.400000   \n",
       "claw_count              50562.800000  60357.200000  68962.600000   \n",
       "triangle_count            119.800000    165.800000    166.000000   \n",
       "square_count              350.000000    532.600000    510.200000   \n",
       "power_law_exp               2.186799      2.194704      2.253869   \n",
       "gini                        0.376411      0.380979      0.412664   \n",
       "rel_edge_distr_entropy      0.966573      0.965313      0.959017   \n",
       "assortativity              -0.061723     -0.048397     -0.076916   \n",
       "clustering_coefficient      0.027432      0.036478      0.032831   \n",
       "cpl                         7.239650      7.639885      7.005032   \n",
       "roc-auc                     0.845404      0.916337      0.873390   \n",
       "avg-prec                    0.878482      0.931725      0.891202   \n",
       "\n",
       "                                   gt  \n",
       "d_max                       99.000000  \n",
       "d_min                        1.000000  \n",
       "d                            3.476777  \n",
       "LCC                       2110.000000  \n",
       "wedge_count              25943.000000  \n",
       "claw_count              250348.000000  \n",
       "triangle_count            1083.000000  \n",
       "square_count              5977.000000  \n",
       "power_law_exp                2.068238  \n",
       "gini                         0.428260  \n",
       "rel_edge_distr_entropy       0.953867  \n",
       "assortativity                0.060227  \n",
       "clustering_coefficient       0.125236  \n",
       "cpl                          9.310487  \n",
       "roc-auc                      1.000000  \n",
       "avg-prec                     1.000000  "
      ],
      "text/html": "<div>\n<style scoped>\n    .dataframe tbody tr th:only-of-type {\n        vertical-align: middle;\n    }\n\n    .dataframe tbody tr th {\n        vertical-align: top;\n    }\n\n    .dataframe thead th {\n        text-align: right;\n    }\n</style>\n<table border=\"1\" class=\"dataframe\">\n  <thead>\n    <tr style=\"text-align: right;\">\n      <th></th>\n      <th>cell</th>\n      <th>svd</th>\n      <th>nonlin cell</th>\n      <th>gt</th>\n    </tr>\n  </thead>\n  <tbody>\n    <tr>\n      <th>d_max</th>\n      <td>48.600000</td>\n      <td>57.000000</td>\n      <td>52.400000</td>\n      <td>99.000000</td>\n    </tr>\n    <tr>\n      <th>d_min</th>\n      <td>1.000000</td>\n      <td>1.000000</td>\n      <td>1.000000</td>\n      <td>1.000000</td>\n    </tr>\n    <tr>\n      <th>d</th>\n      <td>2.954502</td>\n      <td>2.954502</td>\n      <td>2.954502</td>\n      <td>3.476777</td>\n    </tr>\n    <tr>\n      <th>LCC</th>\n      <td>2078.400000</td>\n      <td>2095.600000</td>\n      <td>2052.400000</td>\n      <td>2110.000000</td>\n    </tr>\n    <tr>\n      <th>wedge_count</th>\n      <td>13103.200000</td>\n      <td>13654.600000</td>\n      <td>15172.400000</td>\n      <td>25943.000000</td>\n    </tr>\n    <tr>\n      <th>claw_count</th>\n      <td>50562.800000</td>\n      <td>60357.200000</td>\n      <td>68962.600000</td>\n      <td>250348.000000</td>\n    </tr>\n    <tr>\n      <th>triangle_count</th>\n      <td>119.800000</td>\n      <td>165.800000</td>\n      <td>166.000000</td>\n      <td>1083.000000</td>\n    </tr>\n    <tr>\n      <th>square_count</th>\n      <td>350.000000</td>\n      <td>532.600000</td>\n      <td>510.200000</td>\n      <td>5977.000000</td>\n    </tr>\n    <tr>\n      <th>power_law_exp</th>\n      <td>2.186799</td>\n      <td>2.194704</td>\n      <td>2.253869</td>\n      <td>2.068238</td>\n    </tr>\n    <tr>\n      <th>gini</th>\n      <td>0.376411</td>\n      <td>0.380979</td>\n      <td>0.412664</td>\n      <td>0.428260</td>\n    </tr>\n    <tr>\n      <th>rel_edge_distr_entropy</th>\n      <td>0.966573</td>\n      <td>0.965313</td>\n      <td>0.959017</td>\n      <td>0.953867</td>\n    </tr>\n    <tr>\n      <th>assortativity</th>\n      <td>-0.061723</td>\n      <td>-0.048397</td>\n      <td>-0.076916</td>\n      <td>0.060227</td>\n    </tr>\n    <tr>\n      <th>clustering_coefficient</th>\n      <td>0.027432</td>\n      <td>0.036478</td>\n      <td>0.032831</td>\n      <td>0.125236</td>\n    </tr>\n    <tr>\n      <th>cpl</th>\n      <td>7.239650</td>\n      <td>7.639885</td>\n      <td>7.005032</td>\n      <td>9.310487</td>\n    </tr>\n    <tr>\n      <th>roc-auc</th>\n      <td>0.845404</td>\n      <td>0.916337</td>\n      <td>0.873390</td>\n      <td>1.000000</td>\n    </tr>\n    <tr>\n      <th>avg-prec</th>\n      <td>0.878482</td>\n      <td>0.931725</td>\n      <td>0.891202</td>\n      <td>1.000000</td>\n    </tr>\n  </tbody>\n</table>\n</div>"
     },
     "metadata": {},
     "execution_count": 16
    }
   ],
   "source": [
    "df"
   ]
  },
  {
   "source": [],
   "cell_type": "markdown",
   "metadata": {}
  },
  {
   "cell_type": "code",
   "execution_count": null,
   "metadata": {},
   "outputs": [],
   "source": []
  },
  {
   "cell_type": "code",
   "execution_count": 17,
   "metadata": {},
   "outputs": [
    {
     "output_type": "stream",
     "name": "stdout",
     "text": [
      "Step:   2/200 Loss: 7.63213 ROC-AUC Score: 0.611 Average Precision: 0.628 Total-Time: 0\n",
      "Step:   4/200 Loss: 7.37223 ROC-AUC Score: 0.671 Average Precision: 0.682 Total-Time: 1\n",
      "Step:   6/200 Loss: 6.84857 ROC-AUC Score: 0.702 Average Precision: 0.721 Total-Time: 1\n",
      "Step:   8/200 Loss: 6.08958 ROC-AUC Score: 0.727 Average Precision: 0.747 Total-Time: 2\n",
      "Step:  10/200 Loss: 5.25588 ROC-AUC Score: 0.755 Average Precision: 0.776 Total-Time: 2\n",
      "Step:  12/200 Loss: 4.51554 ROC-AUC Score: 0.784 Average Precision: 0.807 Total-Time: 3\n",
      "Step:  14/200 Loss: 3.96539 ROC-AUC Score: 0.809 Average Precision: 0.833 Total-Time: 3\n",
      "Step:  16/200 Loss: 3.56039 ROC-AUC Score: 0.824 Average Precision: 0.848 Total-Time: 4\n",
      "Step:  18/200 Loss: 3.21030 ROC-AUC Score: 0.829 Average Precision: 0.851 Total-Time: 5\n",
      "Step:  20/200 Loss: 2.92053 ROC-AUC Score: 0.834 Average Precision: 0.854 Total-Time: 5\n",
      "Step:  22/200 Loss: 2.68678 ROC-AUC Score: 0.844 Average Precision: 0.861 Total-Time: 5\n",
      "Step:  24/200 Loss: 2.48397 ROC-AUC Score: 0.851 Average Precision: 0.872 Total-Time: 6\n",
      "Step:  26/200 Loss: 2.31253 ROC-AUC Score: 0.857 Average Precision: 0.882 Total-Time: 6\n",
      "Step:  28/200 Loss: 2.17380 ROC-AUC Score: 0.862 Average Precision: 0.888 Total-Time: 7\n",
      "Step:  30/200 Loss: 2.06075 ROC-AUC Score: 0.865 Average Precision: 0.892 Total-Time: 7\n",
      "Step:  32/200 Loss: 1.96982 ROC-AUC Score: 0.868 Average Precision: 0.896 Total-Time: 8\n",
      "Step:  34/200 Loss: 1.89601 ROC-AUC Score: 0.869 Average Precision: 0.897 Total-Time: 8\n",
      "Step:  36/200 Loss: 1.83526 ROC-AUC Score: 0.870 Average Precision: 0.898 Total-Time: 9\n",
      "Step:  38/200 Loss: 1.78611 ROC-AUC Score: 0.871 Average Precision: 0.898 Total-Time: 9\n",
      "Step:  40/200 Loss: 1.74486 ROC-AUC Score: 0.871 Average Precision: 0.898 Total-Time: 9\n",
      "Step:  42/200 Loss: 1.71158 ROC-AUC Score: 0.871 Average Precision: 0.898 Total-Time: 10\n",
      "Step:  44/200 Loss: 1.68388 ROC-AUC Score: 0.870 Average Precision: 0.896 Total-Time: 10\n",
      "Step:  46/200 Loss: 1.66113 ROC-AUC Score: 0.868 Average Precision: 0.896 Total-Time: 11\n",
      "Step:  48/200 Loss: 1.64220 ROC-AUC Score: 0.867 Average Precision: 0.894 Total-Time: 11\n",
      "ROC-AUC: 0.8630892603969753, AVG_PREC: 0.8857105711138544\n"
     ]
    }
   ],
   "source": [
    "method = 'cell'\n",
    "options = dict(g_type='cell', criterion='val', collect_stat=False)\n",
    "\n",
    "run(**options)\n",
    "#df[method] = stat_df"
   ]
  },
  {
   "cell_type": "code",
   "execution_count": 18,
   "metadata": {},
   "outputs": [
    {
     "output_type": "stream",
     "name": "stdout",
     "text": [
      "Step:   2/400 Loss: 7.65649 ROC-AUC Score: 0.501 Average Precision: 0.522 Total-Time: 0\n",
      "Step:   4/400 Loss: 7.65482 ROC-AUC Score: 0.543 Average Precision: 0.534 Total-Time: 0\n",
      "Step:   6/400 Loss: 7.65470 ROC-AUC Score: 0.540 Average Precision: 0.580 Total-Time: 1\n",
      "Step:   8/400 Loss: 7.65410 ROC-AUC Score: 0.613 Average Precision: 0.685 Total-Time: 1\n",
      "Step:  10/400 Loss: 7.65079 ROC-AUC Score: 0.705 Average Precision: 0.769 Total-Time: 2\n",
      "Step:  12/400 Loss: 7.63577 ROC-AUC Score: 0.748 Average Precision: 0.809 Total-Time: 2\n",
      "Step:  14/400 Loss: 7.59685 ROC-AUC Score: 0.797 Average Precision: 0.847 Total-Time: 3\n",
      "Step:  16/400 Loss: 7.51154 ROC-AUC Score: 0.838 Average Precision: 0.869 Total-Time: 3\n",
      "Step:  18/400 Loss: 7.35529 ROC-AUC Score: 0.853 Average Precision: 0.880 Total-Time: 4\n",
      "Step:  20/400 Loss: 7.15631 ROC-AUC Score: 0.877 Average Precision: 0.898 Total-Time: 4\n",
      "Step:  22/400 Loss: 6.95681 ROC-AUC Score: 0.887 Average Precision: 0.909 Total-Time: 5\n",
      "Step:  24/400 Loss: 6.69340 ROC-AUC Score: 0.895 Average Precision: 0.914 Total-Time: 5\n",
      "Step:  26/400 Loss: 6.37002 ROC-AUC Score: 0.900 Average Precision: 0.920 Total-Time: 6\n",
      "Step:  28/400 Loss: 6.04506 ROC-AUC Score: 0.904 Average Precision: 0.925 Total-Time: 6\n",
      "Step:  30/400 Loss: 5.73520 ROC-AUC Score: 0.911 Average Precision: 0.930 Total-Time: 7\n",
      "Step:  32/400 Loss: 5.42970 ROC-AUC Score: 0.919 Average Precision: 0.934 Total-Time: 7\n",
      "Step:  34/400 Loss: 5.12746 ROC-AUC Score: 0.922 Average Precision: 0.937 Total-Time: 8\n",
      "Step:  36/400 Loss: 4.83309 ROC-AUC Score: 0.918 Average Precision: 0.933 Total-Time: 9\n",
      "Step:  38/400 Loss: 4.55060 ROC-AUC Score: 0.920 Average Precision: 0.937 Total-Time: 9\n",
      "Step:  40/400 Loss: 4.27964 ROC-AUC Score: 0.916 Average Precision: 0.933 Total-Time: 10\n",
      "Step:  42/400 Loss: 4.01849 ROC-AUC Score: 0.921 Average Precision: 0.934 Total-Time: 10\n",
      "ROC-AUC: 0.9206861413043479, AVG_PREC: 0.9355551499048093\n"
     ]
    }
   ],
   "source": [
    "method = 'svd'\n",
    "options = dict(g_type='svd', criterion='val', nsteps=400, collect_stat=False)\n",
    "\n",
    "run(**options)\n",
    "#df[method] = stat_df"
   ]
  },
  {
   "cell_type": "code",
   "execution_count": 34,
   "metadata": {},
   "outputs": [
    {
     "output_type": "stream",
     "name": "stdout",
     "text": [
      "Step:   2/200 Loss: 7.62623 ROC-AUC Score: 0.772 Average Precision: 0.798 Total-Time: 0\n",
      "Step:   4/200 Loss: 7.28031 ROC-AUC Score: 0.768 Average Precision: 0.803 Total-Time: 0\n",
      "Step:   6/200 Loss: 7.09677 ROC-AUC Score: 0.769 Average Precision: 0.808 Total-Time: 1\n",
      "Step:   8/200 Loss: 6.69518 ROC-AUC Score: 0.785 Average Precision: 0.820 Total-Time: 1\n",
      "Step:  10/200 Loss: 6.23125 ROC-AUC Score: 0.765 Average Precision: 0.809 Total-Time: 2\n",
      "Step:  12/200 Loss: 5.69926 ROC-AUC Score: 0.776 Average Precision: 0.811 Total-Time: 2\n",
      "Step:  14/200 Loss: 5.18444 ROC-AUC Score: 0.781 Average Precision: 0.811 Total-Time: 3\n",
      "Step:  16/200 Loss: 4.88091 ROC-AUC Score: 0.778 Average Precision: 0.791 Total-Time: 3\n",
      "Step:  18/200 Loss: 4.40904 ROC-AUC Score: 0.814 Average Precision: 0.829 Total-Time: 4\n",
      "Step:  20/200 Loss: 4.02828 ROC-AUC Score: 0.819 Average Precision: 0.839 Total-Time: 4\n",
      "Step:  22/200 Loss: 3.69094 ROC-AUC Score: 0.821 Average Precision: 0.838 Total-Time: 5\n",
      "Step:  24/200 Loss: 3.32875 ROC-AUC Score: 0.830 Average Precision: 0.844 Total-Time: 5\n",
      "Step:  26/200 Loss: 3.04329 ROC-AUC Score: 0.846 Average Precision: 0.849 Total-Time: 6\n",
      "Step:  28/200 Loss: 2.82320 ROC-AUC Score: 0.852 Average Precision: 0.855 Total-Time: 6\n",
      "Step:  30/200 Loss: 3.34901 ROC-AUC Score: 0.859 Average Precision: 0.867 Total-Time: 7\n",
      "Step:  32/200 Loss: 2.99794 ROC-AUC Score: 0.867 Average Precision: 0.884 Total-Time: 7\n",
      "Step:  34/200 Loss: 2.76921 ROC-AUC Score: 0.869 Average Precision: 0.868 Total-Time: 8\n",
      "Step:  36/200 Loss: 2.57046 ROC-AUC Score: 0.878 Average Precision: 0.886 Total-Time: 8\n",
      "Step:  38/200 Loss: 2.40201 ROC-AUC Score: 0.889 Average Precision: 0.905 Total-Time: 9\n",
      "Step:  40/200 Loss: 2.25543 ROC-AUC Score: 0.890 Average Precision: 0.903 Total-Time: 10\n",
      "Step:  42/200 Loss: 2.14380 ROC-AUC Score: 0.890 Average Precision: 0.898 Total-Time: 10\n",
      "Step:  44/200 Loss: 2.06315 ROC-AUC Score: 0.893 Average Precision: 0.905 Total-Time: 11\n",
      "Step:  46/200 Loss: 2.11158 ROC-AUC Score: 0.889 Average Precision: 0.900 Total-Time: 11\n",
      "Step:  48/200 Loss: 1.94104 ROC-AUC Score: 0.889 Average Precision: 0.894 Total-Time: 12\n",
      "Step:  50/200 Loss: 1.94455 ROC-AUC Score: 0.891 Average Precision: 0.894 Total-Time: 13\n",
      "Step:  52/200 Loss: 1.97059 ROC-AUC Score: 0.891 Average Precision: 0.900 Total-Time: 13\n",
      "Step:  54/200 Loss: 1.96863 ROC-AUC Score: 0.893 Average Precision: 0.895 Total-Time: 14\n",
      "Step:  56/200 Loss: 1.89839 ROC-AUC Score: 0.897 Average Precision: 0.914 Total-Time: 15\n",
      "Step:  58/200 Loss: 1.84482 ROC-AUC Score: 0.895 Average Precision: 0.900 Total-Time: 15\n",
      "Step:  60/200 Loss: 1.81573 ROC-AUC Score: 0.898 Average Precision: 0.909 Total-Time: 16\n",
      "Step:  62/200 Loss: 1.76581 ROC-AUC Score: 0.901 Average Precision: 0.914 Total-Time: 17\n",
      "Step:  64/200 Loss: 1.76064 ROC-AUC Score: 0.898 Average Precision: 0.908 Total-Time: 17\n",
      "Step:  66/200 Loss: 1.74560 ROC-AUC Score: 0.898 Average Precision: 0.910 Total-Time: 18\n",
      "Step:  68/200 Loss: 1.71224 ROC-AUC Score: 0.898 Average Precision: 0.908 Total-Time: 18\n",
      "Step:  70/200 Loss: 1.68442 ROC-AUC Score: 0.897 Average Precision: 0.909 Total-Time: 19\n",
      "Step:  72/200 Loss: 1.65630 ROC-AUC Score: 0.892 Average Precision: 0.903 Total-Time: 19\n",
      "Step:  74/200 Loss: 1.68316 ROC-AUC Score: 0.889 Average Precision: 0.887 Total-Time: 20\n",
      "ROC-AUC: 0.908531722589792, AVG_PREC: 0.9237873096357656\n"
     ]
    }
   ],
   "source": [
    "method = 'nonlin cell'\n",
    "optimizer_args = dict(lr=0.1, weight_decay=1e-5)\n",
    "options = dict(g_type='fc', criterion='val', optimizer_args=optimizer_args, collect_stat=False)\n",
    "\n",
    "run(**options)\n",
    "#df[method] = stat_df"
   ]
  },
  {
   "source": [
    "# Prolblogs"
   ],
   "cell_type": "markdown",
   "metadata": {}
  },
  {
   "cell_type": "code",
   "execution_count": 20,
   "metadata": {},
   "outputs": [
    {
     "output_type": "stream",
     "name": "stdout",
     "text": [
      "Selecting 1 largest connected components\n"
     ]
    }
   ],
   "source": [
    "_A_obs, _X_obs, _z_obs = utils.load_npz('../data/polblogs.npz')\n",
    "_A_obs = _A_obs + _A_obs.T\n",
    "_A_obs[_A_obs > 1] = 1\n",
    "_A_obs = _A_obs - sp.eye(_A_obs.shape[0], _A_obs.shape[0])\n",
    "_A_obs[_A_obs < 0] = 0\n",
    "lcc = utils.largest_connected_components(_A_obs)\n",
    "_A_obs = _A_obs[lcc,:][:,lcc]\n",
    "_N = _A_obs.shape[0]"
   ]
  },
  {
   "cell_type": "code",
   "execution_count": 21,
   "metadata": {},
   "outputs": [],
   "source": [
    "val_share = 0.05\n",
    "test_share = 0.1\n",
    "seed = 48\n",
    "\n",
    "train_ones, val_ones, val_zeros, test_ones, test_zeros = utils.train_val_test_split_adjacency(_A_obs, val_share, test_share, seed, undirected=True, connected=True, asserts=False)\n",
    "\n",
    "train_graph = sp.coo_matrix((np.ones(len(train_ones)),(train_ones[:,0], train_ones[:,1]))).tocsr()\n",
    "assert (train_graph.toarray() == train_graph.toarray().T).all()"
   ]
  },
  {
   "cell_type": "code",
   "execution_count": 22,
   "metadata": {},
   "outputs": [],
   "source": [
    "df = pd.DataFrame()"
   ]
  },
  {
   "source": [
    "#### CELL"
   ],
   "cell_type": "markdown",
   "metadata": {}
  },
  {
   "cell_type": "code",
   "execution_count": 23,
   "metadata": {},
   "outputs": [
    {
     "output_type": "stream",
     "name": "stdout",
     "text": [
      "Step:  10/200 Loss: 5.85307 Edge-Overlap: 0.275 Total-Time: 1\n",
      "Step:  20/200 Loss: 5.48650 Edge-Overlap: 0.294 Total-Time: 3\n",
      "Step:  30/200 Loss: 5.32603 Edge-Overlap: 0.324 Total-Time: 4\n",
      "Step:  40/200 Loss: 5.24834 Edge-Overlap: 0.338 Total-Time: 6\n",
      "Step:  50/200 Loss: 5.20862 Edge-Overlap: 0.346 Total-Time: 8\n",
      "Step:  60/200 Loss: 5.18560 Edge-Overlap: 0.343 Total-Time: 9\n",
      "Step:  70/200 Loss: 5.17081 Edge-Overlap: 0.353 Total-Time: 11\n",
      "Step:  80/200 Loss: 5.15981 Edge-Overlap: 0.350 Total-Time: 12\n",
      "Step:  90/200 Loss: 5.15128 Edge-Overlap: 0.357 Total-Time: 14\n",
      "Step: 100/200 Loss: 5.14501 Edge-Overlap: 0.359 Total-Time: 16\n",
      "Step: 110/200 Loss: 5.14072 Edge-Overlap: 0.361 Total-Time: 17\n",
      "Step: 120/200 Loss: 5.13775 Edge-Overlap: 0.364 Total-Time: 19\n",
      "Step: 130/200 Loss: 5.13552 Edge-Overlap: 0.359 Total-Time: 21\n",
      "Step: 140/200 Loss: 5.13377 Edge-Overlap: 0.361 Total-Time: 22\n",
      "Step: 150/200 Loss: 5.13235 Edge-Overlap: 0.356 Total-Time: 24\n",
      "Step: 160/200 Loss: 5.13123 Edge-Overlap: 0.357 Total-Time: 25\n",
      "Step: 170/200 Loss: 5.13036 Edge-Overlap: 0.360 Total-Time: 27\n",
      "Step: 180/200 Loss: 5.12966 Edge-Overlap: 0.361 Total-Time: 29\n",
      "Step: 190/200 Loss: 5.12905 Edge-Overlap: 0.362 Total-Time: 31\n",
      "Step: 200/200 Loss: 5.12849 Edge-Overlap: 0.357 Total-Time: 32\n",
      "ROC-AUC: 0.9601951317807633, AVG_PREC: 0.9611203352950999\n"
     ]
    }
   ],
   "source": [
    "method = 'cell'\n",
    "options = dict(g_type='cell')\n",
    "\n",
    "stat_df, _ = run(**options)\n",
    "df[method] = stat_df"
   ]
  },
  {
   "source": [
    "#### SVD"
   ],
   "cell_type": "markdown",
   "metadata": {}
  },
  {
   "cell_type": "code",
   "execution_count": 24,
   "metadata": {},
   "outputs": [
    {
     "output_type": "stream",
     "name": "stdout",
     "text": [
      "Step:  10/400 Loss: 7.09045 Edge-Overlap: 0.020 Total-Time: 1\n",
      "Step:  20/400 Loss: 6.43193 Edge-Overlap: 0.150 Total-Time: 2\n",
      "Step:  30/400 Loss: 5.85576 Edge-Overlap: 0.241 Total-Time: 4\n",
      "Step:  40/400 Loss: 5.62244 Edge-Overlap: 0.275 Total-Time: 5\n",
      "Step:  50/400 Loss: 5.47940 Edge-Overlap: 0.300 Total-Time: 7\n",
      "Step:  60/400 Loss: 5.40886 Edge-Overlap: 0.327 Total-Time: 8\n",
      "Step:  70/400 Loss: 5.37150 Edge-Overlap: 0.314 Total-Time: 10\n",
      "Step:  80/400 Loss: 5.36684 Edge-Overlap: 0.325 Total-Time: 11\n",
      "Step:  90/400 Loss: 5.34928 Edge-Overlap: 0.330 Total-Time: 13\n",
      "Step: 100/400 Loss: 5.32909 Edge-Overlap: 0.322 Total-Time: 14\n",
      "Step: 110/400 Loss: 5.32822 Edge-Overlap: 0.318 Total-Time: 16\n",
      "Step: 120/400 Loss: 5.32070 Edge-Overlap: 0.337 Total-Time: 18\n",
      "Step: 130/400 Loss: 5.31531 Edge-Overlap: 0.328 Total-Time: 19\n",
      "Step: 140/400 Loss: 5.31278 Edge-Overlap: 0.340 Total-Time: 21\n",
      "Step: 150/400 Loss: 5.30887 Edge-Overlap: 0.331 Total-Time: 23\n",
      "Step: 160/400 Loss: 5.29684 Edge-Overlap: 0.340 Total-Time: 24\n",
      "Step: 170/400 Loss: 5.30168 Edge-Overlap: 0.330 Total-Time: 26\n",
      "Step: 180/400 Loss: 5.31170 Edge-Overlap: 0.331 Total-Time: 28\n",
      "Step: 190/400 Loss: 5.28988 Edge-Overlap: 0.334 Total-Time: 29\n",
      "Step: 200/400 Loss: 5.29994 Edge-Overlap: 0.339 Total-Time: 31\n",
      "Step: 210/400 Loss: 5.29240 Edge-Overlap: 0.335 Total-Time: 32\n",
      "Step: 220/400 Loss: 5.28142 Edge-Overlap: 0.339 Total-Time: 34\n",
      "Step: 230/400 Loss: 5.32076 Edge-Overlap: 0.324 Total-Time: 35\n",
      "Step: 240/400 Loss: 5.29241 Edge-Overlap: 0.340 Total-Time: 37\n",
      "Step: 250/400 Loss: 5.27790 Edge-Overlap: 0.340 Total-Time: 39\n",
      "Step: 260/400 Loss: 5.29317 Edge-Overlap: 0.332 Total-Time: 40\n",
      "Step: 270/400 Loss: 5.28253 Edge-Overlap: 0.334 Total-Time: 42\n",
      "Step: 280/400 Loss: 5.27232 Edge-Overlap: 0.331 Total-Time: 43\n",
      "Step: 290/400 Loss: 5.30772 Edge-Overlap: 0.327 Total-Time: 45\n",
      "Step: 300/400 Loss: 5.28086 Edge-Overlap: 0.336 Total-Time: 46\n",
      "Step: 310/400 Loss: 5.27562 Edge-Overlap: 0.331 Total-Time: 48\n",
      "Step: 320/400 Loss: 5.30196 Edge-Overlap: 0.327 Total-Time: 49\n",
      "Step: 330/400 Loss: 5.27422 Edge-Overlap: 0.344 Total-Time: 51\n",
      "Step: 340/400 Loss: 5.26421 Edge-Overlap: 0.345 Total-Time: 52\n",
      "Step: 350/400 Loss: 5.31622 Edge-Overlap: 0.337 Total-Time: 54\n",
      "Step: 360/400 Loss: 5.27883 Edge-Overlap: 0.337 Total-Time: 55\n",
      "Step: 370/400 Loss: 5.26241 Edge-Overlap: 0.340 Total-Time: 57\n",
      "Step: 380/400 Loss: 5.31199 Edge-Overlap: 0.339 Total-Time: 58\n",
      "Step: 390/400 Loss: 5.28620 Edge-Overlap: 0.334 Total-Time: 60\n",
      "Step: 400/400 Loss: 5.26128 Edge-Overlap: 0.338 Total-Time: 62\n",
      "ROC-AUC: 0.9623102265187864, AVG_PREC: 0.9617771101182838\n"
     ]
    }
   ],
   "source": [
    "method = 'svd'\n",
    "options = dict(g_type='svd', nsteps=400)\n",
    "\n",
    "stat_df, _ = run(**options)\n",
    "df[method] = stat_df"
   ]
  },
  {
   "source": [
    "#### our CELL"
   ],
   "cell_type": "markdown",
   "metadata": {}
  },
  {
   "cell_type": "code",
   "execution_count": 28,
   "metadata": {},
   "outputs": [
    {
     "output_type": "stream",
     "name": "stdout",
     "text": [
      "Step:  10/200 Loss: 6.48913 Edge-Overlap: 0.083 Total-Time: 1\n",
      "Step:  20/200 Loss: 5.95763 Edge-Overlap: 0.203 Total-Time: 3\n",
      "Step:  30/200 Loss: 5.72736 Edge-Overlap: 0.232 Total-Time: 5\n",
      "Step:  40/200 Loss: 5.61247 Edge-Overlap: 0.254 Total-Time: 6\n",
      "Step:  50/200 Loss: 5.51633 Edge-Overlap: 0.275 Total-Time: 8\n",
      "Step:  60/200 Loss: 5.42756 Edge-Overlap: 0.299 Total-Time: 10\n",
      "Step:  70/200 Loss: 5.37747 Edge-Overlap: 0.305 Total-Time: 11\n",
      "Step:  80/200 Loss: 5.30751 Edge-Overlap: 0.325 Total-Time: 13\n",
      "Step:  90/200 Loss: 5.26652 Edge-Overlap: 0.337 Total-Time: 15\n",
      "Step: 100/200 Loss: 5.22512 Edge-Overlap: 0.337 Total-Time: 16\n",
      "Step: 110/200 Loss: 5.20817 Edge-Overlap: 0.346 Total-Time: 18\n",
      "Step: 120/200 Loss: 5.16152 Edge-Overlap: 0.358 Total-Time: 19\n",
      "Step: 130/200 Loss: 5.17501 Edge-Overlap: 0.352 Total-Time: 21\n",
      "Step: 140/200 Loss: 5.14056 Edge-Overlap: 0.369 Total-Time: 23\n",
      "Step: 150/200 Loss: 5.12188 Edge-Overlap: 0.364 Total-Time: 24\n",
      "Step: 160/200 Loss: 5.14070 Edge-Overlap: 0.367 Total-Time: 26\n",
      "Step: 170/200 Loss: 5.10163 Edge-Overlap: 0.378 Total-Time: 27\n",
      "Step: 180/200 Loss: 5.12062 Edge-Overlap: 0.367 Total-Time: 29\n",
      "Step: 190/200 Loss: 5.10568 Edge-Overlap: 0.377 Total-Time: 31\n",
      "Step: 200/200 Loss: 5.09541 Edge-Overlap: 0.378 Total-Time: 32\n",
      "ROC-AUC: 0.9610429560735553, AVG_PREC: 0.959836857293078\n"
     ]
    }
   ],
   "source": [
    "method = 'nonlin cell'\n",
    "optimizer_args={'lr': 0.1, 'weight_decay': 1e-5}\n",
    "options = dict(g_type='fc', optimizer_args=optimizer_args)\n",
    "\n",
    "stat_df, _ = run(**options)\n",
    "df[method] = stat_df"
   ]
  },
  {
   "cell_type": "code",
   "execution_count": null,
   "metadata": {},
   "outputs": [],
   "source": []
  },
  {
   "cell_type": "code",
   "execution_count": 29,
   "metadata": {},
   "outputs": [],
   "source": [
    "df['gt'] = list(compute_graph_statistics(_A_obs).values()) + [1, 1]"
   ]
  },
  {
   "cell_type": "code",
   "execution_count": 30,
   "metadata": {},
   "outputs": [
    {
     "output_type": "execute_result",
     "data": {
      "text/plain": [
       "                                cell           svd            gt   nonlin cell\n",
       "d_max                   2.602000e+02  2.640000e+02  3.510000e+02  3.044000e+02\n",
       "d_min                   1.000000e+00  1.000000e+00  1.000000e+00  1.000000e+00\n",
       "d                       2.325041e+01  2.325041e+01  2.735516e+01  2.325041e+01\n",
       "LCC                     1.222000e+03  1.221000e+03  1.222000e+03  1.221600e+03\n",
       "wedge_count             8.504556e+05  8.771874e+05  1.341525e+06  9.356972e+05\n",
       "claw_count              2.892156e+07  3.073516e+07  6.280078e+07  3.580949e+07\n",
       "triangle_count          4.073520e+04  4.348720e+04  1.010430e+05  4.813580e+04\n",
       "square_count            1.565213e+06  1.715766e+06  5.171257e+06  1.989580e+06\n",
       "power_law_exp           1.407178e+00  1.413679e+00  1.414274e+00  1.427987e+00\n",
       "gini                    5.778448e-01  5.890060e-01  6.220195e-01  6.083670e-01\n",
       "rel_edge_distr_entropy  9.177783e-01  9.142138e-01  9.026543e-01  9.074391e-01\n",
       "assortativity          -2.275222e-01 -2.365968e-01 -1.836882e-01 -2.498017e-01\n",
       "clustering_coefficient  1.436922e-01  1.487090e-01  2.259585e-01  1.543234e-01\n",
       "cpl                     2.726542e+00  2.733355e+00  2.737530e+00  2.734070e+00\n",
       "roc-auc                 9.601951e-01  9.623102e-01  1.000000e+00  9.610430e-01\n",
       "avg-prec                9.611203e-01  9.617771e-01  1.000000e+00  9.598369e-01"
      ],
      "text/html": "<div>\n<style scoped>\n    .dataframe tbody tr th:only-of-type {\n        vertical-align: middle;\n    }\n\n    .dataframe tbody tr th {\n        vertical-align: top;\n    }\n\n    .dataframe thead th {\n        text-align: right;\n    }\n</style>\n<table border=\"1\" class=\"dataframe\">\n  <thead>\n    <tr style=\"text-align: right;\">\n      <th></th>\n      <th>cell</th>\n      <th>svd</th>\n      <th>gt</th>\n      <th>nonlin cell</th>\n    </tr>\n  </thead>\n  <tbody>\n    <tr>\n      <th>d_max</th>\n      <td>2.602000e+02</td>\n      <td>2.640000e+02</td>\n      <td>3.510000e+02</td>\n      <td>3.044000e+02</td>\n    </tr>\n    <tr>\n      <th>d_min</th>\n      <td>1.000000e+00</td>\n      <td>1.000000e+00</td>\n      <td>1.000000e+00</td>\n      <td>1.000000e+00</td>\n    </tr>\n    <tr>\n      <th>d</th>\n      <td>2.325041e+01</td>\n      <td>2.325041e+01</td>\n      <td>2.735516e+01</td>\n      <td>2.325041e+01</td>\n    </tr>\n    <tr>\n      <th>LCC</th>\n      <td>1.222000e+03</td>\n      <td>1.221000e+03</td>\n      <td>1.222000e+03</td>\n      <td>1.221600e+03</td>\n    </tr>\n    <tr>\n      <th>wedge_count</th>\n      <td>8.504556e+05</td>\n      <td>8.771874e+05</td>\n      <td>1.341525e+06</td>\n      <td>9.356972e+05</td>\n    </tr>\n    <tr>\n      <th>claw_count</th>\n      <td>2.892156e+07</td>\n      <td>3.073516e+07</td>\n      <td>6.280078e+07</td>\n      <td>3.580949e+07</td>\n    </tr>\n    <tr>\n      <th>triangle_count</th>\n      <td>4.073520e+04</td>\n      <td>4.348720e+04</td>\n      <td>1.010430e+05</td>\n      <td>4.813580e+04</td>\n    </tr>\n    <tr>\n      <th>square_count</th>\n      <td>1.565213e+06</td>\n      <td>1.715766e+06</td>\n      <td>5.171257e+06</td>\n      <td>1.989580e+06</td>\n    </tr>\n    <tr>\n      <th>power_law_exp</th>\n      <td>1.407178e+00</td>\n      <td>1.413679e+00</td>\n      <td>1.414274e+00</td>\n      <td>1.427987e+00</td>\n    </tr>\n    <tr>\n      <th>gini</th>\n      <td>5.778448e-01</td>\n      <td>5.890060e-01</td>\n      <td>6.220195e-01</td>\n      <td>6.083670e-01</td>\n    </tr>\n    <tr>\n      <th>rel_edge_distr_entropy</th>\n      <td>9.177783e-01</td>\n      <td>9.142138e-01</td>\n      <td>9.026543e-01</td>\n      <td>9.074391e-01</td>\n    </tr>\n    <tr>\n      <th>assortativity</th>\n      <td>-2.275222e-01</td>\n      <td>-2.365968e-01</td>\n      <td>-1.836882e-01</td>\n      <td>-2.498017e-01</td>\n    </tr>\n    <tr>\n      <th>clustering_coefficient</th>\n      <td>1.436922e-01</td>\n      <td>1.487090e-01</td>\n      <td>2.259585e-01</td>\n      <td>1.543234e-01</td>\n    </tr>\n    <tr>\n      <th>cpl</th>\n      <td>2.726542e+00</td>\n      <td>2.733355e+00</td>\n      <td>2.737530e+00</td>\n      <td>2.734070e+00</td>\n    </tr>\n    <tr>\n      <th>roc-auc</th>\n      <td>9.601951e-01</td>\n      <td>9.623102e-01</td>\n      <td>1.000000e+00</td>\n      <td>9.610430e-01</td>\n    </tr>\n    <tr>\n      <th>avg-prec</th>\n      <td>9.611203e-01</td>\n      <td>9.617771e-01</td>\n      <td>1.000000e+00</td>\n      <td>9.598369e-01</td>\n    </tr>\n  </tbody>\n</table>\n</div>"
     },
     "metadata": {},
     "execution_count": 30
    }
   ],
   "source": [
    "df"
   ]
  },
  {
   "cell_type": "code",
   "execution_count": null,
   "metadata": {},
   "outputs": [],
   "source": []
  }
 ]
}